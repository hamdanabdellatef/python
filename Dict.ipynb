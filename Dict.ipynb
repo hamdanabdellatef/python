{
  "cells": [
    {
      "cell_type": "markdown",
      "metadata": {
        "id": "view-in-github",
        "colab_type": "text"
      },
      "source": [
        "<a href=\"https://colab.research.google.com/github/hamdanabdellatef/python/blob/main/Dict.ipynb\" target=\"_parent\"><img src=\"https://colab.research.google.com/assets/colab-badge.svg\" alt=\"Open In Colab\"/></a>"
      ]
    },
    {
      "cell_type": "code",
      "execution_count": null,
      "id": "ae8abf80-d895-449d-990f-c8721b39e815",
      "metadata": {
        "id": "ae8abf80-d895-449d-990f-c8721b39e815",
        "outputId": "3c4d50ca-7455-416a-865a-ad7ace0792d3"
      },
      "outputs": [
        {
          "name": "stdout",
          "output_type": "stream",
          "text": [
            "[7, 9, 1, 5, 5, 9, 1, 2, 5, 2, 9, 9, 3, 5, 9, 9, 2, 6, 1, 1, 1, 6, 8, 5, 8, 4, 6, 6, 9, 8, 6, 9, 9, 7, 4, 8, 1, 10, 1, 9, 5, 9, 4, 9, 5, 7, 6, 4, 1, 7, 3, 4, 8, 9, 10, 8, 4, 1, 7, 5, 3, 7, 5, 8, 9, 10, 5, 6, 9, 1, 5, 6, 10, 7, 3, 8, 2, 8, 4, 7, 7, 10, 4, 7, 6, 3, 6, 4, 10, 3, 2, 9, 4, 7, 2, 7, 8, 1, 3, 2]\n"
          ]
        }
      ],
      "source": [
        "import random\n",
        "\n",
        "rnd  = []\n",
        "\n",
        "for i in range(0,100):\n",
        "    rnd.append(random.randint(1,10))\n",
        "\n",
        "print(rnd)"
      ]
    },
    {
      "cell_type": "code",
      "execution_count": null,
      "id": "fc092833-ac23-4892-a927-a008baa5e611",
      "metadata": {
        "id": "fc092833-ac23-4892-a927-a008baa5e611",
        "outputId": "9678a0ac-ecac-4395-e0e9-575191ed967c"
      },
      "outputs": [
        {
          "name": "stdout",
          "output_type": "stream",
          "text": [
            "[7, 9, 1, 5, 5, 9, 1, 2, 5, 2, 9, 9, 3, 5, 9, 9, 2, 6, 1, 1, 1, 6, 8, 5, 8, 4, 6, 6, 9, 8, 6, 9, 9, 7, 4, 8, 1, 10, 1, 9, 5, 9, 4, 9, 5, 7, 6, 4, 1, 7, 3, 4, 8, 9, 10, 8, 4, 1, 7, 5, 3, 7, 5, 8, 9, 10, 5, 6, 9, 1, 5, 6, 10, 7, 3, 8, 2, 8, 4, 7, 7, 10, 4, 7, 6, 3, 6, 4, 10, 3, 2, 9, 4, 7, 2, 7, 8, 1, 3, 2]\n",
            "\n",
            "{7: 12, 9: 16, 1: 11, 5: 11, 2: 7, 3: 7, 6: 10, 8: 10, 4: 10, 10: 6}\n"
          ]
        }
      ],
      "source": [
        "freq = {}\n",
        "for x in rnd:\n",
        "    if x in freq:\n",
        "        freq[x]+=1\n",
        "    else:\n",
        "        freq[x]=1\n",
        "print(rnd)\n",
        "print()\n",
        "print(freq)\n",
        ""
      ]
    },
    {
      "cell_type": "code",
      "execution_count": null,
      "id": "feeee0c8-c259-4b6c-ad80-a0242d61eea1",
      "metadata": {
        "id": "feeee0c8-c259-4b6c-ad80-a0242d61eea1"
      },
      "outputs": [],
      "source": [
        "freq = {}\n",
        "for i in range(1,11):\n",
        "    freq[i] = 0\n",
        "\n",
        "for x in rnd:\n",
        "    freq[x]+=1\n",
        "\n",
        "print(rnd)\n",
        "print()\n",
        "print(freq)"
      ]
    },
    {
      "cell_type": "markdown",
      "source": [
        "# Phonebook example"
      ],
      "metadata": {
        "id": "KAnNffFnxC3d"
      },
      "id": "KAnNffFnxC3d"
    },
    {
      "cell_type": "code",
      "execution_count": 1,
      "id": "94942929-85fb-4e5e-bdba-ddb60aa0739e",
      "metadata": {
        "id": "94942929-85fb-4e5e-bdba-ddb60aa0739e"
      },
      "outputs": [],
      "source": [
        "phonebook = {'Raed':1234,'Ali':43221,'Karam':7890}"
      ]
    },
    {
      "cell_type": "code",
      "execution_count": 2,
      "id": "36dfc7da-22f5-4bdc-b5ee-110443a42636",
      "metadata": {
        "colab": {
          "base_uri": "https://localhost:8080/"
        },
        "id": "36dfc7da-22f5-4bdc-b5ee-110443a42636",
        "outputId": "eced7ce4-6be6-44b3-bbe7-3069b58e923c"
      },
      "outputs": [
        {
          "output_type": "stream",
          "name": "stdout",
          "text": [
            "7890\n"
          ]
        }
      ],
      "source": [
        "print(phonebook['Karam'])"
      ]
    },
    {
      "cell_type": "code",
      "execution_count": 5,
      "id": "be4fea36-e84d-4a81-8ed9-606e9b22f670",
      "metadata": {
        "colab": {
          "base_uri": "https://localhost:8080/"
        },
        "id": "be4fea36-e84d-4a81-8ed9-606e9b22f670",
        "outputId": "7827de09-b07d-4c23-c9fa-89c8fab1a7d7"
      },
      "outputs": [
        {
          "output_type": "stream",
          "name": "stdout",
          "text": [
            "43221\n"
          ]
        }
      ],
      "source": [
        "key = 'Ali'\n",
        "if key in phonebook:\n",
        "    print(phonebook[key])\n",
        "else:\n",
        "    print(\"Not found\")"
      ]
    },
    {
      "cell_type": "code",
      "execution_count": null,
      "id": "6bbe5f0a-bb04-47d0-bdd4-3cafb72590b5",
      "metadata": {
        "id": "6bbe5f0a-bb04-47d0-bdd4-3cafb72590b5",
        "outputId": "9b9e7d5a-ecbc-4b74-ce8c-0004a644ee76"
      },
      "outputs": [
        {
          "name": "stdout",
          "output_type": "stream",
          "text": [
            "1234\n"
          ]
        }
      ],
      "source": [
        "name = 'Raed'\n",
        "if name in phonebook:\n",
        "    print(phonebook[name])\n",
        "else:\n",
        "    print(\"Not found\")"
      ]
    },
    {
      "cell_type": "code",
      "source": [
        "print(phonebook)"
      ],
      "metadata": {
        "colab": {
          "base_uri": "https://localhost:8080/"
        },
        "id": "GpQGh-ffx6X7",
        "outputId": "a2251e71-d8af-4477-9b69-e451f5998842"
      },
      "id": "GpQGh-ffx6X7",
      "execution_count": 6,
      "outputs": [
        {
          "output_type": "stream",
          "name": "stdout",
          "text": [
            "{'Raed': 1234, 'Ali': 43221, 'Karam': 7890}\n"
          ]
        }
      ]
    },
    {
      "cell_type": "code",
      "execution_count": 7,
      "id": "2ecd2289-adcd-473a-8749-083010223a4e",
      "metadata": {
        "id": "2ecd2289-adcd-473a-8749-083010223a4e"
      },
      "outputs": [],
      "source": [
        "phonebook['Sara'] = 81567"
      ]
    },
    {
      "cell_type": "code",
      "execution_count": 8,
      "id": "04a220ef-9d06-4a06-a32a-2f0a107e47f5",
      "metadata": {
        "colab": {
          "base_uri": "https://localhost:8080/"
        },
        "id": "04a220ef-9d06-4a06-a32a-2f0a107e47f5",
        "outputId": "dfa7c440-0811-4374-dbd8-eba809a9a58e"
      },
      "outputs": [
        {
          "output_type": "stream",
          "name": "stdout",
          "text": [
            "{'Raed': 1234, 'Ali': 43221, 'Karam': 7890, 'Sara': 81567}\n"
          ]
        }
      ],
      "source": [
        "print(phonebook)"
      ]
    },
    {
      "cell_type": "code",
      "execution_count": 9,
      "id": "7e148447-5eb6-4563-857c-f4a491b16452",
      "metadata": {
        "id": "7e148447-5eb6-4563-857c-f4a491b16452"
      },
      "outputs": [],
      "source": [
        "phonebook['Raed'] = 123456"
      ]
    },
    {
      "cell_type": "code",
      "execution_count": 10,
      "id": "7eb6ef7d-36bc-46b3-be53-b3192585be5a",
      "metadata": {
        "colab": {
          "base_uri": "https://localhost:8080/"
        },
        "id": "7eb6ef7d-36bc-46b3-be53-b3192585be5a",
        "outputId": "5a46d474-709d-4db5-c862-f3d2c0f9706a"
      },
      "outputs": [
        {
          "output_type": "stream",
          "name": "stdout",
          "text": [
            "{'Raed': 123456, 'Ali': 43221, 'Karam': 7890, 'Sara': 81567}\n"
          ]
        }
      ],
      "source": [
        "print(phonebook)"
      ]
    },
    {
      "cell_type": "code",
      "execution_count": 11,
      "id": "7881509f-d472-4811-9326-36dc3b178971",
      "metadata": {
        "id": "7881509f-d472-4811-9326-36dc3b178971"
      },
      "outputs": [],
      "source": [
        "del phonebook['Raed']"
      ]
    },
    {
      "cell_type": "code",
      "execution_count": 12,
      "id": "662c4668-d5d1-416b-af9f-584d2c992acb",
      "metadata": {
        "colab": {
          "base_uri": "https://localhost:8080/"
        },
        "id": "662c4668-d5d1-416b-af9f-584d2c992acb",
        "outputId": "0322c689-f783-4152-fcbb-97dc95ad4879"
      },
      "outputs": [
        {
          "output_type": "stream",
          "name": "stdout",
          "text": [
            "{'Ali': 43221, 'Karam': 7890, 'Sara': 81567}\n"
          ]
        }
      ],
      "source": [
        "print(phonebook)"
      ]
    },
    {
      "cell_type": "code",
      "execution_count": 13,
      "id": "c4996ba4-47c0-4547-ac7f-4cff3d96ae0f",
      "metadata": {
        "colab": {
          "base_uri": "https://localhost:8080/"
        },
        "id": "c4996ba4-47c0-4547-ac7f-4cff3d96ae0f",
        "outputId": "f4f12792-14dd-40fe-c49b-3f5fcee4644e"
      },
      "outputs": [
        {
          "output_type": "execute_result",
          "data": {
            "text/plain": [
              "3"
            ]
          },
          "metadata": {},
          "execution_count": 13
        }
      ],
      "source": [
        "len(phonebook)"
      ]
    },
    {
      "cell_type": "code",
      "execution_count": 14,
      "id": "edb9c944-fb14-49c2-9935-afd4cf791d32",
      "metadata": {
        "id": "edb9c944-fb14-49c2-9935-afd4cf791d32"
      },
      "outputs": [],
      "source": [
        "randomdict = {'int':3, 'float':10.5, 'str':'name', 'list': [1,2,3,4], 'tuple':(2,3), 5:'five'}"
      ]
    },
    {
      "cell_type": "code",
      "execution_count": 15,
      "id": "68a6d03f-9b0a-47f4-9783-a04028fe9b8e",
      "metadata": {
        "colab": {
          "base_uri": "https://localhost:8080/"
        },
        "id": "68a6d03f-9b0a-47f4-9783-a04028fe9b8e",
        "outputId": "cf805be3-d329-4dc2-ea53-64efbc679fb3"
      },
      "outputs": [
        {
          "output_type": "execute_result",
          "data": {
            "text/plain": [
              "[1, 2, 3, 4]"
            ]
          },
          "metadata": {},
          "execution_count": 15
        }
      ],
      "source": [
        "randomdict['list']"
      ]
    },
    {
      "cell_type": "markdown",
      "source": [
        "print this on screen\n",
        "\n",
        "int: 3\n",
        "\n",
        "float: 10.5\n",
        "..."
      ],
      "metadata": {
        "id": "f5X3XafiylyO"
      },
      "id": "f5X3XafiylyO"
    },
    {
      "cell_type": "code",
      "execution_count": 22,
      "id": "58a48532-a523-4115-9ee3-e1a48a3329f4",
      "metadata": {
        "colab": {
          "base_uri": "https://localhost:8080/"
        },
        "id": "58a48532-a523-4115-9ee3-e1a48a3329f4",
        "outputId": "85ff69c7-d4f0-42e9-d850-421c845ca65e"
      },
      "outputs": [
        {
          "output_type": "stream",
          "name": "stdout",
          "text": [
            "int\n",
            "float\n",
            "str\n",
            "list\n",
            "tuple\n",
            "5\n"
          ]
        }
      ],
      "source": [
        "for key in randomdict:\n",
        "    #print(key)\n",
        "    print(key,':', randomdict[key])"
      ]
    },
    {
      "cell_type": "code",
      "execution_count": 19,
      "id": "c2117e9d-2a36-4d73-9629-2a3c2dfd7695",
      "metadata": {
        "colab": {
          "base_uri": "https://localhost:8080/"
        },
        "id": "c2117e9d-2a36-4d73-9629-2a3c2dfd7695",
        "outputId": "cadf4d17-0596-427b-f24e-d26d12c59f1a"
      },
      "outputs": [
        {
          "output_type": "stream",
          "name": "stdout",
          "text": [
            "No key with this name\n"
          ]
        }
      ],
      "source": [
        "x = randomdict.get('List','No key with this name')\n",
        "print(x)"
      ]
    },
    {
      "cell_type": "code",
      "source": [
        "#print(randomdict.items())\n",
        "for item in randomdict.items():\n",
        "    print(item)"
      ],
      "metadata": {
        "colab": {
          "base_uri": "https://localhost:8080/"
        },
        "id": "xvulhKCLzxKN",
        "outputId": "ad6ff55f-bb1c-433b-def0-f492e1d205e1"
      },
      "id": "xvulhKCLzxKN",
      "execution_count": 21,
      "outputs": [
        {
          "output_type": "stream",
          "name": "stdout",
          "text": [
            "('int', 3)\n",
            "('float', 10.5)\n",
            "('str', 'name')\n",
            "('list', [1, 2, 3, 4])\n",
            "('tuple', (2, 3))\n",
            "(5, 'five')\n"
          ]
        }
      ]
    },
    {
      "cell_type": "code",
      "execution_count": 23,
      "id": "1059241f-860b-4184-b58c-b7c2509790fa",
      "metadata": {
        "colab": {
          "base_uri": "https://localhost:8080/"
        },
        "id": "1059241f-860b-4184-b58c-b7c2509790fa",
        "outputId": "9093ee98-473b-44ad-efb5-aa526a0c6931"
      },
      "outputs": [
        {
          "output_type": "stream",
          "name": "stdout",
          "text": [
            "dict_keys(['int', 'float', 'str', 'list', 'tuple', 5])\n"
          ]
        }
      ],
      "source": [
        "print(randomdict.keys())"
      ]
    },
    {
      "cell_type": "code",
      "execution_count": 24,
      "id": "1ae40712-7119-4a52-8c7b-1c7e776fd5e7",
      "metadata": {
        "colab": {
          "base_uri": "https://localhost:8080/"
        },
        "id": "1ae40712-7119-4a52-8c7b-1c7e776fd5e7",
        "outputId": "9b62ba27-3e29-4d3b-9454-bfd8273365f0"
      },
      "outputs": [
        {
          "output_type": "stream",
          "name": "stdout",
          "text": [
            "dict_values([3, 10.5, 'name', [1, 2, 3, 4], (2, 3), 'five'])\n"
          ]
        }
      ],
      "source": [
        "print(randomdict.values())"
      ]
    },
    {
      "cell_type": "code",
      "source": [
        "print(randomdict)"
      ],
      "metadata": {
        "colab": {
          "base_uri": "https://localhost:8080/"
        },
        "id": "ktNn3a6n1Dyc",
        "outputId": "0b2c295f-ccea-4d0f-dbde-ec840e57b529"
      },
      "id": "ktNn3a6n1Dyc",
      "execution_count": 25,
      "outputs": [
        {
          "output_type": "stream",
          "name": "stdout",
          "text": [
            "{'int': 3, 'float': 10.5, 'str': 'name', 'list': [1, 2, 3, 4], 'tuple': (2, 3), 5: 'five'}\n"
          ]
        }
      ]
    },
    {
      "cell_type": "code",
      "execution_count": 26,
      "id": "63c80d15-7a92-4983-aa42-7871c907abc4",
      "metadata": {
        "colab": {
          "base_uri": "https://localhost:8080/"
        },
        "id": "63c80d15-7a92-4983-aa42-7871c907abc4",
        "outputId": "51e0c8c1-8c78-485b-920b-86788f1d8b47"
      },
      "outputs": [
        {
          "output_type": "stream",
          "name": "stdout",
          "text": [
            "name\n",
            "{'int': 3, 'float': 10.5, 'list': [1, 2, 3, 4], 'tuple': (2, 3), 5: 'five'}\n"
          ]
        }
      ],
      "source": [
        "x = randomdict.pop('str','Not found')\n",
        "print(x)\n",
        "print(randomdict)"
      ]
    },
    {
      "cell_type": "code",
      "execution_count": 27,
      "id": "c3e87e29-7987-4597-b825-ff387e58e27b",
      "metadata": {
        "colab": {
          "base_uri": "https://localhost:8080/"
        },
        "id": "c3e87e29-7987-4597-b825-ff387e58e27b",
        "outputId": "0ea6b782-c537-4e40-9641-b51ebce7c6a0"
      },
      "outputs": [
        {
          "output_type": "stream",
          "name": "stdout",
          "text": [
            "(5, 'five')\n",
            "{'int': 3, 'float': 10.5, 'list': [1, 2, 3, 4], 'tuple': (2, 3)}\n"
          ]
        }
      ],
      "source": [
        "x = randomdict.popitem()\n",
        "print(x)\n",
        "print(randomdict)"
      ]
    },
    {
      "cell_type": "code",
      "source": [
        "x = randomdict.popitem()\n",
        "print(x)\n",
        "print(randomdict)"
      ],
      "metadata": {
        "colab": {
          "base_uri": "https://localhost:8080/"
        },
        "id": "aecACKly11Rr",
        "outputId": "55e9fcb1-a4a9-42b1-8981-e70ca8ca8e87"
      },
      "id": "aecACKly11Rr",
      "execution_count": 28,
      "outputs": [
        {
          "output_type": "stream",
          "name": "stdout",
          "text": [
            "('tuple', (2, 3))\n",
            "{'int': 3, 'float': 10.5, 'list': [1, 2, 3, 4]}\n"
          ]
        }
      ]
    },
    {
      "cell_type": "markdown",
      "source": [
        "## Example:\n",
        "Random Number Frequencies\n",
        "\n",
        "Write a program that generates 100 random numbers between 1 and 10. The program should store the frequency of each number generated in a dictionary with the number as the key and the amount of times it has occurred as the value. For example, if the program generates the number 6 a total of 11 times, the dictionary will contain a key of 6 with an associated value of 11. Once all of the numbers have been generated, display information about the frequency of each number.\n"
      ],
      "metadata": {
        "id": "UCsE8ErN2IbF"
      },
      "id": "UCsE8ErN2IbF"
    },
    {
      "cell_type": "code",
      "source": [
        "import random\n",
        "rnd = []\n",
        "for i in range(0,100):\n",
        "    rnd.append(random.randint(1,10))\n",
        "\n",
        "print(rnd)"
      ],
      "metadata": {
        "colab": {
          "base_uri": "https://localhost:8080/"
        },
        "id": "4kd8OfPN2x6P",
        "outputId": "df21b913-dde5-48d7-b469-966ed64db7c0"
      },
      "id": "4kd8OfPN2x6P",
      "execution_count": 29,
      "outputs": [
        {
          "output_type": "stream",
          "name": "stdout",
          "text": [
            "[8, 9, 2, 2, 8, 6, 5, 2, 10, 2, 5, 3, 9, 8, 3, 9, 2, 3, 9, 8, 9, 4, 7, 4, 7, 7, 10, 3, 7, 1, 6, 7, 9, 9, 7, 2, 5, 3, 8, 2, 2, 8, 7, 8, 3, 6, 5, 1, 3, 5, 2, 4, 8, 6, 10, 9, 5, 7, 2, 2, 10, 2, 2, 10, 2, 4, 5, 10, 4, 4, 2, 8, 4, 8, 4, 10, 3, 5, 7, 1, 5, 10, 10, 3, 2, 2, 5, 9, 8, 7, 10, 10, 3, 9, 9, 6, 7, 9, 9, 3]\n"
          ]
        }
      ]
    },
    {
      "cell_type": "markdown",
      "source": [
        "freq = {1:how many 1s we have, 2: how many 2s we have, ..., 10: value}"
      ],
      "metadata": {
        "id": "v8GpiB3V3CMH"
      },
      "id": "v8GpiB3V3CMH"
    },
    {
      "cell_type": "code",
      "execution_count": 30,
      "id": "d5c71209-dfea-44c6-a763-e2cea385b1de",
      "metadata": {
        "colab": {
          "base_uri": "https://localhost:8080/"
        },
        "id": "d5c71209-dfea-44c6-a763-e2cea385b1de",
        "outputId": "88b14d90-128e-4b0a-d2e5-e46e3a4818d8"
      },
      "outputs": [
        {
          "output_type": "stream",
          "name": "stdout",
          "text": [
            "{8: 11, 9: 13, 2: 17, 6: 5, 5: 10, 10: 11, 3: 11, 4: 8, 7: 11, 1: 3}\n"
          ]
        }
      ],
      "source": [
        "freq = {}\n",
        "\n",
        "for x in rnd:\n",
        "    if x not in freq:\n",
        "        freq[x] = 1\n",
        "    else:\n",
        "        freq[x]+=1\n",
        "print(freq)\n",
        ""
      ]
    },
    {
      "cell_type": "code",
      "execution_count": 32,
      "id": "f99883d0-1a7f-4c4f-9b06-c4d81a9dd534",
      "metadata": {
        "colab": {
          "base_uri": "https://localhost:8080/"
        },
        "id": "f99883d0-1a7f-4c4f-9b06-c4d81a9dd534",
        "outputId": "18ad97b3-99eb-41ec-d891-c51de6433ed5"
      },
      "outputs": [
        {
          "output_type": "stream",
          "name": "stdout",
          "text": [
            "{1: 3, 2: 17, 3: 11, 4: 8, 5: 10, 6: 5, 7: 11, 8: 11, 9: 13, 10: 11}\n"
          ]
        }
      ],
      "source": [
        "freq_orderd = {}\n",
        "for key in range(1,11):\n",
        "    freq_orderd[key] = rnd.count(key)\n",
        "print(freq_orderd)"
      ]
    },
    {
      "cell_type": "code",
      "execution_count": null,
      "id": "1fdf1cea-ee20-4ab9-8343-e68d7e26061f",
      "metadata": {
        "id": "1fdf1cea-ee20-4ab9-8343-e68d7e26061f"
      },
      "outputs": [],
      "source": []
    }
  ],
  "metadata": {
    "kernelspec": {
      "display_name": "Python 3 (ipykernel)",
      "language": "python",
      "name": "python3"
    },
    "language_info": {
      "codemirror_mode": {
        "name": "ipython",
        "version": 3
      },
      "file_extension": ".py",
      "mimetype": "text/x-python",
      "name": "python",
      "nbconvert_exporter": "python",
      "pygments_lexer": "ipython3",
      "version": "3.11.5"
    },
    "colab": {
      "provenance": [],
      "include_colab_link": true
    }
  },
  "nbformat": 4,
  "nbformat_minor": 5
}