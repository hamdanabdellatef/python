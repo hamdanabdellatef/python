{
  "nbformat": 4,
  "nbformat_minor": 0,
  "metadata": {
    "colab": {
      "provenance": [],
      "authorship_tag": "ABX9TyOAosf6qH7kGv82ukSBc6jR",
      "include_colab_link": true
    },
    "kernelspec": {
      "name": "python3",
      "display_name": "Python 3"
    },
    "language_info": {
      "name": "python"
    }
  },
  "cells": [
    {
      "cell_type": "markdown",
      "metadata": {
        "id": "view-in-github",
        "colab_type": "text"
      },
      "source": [
        "<a href=\"https://colab.research.google.com/github/hamdanabdellatef/python/blob/main/Module3_Decision_Structures_and_Boolean_Logic.ipynb\" target=\"_parent\"><img src=\"https://colab.research.google.com/assets/colab-badge.svg\" alt=\"Open In Colab\"/></a>"
      ]
    },
    {
      "cell_type": "markdown",
      "source": [
        "#Using `if` Statement"
      ],
      "metadata": {
        "id": "V8VCX2piAkld"
      }
    },
    {
      "cell_type": "markdown",
      "source": [
        "Python syntax:\n",
        "\n",
        "```python\n",
        "if condition:\n",
        "\tStatement\n",
        "\tStatement\n",
        "  ```\n",
        "\n",
        "First line known as the if clause\n",
        "- Includes the keyword if followed by condition\n",
        "- The condition can be true or false\n",
        "- When the if statement executes, the condition is tested, and if it is true the block statements are executed. otherwise, block statements are skipped\n"
      ],
      "metadata": {
        "id": "i1kqM1gwAjN2"
      }
    },
    {
      "cell_type": "code",
      "execution_count": null,
      "metadata": {
        "id": "S-bVI09JAbnw"
      },
      "outputs": [],
      "source": []
    },
    {
      "cell_type": "markdown",
      "source": [
        "#Boolean Expressions and Comparisons"
      ],
      "metadata": {
        "id": "1JnrOFpct4tM"
      }
    },
    {
      "cell_type": "markdown",
      "source": [
        "##Boolean expression\n",
        "**Boolean expression**: Evaluates to `True` or `False` (e.g., `a > b`).\n",
        "\n"
      ],
      "metadata": {
        "id": "9xNCMIlIt9cJ"
      }
    },
    {
      "cell_type": "code",
      "source": [],
      "metadata": {
        "id": "b4bTbe7SuRTO"
      },
      "execution_count": null,
      "outputs": []
    },
    {
      "cell_type": "markdown",
      "source": [
        "##Relational operator\n",
        "Relational Operators: `>`, `<`, `>=`, `<=`, `==`, `!=` are used to compare values in conditions.\n",
        "\n"
      ],
      "metadata": {
        "id": "hhB9-IyiuXO_"
      }
    },
    {
      "cell_type": "code",
      "source": [],
      "metadata": {
        "id": "7YSIZLCEvGpw"
      },
      "execution_count": null,
      "outputs": []
    },
    {
      "cell_type": "markdown",
      "source": [
        "##Using Rational Operators for conditions\n",
        "Write a program that simulates a bank account withdrawal. When the user attempts to withdraw money, the program should check if the withdrawal amount is less than or equal to the current balance (stored in a predefined variable).\n",
        "\n",
        "- If the balance is sufficient, subtract the amount from the balance and display the new balance.\n",
        "\n",
        "- If the balance is insufficient, display a message saying \"Insufficient funds.\""
      ],
      "metadata": {
        "id": "W42jkiSfvz0S"
      }
    },
    {
      "cell_type": "markdown",
      "source": [
        "##Nested blocks\n",
        "Blocks can be nested (e.g., if inside a function), and must be indented properly.\n",
        "Example:\n",
        "```python\n",
        "if condition_1: #Outer block\n",
        "  statement(s)\n",
        "  if condition_2: #inner block\n",
        "    statements(s)\n",
        "  statement(s)\n",
        "```"
      ],
      "metadata": {
        "id": "4sa6j06gwy-B"
      }
    },
    {
      "cell_type": "markdown",
      "source": [
        "Now redo the previous example but first, check if the account is not on hold.\n",
        "\n",
        "If the account is on hold, display a message: `\"Account is currently on hold. Withdrawal not allowed.\"`"
      ],
      "metadata": {
        "id": "gGwmQhNRxmN9"
      }
    },
    {
      "cell_type": "code",
      "source": [],
      "metadata": {
        "id": "nYozxFUGxc0m"
      },
      "execution_count": null,
      "outputs": []
    },
    {
      "cell_type": "markdown",
      "source": [
        "#If-Else Structure and Indentation\n",
        "\n"
      ],
      "metadata": {
        "id": "g09mXwYexdVv"
      }
    },
    {
      "cell_type": "markdown",
      "source": [
        "##`if-else` structure\n",
        "Provides two possible paths: one if condition is true, the other if false.\n",
        "\n",
        "syntax:\n",
        "```python\n",
        "if condition:\n",
        "  statement(s)\n",
        "else:\n",
        "  statement(s)\n",
        "```"
      ],
      "metadata": {
        "id": "UcsCyEgt4JrW"
      }
    },
    {
      "cell_type": "code",
      "source": [],
      "metadata": {
        "id": "A6ygrvFT4fkF"
      },
      "execution_count": null,
      "outputs": []
    },
    {
      "cell_type": "markdown",
      "source": [
        "#Nested Decision Structures\n",
        "\n",
        "An if statement inside another if — used when multiple conditions must be met.\n",
        "\n",
        "- Indentation is critical for correct execution and readability:\n",
        "- Align each else with its matching if\n",
        "- Keep blocks consistently indented\n",
        "\n",
        "Example: Qualifying for a loan → check income more than 30000\\$, then employment duration al least two years."
      ],
      "metadata": {
        "id": "2F_so9U34iwU"
      }
    },
    {
      "cell_type": "code",
      "source": [],
      "metadata": {
        "id": "O-bOYI3l5PpD"
      },
      "execution_count": null,
      "outputs": []
    },
    {
      "cell_type": "markdown",
      "source": [
        "#`if-elif-else` Statement\n",
        "A cleaner way to write multi-branch decision structures and avoids deep nesting.\n",
        "\n",
        "Example: Write a program that convert the percentage grade to letter grade based on the table below.\n",
        "\n",
        "| **Score Range** | **Letter Grade** |\n",
        "|------------------|------------------|\n",
        "| 90 – 100         | A                |\n",
        "| 80 – 89          | B                |\n",
        "| 70 – 79          | C                |\n",
        "| 60 – 69          | D                |\n",
        "| Below 60         | F                |\n"
      ],
      "metadata": {
        "id": "okNkGd9J5QGI"
      }
    },
    {
      "cell_type": "code",
      "source": [],
      "metadata": {
        "id": "uRowcfqx56sk"
      },
      "execution_count": null,
      "outputs": []
    },
    {
      "cell_type": "markdown",
      "source": [
        "#Practical Decision Making Examples"
      ],
      "metadata": {
        "id": "pb3abVNp57MZ"
      }
    },
    {
      "cell_type": "markdown",
      "source": [
        "##Checking a number if even or odd\n"
      ],
      "metadata": {
        "id": "qUXoVJND5_Qn"
      }
    },
    {
      "cell_type": "code",
      "source": [],
      "metadata": {
        "id": "L_6FlZGD5-x8"
      },
      "execution_count": null,
      "outputs": []
    },
    {
      "cell_type": "markdown",
      "source": [
        "##E-commerce Discount Logic\n",
        "\n",
        "How would you calculate the final price for a customer based on their total purchase amount and loyalty status?\n",
        "\n",
        "Given:\n",
        "- Total purchase amount (float)\n",
        "- Customer loyalty status (yes/no)\n",
        "\n",
        "Conditions:\n",
        "- If purchase ≥ 100:\n",
        " - Loyalty member → 20% discount\n",
        " - Non-member → 10% discount\n",
        "- If purchase ≥ 50 → 5% discount\n",
        "- Otherwise → no discount"
      ],
      "metadata": {
        "id": "VP0D8bv-6SjX"
      }
    },
    {
      "cell_type": "code",
      "source": [],
      "metadata": {
        "id": "fK6mqB9w6rkD"
      },
      "execution_count": null,
      "outputs": []
    },
    {
      "cell_type": "markdown",
      "source": [
        "##Customer Support Routing\n",
        "How would you direct a user to the right support department based on their issue type and priority status?\n",
        "\n",
        "Given:\n",
        "- Issue type (billing / technical / other)\n",
        "- Priority customer? (yes/no)\n",
        "\n",
        "Conditions:\n",
        "- Billing → Billing Department\n",
        "- Technical:\n",
        " - If priority → Senior Tech Support\n",
        " - Else → General Tech Support\n",
        "- Other → Customer Service Desk"
      ],
      "metadata": {
        "id": "up94b2MD7AP-"
      }
    },
    {
      "cell_type": "code",
      "source": [],
      "metadata": {
        "id": "7iMP30Rx6y_a"
      },
      "execution_count": null,
      "outputs": []
    },
    {
      "cell_type": "markdown",
      "source": [
        "##Weather Alert System\n",
        "What weather message should be shown based on temperature, wind speed, and rain status?\n",
        "\n",
        "Given:\n",
        "- Temperature (float, °C)\n",
        "- Wind speed (float, km/h)\n",
        "- Is it raining? (yes/no)\n",
        "\n",
        "Conditions:\n",
        "- Temp < 0:\n",
        " - Wind > 20 → “Extreme cold and strong wind!”\n",
        " - Else → “Freezing temperature.”\n",
        "- Else if raining → “Take an umbrella!”\n",
        "- Else → “Weather is normal.”"
      ],
      "metadata": {
        "id": "M6bm_pWO7NiA"
      }
    },
    {
      "cell_type": "code",
      "source": [],
      "metadata": {
        "id": "Z0mCR98M7mAA"
      },
      "execution_count": null,
      "outputs": []
    },
    {
      "cell_type": "markdown",
      "source": [
        "#Logical Operators\n"
      ],
      "metadata": {
        "id": "CMWIBFsp7mk-"
      }
    },
    {
      "cell_type": "markdown",
      "source": [
        "##Exploring logical operators\n",
        "- `and`\n",
        "- `or`\n",
        "- `not`\n"
      ],
      "metadata": {
        "id": "nLPWaIhS77gF"
      }
    },
    {
      "cell_type": "code",
      "source": [],
      "metadata": {
        "id": "95qlsRqk8Iw-"
      },
      "execution_count": null,
      "outputs": []
    },
    {
      "cell_type": "markdown",
      "source": [
        "##Example:\n",
        "Qualifying for a loan → check income more than 30000\\$, and employment duration al least two years."
      ],
      "metadata": {
        "id": "cejrJY0X8Ml3"
      }
    },
    {
      "cell_type": "code",
      "source": [],
      "metadata": {
        "id": "rbWisefL8bkk"
      },
      "execution_count": null,
      "outputs": []
    },
    {
      "cell_type": "markdown",
      "source": [
        "#Boolean Variables and Conditions"
      ],
      "metadata": {
        "id": "CZHr2Ndo8cCk"
      }
    },
    {
      "cell_type": "markdown",
      "source": [
        "##Boolean Variables\n",
        "Can be either `True` of `False`"
      ],
      "metadata": {
        "id": "lCRauEej-oaC"
      }
    },
    {
      "cell_type": "code",
      "source": [],
      "metadata": {
        "id": "SXM-7ZTE-zqk"
      },
      "execution_count": null,
      "outputs": []
    },
    {
      "cell_type": "markdown",
      "source": [
        "##Tesing if the number is even or odd\n",
        "use `is_even` variable"
      ],
      "metadata": {
        "id": "za_D6Njs-2fb"
      }
    },
    {
      "cell_type": "code",
      "source": [],
      "metadata": {
        "id": "eLbJPAmr_Ciy"
      },
      "execution_count": null,
      "outputs": []
    },
    {
      "cell_type": "markdown",
      "source": [
        "#Testing a number in range\n",
        "Check a number if it is in range 10 and 20\n",
        "\n",
        "use in_range as boolean variable"
      ],
      "metadata": {
        "id": "iP2BKcjy_Lt_"
      }
    },
    {
      "cell_type": "code",
      "source": [],
      "metadata": {
        "id": "vg_bhMXeFzc_"
      },
      "execution_count": null,
      "outputs": []
    },
    {
      "cell_type": "markdown",
      "source": [
        "## Checking for login\n",
        "You want to allow a user to log in only if:\n",
        "- The account is not locked (`not_locked`)\n",
        "- The user has either:\n",
        " - Entered the correct password (`password_correct`), or\n",
        " - Has a valid OTP code (`otp_valid`)\n",
        "- And the user is not on a banned list (`not_banned`)\n",
        "- And the account is verified (`is_verified`)\n",
        "\n",
        "assume that the above variables are defined"
      ],
      "metadata": {
        "id": "rH191_JPFyx2"
      }
    },
    {
      "cell_type": "code",
      "source": [],
      "metadata": {
        "id": "hWWIXhM3F1Bw"
      },
      "execution_count": null,
      "outputs": []
    },
    {
      "cell_type": "markdown",
      "source": [
        "#Boolean Logic Examples"
      ],
      "metadata": {
        "id": "sqmrny9Y9NPt"
      }
    },
    {
      "cell_type": "markdown",
      "source": [
        "## Day of the week based on the date\n",
        "\n",
        " You can use Zeller Congruence. The user is going to input the date on one line in form of day month year:\n",
        "\n",
        "`5 9 2025`\n",
        "\n",
        "Zeller's Congruence is an algorithm to calculate the day of the week for any given date in the Gregorian calendar.\n",
        "\n",
        "$h  = \\left( q + \\left\\lfloor \\frac{13(m + 1)}{5} \\right\\rfloor + K + \\left\\lfloor \\frac{K}{4} \\right\\rfloor + \\left\\lfloor \\frac{J}{4} \\right\\rfloor + 5J \\right) \\bmod 7$\n",
        "\n",
        "where\n",
        "- `h` is the day of the week:\n",
        "  - 0 = Saturday  \n",
        "  - 1 = Sunday  \n",
        "  - 2 = Monday  \n",
        "  - 3 = Tuesday  \n",
        "  - 4 = Wednesday  \n",
        "  - 5 = Thursday  \n",
        "  - 6 = Friday\n",
        "\n",
        "- `q` is the day of the month  \n",
        "- `m` is the month number:\n",
        "  - March = 3, April = 4, ..., December = 12  \n",
        "  - January = 13, February = 14 **of the previous year**\n",
        "\n",
        "- `K` is the year of the century (`year % 100`)  \n",
        "- `J` is the zero-based century (`year // 100`)\n",
        "\n",
        "### Notes:\n",
        "- For January and February, **treat them as months 13 and 14 of the previous year**.\n",
        "  - Example: 5 January 2025 → `q = 5`, `m = 13`, `year = 2024`, so `K = 24`, `J = 20`"
      ],
      "metadata": {
        "id": "Z6-hCQAeAxBk"
      }
    },
    {
      "cell_type": "code",
      "source": [],
      "metadata": {
        "id": "DwciaxTvDHVG"
      },
      "execution_count": null,
      "outputs": []
    },
    {
      "cell_type": "markdown",
      "source": [
        "##Is weekend\n",
        "For a given date, check if it is a weekend."
      ],
      "metadata": {
        "id": "nNz1-5kuDtqx"
      }
    },
    {
      "cell_type": "code",
      "source": [],
      "metadata": {
        "id": "PjYUHr4UDtEy"
      },
      "execution_count": null,
      "outputs": []
    },
    {
      "cell_type": "markdown",
      "source": [
        "##Mobile Data Plan Recommendation\n",
        "Which mobile data plan should be recommended to a user based on their usage and preferences?\n",
        "\n",
        "Inputs Given:\n",
        "- Average monthly data usage in GB (float)\n",
        "- Average monthly call minutes (int)\n",
        "- Do they prefer unlimited data? (yes/no)\n",
        "\n",
        "Decision Rules:\n",
        "\n",
        "|Condition         |Recommended Plan         |\n",
        "|------------------|------------------|\n",
        "|Prefers unlimited data = yes\t| Plan U (Unlimited everything)\n",
        "|Data > 20 GB and calls > 1000 min |\tPlan XL\n",
        "|Data > 10 GB or calls > 500 min |\tPlan L\n",
        "|Data > 2 GB\t| Plan M\n",
        "|Otherwise\t|Plan S (Basic plan)"
      ],
      "metadata": {
        "id": "5b71KUCt9Tvn"
      }
    }
  ]
}