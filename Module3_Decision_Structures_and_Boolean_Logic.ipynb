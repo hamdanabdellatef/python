{
  "nbformat": 4,
  "nbformat_minor": 0,
  "metadata": {
    "colab": {
      "provenance": [],
      "toc_visible": true,
      "authorship_tag": "ABX9TyNjEWq4584g0OzYZ8NzSvFS",
      "include_colab_link": true
    },
    "kernelspec": {
      "name": "python3",
      "display_name": "Python 3"
    },
    "language_info": {
      "name": "python"
    }
  },
  "cells": [
    {
      "cell_type": "markdown",
      "metadata": {
        "id": "view-in-github",
        "colab_type": "text"
      },
      "source": [
        "<a href=\"https://colab.research.google.com/github/hamdanabdellatef/python/blob/main/Module3_Decision_Structures_and_Boolean_Logic.ipynb\" target=\"_parent\"><img src=\"https://colab.research.google.com/assets/colab-badge.svg\" alt=\"Open In Colab\"/></a>"
      ]
    },
    {
      "cell_type": "markdown",
      "source": [
        "#Introduction"
      ],
      "metadata": {
        "id": "Mljvx2Prpur_"
      }
    },
    {
      "cell_type": "markdown",
      "source": [
        "\n",
        "Welcome to Module 3: **Decision Structures and Boolean Logic in Python**!\n",
        "\n",
        "In this module, you'll explore one of the most fundamental concepts in programming — making decisions based on data. You'll learn how to write programs that can behave differently under different conditions by using:\n",
        "\n",
        "- `if`, `elif`, and `else` statements\n",
        "- Boolean expressions and logical operators like `and, or, and not`\n",
        "- Comparison operators such as `==`, `!=`, `<`, `>`, `<=`, `>=`\n",
        "- String-based decisions, such as checking if a word is in a sentence, or whether user input matches expected commands\n",
        "\n",
        "By the end of this module, you'll be able to:\n",
        "\n",
        "- Build programs that respond dynamically to user input\n",
        "- Create complex condition-based logic using strings, numbers, and Booleans\n",
        "- Implement real-world decision-making scenarios like user authentication, menu selection, and input validation\n",
        "\n",
        "This notebook is hands-on and includes explanations, examples, and exercises to reinforce your understanding. No loops are required here — we’ll focus purely on decision-making logic to strengthen your control flow skills.\n",
        "\n",
        "Let’s get started with building smarter Python programs!"
      ],
      "metadata": {
        "id": "7JBpoF-epsqJ"
      }
    },
    {
      "cell_type": "markdown",
      "source": [
        "#Using `if` Statement"
      ],
      "metadata": {
        "id": "V8VCX2piAkld"
      }
    },
    {
      "cell_type": "markdown",
      "source": [
        "Python syntax:\n",
        "\n",
        "```python\n",
        "if condition:\n",
        "\tStatement\n",
        "\tStatement\n",
        "  ```\n",
        "\n",
        "First line known as the if clause\n",
        "- Includes the keyword if followed by condition\n",
        "- The condition can be true or false\n",
        "- When the if statement executes, the condition is tested, and if it is true the block statements are executed. otherwise, block statements are skipped\n"
      ],
      "metadata": {
        "id": "i1kqM1gwAjN2"
      }
    },
    {
      "cell_type": "code",
      "execution_count": null,
      "metadata": {
        "id": "S-bVI09JAbnw"
      },
      "outputs": [],
      "source": []
    },
    {
      "cell_type": "markdown",
      "source": [
        "#Boolean Expressions and Comparisons"
      ],
      "metadata": {
        "id": "1JnrOFpct4tM"
      }
    },
    {
      "cell_type": "markdown",
      "source": [
        "##Boolean expression\n",
        "**Boolean expression**: Evaluates to `True` or `False` (e.g., `a > b`).\n",
        "\n"
      ],
      "metadata": {
        "id": "9xNCMIlIt9cJ"
      }
    },
    {
      "cell_type": "code",
      "source": [],
      "metadata": {
        "id": "b4bTbe7SuRTO"
      },
      "execution_count": null,
      "outputs": []
    },
    {
      "cell_type": "markdown",
      "source": [
        "##Relational operator\n",
        "Relational Operators: `>`, `<`, `>=`, `<=`, `==`, `!=` are used to compare values in conditions.\n",
        "\n"
      ],
      "metadata": {
        "id": "hhB9-IyiuXO_"
      }
    },
    {
      "cell_type": "code",
      "source": [],
      "metadata": {
        "id": "7YSIZLCEvGpw"
      },
      "execution_count": null,
      "outputs": []
    },
    {
      "cell_type": "markdown",
      "source": [
        "##Using Rational Operators for conditions\n",
        "Write a program that simulates a bank account withdrawal. When the user attempts to withdraw money, the program should check if the withdrawal amount is less than or equal to the current balance (stored in a predefined variable).\n",
        "\n",
        "- If the balance is sufficient, subtract the amount from the balance and display the new balance.\n",
        "\n",
        "- If the balance is insufficient, display a message saying \"Insufficient funds.\""
      ],
      "metadata": {
        "id": "W42jkiSfvz0S"
      }
    },
    {
      "cell_type": "markdown",
      "source": [
        "##Nested blocks\n",
        "Blocks can be nested (e.g., if inside a function), and must be indented properly.\n",
        "Example:\n",
        "```python\n",
        "if condition_1: #Outer block\n",
        "  statement(s)\n",
        "  if condition_2: #inner block\n",
        "    statements(s)\n",
        "  statement(s)\n",
        "```"
      ],
      "metadata": {
        "id": "4sa6j06gwy-B"
      }
    },
    {
      "cell_type": "markdown",
      "source": [
        "Now redo the previous example but first, check if the account is not on hold.\n",
        "\n",
        "If the account is on hold, display a message: `\"Account is currently on hold. Withdrawal not allowed.\"`"
      ],
      "metadata": {
        "id": "gGwmQhNRxmN9"
      }
    },
    {
      "cell_type": "code",
      "source": [],
      "metadata": {
        "id": "nYozxFUGxc0m"
      },
      "execution_count": null,
      "outputs": []
    },
    {
      "cell_type": "markdown",
      "source": [
        "#If-Else Structure and Indentation\n",
        "\n"
      ],
      "metadata": {
        "id": "g09mXwYexdVv"
      }
    },
    {
      "cell_type": "markdown",
      "source": [
        "##`if-else` structure\n",
        "Provides two possible paths: one if condition is true, the other if false.\n",
        "\n",
        "syntax:\n",
        "```python\n",
        "if condition:\n",
        "  statement(s)\n",
        "else:\n",
        "  statement(s)\n",
        "```"
      ],
      "metadata": {
        "id": "UcsCyEgt4JrW"
      }
    },
    {
      "cell_type": "code",
      "source": [],
      "metadata": {
        "id": "A6ygrvFT4fkF"
      },
      "execution_count": null,
      "outputs": []
    },
    {
      "cell_type": "markdown",
      "source": [
        "#Nested Decision Structures"
      ],
      "metadata": {
        "id": "kThFWkBNpMUm"
      }
    },
    {
      "cell_type": "markdown",
      "source": [
        "\n",
        "\n",
        "An if statement inside another if — used when multiple conditions must be met.\n",
        "\n",
        "- Indentation is critical for correct execution and readability:\n",
        "- Align each else with its matching if\n",
        "- Keep blocks consistently indented\n",
        "\n",
        "Example: Qualifying for a loan → check income more than 30000\\$, then employment duration al least two years."
      ],
      "metadata": {
        "id": "2F_so9U34iwU"
      }
    },
    {
      "cell_type": "code",
      "source": [],
      "metadata": {
        "id": "O-bOYI3l5PpD"
      },
      "execution_count": null,
      "outputs": []
    },
    {
      "cell_type": "markdown",
      "source": [
        "#`if-elif-else` Statement"
      ],
      "metadata": {
        "id": "eBPIOkyTpHeq"
      }
    },
    {
      "cell_type": "markdown",
      "source": [
        "\n",
        "A cleaner way to write multi-branch decision structures and avoids deep nesting.\n",
        "\n",
        "Example: Write a program that convert the percentage grade to letter grade based on the table below.\n",
        "\n",
        "| **Score Range** | **Letter Grade** |\n",
        "|------------------|------------------|\n",
        "| 90 – 100         | A                |\n",
        "| 80 – 89          | B                |\n",
        "| 70 – 79          | C                |\n",
        "| 60 – 69          | D                |\n",
        "| Below 60         | F                |\n"
      ],
      "metadata": {
        "id": "okNkGd9J5QGI"
      }
    },
    {
      "cell_type": "code",
      "source": [],
      "metadata": {
        "id": "uRowcfqx56sk"
      },
      "execution_count": null,
      "outputs": []
    },
    {
      "cell_type": "markdown",
      "source": [
        "#Practical Decision Making Examples"
      ],
      "metadata": {
        "id": "pb3abVNp57MZ"
      }
    },
    {
      "cell_type": "markdown",
      "source": [
        "##Checking a number if even or odd\n"
      ],
      "metadata": {
        "id": "qUXoVJND5_Qn"
      }
    },
    {
      "cell_type": "code",
      "source": [],
      "metadata": {
        "id": "L_6FlZGD5-x8"
      },
      "execution_count": null,
      "outputs": []
    },
    {
      "cell_type": "markdown",
      "source": [
        "##E-commerce Discount Logic\n",
        "\n",
        "How would you calculate the final price for a customer based on their total purchase amount and loyalty status?\n",
        "\n",
        "Given:\n",
        "- Total purchase amount (float)\n",
        "- Customer loyalty status (yes/no)\n",
        "\n",
        "Conditions:\n",
        "- If purchase ≥ 100:\n",
        " - Loyalty member → 20% discount\n",
        " - Non-member → 10% discount\n",
        "- If purchase ≥ 50 → 5% discount\n",
        "- Otherwise → no discount"
      ],
      "metadata": {
        "id": "VP0D8bv-6SjX"
      }
    },
    {
      "cell_type": "code",
      "source": [],
      "metadata": {
        "id": "fK6mqB9w6rkD"
      },
      "execution_count": null,
      "outputs": []
    },
    {
      "cell_type": "markdown",
      "source": [
        "##Customer Support Routing\n",
        "How would you direct a user to the right support department based on their issue type and priority status?\n",
        "\n",
        "Given:\n",
        "- Issue type (billing / technical / other)\n",
        "- Priority customer? (yes/no)\n",
        "\n",
        "Conditions:\n",
        "- Billing → Billing Department\n",
        "- Technical:\n",
        " - If priority → Senior Tech Support\n",
        " - Else → General Tech Support\n",
        "- Other → Customer Service Desk"
      ],
      "metadata": {
        "id": "up94b2MD7AP-"
      }
    },
    {
      "cell_type": "code",
      "source": [],
      "metadata": {
        "id": "7iMP30Rx6y_a"
      },
      "execution_count": null,
      "outputs": []
    },
    {
      "cell_type": "markdown",
      "source": [
        "##Weather Alert System\n",
        "What weather message should be shown based on temperature, wind speed, and rain status?\n",
        "\n",
        "Given:\n",
        "- Temperature (float, °C)\n",
        "- Wind speed (float, km/h)\n",
        "- Is it raining? (yes/no)\n",
        "\n",
        "Conditions:\n",
        "- Temp < 0:\n",
        " - Wind > 20 → “Extreme cold and strong wind!”\n",
        " - Else → “Freezing temperature.”\n",
        "- Else if raining → “Take an umbrella!”\n",
        "- Else → “Weather is normal.”"
      ],
      "metadata": {
        "id": "M6bm_pWO7NiA"
      }
    },
    {
      "cell_type": "code",
      "source": [],
      "metadata": {
        "id": "Z0mCR98M7mAA"
      },
      "execution_count": null,
      "outputs": []
    },
    {
      "cell_type": "markdown",
      "source": [
        "#Logical Operators\n"
      ],
      "metadata": {
        "id": "CMWIBFsp7mk-"
      }
    },
    {
      "cell_type": "markdown",
      "source": [
        "##Exploring logical operators\n",
        "- `and`\n",
        "- `or`\n",
        "- `not`\n"
      ],
      "metadata": {
        "id": "nLPWaIhS77gF"
      }
    },
    {
      "cell_type": "code",
      "source": [],
      "metadata": {
        "id": "95qlsRqk8Iw-"
      },
      "execution_count": null,
      "outputs": []
    },
    {
      "cell_type": "markdown",
      "source": [
        "##Example:\n",
        "Qualifying for a loan → check income more than 30000\\$, and employment duration al least two years."
      ],
      "metadata": {
        "id": "cejrJY0X8Ml3"
      }
    },
    {
      "cell_type": "code",
      "source": [],
      "metadata": {
        "id": "rbWisefL8bkk"
      },
      "execution_count": null,
      "outputs": []
    },
    {
      "cell_type": "markdown",
      "source": [
        "#Boolean Variables and Conditions"
      ],
      "metadata": {
        "id": "CZHr2Ndo8cCk"
      }
    },
    {
      "cell_type": "markdown",
      "source": [
        "##Boolean Variables\n",
        "Can be either `True` of `False`"
      ],
      "metadata": {
        "id": "lCRauEej-oaC"
      }
    },
    {
      "cell_type": "code",
      "source": [],
      "metadata": {
        "id": "SXM-7ZTE-zqk"
      },
      "execution_count": null,
      "outputs": []
    },
    {
      "cell_type": "markdown",
      "source": [
        "##Tesing if the number is even or odd\n",
        "use `is_even` variable"
      ],
      "metadata": {
        "id": "za_D6Njs-2fb"
      }
    },
    {
      "cell_type": "code",
      "source": [],
      "metadata": {
        "id": "eLbJPAmr_Ciy"
      },
      "execution_count": null,
      "outputs": []
    },
    {
      "cell_type": "markdown",
      "source": [
        "##Testing a number in range\n",
        "Check a number if it is in range 10 and 20\n",
        "\n",
        "use in_range as boolean variable"
      ],
      "metadata": {
        "id": "iP2BKcjy_Lt_"
      }
    },
    {
      "cell_type": "code",
      "source": [],
      "metadata": {
        "id": "vg_bhMXeFzc_"
      },
      "execution_count": null,
      "outputs": []
    },
    {
      "cell_type": "markdown",
      "source": [
        "## Checking for login\n",
        "You want to allow a user to log in only if:\n",
        "- The account is not locked (`not_locked`)\n",
        "- The user has either:\n",
        " - Entered the correct password (`password_correct`), or\n",
        " - Has a valid OTP code (`otp_valid`)\n",
        "- And the user is not on a banned list (`not_banned`)\n",
        "- And the account is verified (`is_verified`)\n",
        "\n",
        "assume that the above variables are defined"
      ],
      "metadata": {
        "id": "rH191_JPFyx2"
      }
    },
    {
      "cell_type": "code",
      "source": [],
      "metadata": {
        "id": "hWWIXhM3F1Bw"
      },
      "execution_count": null,
      "outputs": []
    },
    {
      "cell_type": "markdown",
      "source": [
        "#Boolean Logic Examples"
      ],
      "metadata": {
        "id": "sqmrny9Y9NPt"
      }
    },
    {
      "cell_type": "markdown",
      "source": [
        "##Mobile Data Plan Recommendation\n",
        "Which mobile data plan should be recommended to a user based on their usage and preferences?\n",
        "\n",
        "Inputs Given:\n",
        "- Average monthly data usage in GB (float)\n",
        "- Average monthly call minutes (int)\n",
        "- Do they prefer unlimited data? (yes/no)\n",
        "\n",
        "Decision Rules:\n",
        "\n",
        "|Condition         |Recommended Plan         |\n",
        "|------------------|------------------|\n",
        "|Prefers unlimited data = yes\t| Plan U (Unlimited everything)\n",
        "|Data > 20 GB and calls > 1000 min |\tPlan XL\n",
        "|Data > 10 GB or calls > 500 min |\tPlan L\n",
        "|Data > 2 GB\t| Plan M\n",
        "|Otherwise\t|Plan S (Basic plan)"
      ],
      "metadata": {
        "id": "5b71KUCt9Tvn"
      }
    },
    {
      "cell_type": "code",
      "source": [],
      "metadata": {
        "id": "LW1jjs54o1JX"
      },
      "execution_count": null,
      "outputs": []
    },
    {
      "cell_type": "markdown",
      "source": [
        "## Day of the week based on the date\n",
        "\n",
        " You can use Zeller Congruence. The user is going to input the date on one line in form of day month year:\n",
        "\n",
        "`5 9 2025`\n",
        "\n",
        "Zeller's Congruence is an algorithm to calculate the day of the week for any given date in the Gregorian calendar.\n",
        "\n",
        "$h  = \\left( q + \\left\\lfloor \\frac{13(m + 1)}{5} \\right\\rfloor + K + \\left\\lfloor \\frac{K}{4} \\right\\rfloor + \\left\\lfloor \\frac{J}{4} \\right\\rfloor + 5J \\right) \\bmod 7$\n",
        "\n",
        "where\n",
        "- `h` is the day of the week:\n",
        "  - 0 = Saturday  \n",
        "  - 1 = Sunday  \n",
        "  - 2 = Monday  \n",
        "  - 3 = Tuesday  \n",
        "  - 4 = Wednesday  \n",
        "  - 5 = Thursday  \n",
        "  - 6 = Friday\n",
        "\n",
        "- `q` is the day of the month  \n",
        "- `m` is the month number:\n",
        "  - March = 3, April = 4, ..., December = 12  \n",
        "  - January = 13, February = 14 **of the previous year**\n",
        "\n",
        "- `K` is the year of the century (`year % 100`)  \n",
        "- `J` is the zero-based century (`year // 100`)\n",
        "\n",
        "### Notes:\n",
        "- For January and February, **treat them as months 13 and 14 of the previous year**.\n",
        "  - Example: 5 January 2025 → `q = 5`, `m = 13`, `year = 2024`, so `K = 24`, `J = 20`"
      ],
      "metadata": {
        "id": "Z6-hCQAeAxBk"
      }
    },
    {
      "cell_type": "code",
      "source": [
        "day, month, year = input(\"Enter the date: \").split()\n",
        "q = int(day)\n",
        "year = int(year)\n",
        "if month == \"January\":\n",
        "  m = 13\n",
        "  year = year - 1\n",
        "elif month == \"February\":\n",
        "  m = 14\n",
        "  year = year - 1\n",
        "  year = int(year)\n",
        "else:\n",
        "  m = int(month)\n",
        "\n",
        "K = year % 100\n",
        "J = year // 100\n",
        "\n",
        "h = (q + (13 * (m + 1)) // 5 + K + K // 4 + J // 4 + 5 * J) % 7\n",
        "\n",
        "print(f\"The day of the week is:\", end=' ')\n",
        "\n",
        "if h == 0:\n",
        "  print(\"Saturday\")\n",
        "elif h == 1:\n",
        "  print(\"Sunday\")\n",
        "elif h == 2:\n",
        "  print(\"Monday\")\n",
        "elif h == 3:\n",
        "  print(\"Tuesday\")\n",
        "elif h == 4:\n",
        "  print(\"Wednesday\")\n",
        "elif h == 5:\n",
        "  print(\"Thursday\")\n",
        "elif h == 6:\n",
        "  print(\"Friday\")\n",
        "else:\n",
        "  print(\"Invalid input\")\n"
      ],
      "metadata": {
        "id": "DwciaxTvDHVG",
        "colab": {
          "base_uri": "https://localhost:8080/"
        },
        "outputId": "c94f53ff-6aff-455a-de5d-3f3563700123"
      },
      "execution_count": 8,
      "outputs": [
        {
          "output_type": "stream",
          "name": "stdout",
          "text": [
            "Enter the date: 24 7 2025\n",
            "The day of the week is: Thursday\n"
          ]
        }
      ]
    },
    {
      "cell_type": "markdown",
      "source": [
        "##Is weekend\n",
        "For a given date, check if it is a weekend."
      ],
      "metadata": {
        "id": "nNz1-5kuDtqx"
      }
    },
    {
      "cell_type": "code",
      "source": [
        "day, month, year = input(\"Enter the date: \").split()\n",
        "q = int(day)\n",
        "year = int(year)\n",
        "if month == \"January\":\n",
        "  m = 13\n",
        "  year = year - 1\n",
        "elif month == \"February\":\n",
        "  m = 14\n",
        "  year = year - 1\n",
        "  year = int(year)\n",
        "else:\n",
        "  m = int(month)\n",
        "\n",
        "K = year % 100\n",
        "J = year // 100\n",
        "\n",
        "h = (q + (13 * (m + 1)) // 5 + K + K // 4 + J // 4 + 5 * J) % 7\n",
        "\n",
        "is_weekend = h == 0 or h == 1\n",
        "\n",
        "if is_weekend:\n",
        "  print(\"It is a weekend\")\n",
        "else:\n",
        "  print(\"It is not a weekend\")"
      ],
      "metadata": {
        "id": "PjYUHr4UDtEy",
        "colab": {
          "base_uri": "https://localhost:8080/"
        },
        "outputId": "07833e6a-e30f-45ee-b8e6-055e4b17fe65"
      },
      "execution_count": 10,
      "outputs": [
        {
          "output_type": "stream",
          "name": "stdout",
          "text": [
            "Enter the date: 26 7 2025\n",
            "It is a weekend\n"
          ]
        }
      ]
    },
    {
      "cell_type": "code",
      "source": [],
      "metadata": {
        "id": "bSVVmGOZG4Lf"
      },
      "execution_count": null,
      "outputs": []
    },
    {
      "cell_type": "markdown",
      "source": [
        "## Health Risk Evaluation\n",
        " How can we assess a person’s health risk using their age and BMI?\n",
        "Given:\n",
        "- Age (int)\n",
        "- BMI (float)\n",
        "\n",
        "Conditions:\n",
        "- Age > 60 and BMI > 30 → High risk\n",
        "- Age > 45 or BMI > 25 → Moderate risk\n",
        "- Otherwise → Low risk"
      ],
      "metadata": {
        "id": "vGSsFjWlG4sB"
      }
    },
    {
      "cell_type": "code",
      "source": [],
      "metadata": {
        "id": "YDcfEADBHKZN"
      },
      "execution_count": null,
      "outputs": []
    },
    {
      "cell_type": "markdown",
      "source": [
        "#Comparing Strings\n"
      ],
      "metadata": {
        "id": "xHQzIJ3II2Uh"
      }
    },
    {
      "cell_type": "markdown",
      "source": [
        "##BASIC STRING COMPARISONS\n",
        "`==`, `!=`, and simple conditional checks"
      ],
      "metadata": {
        "id": "nBmGEGxhI5vb"
      }
    },
    {
      "cell_type": "code",
      "source": [
        "name1 = 'Mark'\n",
        "name2 = 'Mark'\n",
        "name3 = 'John'\n",
        "\n",
        "print(name1 == name2) #True\n",
        "print(name1 == name3) #False\n",
        "print(name1 != name3) #True\n",
        "\n",
        "print(name1 == 'Mary') #False\n",
        "print(name1 == 'mark') #False"
      ],
      "metadata": {
        "id": "H0XgqZ-FJBuQ",
        "colab": {
          "base_uri": "https://localhost:8080/"
        },
        "outputId": "c680c531-74f7-41d5-a0f2-d503d31a8817"
      },
      "execution_count": 12,
      "outputs": [
        {
          "output_type": "stream",
          "name": "stdout",
          "text": [
            "True\n",
            "False\n",
            "True\n",
            "False\n",
            "False\n"
          ]
        }
      ]
    },
    {
      "cell_type": "markdown",
      "source": [
        "##CASE-INSENSITIVE COMPARISON\n",
        "use `.lower()`, `.upper()` methods"
      ],
      "metadata": {
        "id": "rtZF8VQmJBEZ"
      }
    },
    {
      "cell_type": "code",
      "source": [
        "print (name1.lower() == 'mark') #True\n",
        "print (name1.upper() == 'MARK') #True"
      ],
      "metadata": {
        "id": "HwbtxC2OJKzE",
        "colab": {
          "base_uri": "https://localhost:8080/"
        },
        "outputId": "e0705bad-43a2-4f09-e3f1-08c178aeb6aa"
      },
      "execution_count": 13,
      "outputs": [
        {
          "output_type": "stream",
          "name": "stdout",
          "text": [
            "True\n",
            "True\n"
          ]
        }
      ]
    },
    {
      "cell_type": "code",
      "source": [
        "print(name1, name1.lower(), name1.upper())"
      ],
      "metadata": {
        "id": "mDOxW7KJ9Wiy",
        "outputId": "00b64266-39f1-4751-e4a6-af9ea8e045e2",
        "colab": {
          "base_uri": "https://localhost:8080/"
        }
      },
      "execution_count": 14,
      "outputs": [
        {
          "output_type": "stream",
          "name": "stdout",
          "text": [
            "Mark mark MARK\n"
          ]
        }
      ]
    },
    {
      "cell_type": "markdown",
      "source": [
        "##STRING ORDERING & SORTING\n",
        "- <, >, <=, >=, and sorted()\n",
        "- `ord()` and `chr()` functions"
      ],
      "metadata": {
        "id": "zL2sJO1HJLNw"
      }
    },
    {
      "cell_type": "code",
      "source": [
        "print('mary' >= 'mark')"
      ],
      "metadata": {
        "id": "ix4UlKJgJyT1",
        "colab": {
          "base_uri": "https://localhost:8080/"
        },
        "outputId": "d201647e-fc5c-4db3-f09a-c598ca7bf8e6"
      },
      "execution_count": 27,
      "outputs": [
        {
          "output_type": "stream",
          "name": "stdout",
          "text": [
            "True\n"
          ]
        }
      ]
    },
    {
      "cell_type": "code",
      "source": [
        "print(ord('y'), ord('k'))"
      ],
      "metadata": {
        "id": "boQYwh_n-8Rn",
        "outputId": "d990f46c-3ed3-429e-9278-6634789f395e",
        "colab": {
          "base_uri": "https://localhost:8080/"
        }
      },
      "execution_count": 25,
      "outputs": [
        {
          "output_type": "stream",
          "name": "stdout",
          "text": [
            "121 107\n"
          ]
        }
      ]
    },
    {
      "cell_type": "code",
      "source": [
        "print(ord('m'), ord('M'))"
      ],
      "metadata": {
        "id": "1guKExc9Jwo5",
        "colab": {
          "base_uri": "https://localhost:8080/"
        },
        "outputId": "de50be8f-3c6d-413b-8c44-0a634fd215a7"
      },
      "execution_count": 22,
      "outputs": [
        {
          "output_type": "stream",
          "name": "stdout",
          "text": [
            "109 77\n"
          ]
        }
      ]
    },
    {
      "cell_type": "code",
      "source": [
        "print('m' > 'M')"
      ],
      "metadata": {
        "id": "U1aQgvvO-pjX",
        "outputId": "ee98d4b6-7f8a-4674-bc9a-395a9f6f5b79",
        "colab": {
          "base_uri": "https://localhost:8080/"
        }
      },
      "execution_count": 23,
      "outputs": [
        {
          "output_type": "stream",
          "name": "stdout",
          "text": [
            "True\n"
          ]
        }
      ]
    },
    {
      "cell_type": "code",
      "source": [
        "print(chr(109))"
      ],
      "metadata": {
        "id": "4rIdWCeo-xQq",
        "outputId": "a42422db-84b7-4e84-db4b-8d420f974156",
        "colab": {
          "base_uri": "https://localhost:8080/"
        }
      },
      "execution_count": 24,
      "outputs": [
        {
          "output_type": "stream",
          "name": "stdout",
          "text": [
            "m\n"
          ]
        }
      ]
    },
    {
      "cell_type": "code",
      "source": [
        "print(sorted('Mark'))"
      ],
      "metadata": {
        "id": "BgNTNKTx_V8K",
        "outputId": "79433b6c-b518-4f05-b920-d2c0058149a1",
        "colab": {
          "base_uri": "https://localhost:8080/"
        }
      },
      "execution_count": 28,
      "outputs": [
        {
          "output_type": "stream",
          "name": "stdout",
          "text": [
            "['M', 'a', 'k', 'r']\n"
          ]
        }
      ]
    },
    {
      "cell_type": "code",
      "source": [
        "print(sorted('Hello World'))"
      ],
      "metadata": {
        "id": "BmvW__QJ_fzd",
        "outputId": "074c01ff-e39b-4a38-a20b-bbb52996f516",
        "colab": {
          "base_uri": "https://localhost:8080/"
        }
      },
      "execution_count": 29,
      "outputs": [
        {
          "output_type": "stream",
          "name": "stdout",
          "text": [
            "[' ', 'H', 'W', 'd', 'e', 'l', 'l', 'l', 'o', 'o', 'r']\n"
          ]
        }
      ]
    },
    {
      "cell_type": "code",
      "source": [
        "print(ord('r'))"
      ],
      "metadata": {
        "id": "YwskHP9w_qWZ",
        "outputId": "c52f7170-60ae-4b72-d0c6-de2312f9025b",
        "colab": {
          "base_uri": "https://localhost:8080/"
        }
      },
      "execution_count": 31,
      "outputs": [
        {
          "output_type": "stream",
          "name": "stdout",
          "text": [
            "114\n"
          ]
        }
      ]
    },
    {
      "cell_type": "markdown",
      "source": [
        "##USING `.startswith()` AND `.endswith()`\n"
      ],
      "metadata": {
        "id": "lW7OTcY7JxHm"
      }
    },
    {
      "cell_type": "code",
      "source": [
        "filename = 'my_report.pdf'\n",
        "print(filename.endswith('.doc'))"
      ],
      "metadata": {
        "id": "q_45y1yjKvo0",
        "colab": {
          "base_uri": "https://localhost:8080/"
        },
        "outputId": "e0bd59fc-8a2b-4ea8-bd1e-dd3ac35a9ca4"
      },
      "execution_count": 33,
      "outputs": [
        {
          "output_type": "stream",
          "name": "stdout",
          "text": [
            "False\n"
          ]
        }
      ]
    },
    {
      "cell_type": "code",
      "source": [
        "print(filename.startswith('abc'))"
      ],
      "metadata": {
        "id": "yoI6Lw0kANb3",
        "outputId": "52d4a91d-1934-4ac2-8b90-85da7cd03a0f",
        "colab": {
          "base_uri": "https://localhost:8080/"
        }
      },
      "execution_count": 35,
      "outputs": [
        {
          "output_type": "stream",
          "name": "stdout",
          "text": [
            "False\n"
          ]
        }
      ]
    },
    {
      "cell_type": "markdown",
      "source": [
        "##CONTAINS: THE in OPERATOR"
      ],
      "metadata": {
        "id": "EuD2YMlZKwvK"
      }
    },
    {
      "cell_type": "code",
      "source": [
        "sentence = 'This is a sample sentence.'\n",
        "print('sample' in sentence)\n",
        "print('abc' not in sentence)"
      ],
      "metadata": {
        "id": "99i9EjnvKyvK",
        "colab": {
          "base_uri": "https://localhost:8080/"
        },
        "outputId": "4bfcd43c-078c-48e4-a837-01c0e828b843"
      },
      "execution_count": 36,
      "outputs": [
        {
          "output_type": "stream",
          "name": "stdout",
          "text": [
            "True\n",
            "True\n"
          ]
        }
      ]
    },
    {
      "cell_type": "markdown",
      "source": [
        "##STRIPPING WHITESPACE BEFORE COMPARISON\n",
        "`strip()` removes spaces, tabs, newlines"
      ],
      "metadata": {
        "id": "lHxVmmQSKzLU"
      }
    },
    {
      "cell_type": "code",
      "source": [
        "string = '     Hello World   '\n",
        "print(string.strip())"
      ],
      "metadata": {
        "id": "esMyDEa1K-CB",
        "colab": {
          "base_uri": "https://localhost:8080/"
        },
        "outputId": "8fd3ddfe-8337-4280-acc5-e66c4e54ee13"
      },
      "execution_count": 37,
      "outputs": [
        {
          "output_type": "stream",
          "name": "stdout",
          "text": [
            "Hello World\n"
          ]
        }
      ]
    },
    {
      "cell_type": "code",
      "source": [
        "print(string.lstrip())"
      ],
      "metadata": {
        "id": "aAde3gGzA4ZU",
        "outputId": "bb4c7133-7abd-4fda-85c3-6aa30d50e631",
        "colab": {
          "base_uri": "https://localhost:8080/"
        }
      },
      "execution_count": 38,
      "outputs": [
        {
          "output_type": "stream",
          "name": "stdout",
          "text": [
            "Hello World   \n"
          ]
        }
      ]
    },
    {
      "cell_type": "code",
      "source": [
        "print(string.rstrip())"
      ],
      "metadata": {
        "id": "W35mD8tnA-n6",
        "outputId": "e95fb4a5-3177-4a38-8683-498f66188bb7",
        "colab": {
          "base_uri": "https://localhost:8080/"
        }
      },
      "execution_count": 39,
      "outputs": [
        {
          "output_type": "stream",
          "name": "stdout",
          "text": [
            "     Hello World\n"
          ]
        }
      ]
    },
    {
      "cell_type": "markdown",
      "source": [
        "using `strip`, `lstrip`, `rstrip`"
      ],
      "metadata": {
        "id": "-8jfkjUSjFD0"
      }
    },
    {
      "cell_type": "code",
      "source": [
        "string2 = '-----Hello World-----'\n",
        "print(string2.strip('-'))"
      ],
      "metadata": {
        "id": "1Kcv97zsBHUc",
        "outputId": "92ea7cd0-df23-400d-9c57-35b3691ce2e1",
        "colab": {
          "base_uri": "https://localhost:8080/"
        }
      },
      "execution_count": 40,
      "outputs": [
        {
          "output_type": "stream",
          "name": "stdout",
          "text": [
            "Hello World\n"
          ]
        }
      ]
    },
    {
      "cell_type": "markdown",
      "source": [
        "#String Conditions in Decisions"
      ],
      "metadata": {
        "id": "zq_sU4iiLAYZ"
      }
    },
    {
      "cell_type": "markdown",
      "source": [
        "##BASIC STRING CHECKS IN `if` STATEMENTS\n",
        "Direct condition check (truthy/falsey)\n",
        "\n",
        "write program that recieve a command to start or stop the engine. If another command is recieved the program will return `unknown command`.\n",
        "\n",
        "**Best Practice**:\n",
        "- Normalize input before comparison -- strings are case-sensitive.\n",
        "- Clean input data -- remove extra spaces."
      ],
      "metadata": {
        "id": "KUtOOq3felum"
      }
    },
    {
      "cell_type": "code",
      "source": [
        "command = input('>>>').lower().strip()\n",
        "\n",
        "if command == 'start':\n",
        "  print('Start the engine')\n",
        "elif command == 'stop':\n",
        "  print('Stop the engine')\n",
        "else:\n",
        "  print('Unknown command')"
      ],
      "metadata": {
        "id": "hR5u9p_dfW8M",
        "colab": {
          "base_uri": "https://localhost:8080/"
        },
        "outputId": "e961664d-62f8-457d-b3ee-75f9328d7309"
      },
      "execution_count": 47,
      "outputs": [
        {
          "output_type": "stream",
          "name": "stdout",
          "text": [
            ">>>\n",
            "Unknown command\n"
          ]
        }
      ]
    },
    {
      "cell_type": "markdown",
      "source": [
        "##Check that there is input\n",
        "`if string`: → True if not empty\n",
        "\n",
        "Check if user had writtin input or not"
      ],
      "metadata": {
        "id": "UYoc1ActfXqO"
      }
    },
    {
      "cell_type": "code",
      "source": [
        "command = input('>>>').lower().strip()\n",
        "\n",
        "if command:\n",
        "  if command == 'start':\n",
        "    print('Start the engine')\n",
        "  elif command == 'stop':\n",
        "    print('Stop the engine')\n",
        "  else:\n",
        "    print('Unknown command')\n",
        "else:\n",
        "  print('No input')"
      ],
      "metadata": {
        "id": "LAJp179VfYW_",
        "colab": {
          "base_uri": "https://localhost:8080/"
        },
        "outputId": "d1667401-fb13-4381-b83c-5e264ba4bd53"
      },
      "execution_count": 51,
      "outputs": [
        {
          "output_type": "stream",
          "name": "stdout",
          "text": [
            ">>>\n",
            "No input\n"
          ]
        }
      ]
    },
    {
      "cell_type": "markdown",
      "source": [
        "##Contains: `in` for Decisions\n",
        "\n",
        "`in` and `not in` for substring detection\n",
        "\n",
        "Use in spam filters, form validation, etc.\n",
        "\n",
        "Example: Check if the user is entering a valid email. a valid email address should contain the @ symbol."
      ],
      "metadata": {
        "id": "M9w-ECvihnXz"
      }
    },
    {
      "cell_type": "code",
      "source": [
        "email = input('Enter your email: ')\n",
        "\n",
        "if '@' in email:\n",
        "  print('Valid email')\n",
        "else:\n",
        "  print('Invalid email')"
      ],
      "metadata": {
        "id": "3-I2qJNIkOoK",
        "colab": {
          "base_uri": "https://localhost:8080/"
        },
        "outputId": "11906e20-3f57-40e7-d420-f476660dadf9"
      },
      "execution_count": 53,
      "outputs": [
        {
          "output_type": "stream",
          "name": "stdout",
          "text": [
            "Enter your email: john.com\n",
            "Invalid email\n"
          ]
        }
      ]
    },
    {
      "cell_type": "markdown",
      "source": [
        "##Check File Extensions `.endswith()`\n",
        "\n",
        "write a program that decide to open a file in pdf veiwer or text editor based on file type."
      ],
      "metadata": {
        "id": "smNeZtX7kPSc"
      }
    },
    {
      "cell_type": "code",
      "source": [
        "filename = input('Enter the file name:').lower().strip()\n",
        "\n",
        "if filename.endswith('.pdf'):\n",
        "  print('Open the file with pdf viewer')\n",
        "elif filename.endswith('.txt'):\n",
        "  print('Open the file with text editor')\n",
        "else:\n",
        "  print('Not a valid file type')"
      ],
      "metadata": {
        "id": "he0UgQAwkwgO",
        "colab": {
          "base_uri": "https://localhost:8080/"
        },
        "outputId": "ecf5a251-5a38-4205-c679-533d747cbef5"
      },
      "execution_count": 55,
      "outputs": [
        {
          "output_type": "stream",
          "name": "stdout",
          "text": [
            "Enter the file name:image.jpg\n",
            "Not a valid file\n"
          ]
        }
      ]
    },
    {
      "cell_type": "markdown",
      "source": [
        "Check that the file is image or not"
      ],
      "metadata": {
        "id": "tLNeSMtVkw7z"
      }
    },
    {
      "cell_type": "code",
      "source": [
        "filename = input('Enter your file name: ').lower().strip()\n",
        "\n",
        "if filename.endswith(('.png','.jpg','.tif')):\n",
        "  print('This is an image')\n",
        "else:\n",
        "  print('This is not an image')"
      ],
      "metadata": {
        "id": "N2tFNQ-sk2kl",
        "colab": {
          "base_uri": "https://localhost:8080/"
        },
        "outputId": "316e464c-2838-4cc9-a36a-1dbe53fce054"
      },
      "execution_count": 58,
      "outputs": [
        {
          "output_type": "stream",
          "name": "stdout",
          "text": [
            "Enter your file name: report.pdf\n",
            "This is not an image\n"
          ]
        }
      ]
    },
    {
      "cell_type": "markdown",
      "source": [
        "##Check Using Admin Privileges in Linux\n",
        "\n",
        "write a program that detects if the user type `sudo` (i.e. super user do)"
      ],
      "metadata": {
        "id": "UIyK45Fdk28H"
      }
    },
    {
      "cell_type": "code",
      "source": [
        "#sudo\n",
        "command = input('>>>').lower().strip()\n",
        "\n",
        "if command.startswith('sudo'):\n",
        "  print('Super user do')\n",
        "else:\n",
        "  print('Normal user')"
      ],
      "metadata": {
        "id": "IAquCJuamBck",
        "colab": {
          "base_uri": "https://localhost:8080/"
        },
        "outputId": "a9616ff1-7982-4af8-f8bf-f5e3a08a8bd8"
      },
      "execution_count": 60,
      "outputs": [
        {
          "output_type": "stream",
          "name": "stdout",
          "text": [
            ">>>ls\n",
            "Normal user\n"
          ]
        }
      ]
    },
    {
      "cell_type": "markdown",
      "source": [
        "#Coding a String Based Decision Problem\n"
      ],
      "metadata": {
        "id": "b4ATfyVdoh_S"
      }
    },
    {
      "cell_type": "markdown",
      "source": [
        "\n",
        "##Access Control Based on Role, Time, and Request\n",
        "\n",
        "Goal:\n",
        "Write a program that determines whether a user is granted access to a secure resource based on the following input strings:\n",
        "\n",
        "Inputs:\n",
        "- `role`: the role of the user, e.g. `\"admin\"`, `\"manager\"`, `\"guest\"`\n",
        "- `access_time`: a string representing time of request, `\"day\"` or `\"night\"`\n",
        "- `request_type`: what they are trying to access, e.g. `\"settings\"`, `\"report\"`, `\"logs\"`\n",
        "- `location`: string of user’s location, `\"internal\"` or `\"external\"`\n",
        "\n",
        "Access Rules:\n",
        "- Admins can access anything, at any time, from anywhere.\n",
        "- Managers can:\n",
        " - Access `\"report\"` or `\"logs\"` during the day\n",
        " - Only if they are connecting from the internal network\n",
        "- Guests can:\n",
        " - Access only `\"report\"` during day\n",
        " - Only from the internal network\n",
        "- Any invalid role or combination should result in `\"Access Denied\"`."
      ],
      "metadata": {
        "id": "7UHPhKidmB1d"
      }
    },
    {
      "cell_type": "code",
      "source": [
        "role = input('Enter the role of the user (admin, manager, guest): ').lower().strip()\n",
        "access_time = input('Enter the access time (day/night): ').lower().strip()\n",
        "request_type = input('Enter the request type (settengs/report/logs): ').lower().strip()\n",
        "location = input('Enter your location (Internal/External): ').lower().strip()\n",
        "\n",
        "guest_access = role == 'guest' and access_time == 'day' and \\\n",
        " request_type == 'report' and location == 'internal'\n",
        "\n",
        "if role == 'admin':\n",
        "  print('Access Granted')\n",
        "elif role == 'manager' and access_time == 'day' and \\\n",
        " (request_type == 'report' or request_type == 'logs') and \\\n",
        " location == 'internal':\n",
        "  print('Access Granted')\n",
        "elif guest_access:\n",
        "  print('Access Granted')\n",
        "else:\n",
        "  print('Access Denied')\n",
        "\n",
        "\n"
      ],
      "metadata": {
        "id": "tboWykrGocVy",
        "colab": {
          "base_uri": "https://localhost:8080/"
        },
        "outputId": "b961b7d0-1a4e-4b07-f276-ec1224afeafb"
      },
      "execution_count": 62,
      "outputs": [
        {
          "output_type": "stream",
          "name": "stdout",
          "text": [
            "Enter the role of the user (admin, manager, guest): guest\n",
            "Enter the access time (day/night): day\n",
            "Enter the request type (settengs/report/logs): report\n",
            "Enter your location (Internal/External): external\n",
            "Access Denied\n"
          ]
        }
      ]
    }
  ]
}