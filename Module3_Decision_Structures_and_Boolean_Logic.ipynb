{
  "nbformat": 4,
  "nbformat_minor": 0,
  "metadata": {
    "colab": {
      "provenance": [],
      "authorship_tag": "ABX9TyMaEbjRw4anuwBGgB5l2xzy",
      "include_colab_link": true
    },
    "kernelspec": {
      "name": "python3",
      "display_name": "Python 3"
    },
    "language_info": {
      "name": "python"
    }
  },
  "cells": [
    {
      "cell_type": "markdown",
      "metadata": {
        "id": "view-in-github",
        "colab_type": "text"
      },
      "source": [
        "<a href=\"https://colab.research.google.com/github/hamdanabdellatef/python/blob/main/Module3_Decision_Structures_and_Boolean_Logic.ipynb\" target=\"_parent\"><img src=\"https://colab.research.google.com/assets/colab-badge.svg\" alt=\"Open In Colab\"/></a>"
      ]
    },
    {
      "cell_type": "markdown",
      "source": [
        "#Using `if` Statement"
      ],
      "metadata": {
        "id": "V8VCX2piAkld"
      }
    },
    {
      "cell_type": "markdown",
      "source": [
        "Python syntax:\n",
        "\n",
        "```python\n",
        "if condition:\n",
        "\tStatement\n",
        "\tStatement\n",
        "  ```\n",
        "\n",
        "First line known as the if clause\n",
        "- Includes the keyword if followed by condition\n",
        "- The condition can be true or false\n",
        "- When the if statement executes, the condition is tested, and if it is true the block statements are executed. otherwise, block statements are skipped\n"
      ],
      "metadata": {
        "id": "i1kqM1gwAjN2"
      }
    },
    {
      "cell_type": "code",
      "execution_count": null,
      "metadata": {
        "id": "S-bVI09JAbnw"
      },
      "outputs": [],
      "source": []
    }
  ]
}