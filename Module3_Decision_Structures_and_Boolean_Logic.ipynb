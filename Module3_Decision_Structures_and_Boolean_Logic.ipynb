{
  "nbformat": 4,
  "nbformat_minor": 0,
  "metadata": {
    "colab": {
      "provenance": [],
      "authorship_tag": "ABX9TyPJM4keGJJ2B0TqoDC6wcsT",
      "include_colab_link": true
    },
    "kernelspec": {
      "name": "python3",
      "display_name": "Python 3"
    },
    "language_info": {
      "name": "python"
    }
  },
  "cells": [
    {
      "cell_type": "markdown",
      "metadata": {
        "id": "view-in-github",
        "colab_type": "text"
      },
      "source": [
        "<a href=\"https://colab.research.google.com/github/hamdanabdellatef/python/blob/main/Module3_Decision_Structures_and_Boolean_Logic.ipynb\" target=\"_parent\"><img src=\"https://colab.research.google.com/assets/colab-badge.svg\" alt=\"Open In Colab\"/></a>"
      ]
    },
    {
      "cell_type": "markdown",
      "source": [
        "#Using `if` Statement"
      ],
      "metadata": {
        "id": "V8VCX2piAkld"
      }
    },
    {
      "cell_type": "markdown",
      "source": [
        "Python syntax:\n",
        "\n",
        "```python\n",
        "if condition:\n",
        "\tStatement\n",
        "\tStatement\n",
        "  ```\n",
        "\n",
        "First line known as the if clause\n",
        "- Includes the keyword if followed by condition\n",
        "- The condition can be true or false\n",
        "- When the if statement executes, the condition is tested, and if it is true the block statements are executed. otherwise, block statements are skipped\n"
      ],
      "metadata": {
        "id": "i1kqM1gwAjN2"
      }
    },
    {
      "cell_type": "code",
      "execution_count": null,
      "metadata": {
        "id": "S-bVI09JAbnw"
      },
      "outputs": [],
      "source": []
    },
    {
      "cell_type": "markdown",
      "source": [
        "#Boolean Expressions and Comparisons"
      ],
      "metadata": {
        "id": "1JnrOFpct4tM"
      }
    },
    {
      "cell_type": "markdown",
      "source": [
        "##Boolean expression\n",
        "**Boolean expression**: Evaluates to `True` or `False` (e.g., `a > b`).\n",
        "\n"
      ],
      "metadata": {
        "id": "9xNCMIlIt9cJ"
      }
    },
    {
      "cell_type": "code",
      "source": [],
      "metadata": {
        "id": "b4bTbe7SuRTO"
      },
      "execution_count": null,
      "outputs": []
    },
    {
      "cell_type": "markdown",
      "source": [
        "##Relational operator\n",
        "Relational Operators: `>`, `<`, `>=`, `<=`, `==`, `!=` are used to compare values in conditions.\n",
        "\n"
      ],
      "metadata": {
        "id": "hhB9-IyiuXO_"
      }
    },
    {
      "cell_type": "code",
      "source": [],
      "metadata": {
        "id": "7YSIZLCEvGpw"
      },
      "execution_count": null,
      "outputs": []
    },
    {
      "cell_type": "markdown",
      "source": [
        "##Using Rational Operators for conditions\n",
        "Write a program that simulates a bank account withdrawal. When the user attempts to withdraw money, the program should check if the withdrawal amount is less than or equal to the current balance (stored in a predefined variable).\n",
        "\n",
        "- If the balance is sufficient, subtract the amount from the balance and display the new balance.\n",
        "\n",
        "- If the balance is insufficient, display a message saying \"Insufficient funds.\""
      ],
      "metadata": {
        "id": "W42jkiSfvz0S"
      }
    },
    {
      "cell_type": "markdown",
      "source": [
        "##Nested blocks\n",
        "Blocks can be nested (e.g., if inside a function), and must be indented properly.\n",
        "Example:\n",
        "```python\n",
        "if condition_1: #Outer block\n",
        "  statement(s)\n",
        "  if condition_2: #inner block\n",
        "    statements(s)\n",
        "  statement(s)\n",
        "```"
      ],
      "metadata": {
        "id": "4sa6j06gwy-B"
      }
    },
    {
      "cell_type": "markdown",
      "source": [
        "Now redo the previous example but first, check if the account is not on hold.\n",
        "\n",
        "If the account is on hold, display a message: `\"Account is currently on hold. Withdrawal not allowed.\"`"
      ],
      "metadata": {
        "id": "gGwmQhNRxmN9"
      }
    },
    {
      "cell_type": "code",
      "source": [],
      "metadata": {
        "id": "nYozxFUGxc0m"
      },
      "execution_count": null,
      "outputs": []
    },
    {
      "cell_type": "markdown",
      "source": [],
      "metadata": {
        "id": "g09mXwYexdVv"
      }
    }
  ]
}