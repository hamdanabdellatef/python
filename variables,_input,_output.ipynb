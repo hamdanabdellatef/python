{
  "nbformat": 4,
  "nbformat_minor": 0,
  "metadata": {
    "colab": {
      "provenance": [],
      "collapsed_sections": [
        "n8dvkS40_6Kz",
        "YtNv7A0w904w",
        "uNvVkgSU-8Xq",
        "ATV9P7EiDOD3",
        "kIt-oUCZDSTM",
        "uHY877-jHmKV",
        "kTjPz9cxMKP2"
      ],
      "authorship_tag": "ABX9TyMBsnYwu5diyC0ZSmXjlA1z",
      "include_colab_link": true
    },
    "kernelspec": {
      "name": "python3",
      "display_name": "Python 3"
    },
    "language_info": {
      "name": "python"
    }
  },
  "cells": [
    {
      "cell_type": "markdown",
      "metadata": {
        "id": "view-in-github",
        "colab_type": "text"
      },
      "source": [
        "<a href=\"https://colab.research.google.com/github/hamdanabdellatef/python/blob/main/variables%2C_input%2C_output.ipynb\" target=\"_parent\"><img src=\"https://colab.research.google.com/assets/colab-badge.svg\" alt=\"Open In Colab\"/></a>"
      ]
    },
    {
      "cell_type": "markdown",
      "source": [
        "#Using the print function, Comments, and Basic Strings"
      ],
      "metadata": {
        "id": "n8dvkS40_6Kz"
      }
    },
    {
      "cell_type": "markdown",
      "source": [
        "##Displaying Output with the `print` Function\n",
        "\n",
        "**Function**: piece of prewritten code that performs an operation\n",
        "\n",
        "**`print` function**: displays output on the screen\n",
        "\n",
        "**Argument**: data given to a function\n",
        "- Example: data that is printed to screen\n",
        "\n",
        "Statements in a program **execute in the order** that they appear\n",
        "-From top to bottom\n"
      ],
      "metadata": {
        "id": "YtNv7A0w904w"
      }
    },
    {
      "cell_type": "code",
      "execution_count": null,
      "metadata": {
        "id": "AtKkt3Gk9T83"
      },
      "outputs": [],
      "source": []
    },
    {
      "cell_type": "markdown",
      "source": [
        "##Strings and String Literals\n",
        "\n",
        "**String**: sequence of characters that is used as data\n",
        "\n",
        "**String literal**: string that appears in actual code of a program\n",
        "- Must be enclosed in single (`'`) or double (`\"`) quote marks\n",
        "- String literal can be enclosed in triple quotes (`'''` or `\"\"\"`)\n",
        " - Enclosed string can contain both single and double quotes and can have multiple lines\n"
      ],
      "metadata": {
        "id": "uNvVkgSU-8Xq"
      }
    },
    {
      "cell_type": "code",
      "source": [],
      "metadata": {
        "id": "C3s78TjD_18p"
      },
      "execution_count": null,
      "outputs": []
    },
    {
      "cell_type": "markdown",
      "source": [
        "##Comments\n",
        "**Comments**: notes of explanation within a program\n",
        "- Ignored by Python interpreter\n",
        " - Intended for a person reading the program’s code\n",
        "- Begin with a `#` character\n",
        "\n",
        "**End-line comment**: appears at the end of a line of code\n",
        "- Typically explains the purpose of that line\n"
      ],
      "metadata": {
        "id": "FjJA-01NA1gK"
      }
    },
    {
      "cell_type": "code",
      "source": [],
      "metadata": {
        "id": "XYFmDn3TBbKg"
      },
      "execution_count": null,
      "outputs": []
    },
    {
      "cell_type": "markdown",
      "source": [
        "##Displaying Multiple Items with the `print` Function\n",
        "Python allows one to display multiple items with a single call to print\n",
        "- Items are separated by commas when passed as arguments\n",
        "- Arguments displayed in the order they are passed to the function\n",
        "- Items are automatically separated by a space when displayed on screen\n"
      ],
      "metadata": {
        "id": "ZTlmcVUMBbqP"
      }
    },
    {
      "cell_type": "code",
      "source": [],
      "metadata": {
        "id": "Zk2gvTDyDNhU"
      },
      "execution_count": null,
      "outputs": []
    },
    {
      "cell_type": "markdown",
      "source": [
        "#Introduction to Varaibles"
      ],
      "metadata": {
        "id": "ATV9P7EiDOD3"
      }
    },
    {
      "cell_type": "markdown",
      "source": [
        "**Variable**: name that represents a value stored in the computer memory\n",
        "- Used to access and manipulate data stored in memory\n",
        "- A variable references the value it represents"
      ],
      "metadata": {
        "id": "g71_3bIpE0rc"
      }
    },
    {
      "cell_type": "markdown",
      "source": [
        "##Variable Assignment\n",
        "**Assignment statement**: used to create a variable and make it reference data\n",
        "- General format is `variable = expression`\n",
        "- Example: `age = 29`\n",
        "\n",
        "**Assignment operator**: the equal sign (`=`)\n",
        "\n",
        "In assignment statement, *variable receiving value must be on left side*."
      ],
      "metadata": {
        "id": "kIt-oUCZDSTM"
      }
    },
    {
      "cell_type": "code",
      "source": [],
      "metadata": {
        "id": "aOv2VwPnFLJJ"
      },
      "execution_count": null,
      "outputs": []
    },
    {
      "cell_type": "markdown",
      "source": [
        "##Passing Variables to functions\n",
        "- A variable can be passed as an argument to a function\n",
        "- Variable name should not be enclosed in quote marks\n",
        "- You can only use a variable if a value is assigned to it\n",
        "\n",
        "\n"
      ],
      "metadata": {
        "id": "rjLumQPoFWyA"
      }
    },
    {
      "cell_type": "code",
      "source": [],
      "metadata": {
        "id": "YMDtpgfSFv9i"
      },
      "execution_count": null,
      "outputs": []
    },
    {
      "cell_type": "markdown",
      "source": [
        "##Variable Naming Rules\n",
        "Rules for naming variables in Python:\n",
        "- Variable name cannot be a Python key word\n",
        "- Variable name cannot contain spaces\n",
        "- First character must be a letter or an underscore\n",
        "- After first character may use letters, digits, or underscores\n",
        "- Variable names are case sensitive\n",
        "\n",
        "Variable name should reflect its use\n"
      ],
      "metadata": {
        "id": "DdZONOyuF1TY"
      }
    },
    {
      "cell_type": "code",
      "source": [],
      "metadata": {
        "id": "aF3a_jDQGTb0"
      },
      "execution_count": null,
      "outputs": []
    },
    {
      "cell_type": "markdown",
      "source": [
        "##Variable Reassignment\n",
        "Variables can reference different values while program is running\n",
        "\n",
        "**Garbage collection**: removal of values that are no longer referenced by variables\n",
        "- Carried out by Python interpreter\n",
        "\n",
        "A variable can refer to item of any type\n",
        "- Variable that has been assigned to one type can be reassigned to another type\n"
      ],
      "metadata": {
        "id": "AnWasbQcGT70"
      }
    },
    {
      "cell_type": "code",
      "source": [],
      "metadata": {
        "id": "7LtzZztiG-BK"
      },
      "execution_count": null,
      "outputs": []
    },
    {
      "cell_type": "markdown",
      "source": [
        "#More on Variables and Data Types"
      ],
      "metadata": {
        "id": "uHY877-jHmKV"
      }
    },
    {
      "cell_type": "markdown",
      "source": [
        "## Data types\n",
        "- In python, data type is considered based on the assignment\n",
        "- use `type()` function to show the data type\n"
      ],
      "metadata": {
        "id": "Rg7TcYjiHqIK"
      }
    },
    {
      "cell_type": "code",
      "source": [],
      "metadata": {
        "id": "XI0g071eJih6"
      },
      "execution_count": null,
      "outputs": []
    },
    {
      "cell_type": "markdown",
      "source": [
        "## Operations depend on data type\n",
        "- Some operations behave differently depending on data type\n",
        "- Example `+` with `int` is different than `str`\n"
      ],
      "metadata": {
        "id": "CZp-KDNPJi7n"
      }
    },
    {
      "cell_type": "code",
      "source": [],
      "metadata": {
        "id": "tfjweFwOKGnz"
      },
      "execution_count": null,
      "outputs": []
    },
    {
      "cell_type": "markdown",
      "source": [
        "#Peforming Calculations"
      ],
      "metadata": {
        "id": "kTjPz9cxMKP2"
      }
    },
    {
      "cell_type": "markdown",
      "source": [
        "##Mathematical operators\n",
        "- Addition `+` and subtraction `-`\n",
        "- Multiplication `*`, division `/`, integer division '//'\n",
        "- Perecedence *PEMDAS*"
      ],
      "metadata": {
        "id": "Ni2SBTnDMOBk"
      }
    },
    {
      "cell_type": "code",
      "source": [],
      "metadata": {
        "id": "pbu5cVjYMxLl"
      },
      "execution_count": null,
      "outputs": []
    },
    {
      "cell_type": "markdown",
      "source": [
        "##The Exponent Operator\n",
        "**Exponent operator** (`**`): Raises a number to a power\n",
        "\n",
        "`x ** y` = $x^y$\n",
        "\n"
      ],
      "metadata": {
        "id": "NadssfuDMyrv"
      }
    },
    {
      "cell_type": "code",
      "source": [],
      "metadata": {
        "id": "OjRftx23Ne1F"
      },
      "execution_count": null,
      "outputs": []
    },
    {
      "cell_type": "markdown",
      "source": [
        "##The Remainder operator\n",
        "**Remainder operator** (`%`): Performs division and returns the remainder\n",
        "a.k.a. modulus operator\n",
        "\n",
        "e.g., `4%2`= 0, `5%2` = 1\n",
        "\n",
        "Typically used to convert times and distances, and to detect odd or even numbers"
      ],
      "metadata": {
        "id": "z3GpsjhJNMho"
      }
    },
    {
      "cell_type": "code",
      "source": [],
      "metadata": {
        "id": "YXQHhfAvNpcd"
      },
      "execution_count": null,
      "outputs": []
    },
    {
      "cell_type": "markdown",
      "source": [
        "#Converting a formula to programming statements"
      ],
      "metadata": {
        "id": "xqH6kJ0pPk9v"
      }
    },
    {
      "cell_type": "markdown",
      "source": [
        "Mathematical formula for the area of the circle:\n",
        "\n",
        "Area$=\\pi r^2$\n",
        "\n",
        "Where:\n",
        "\n",
        "$\\pi \\approx 3.1416$\n",
        "\n",
        "$r$ is the radius of the circle"
      ],
      "metadata": {
        "id": "2rGw0dLCPn_0"
      }
    },
    {
      "cell_type": "code",
      "source": [],
      "metadata": {
        "id": "Q_nWrUGPPnhj"
      },
      "execution_count": null,
      "outputs": []
    },
    {
      "cell_type": "markdown",
      "source": [
        "Mathematical Formula: Solving a Quadratic Equation\n",
        "\n",
        "For an equation:\n",
        "\n",
        "$ax^2+bx+c=0$\n",
        "\n",
        "The solutions are given by the quadratic formula:\n",
        "\n",
        "$x = \\frac{-b \\pm \\sqrt{b^2-4ac}}{2a}$\n"
      ],
      "metadata": {
        "id": "PqLrBfiZQfLV"
      }
    },
    {
      "cell_type": "code",
      "source": [],
      "metadata": {
        "id": "vXx17KckQen-"
      },
      "execution_count": null,
      "outputs": []
    },
    {
      "cell_type": "markdown",
      "source": [
        "#Formating Text and Numbers"
      ],
      "metadata": {
        "id": "zUyk3XM9iAAx"
      }
    },
    {
      "cell_type": "markdown",
      "source": [
        "##More on Output\n",
        "\n",
        "`print` function displays line of output\n",
        "- Newline character at end of printed data\n",
        "- Special argument `end='delimiter'` causes print to place delimiter at end of data instead of newline character\n"
      ],
      "metadata": {
        "id": "JSK9IHNFiDR0"
      }
    },
    {
      "cell_type": "code",
      "source": [],
      "metadata": {
        "id": "Exn_KzgniZRD"
      },
      "execution_count": null,
      "outputs": []
    },
    {
      "cell_type": "markdown",
      "source": [
        "`print` function uses space as item separator\n",
        "- Special argument `sep='delimiter'` causes print to use delimiter as item separator\n"
      ],
      "metadata": {
        "id": "_LkZvdZhiZ6x"
      }
    },
    {
      "cell_type": "code",
      "source": [],
      "metadata": {
        "id": "Zu1otT8simGU"
      },
      "execution_count": null,
      "outputs": []
    },
    {
      "cell_type": "markdown",
      "source": [
        "Special characters appearing in string literal\n",
        "- Preceded by backslash (`\\`)\n",
        "- Examples: newline (`\\n`), horizontal tab (`\\t`)\n",
        "- Treated as commands embedded in string\n"
      ],
      "metadata": {
        "id": "iqekDRW3inGY"
      }
    },
    {
      "cell_type": "code",
      "source": [],
      "metadata": {
        "id": "67HfP5uji6up"
      },
      "execution_count": null,
      "outputs": []
    },
    {
      "cell_type": "markdown",
      "source": [
        "When `+` operator used on two strings in performs string concatenation\n",
        "- Useful for breaking up a long string literal\n"
      ],
      "metadata": {
        "id": "z0Zwr_iRi7LZ"
      }
    },
    {
      "cell_type": "code",
      "source": [],
      "metadata": {
        "id": "qj3U6fWHjFhM"
      },
      "execution_count": null,
      "outputs": []
    },
    {
      "cell_type": "markdown",
      "source": [
        "##Formating Numbers\n",
        "\n",
        "Can format display of numbers on screen using built-in `format` function\n",
        "- Two arguments:\n",
        " - Numeric value to be formatted\n",
        " - Format specifier\n",
        "- Returns string containing formatted number\n",
        "- Format specifier typically includes precision and data type\n",
        " - Can be used to indicate scientific notation, comma separators, and the minimum field width used to display the value\n"
      ],
      "metadata": {
        "id": "lYA2cgibjGvM"
      }
    },
    {
      "cell_type": "code",
      "source": [],
      "metadata": {
        "id": "5SD9z9W2jkzJ"
      },
      "execution_count": null,
      "outputs": []
    },
    {
      "cell_type": "markdown",
      "source": [
        "The `%` symbol can be used in the format string of `format` function to format number as percentage\n",
        "\n",
        "To format an integer using format function:\n",
        "- Use d as the type designator\n",
        "- Do not specify precision\n",
        "- Can still use `format` function to set field width or comma separator\n"
      ],
      "metadata": {
        "id": "5l_3Fwscj2cW"
      }
    },
    {
      "cell_type": "code",
      "source": [],
      "metadata": {
        "id": "GJ1j2hxAkfc0"
      },
      "execution_count": null,
      "outputs": []
    },
    {
      "cell_type": "markdown",
      "source": [
        "#Using Constants"
      ],
      "metadata": {
        "id": "KCBvoT7okgJi"
      }
    },
    {
      "cell_type": "markdown",
      "source": [
        "Problem: Calculate the total price of an item after adding sales tax.\n",
        "- Without a Named Constant (magic number used)\n",
        "- Problem: 0.1 is a magic number — not obvious what it means."
      ],
      "metadata": {
        "id": "tothwPhIkksQ"
      }
    },
    {
      "cell_type": "code",
      "source": [
        "price = 100\n",
        "total = price + (price * 0.1)  # What is 0.1?\n",
        "print(\"Total price:\", total)"
      ],
      "metadata": {
        "id": "czvhmMtjnAp0"
      },
      "execution_count": null,
      "outputs": []
    }
  ]
}