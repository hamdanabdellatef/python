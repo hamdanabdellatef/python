{
  "nbformat": 4,
  "nbformat_minor": 0,
  "metadata": {
    "colab": {
      "provenance": [],
      "collapsed_sections": [
        "n8dvkS40_6Kz",
        "YtNv7A0w904w",
        "uNvVkgSU-8Xq",
        "ATV9P7EiDOD3",
        "kIt-oUCZDSTM",
        "uHY877-jHmKV",
        "kTjPz9cxMKP2"
      ],
      "authorship_tag": "ABX9TyOeZ16+sNG+Q6qAezIhgY/F",
      "include_colab_link": true
    },
    "kernelspec": {
      "name": "python3",
      "display_name": "Python 3"
    },
    "language_info": {
      "name": "python"
    }
  },
  "cells": [
    {
      "cell_type": "markdown",
      "metadata": {
        "id": "view-in-github",
        "colab_type": "text"
      },
      "source": [
        "<a href=\"https://colab.research.google.com/github/hamdanabdellatef/python/blob/main/variables%2C_input%2C_output.ipynb\" target=\"_parent\"><img src=\"https://colab.research.google.com/assets/colab-badge.svg\" alt=\"Open In Colab\"/></a>"
      ]
    },
    {
      "cell_type": "markdown",
      "source": [
        "# Introduction: Variables, Input, and Output in Python\n",
        "Welcome to your first hands-on notebook in Introduction to Computer Programming!\n",
        "\n",
        "In this notebook, you’ll begin exploring some of the most fundamental concepts in any programming language — and especially in Python:\n",
        "\n",
        "🟨 Variables — how we store and work with data\n",
        "\n",
        "🔤 Input — how to receive values from the user\n",
        "\n",
        "🖨️ Output — how to display results on the screen\n",
        "\n",
        "These building blocks will allow you to create interactive, meaningful programs — from simple calculations to real-world applications.\n",
        "\n",
        "🎯 What You'll Learn:\n",
        "How to define and use variables\n",
        "\n",
        "- How to collect user input using the input() function\n",
        "- How to display output using the print() function\n",
        "- How to process data, perform basic math and combine everything into small programs\n",
        "\n",
        "\n",
        "By the end of this notebook, you'll be able to write Python programs that:\n",
        "- Respond to the user\n",
        "- Process numeric or text input\n",
        "- Display formatted results\n",
        "\n",
        "Let’s dive in and begin your journey into programming!"
      ],
      "metadata": {
        "id": "gJXe5wXl4sfS"
      }
    },
    {
      "cell_type": "markdown",
      "source": [
        "#Using the print function, Comments, and Basic Strings"
      ],
      "metadata": {
        "id": "n8dvkS40_6Kz"
      }
    },
    {
      "cell_type": "markdown",
      "source": [
        "##Displaying Output with the `print` Function\n",
        "\n",
        "**Function**: piece of prewritten code that performs an operation\n",
        "\n",
        "**`print` function**: displays output on the screen\n",
        "\n",
        "**Argument**: data given to a function\n",
        "- Example: data that is printed to screen\n",
        "\n",
        "Statements in a program **execute in the order** that they appear\n",
        "-From top to bottom\n"
      ],
      "metadata": {
        "id": "YtNv7A0w904w"
      }
    },
    {
      "cell_type": "code",
      "execution_count": null,
      "metadata": {
        "id": "AtKkt3Gk9T83",
        "outputId": "63c076cd-886b-4e1e-8fc1-ab18cb7375fb",
        "colab": {
          "base_uri": "https://localhost:8080/"
        }
      },
      "outputs": [
        {
          "output_type": "stream",
          "name": "stdout",
          "text": [
            "Hello World!\n"
          ]
        }
      ],
      "source": [
        "print(\"Hello World!\")"
      ]
    },
    {
      "cell_type": "code",
      "source": [
        "print(\"This is the first line of code\")\n",
        "print(\"This is the second line of code\")\n",
        "print(\"This is the third line of code\")"
      ],
      "metadata": {
        "id": "b8JjvC0BrQL9",
        "outputId": "efd39aeb-dd96-4ef4-8bc9-eea37c54f85b",
        "colab": {
          "base_uri": "https://localhost:8080/"
        }
      },
      "execution_count": null,
      "outputs": [
        {
          "output_type": "stream",
          "name": "stdout",
          "text": [
            "This is the first line of code\n",
            "This is the second line of code\n",
            "This is the third line of code\n"
          ]
        }
      ]
    },
    {
      "cell_type": "markdown",
      "source": [
        "##Strings and String Literals\n",
        "\n",
        "**String**: sequence of characters that is used as data\n",
        "\n",
        "**String literal**: string that appears in actual code of a program\n",
        "- Must be enclosed in single (`'`) or double (`\"`) quote marks\n",
        "- String literal can be enclosed in triple quotes (`'''` or `\"\"\"`)\n",
        " - Enclosed string can contain both single and double quotes and can have multiple lines\n"
      ],
      "metadata": {
        "id": "uNvVkgSU-8Xq"
      }
    },
    {
      "cell_type": "code",
      "source": [
        "print('This is a string literal')\n",
        "print(\"This is a string literal\")\n",
        "print('''This is a string literal''')\n",
        "print(\"\"\"This is a string literal\"\"\")"
      ],
      "metadata": {
        "id": "C3s78TjD_18p",
        "outputId": "0624b7da-e10c-4a55-bc35-da2797ea7bc9",
        "colab": {
          "base_uri": "https://localhost:8080/"
        }
      },
      "execution_count": null,
      "outputs": [
        {
          "output_type": "stream",
          "name": "stdout",
          "text": [
            "This is a string literal\n",
            "This is a string literal\n",
            "This is a string literal\n",
            "This is a string literal\n"
          ]
        }
      ]
    },
    {
      "cell_type": "code",
      "source": [
        "print('''This is a string literal\n",
        "that spans multiple lines''')"
      ],
      "metadata": {
        "id": "4rU7o0PLr-sQ",
        "outputId": "c14e3733-c4e6-4b00-fefb-fcb25eb83a45",
        "colab": {
          "base_uri": "https://localhost:8080/"
        }
      },
      "execution_count": null,
      "outputs": [
        {
          "output_type": "stream",
          "name": "stdout",
          "text": [
            "This is a string literal\n",
            "that spans multiple lines\n"
          ]
        }
      ]
    },
    {
      "cell_type": "markdown",
      "source": [
        "##Comments\n",
        "**Comments**: notes of explanation within a program\n",
        "- Ignored by Python interpreter\n",
        " - Intended for a person reading the program’s code\n",
        "- Begin with a `#` character\n",
        "\n",
        "**End-line comment**: appears at the end of a line of code\n",
        "- Typically explains the purpose of that line\n"
      ],
      "metadata": {
        "id": "FjJA-01NA1gK"
      }
    },
    {
      "cell_type": "code",
      "source": [
        "print(\"Hello world\")\n",
        "#This is a comment\n",
        "\n",
        "print(\"This line is not a comment\")\n"
      ],
      "metadata": {
        "id": "XYFmDn3TBbKg",
        "outputId": "11460f55-9762-439e-ac58-f78243a05da7",
        "colab": {
          "base_uri": "https://localhost:8080/"
        }
      },
      "execution_count": null,
      "outputs": [
        {
          "output_type": "stream",
          "name": "stdout",
          "text": [
            "Hello world\n",
            "This line is not a comment\n"
          ]
        }
      ]
    },
    {
      "cell_type": "code",
      "source": [
        "#the print function prints data to screed\n",
        "#The syntax is print(data)\n",
        "print(\"Hello World\")"
      ],
      "metadata": {
        "id": "HlgQgsJmssyi",
        "outputId": "47717875-19a1-40f8-cdb1-b41271514b01",
        "colab": {
          "base_uri": "https://localhost:8080/"
        }
      },
      "execution_count": null,
      "outputs": [
        {
          "output_type": "stream",
          "name": "stdout",
          "text": [
            "Hello World\n"
          ]
        }
      ]
    },
    {
      "cell_type": "code",
      "source": [
        "print(\"Hello World\") #This is a comment"
      ],
      "metadata": {
        "id": "HdDmtODcs7dK",
        "outputId": "6abfc7b0-a9bd-4137-9d7c-a979f0cf2a47",
        "colab": {
          "base_uri": "https://localhost:8080/"
        }
      },
      "execution_count": null,
      "outputs": [
        {
          "output_type": "stream",
          "name": "stdout",
          "text": [
            "Hello World\n"
          ]
        }
      ]
    },
    {
      "cell_type": "code",
      "source": [
        "#this is comment print(\"hello world\")"
      ],
      "metadata": {
        "id": "appIgXxttBO8"
      },
      "execution_count": null,
      "outputs": []
    },
    {
      "cell_type": "markdown",
      "source": [
        "##Displaying Multiple Items with the `print` Function\n",
        "Python allows one to display multiple items with a single call to print\n",
        "- Items are separated by commas when passed as arguments\n",
        "- Arguments displayed in the order they are passed to the function\n",
        "- Items are automatically separated by a space when displayed on screen\n"
      ],
      "metadata": {
        "id": "ZTlmcVUMBbqP"
      }
    },
    {
      "cell_type": "code",
      "source": [
        "print(\"Hello\", \"World\", '!!')"
      ],
      "metadata": {
        "id": "Zk2gvTDyDNhU",
        "outputId": "4d241bcc-cc74-413e-cdb7-e188895d0fe4",
        "colab": {
          "base_uri": "https://localhost:8080/"
        }
      },
      "execution_count": null,
      "outputs": [
        {
          "output_type": "stream",
          "name": "stdout",
          "text": [
            "Hello World !!\n"
          ]
        }
      ]
    },
    {
      "cell_type": "code",
      "source": [
        "x = 10\n",
        "y = 20\n",
        "\n",
        "z = x + y\n",
        "\n",
        "print(x, \"+\", y, \"=\", z)\n",
        "# The output will be 10 + 20 = 30"
      ],
      "metadata": {
        "id": "SR3Pk46ItvMK",
        "outputId": "fe732cb2-0565-411f-ad59-27e61b688f1f",
        "colab": {
          "base_uri": "https://localhost:8080/"
        }
      },
      "execution_count": null,
      "outputs": [
        {
          "output_type": "stream",
          "name": "stdout",
          "text": [
            "10 + 20 = 30\n"
          ]
        }
      ]
    },
    {
      "cell_type": "code",
      "source": [
        "print('x','+','y','=',z)\n",
        "#x + y = 30"
      ],
      "metadata": {
        "id": "TmuGwxlXugGf",
        "outputId": "3a31a602-8665-4a5f-bf34-148bd1dc73eb",
        "colab": {
          "base_uri": "https://localhost:8080/"
        }
      },
      "execution_count": null,
      "outputs": [
        {
          "output_type": "stream",
          "name": "stdout",
          "text": [
            "x + y = 30\n"
          ]
        }
      ]
    },
    {
      "cell_type": "markdown",
      "source": [
        "#Introduction to Varaibles"
      ],
      "metadata": {
        "id": "ATV9P7EiDOD3"
      }
    },
    {
      "cell_type": "markdown",
      "source": [
        "**Variable**: name that represents a value stored in the computer memory\n",
        "- Used to access and manipulate data stored in memory\n",
        "- A variable references the value it represents"
      ],
      "metadata": {
        "id": "g71_3bIpE0rc"
      }
    },
    {
      "cell_type": "markdown",
      "source": [
        "##Variable Assignment\n",
        "**Assignment statement**: used to create a variable and make it reference data\n",
        "- General format is `variable = expression`\n",
        "- Example: `age = 29`\n",
        "\n",
        "**Assignment operator**: the equal sign (`=`)\n",
        "\n",
        "In assignment statement, *variable receiving value must be on left side*."
      ],
      "metadata": {
        "id": "kIt-oUCZDSTM"
      }
    },
    {
      "cell_type": "code",
      "source": [
        "a = 5\n",
        "age = 29\n",
        "text = 'Hello World'"
      ],
      "metadata": {
        "id": "aOv2VwPnFLJJ"
      },
      "execution_count": null,
      "outputs": []
    },
    {
      "cell_type": "code",
      "source": [
        "print(a,age,text)"
      ],
      "metadata": {
        "id": "6p37oT9vxxtY",
        "outputId": "7909b3c8-e444-493d-e01f-a4076d88adf1",
        "colab": {
          "base_uri": "https://localhost:8080/"
        }
      },
      "execution_count": null,
      "outputs": [
        {
          "output_type": "stream",
          "name": "stdout",
          "text": [
            "5 29 Hello World\n"
          ]
        }
      ]
    },
    {
      "cell_type": "code",
      "source": [
        "b = a\n",
        "print(b)"
      ],
      "metadata": {
        "id": "zJ2qq4Wpx53W",
        "outputId": "7a444418-f157-4351-d4d6-769cce10c716",
        "colab": {
          "base_uri": "https://localhost:8080/"
        }
      },
      "execution_count": null,
      "outputs": [
        {
          "output_type": "stream",
          "name": "stdout",
          "text": [
            "5\n"
          ]
        }
      ]
    },
    {
      "cell_type": "code",
      "source": [
        "c = 10\n",
        "b = c\n",
        "print(b)"
      ],
      "metadata": {
        "id": "vYjM67c2yE_F",
        "outputId": "bac55682-2e74-4aa8-c3fd-a8241234457a",
        "colab": {
          "base_uri": "https://localhost:8080/"
        }
      },
      "execution_count": null,
      "outputs": [
        {
          "output_type": "stream",
          "name": "stdout",
          "text": [
            "10\n"
          ]
        }
      ]
    },
    {
      "cell_type": "markdown",
      "source": [
        "##Passing Variables to functions\n",
        "- A variable can be passed as an argument to a function\n",
        "- Variable name should not be enclosed in quote marks\n",
        "- You can only use a variable if a value is assigned to it\n",
        "\n",
        "\n"
      ],
      "metadata": {
        "id": "rjLumQPoFWyA"
      }
    },
    {
      "cell_type": "code",
      "source": [
        "print(age)"
      ],
      "metadata": {
        "id": "YMDtpgfSFv9i",
        "outputId": "232f83f6-8536-4cc9-cfc5-5ecff3112451",
        "colab": {
          "base_uri": "https://localhost:8080/"
        }
      },
      "execution_count": null,
      "outputs": [
        {
          "output_type": "stream",
          "name": "stdout",
          "text": [
            "29\n"
          ]
        }
      ]
    },
    {
      "cell_type": "code",
      "source": [
        "print('my age is', age)"
      ],
      "metadata": {
        "id": "OOA-6-ctykQo",
        "outputId": "86688822-d52c-4fcb-e92a-8d7ca60d09dc",
        "colab": {
          "base_uri": "https://localhost:8080/"
        }
      },
      "execution_count": null,
      "outputs": [
        {
          "output_type": "stream",
          "name": "stdout",
          "text": [
            "my age is 29\n"
          ]
        }
      ]
    },
    {
      "cell_type": "code",
      "source": [
        "print('age')"
      ],
      "metadata": {
        "id": "ww1DcB_nyucW",
        "outputId": "1cfd62dc-87ee-4af1-c684-c9de0839bead",
        "colab": {
          "base_uri": "https://localhost:8080/"
        }
      },
      "execution_count": null,
      "outputs": [
        {
          "output_type": "stream",
          "name": "stdout",
          "text": [
            "age\n"
          ]
        }
      ]
    },
    {
      "cell_type": "markdown",
      "source": [
        "##Variable Naming Rules\n",
        "Rules for naming variables in Python:\n",
        "- Variable name cannot be a Python key word\n",
        "- Variable name cannot contain spaces\n",
        "- First character must be a letter or an underscore\n",
        "- After first character may use letters, digits, or underscores\n",
        "- Variable names are case sensitive\n",
        "\n",
        "Variable name should reflect its use\n"
      ],
      "metadata": {
        "id": "DdZONOyuF1TY"
      }
    },
    {
      "cell_type": "code",
      "source": [
        "if = 4"
      ],
      "metadata": {
        "id": "aF3a_jDQGTb0",
        "outputId": "7f23a0d7-865a-4393-899c-b0e387b1dff1",
        "colab": {
          "base_uri": "https://localhost:8080/",
          "height": 106
        }
      },
      "execution_count": null,
      "outputs": [
        {
          "output_type": "error",
          "ename": "SyntaxError",
          "evalue": "invalid syntax (ipython-input-22-1720054281.py, line 1)",
          "traceback": [
            "\u001b[0;36m  File \u001b[0;32m\"/tmp/ipython-input-22-1720054281.py\"\u001b[0;36m, line \u001b[0;32m1\u001b[0m\n\u001b[0;31m    if = 4\u001b[0m\n\u001b[0m       ^\u001b[0m\n\u001b[0;31mSyntaxError\u001b[0m\u001b[0;31m:\u001b[0m invalid syntax\n"
          ]
        }
      ]
    },
    {
      "cell_type": "code",
      "source": [
        "new_sentence = 'This is the sentence'"
      ],
      "metadata": {
        "id": "xlORi5UtzMP9"
      },
      "execution_count": null,
      "outputs": []
    },
    {
      "cell_type": "code",
      "source": [
        "x1 = 1\n",
        "x2 = 2"
      ],
      "metadata": {
        "id": "u7VR4bECze_P"
      },
      "execution_count": null,
      "outputs": []
    },
    {
      "cell_type": "code",
      "source": [
        "_variable = 10\n",
        "print(_variable)"
      ],
      "metadata": {
        "id": "JuMBjkJtzl_e",
        "outputId": "2ec15625-7d35-41df-cc96-e611ba02f504",
        "colab": {
          "base_uri": "https://localhost:8080/"
        }
      },
      "execution_count": null,
      "outputs": [
        {
          "output_type": "stream",
          "name": "stdout",
          "text": [
            "10\n"
          ]
        }
      ]
    },
    {
      "cell_type": "code",
      "source": [
        "print(a)"
      ],
      "metadata": {
        "id": "y83P-K5wz4Xv",
        "outputId": "b4f6f50d-da24-45c7-9ff0-d7d2ba0ed7b3",
        "colab": {
          "base_uri": "https://localhost:8080/"
        }
      },
      "execution_count": null,
      "outputs": [
        {
          "output_type": "stream",
          "name": "stdout",
          "text": [
            "5\n"
          ]
        }
      ]
    },
    {
      "cell_type": "code",
      "source": [
        "#A is not the same as a\n",
        "A = 10\n",
        "a = 20\n",
        "print(A)\n",
        "print(a)"
      ],
      "metadata": {
        "id": "Z_gNq69Hz7Jn",
        "outputId": "b05b24ea-d93d-4bb6-c654-22eda2f6390b",
        "colab": {
          "base_uri": "https://localhost:8080/"
        }
      },
      "execution_count": null,
      "outputs": [
        {
          "output_type": "stream",
          "name": "stdout",
          "text": [
            "10\n",
            "20\n"
          ]
        }
      ]
    },
    {
      "cell_type": "code",
      "source": [
        "Employee_name = 'John Smith'\n",
        "print(Employee_name)"
      ],
      "metadata": {
        "id": "isgaz77w0GLi",
        "outputId": "8ad0bfad-4738-490d-b5d2-a434e010fcff",
        "colab": {
          "base_uri": "https://localhost:8080/"
        }
      },
      "execution_count": null,
      "outputs": [
        {
          "output_type": "stream",
          "name": "stdout",
          "text": [
            "John Smith\n"
          ]
        }
      ]
    },
    {
      "cell_type": "markdown",
      "source": [
        "##Variable Reassignment\n",
        "Variables can reference different values while program is running\n",
        "\n",
        "**Garbage collection**: removal of values that are no longer referenced by variables\n",
        "- Carried out by Python interpreter\n",
        "\n",
        "A variable can refer to item of any type\n",
        "- Variable that has been assigned to one type can be reassigned to another type\n"
      ],
      "metadata": {
        "id": "AnWasbQcGT70"
      }
    },
    {
      "cell_type": "code",
      "source": [
        "x = 10\n",
        "print(x)\n",
        "x = 15\n",
        "print(x)\n",
        "x = 'This is a text'\n",
        "print(x)"
      ],
      "metadata": {
        "id": "7LtzZztiG-BK",
        "outputId": "abbaa991-60f4-408f-c384-41ae657eb069",
        "colab": {
          "base_uri": "https://localhost:8080/"
        }
      },
      "execution_count": null,
      "outputs": [
        {
          "output_type": "stream",
          "name": "stdout",
          "text": [
            "10\n",
            "15\n",
            "This is a text\n"
          ]
        }
      ]
    },
    {
      "cell_type": "markdown",
      "source": [
        "#More on Variables and Data Types"
      ],
      "metadata": {
        "id": "uHY877-jHmKV"
      }
    },
    {
      "cell_type": "markdown",
      "source": [
        "## Data types\n",
        "- In python, data type is considered based on the assignment\n",
        "- use `type()` function to show the data type\n"
      ],
      "metadata": {
        "id": "Rg7TcYjiHqIK"
      }
    },
    {
      "cell_type": "code",
      "source": [
        "x = 10\n",
        "print(type(x))"
      ],
      "metadata": {
        "id": "XI0g071eJih6",
        "colab": {
          "base_uri": "https://localhost:8080/"
        },
        "outputId": "c254c6b9-97df-408c-a23f-cf346dbe9bf5"
      },
      "execution_count": 33,
      "outputs": [
        {
          "output_type": "stream",
          "name": "stdout",
          "text": [
            "<class 'int'>\n"
          ]
        }
      ]
    },
    {
      "cell_type": "code",
      "source": [
        "x = 10.5\n",
        "print(type(x))"
      ],
      "metadata": {
        "colab": {
          "base_uri": "https://localhost:8080/"
        },
        "id": "Z1BR5VPr87Zg",
        "outputId": "859ef897-cba5-44cb-d445-d5627f73850a"
      },
      "execution_count": 34,
      "outputs": [
        {
          "output_type": "stream",
          "name": "stdout",
          "text": [
            "<class 'float'>\n"
          ]
        }
      ]
    },
    {
      "cell_type": "code",
      "source": [
        "x = 'Hello World'\n",
        "print(type(x))"
      ],
      "metadata": {
        "colab": {
          "base_uri": "https://localhost:8080/"
        },
        "id": "kNZdrt8x9EQU",
        "outputId": "6a1aebbc-bb43-42c0-e148-9db1ef5e4fa0"
      },
      "execution_count": 35,
      "outputs": [
        {
          "output_type": "stream",
          "name": "stdout",
          "text": [
            "<class 'str'>\n"
          ]
        }
      ]
    },
    {
      "cell_type": "code",
      "source": [
        "x = 10.5\n",
        "y = 15\n",
        "print(type(x),type(y),x+y,type(x+y))"
      ],
      "metadata": {
        "colab": {
          "base_uri": "https://localhost:8080/"
        },
        "id": "5U7bidBK9vMe",
        "outputId": "caba53cd-7e67-4fdb-9d8c-5cc5fd01e38c"
      },
      "execution_count": 36,
      "outputs": [
        {
          "output_type": "stream",
          "name": "stdout",
          "text": [
            "<class 'float'> <class 'int'> 25.5 <class 'float'>\n"
          ]
        }
      ]
    },
    {
      "cell_type": "markdown",
      "source": [
        "## Operations depend on data type\n",
        "- Some operations behave differently depending on data type\n",
        "- Example `+` with `int` is different than `str`\n"
      ],
      "metadata": {
        "id": "CZp-KDNPJi7n"
      }
    },
    {
      "cell_type": "code",
      "source": [
        "x = 'Hello'\n",
        "y = 'World'\n",
        "print(x+' '+y)"
      ],
      "metadata": {
        "id": "tfjweFwOKGnz",
        "colab": {
          "base_uri": "https://localhost:8080/"
        },
        "outputId": "9be6e29f-5a54-461c-ae6b-e8fb10dabb85"
      },
      "execution_count": 38,
      "outputs": [
        {
          "output_type": "stream",
          "name": "stdout",
          "text": [
            "Hello World\n"
          ]
        }
      ]
    },
    {
      "cell_type": "code",
      "source": [
        "text = 'my are is'\n",
        "age = 29\n",
        "print(text,age)"
      ],
      "metadata": {
        "colab": {
          "base_uri": "https://localhost:8080/"
        },
        "id": "74xY0bL8_AXE",
        "outputId": "48e3c89e-a18c-4460-f6d0-3c9658f8f0cd"
      },
      "execution_count": 40,
      "outputs": [
        {
          "output_type": "stream",
          "name": "stdout",
          "text": [
            "my are is 29\n"
          ]
        }
      ]
    },
    {
      "cell_type": "code",
      "source": [
        "text = 'Hello'\n",
        "repeat = 5\n",
        "print(text*repeat)"
      ],
      "metadata": {
        "colab": {
          "base_uri": "https://localhost:8080/"
        },
        "id": "vU9okuaH_tRa",
        "outputId": "e6c1ac98-1afb-4c6e-dbca-34a7fc7d39c3"
      },
      "execution_count": 41,
      "outputs": [
        {
          "output_type": "stream",
          "name": "stdout",
          "text": [
            "HelloHelloHelloHelloHello\n"
          ]
        }
      ]
    },
    {
      "cell_type": "markdown",
      "source": [
        "#Peforming Calculations"
      ],
      "metadata": {
        "id": "kTjPz9cxMKP2"
      }
    },
    {
      "cell_type": "markdown",
      "source": [
        "##Mathematical operators\n",
        "- Addition `+` and subtraction `-`\n",
        "- Multiplication `*`, division `/`, integer division '//'\n",
        "- Perecedence *PEMDAS*"
      ],
      "metadata": {
        "id": "Ni2SBTnDMOBk"
      }
    },
    {
      "cell_type": "code",
      "source": [
        "x = 2\n",
        "y = 3\n",
        "print(x+y)\n",
        "print(x-y)\n",
        "print(x*y)\n",
        "print(x/y)\n",
        "print(x//y)"
      ],
      "metadata": {
        "id": "pbu5cVjYMxLl",
        "colab": {
          "base_uri": "https://localhost:8080/"
        },
        "outputId": "f4ccc460-2e3c-4d98-c7d2-dbed3a20a533"
      },
      "execution_count": 45,
      "outputs": [
        {
          "output_type": "stream",
          "name": "stdout",
          "text": [
            "5\n",
            "-1\n",
            "6\n",
            "0.6666666666666666\n",
            "0\n"
          ]
        }
      ]
    },
    {
      "cell_type": "code",
      "source": [
        "z = (x+y)**2 + 5 / 2\n",
        "# 5**2 + 5/2\n",
        "#25 + 5/2\n",
        "#25 + 2.5 = 27.5\n",
        "print(z)"
      ],
      "metadata": {
        "colab": {
          "base_uri": "https://localhost:8080/"
        },
        "id": "ODyXgLVXDzPs",
        "outputId": "a2c14cae-5dd0-411c-c525-27b65e3a21a5"
      },
      "execution_count": 46,
      "outputs": [
        {
          "output_type": "stream",
          "name": "stdout",
          "text": [
            "27.5\n"
          ]
        }
      ]
    },
    {
      "cell_type": "markdown",
      "source": [
        "##The Exponent Operator\n",
        "**Exponent operator** (`**`): Raises a number to a power\n",
        "\n",
        "`x ** y` = $x^y$\n",
        "\n"
      ],
      "metadata": {
        "id": "NadssfuDMyrv"
      }
    },
    {
      "cell_type": "code",
      "source": [
        "print(5**3)"
      ],
      "metadata": {
        "id": "OjRftx23Ne1F",
        "colab": {
          "base_uri": "https://localhost:8080/"
        },
        "outputId": "5a5c464b-a9a8-41b4-c775-068999edb2d2"
      },
      "execution_count": 47,
      "outputs": [
        {
          "output_type": "stream",
          "name": "stdout",
          "text": [
            "125\n"
          ]
        }
      ]
    },
    {
      "cell_type": "code",
      "source": [
        "print(16**0.5)"
      ],
      "metadata": {
        "colab": {
          "base_uri": "https://localhost:8080/"
        },
        "id": "DzjpJbTKF3xd",
        "outputId": "f8eeac64-b67b-4e44-9c6c-2c8a9b290d35"
      },
      "execution_count": 48,
      "outputs": [
        {
          "output_type": "stream",
          "name": "stdout",
          "text": [
            "4.0\n"
          ]
        }
      ]
    },
    {
      "cell_type": "code",
      "source": [
        "print(10**-1)"
      ],
      "metadata": {
        "colab": {
          "base_uri": "https://localhost:8080/"
        },
        "id": "kIVdXexkF3jR",
        "outputId": "ebd575f8-6b32-43dc-d563-ba8daa25f367"
      },
      "execution_count": 49,
      "outputs": [
        {
          "output_type": "stream",
          "name": "stdout",
          "text": [
            "0.1\n"
          ]
        }
      ]
    },
    {
      "cell_type": "markdown",
      "source": [
        "##The Remainder operator\n",
        "**Remainder operator** (`%`): Performs division and returns the remainder\n",
        "a.k.a. modulus operator\n",
        "\n",
        "e.g., `4%2`= 0, `5%2` = 1\n",
        "\n",
        "Typically used to convert times and distances, and to detect odd or even numbers"
      ],
      "metadata": {
        "id": "z3GpsjhJNMho"
      }
    },
    {
      "cell_type": "code",
      "source": [
        "x = 3\n",
        "y = 2\n",
        "print(x,'/',y,'=',x//y,'+',x%y,'/',y)\n"
      ],
      "metadata": {
        "id": "YXQHhfAvNpcd",
        "colab": {
          "base_uri": "https://localhost:8080/"
        },
        "outputId": "e8a778e0-8dea-4389-ccfc-e36894f08522"
      },
      "execution_count": 51,
      "outputs": [
        {
          "output_type": "stream",
          "name": "stdout",
          "text": [
            "3 / 2 = 1 + 1 / 2\n"
          ]
        }
      ]
    },
    {
      "cell_type": "code",
      "source": [
        "x = 37\n",
        "\n",
        "print(x%2)"
      ],
      "metadata": {
        "colab": {
          "base_uri": "https://localhost:8080/"
        },
        "id": "-f52WVDkHFq7",
        "outputId": "7e71fb59-8de2-4e0b-be30-fa150485a16a"
      },
      "execution_count": 52,
      "outputs": [
        {
          "output_type": "stream",
          "name": "stdout",
          "text": [
            "1\n"
          ]
        }
      ]
    },
    {
      "cell_type": "markdown",
      "source": [
        "#Converting a formula to programming statements"
      ],
      "metadata": {
        "id": "xqH6kJ0pPk9v"
      }
    },
    {
      "cell_type": "markdown",
      "source": [
        "Mathematical formula for the area of the circle:\n",
        "\n",
        "Area$=\\pi r^2$\n",
        "\n",
        "Where:\n",
        "\n",
        "$\\pi \\approx 3.1416$\n",
        "\n",
        "$r$ is the radius of the circle"
      ],
      "metadata": {
        "id": "2rGw0dLCPn_0"
      }
    },
    {
      "cell_type": "code",
      "source": [
        "r = 10\n",
        "area = 3.1416 * r**2\n",
        "print('The area of the circle is', area, 'meters squared')"
      ],
      "metadata": {
        "id": "Q_nWrUGPPnhj",
        "colab": {
          "base_uri": "https://localhost:8080/"
        },
        "outputId": "ac30c504-f6c2-4e89-983d-acdfd21a38c5"
      },
      "execution_count": 53,
      "outputs": [
        {
          "output_type": "stream",
          "name": "stdout",
          "text": [
            "The area of the circle is 314.15999999999997 meters squared\n"
          ]
        }
      ]
    },
    {
      "cell_type": "markdown",
      "source": [
        "Mathematical Formula: Solving a Quadratic Equation\n",
        "\n",
        "For an equation:\n",
        "\n",
        "$ax^2+bx+c=0$\n",
        "\n",
        "The solutions are given by the quadratic formula:\n",
        "\n",
        "$x = \\frac{-b \\pm \\sqrt{b^2-4ac}}{2a}$\n"
      ],
      "metadata": {
        "id": "PqLrBfiZQfLV"
      }
    },
    {
      "cell_type": "code",
      "source": [
        "# INPUT\n",
        "# some way to ask the user for the values of a b and c\n",
        "a = 2\n",
        "b = 4\n",
        "c = 1\n",
        "\n",
        "#PROCESS\n",
        "d = b**2 - 4*a*c\n",
        "\n",
        "x1 = (-b + d**0.5)/(2*a)\n",
        "x2 = (-b - d**0.5)/(2*a)\n",
        "\n",
        "#OUTPUT\n",
        "print('The solutions are', x1, 'and', x2)"
      ],
      "metadata": {
        "id": "vXx17KckQen-",
        "colab": {
          "base_uri": "https://localhost:8080/"
        },
        "outputId": "edd961dc-3179-4f45-a2d3-79fb3065b88e"
      },
      "execution_count": 55,
      "outputs": [
        {
          "output_type": "stream",
          "name": "stdout",
          "text": [
            "The solutions are -0.2928932188134524 and -1.7071067811865475\n"
          ]
        }
      ]
    },
    {
      "cell_type": "markdown",
      "source": [
        "#Formating Text and Numbers"
      ],
      "metadata": {
        "id": "zUyk3XM9iAAx"
      }
    },
    {
      "cell_type": "markdown",
      "source": [
        "##More on Output\n",
        "\n",
        "`print` function displays line of output\n",
        "- Newline character at end of printed data\n",
        "- Special argument `end='delimiter'` causes print to place delimiter at end of data instead of newline character\n"
      ],
      "metadata": {
        "id": "JSK9IHNFiDR0"
      }
    },
    {
      "cell_type": "code",
      "source": [],
      "metadata": {
        "id": "Exn_KzgniZRD"
      },
      "execution_count": null,
      "outputs": []
    },
    {
      "cell_type": "markdown",
      "source": [
        "`print` function uses space as item separator\n",
        "- Special argument `sep='delimiter'` causes print to use delimiter as item separator\n"
      ],
      "metadata": {
        "id": "_LkZvdZhiZ6x"
      }
    },
    {
      "cell_type": "code",
      "source": [],
      "metadata": {
        "id": "Zu1otT8simGU"
      },
      "execution_count": null,
      "outputs": []
    },
    {
      "cell_type": "markdown",
      "source": [
        "Special characters appearing in string literal\n",
        "- Preceded by backslash (`\\`)\n",
        "- Examples: newline (`\\n`), horizontal tab (`\\t`)\n",
        "- Treated as commands embedded in string\n"
      ],
      "metadata": {
        "id": "iqekDRW3inGY"
      }
    },
    {
      "cell_type": "code",
      "source": [],
      "metadata": {
        "id": "67HfP5uji6up"
      },
      "execution_count": null,
      "outputs": []
    },
    {
      "cell_type": "markdown",
      "source": [
        "When `+` operator used on two strings in performs string concatenation\n",
        "- Useful for breaking up a long string literal\n"
      ],
      "metadata": {
        "id": "z0Zwr_iRi7LZ"
      }
    },
    {
      "cell_type": "code",
      "source": [],
      "metadata": {
        "id": "qj3U6fWHjFhM"
      },
      "execution_count": null,
      "outputs": []
    },
    {
      "cell_type": "markdown",
      "source": [
        "##Formatting Numbers in Python: format() vs f-Strings\n",
        "\n",
        "Python lets you control how numbers appear on screen using formatting tools. Two common methods:\n"
      ],
      "metadata": {
        "id": "lYA2cgibjGvM"
      }
    },
    {
      "cell_type": "markdown",
      "source": [
        "###`format()` Function\n",
        "Takes two arguments:\n",
        "- The number to format\n",
        "- A format specifier string\n",
        " - https://docs.python.org/3/library/string.html"
      ],
      "metadata": {
        "id": "XjxrXlt7Jwnr"
      }
    },
    {
      "cell_type": "code",
      "source": [],
      "metadata": {
        "id": "5SD9z9W2jkzJ"
      },
      "execution_count": null,
      "outputs": []
    },
    {
      "cell_type": "markdown",
      "source": [
        "###f-Strings (Recommended for Python 3.6+)\n",
        "- Easier and more readable\n",
        "- Embed formatting directly inside the string"
      ],
      "metadata": {
        "id": "5l_3Fwscj2cW"
      }
    },
    {
      "cell_type": "code",
      "source": [],
      "metadata": {
        "id": "GJ1j2hxAkfc0"
      },
      "execution_count": null,
      "outputs": []
    },
    {
      "cell_type": "markdown",
      "source": [
        "#Using Constants"
      ],
      "metadata": {
        "id": "KCBvoT7okgJi"
      }
    },
    {
      "cell_type": "markdown",
      "source": [
        "Problem: Calculate the total price of an item after adding sales tax.\n",
        "- Without a Named Constant (magic number used)\n",
        "- Problem: 0.1 is a magic number — not obvious what it means."
      ],
      "metadata": {
        "id": "tothwPhIkksQ"
      }
    },
    {
      "cell_type": "code",
      "source": [
        "price = 100\n",
        "total = price + (price * 0.1)  # What is 0.1?\n",
        "print(\"Total price:\", total)"
      ],
      "metadata": {
        "id": "czvhmMtjnAp0"
      },
      "execution_count": null,
      "outputs": []
    },
    {
      "cell_type": "markdown",
      "source": [
        "#Applying Output in Different Problems"
      ],
      "metadata": {
        "id": "M5RUZ05t_SEn"
      }
    },
    {
      "cell_type": "markdown",
      "source": [
        "##Decimal Precision"
      ],
      "metadata": {
        "id": "NSItyMbiDQ7i"
      }
    },
    {
      "cell_type": "code",
      "source": [],
      "metadata": {
        "id": "PAo6RpIpER1E"
      },
      "execution_count": null,
      "outputs": []
    },
    {
      "cell_type": "markdown",
      "source": [
        "##Scientific Notation"
      ],
      "metadata": {
        "id": "1Ei0WmsrERWc"
      }
    },
    {
      "cell_type": "code",
      "source": [],
      "metadata": {
        "id": "c2f-H9A1EShy"
      },
      "execution_count": null,
      "outputs": []
    },
    {
      "cell_type": "markdown",
      "source": [
        "##`\\N{name}` — Unicode Character by Name\n",
        "- This escape sequence lets you insert a Unicode character by its official name, wrapped in \\N{...}.\n",
        "- https://unicode.org/charts/\n",
        "- Let's create simple converter euro to usd\n"
      ],
      "metadata": {
        "id": "L5c3KcmiEZh8"
      }
    },
    {
      "cell_type": "code",
      "source": [],
      "metadata": {
        "id": "wCmRCPBMEaFH"
      },
      "execution_count": null,
      "outputs": []
    },
    {
      "cell_type": "markdown",
      "source": [
        "You can create emojis"
      ],
      "metadata": {
        "id": "SR7hxNEhEXlE"
      }
    },
    {
      "cell_type": "code",
      "source": [],
      "metadata": {
        "id": "lKMv5TmmHUhA"
      },
      "execution_count": null,
      "outputs": []
    },
    {
      "cell_type": "markdown",
      "source": [
        "##`\\u` — Unicode Character by 4-Digit Hex Code\n",
        "\n",
        "- In Python, the escape sequence \\u is used to represent Unicode characters using their 4-digit hexadecimal code point.\n",
        "- https://unicode.org/charts/\n",
        "` If the code is longer than 4 digits use `\\U` (uppercase U) with 8 digits instead"
      ],
      "metadata": {
        "id": "S4_RoPkdHjkV"
      }
    },
    {
      "cell_type": "code",
      "source": [],
      "metadata": {
        "id": "ZENQYbOUHtqh"
      },
      "execution_count": null,
      "outputs": []
    },
    {
      "cell_type": "markdown",
      "source": [
        "##Alignment and Width\n",
        "- You can align numbers using format codes to print neat tables or columns."
      ],
      "metadata": {
        "id": "irzGaPtJIk17"
      }
    },
    {
      "cell_type": "code",
      "source": [],
      "metadata": {
        "id": "b-qvym0EIpMb"
      },
      "execution_count": null,
      "outputs": []
    },
    {
      "cell_type": "markdown",
      "source": [
        "##Update output on the same line\n",
        "\n",
        "- `\\r` returns the cursor to the beginning of the current line, without moving to the next line.\n",
        "- It’s often used to overwrite or update output on the same line — like showing a loading spinner or a countdown."
      ],
      "metadata": {
        "id": "z0tjlezC_UkO"
      }
    },
    {
      "cell_type": "code",
      "source": [],
      "metadata": {
        "id": "kBQAnIuCCxqe"
      },
      "execution_count": null,
      "outputs": []
    },
    {
      "cell_type": "code",
      "source": [],
      "metadata": {
        "id": "3_kJAEl6B-FE"
      },
      "execution_count": null,
      "outputs": []
    },
    {
      "cell_type": "markdown",
      "source": [
        "#Getting Input"
      ],
      "metadata": {
        "id": "bpWvCd3Vr3K7"
      }
    },
    {
      "cell_type": "markdown",
      "source": [
        "##Using the `input()` Function\n",
        "- `input()` pauses program execution\n",
        "- Returns a string\n",
        "- You can store the result in a variable"
      ],
      "metadata": {
        "id": "iFUQBJAKr7Z3"
      }
    },
    {
      "cell_type": "code",
      "source": [],
      "metadata": {
        "id": "1MfqRrkZr-IV"
      },
      "execution_count": null,
      "outputs": []
    },
    {
      "cell_type": "markdown",
      "source": [
        "##Combining Input and Output\n",
        "name with age example"
      ],
      "metadata": {
        "id": "m9zX38yvsLKq"
      }
    },
    {
      "cell_type": "code",
      "source": [],
      "metadata": {
        "id": "OxRz8IIisKyE"
      },
      "execution_count": null,
      "outputs": []
    },
    {
      "cell_type": "markdown",
      "source": [
        "##Input Cleaning and Tips\n",
        "- Use strip() to remove extra spaces\n",
        "- .lower() / .upper() to normalize input\n",
        "- Use split() for multiple value"
      ],
      "metadata": {
        "id": "6Ele35uFs3Kq"
      }
    },
    {
      "cell_type": "code",
      "source": [],
      "metadata": {
        "id": "jF20zYqVtI1c"
      },
      "execution_count": null,
      "outputs": []
    },
    {
      "cell_type": "markdown",
      "source": [
        "#Data Type Conversion"
      ],
      "metadata": {
        "id": "5ioNMpFtudfW"
      }
    },
    {
      "cell_type": "markdown",
      "source": [
        "##Converting the data type of a variable\n",
        "- `int(variable)` convert to integer\n",
        "- `float(variable)` covert to float\n",
        "- `str(variable)` convert to string"
      ],
      "metadata": {
        "id": "rmfBAB9Wug_A"
      }
    },
    {
      "cell_type": "code",
      "source": [],
      "metadata": {
        "id": "YoXH1pBkvXnl"
      },
      "execution_count": null,
      "outputs": []
    },
    {
      "cell_type": "markdown",
      "source": [
        "##Type Conversion\n",
        "All input is returned as a string, so you must convert it to use it for math.\n",
        "\n",
        "Example age next year"
      ],
      "metadata": {
        "id": "XA2cPvcYvYpM"
      }
    },
    {
      "cell_type": "code",
      "source": [],
      "metadata": {
        "id": "5StEslCfwFWL"
      },
      "execution_count": null,
      "outputs": []
    },
    {
      "cell_type": "markdown",
      "source": [
        "Example price and quantity"
      ],
      "metadata": {
        "id": "cC_6T1s2wQnP"
      }
    },
    {
      "cell_type": "code",
      "source": [],
      "metadata": {
        "id": "rcHFICZTwhYt"
      },
      "execution_count": null,
      "outputs": []
    },
    {
      "cell_type": "markdown",
      "source": [
        "##Common Mistakes\n",
        "- forgetting to do conversion\n",
        "- Invalid conversion"
      ],
      "metadata": {
        "id": "N5RsEknzwxSE"
      }
    },
    {
      "cell_type": "code",
      "source": [],
      "metadata": {
        "id": "JnKfyeoHxHVH"
      },
      "execution_count": null,
      "outputs": []
    },
    {
      "cell_type": "markdown",
      "source": [
        "##Mini problem\n",
        "\n",
        "Write a program to calculate BMI using the following equation:\n",
        "\n",
        "$\\text{BMI}=\\frac{weight}{height^2}$\n",
        "\n",
        "where weight in kg and height in m\n",
        "\n",
        "The BMI result should be with only 2 digits as fraction part"
      ],
      "metadata": {
        "id": "Hn3Nlw1Gwgk5"
      }
    },
    {
      "cell_type": "code",
      "source": [],
      "metadata": {
        "id": "xriyoBfUx8FX"
      },
      "execution_count": null,
      "outputs": []
    },
    {
      "cell_type": "markdown",
      "source": [
        "##Mini problem\n",
        "\n",
        "write a program that convert the temparture from Celcieus to Fahrenheit using the following formula\n",
        "\n",
        "$°F = (°C \\times \\frac{9}{5})+32$\n",
        "\n"
      ],
      "metadata": {
        "id": "wvfqtkXCx8vw"
      }
    },
    {
      "cell_type": "code",
      "source": [],
      "metadata": {
        "id": "pBvL8oT3ywj7"
      },
      "execution_count": null,
      "outputs": []
    },
    {
      "cell_type": "markdown",
      "source": [
        "#Simple Math application"
      ],
      "metadata": {
        "id": "jxjX6L0Az32p"
      }
    },
    {
      "cell_type": "markdown",
      "source": [
        "Ask the user to enter the following:\n",
        "- Name and Surname\n",
        "- Homework grade (25%)\n",
        "- Midterm exam grade (35%)\n",
        "- Final exam grade (40%)\n",
        "\n",
        "Calculate and display the final weighted grade rounded with two decimal digits. The output should look like this:\n",
        "\n",
        "`John Smith scored 80.75%`\n"
      ],
      "metadata": {
        "id": "0SXyMQ3m2DTI"
      }
    },
    {
      "cell_type": "code",
      "source": [],
      "metadata": {
        "id": "zV9ljaPfz3jI"
      },
      "execution_count": null,
      "outputs": []
    }
  ]
}