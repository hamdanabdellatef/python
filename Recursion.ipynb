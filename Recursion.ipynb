{
  "cells": [
    {
      "cell_type": "markdown",
      "metadata": {
        "id": "view-in-github",
        "colab_type": "text"
      },
      "source": [
        "<a href=\"https://colab.research.google.com/github/hamdanabdellatef/python/blob/main/Recursion.ipynb\" target=\"_parent\"><img src=\"https://colab.research.google.com/assets/colab-badge.svg\" alt=\"Open In Colab\"/></a>"
      ]
    },
    {
      "cell_type": "code",
      "source": [
        "def message(times):\n",
        "  if times > 0:\n",
        "    print(\"This is a recursive function, times is\",times)\n",
        "    message(times - 1)\n",
        "\n",
        "message(5)"
      ],
      "metadata": {
        "colab": {
          "base_uri": "https://localhost:8080/"
        },
        "id": "sgBWT2gtEsxb",
        "outputId": "b36f5960-d2f3-4b20-9e69-7c4c21c3ddfb"
      },
      "id": "sgBWT2gtEsxb",
      "execution_count": 10,
      "outputs": [
        {
          "output_type": "stream",
          "name": "stdout",
          "text": [
            "This is a recursive function, times is 5\n",
            "This is a recursive function, times is 4\n",
            "This is a recursive function, times is 3\n",
            "This is a recursive function, times is 2\n",
            "This is a recursive function, times is 1\n"
          ]
        }
      ]
    },
    {
      "cell_type": "code",
      "source": [
        "def factorial(n):\n",
        "    if n==0:\n",
        "        print(\"Base case reached, return 1\")\n",
        "        return 1\n",
        "    else:\n",
        "        print(\"Recursive call for\", n,\"* factorial(\",n-1,\")\")\n",
        "        return n*factorial(n-1)\n",
        "\n",
        "print(factorial(4))"
      ],
      "metadata": {
        "colab": {
          "base_uri": "https://localhost:8080/"
        },
        "id": "fv84AWBuU0By",
        "outputId": "a5aa1929-55ce-4ddd-c055-ef3a553915ac"
      },
      "id": "fv84AWBuU0By",
      "execution_count": 12,
      "outputs": [
        {
          "output_type": "stream",
          "name": "stdout",
          "text": [
            "Recursive call for 4 * factorial( 3 )\n",
            "Recursive call for 3 * factorial( 2 )\n",
            "Recursive call for 2 * factorial( 1 )\n",
            "Recursive call for 1 * factorial( 0 )\n",
            "Base case reached, return 1\n",
            "24\n"
          ]
        }
      ]
    },
    {
      "cell_type": "code",
      "source": [
        "def range_sum(num_list,start,end):\n",
        "    if start > end:\n",
        "        return 0\n",
        "    else:\n",
        "        return num_list[start]+range_sum(num_list,start+1,end)"
      ],
      "metadata": {
        "id": "X_J88LNVT_O5"
      },
      "id": "X_J88LNVT_O5",
      "execution_count": 13,
      "outputs": []
    },
    {
      "cell_type": "code",
      "source": [
        "import random\n",
        "L = [random.randint(0,10) for i in range(100)]\n",
        "\n",
        "print(L[50:56])\n",
        "print(range_sum(L,50,55))\n"
      ],
      "metadata": {
        "colab": {
          "base_uri": "https://localhost:8080/"
        },
        "id": "yWmAjoD1EssW",
        "outputId": "4bb2b260-7d85-4a3b-a28c-1aef33877554"
      },
      "id": "yWmAjoD1EssW",
      "execution_count": 14,
      "outputs": [
        {
          "output_type": "stream",
          "name": "stdout",
          "text": [
            "[4, 6, 9, 7, 3, 10]\n",
            "39\n"
          ]
        }
      ]
    },
    {
      "cell_type": "code",
      "execution_count": 15,
      "id": "5e80c956-9382-4288-99a5-b098743ee04a",
      "metadata": {
        "id": "5e80c956-9382-4288-99a5-b098743ee04a"
      },
      "outputs": [],
      "source": [
        "def Fib(n):\n",
        "    if n==0:\n",
        "        return 0\n",
        "    elif n==1:\n",
        "        return 1\n",
        "    else:\n",
        "        return Fib(n-1)+Fib(n-2)"
      ]
    },
    {
      "cell_type": "code",
      "execution_count": 20,
      "id": "b8396af9-ef14-4302-94b1-c927f5299d57",
      "metadata": {
        "colab": {
          "base_uri": "https://localhost:8080/"
        },
        "id": "b8396af9-ef14-4302-94b1-c927f5299d57",
        "outputId": "9d808a54-fe22-4e64-bea2-62dfe496f343"
      },
      "outputs": [
        {
          "output_type": "execute_result",
          "data": {
            "text/plain": [
              "55"
            ]
          },
          "metadata": {},
          "execution_count": 20
        }
      ],
      "source": [
        "Fib(10)"
      ]
    },
    {
      "cell_type": "code",
      "execution_count": null,
      "id": "1675926f-2692-4182-89b9-dcc397531c15",
      "metadata": {
        "id": "1675926f-2692-4182-89b9-dcc397531c15",
        "outputId": "a1dce475-0d52-44a6-94a2-1d7fb21f92f9"
      },
      "outputs": [
        {
          "data": {
            "text/plain": [
              "2"
            ]
          },
          "execution_count": 11,
          "metadata": {},
          "output_type": "execute_result"
        }
      ],
      "source": [
        "32%6"
      ]
    },
    {
      "cell_type": "code",
      "execution_count": 26,
      "id": "8830309f-3e36-4b30-91d8-b46735facf88",
      "metadata": {
        "id": "8830309f-3e36-4b30-91d8-b46735facf88"
      },
      "outputs": [],
      "source": [
        "def gcd(x,y):\n",
        "    if x%y==0:\n",
        "        return y\n",
        "    else:\n",
        "        return gcd(y,x%y)\n",
        "\n",
        "# 32  24\n",
        "# 24 32%24 = 8\n",
        "# return 8"
      ]
    },
    {
      "cell_type": "code",
      "execution_count": 27,
      "id": "f7cb1cdd-2c77-4a20-8316-580f47278d22",
      "metadata": {
        "colab": {
          "base_uri": "https://localhost:8080/"
        },
        "id": "f7cb1cdd-2c77-4a20-8316-580f47278d22",
        "outputId": "155e8370-9a8d-40fb-d5a1-855b0374f3fa"
      },
      "outputs": [
        {
          "output_type": "execute_result",
          "data": {
            "text/plain": [
              "24"
            ]
          },
          "metadata": {},
          "execution_count": 27
        }
      ],
      "source": [
        "gcd(24,32)"
      ]
    },
    {
      "cell_type": "code",
      "execution_count": null,
      "id": "848fd109-b199-4293-af82-d22c5d8561e7",
      "metadata": {
        "id": "848fd109-b199-4293-af82-d22c5d8561e7"
      },
      "outputs": [],
      "source": []
    }
  ],
  "metadata": {
    "kernelspec": {
      "display_name": "Python 3 (ipykernel)",
      "language": "python",
      "name": "python3"
    },
    "language_info": {
      "codemirror_mode": {
        "name": "ipython",
        "version": 3
      },
      "file_extension": ".py",
      "mimetype": "text/x-python",
      "name": "python",
      "nbconvert_exporter": "python",
      "pygments_lexer": "ipython3",
      "version": "3.11.5"
    },
    "colab": {
      "provenance": [],
      "include_colab_link": true
    }
  },
  "nbformat": 4,
  "nbformat_minor": 5
}