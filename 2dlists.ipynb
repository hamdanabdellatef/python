{
  "cells": [
    {
      "cell_type": "markdown",
      "metadata": {
        "id": "view-in-github",
        "colab_type": "text"
      },
      "source": [
        "<a href=\"https://colab.research.google.com/github/hamdanabdellatef/python/blob/main/2dlists.ipynb\" target=\"_parent\"><img src=\"https://colab.research.google.com/assets/colab-badge.svg\" alt=\"Open In Colab\"/></a>"
      ]
    },
    {
      "cell_type": "markdown",
      "source": [
        "scores is the grades of exam 0, 1,2 for 4 students student 0 to 3"
      ],
      "metadata": {
        "id": "y1g7s1DAc6sB"
      },
      "id": "y1g7s1DAc6sB"
    },
    {
      "cell_type": "code",
      "execution_count": 4,
      "id": "0f72ef47-0cf4-435e-bc16-4595a9708012",
      "metadata": {
        "colab": {
          "base_uri": "https://localhost:8080/"
        },
        "id": "0f72ef47-0cf4-435e-bc16-4595a9708012",
        "outputId": "36f09cb0-7a18-4b94-fd11-ce7c4285f330"
      },
      "outputs": [
        {
          "output_type": "stream",
          "name": "stdout",
          "text": [
            "[[80, 90, 50], [85, 72, 63], [52, 91, 30], [67, 76, 86]]\n"
          ]
        }
      ],
      "source": [
        "scores = [[80,90,50],\n",
        " [85,72,63],\n",
        "  [52,91,30],\n",
        "   [67,76,86]]\n",
        "\n",
        "\n",
        "print(scores)"
      ]
    },
    {
      "cell_type": "markdown",
      "source": [
        "we can one index to view the grades of one student"
      ],
      "metadata": {
        "id": "UYq8YJludDg5"
      },
      "id": "UYq8YJludDg5"
    },
    {
      "cell_type": "code",
      "source": [
        "print(scores[3])"
      ],
      "metadata": {
        "colab": {
          "base_uri": "https://localhost:8080/"
        },
        "id": "zPZQOX8EcuZ1",
        "outputId": "8d6ce4e3-0ea2-4751-95c6-afe3e34c8133"
      },
      "id": "zPZQOX8EcuZ1",
      "execution_count": 6,
      "outputs": [
        {
          "output_type": "stream",
          "name": "stdout",
          "text": [
            "[67, 76, 86]\n"
          ]
        }
      ]
    },
    {
      "cell_type": "code",
      "execution_count": 7,
      "id": "a7197b55-f839-4f4e-9cb9-b86cfc8c4c79",
      "metadata": {
        "colab": {
          "base_uri": "https://localhost:8080/"
        },
        "id": "a7197b55-f839-4f4e-9cb9-b86cfc8c4c79",
        "outputId": "76e6ea5e-2591-4d51-f600-541f64146a5b"
      },
      "outputs": [
        {
          "output_type": "stream",
          "name": "stdout",
          "text": [
            "63\n"
          ]
        }
      ],
      "source": [
        "print(scores[1][2])"
      ]
    },
    {
      "cell_type": "markdown",
      "source": [
        "We awant to calculate the overall grade of the students\n",
        "exam 0 and 1 is 30%\n",
        "exam 2 is 40%"
      ],
      "metadata": {
        "id": "dUQ_-sVkddbi"
      },
      "id": "dUQ_-sVkddbi"
    },
    {
      "cell_type": "code",
      "source": [
        "print(scores[3])\n",
        "weights = [0.3,0.3,0.4]\n",
        "\n",
        "overall = 0\n",
        "\n",
        "for i in range(len(weights)):\n",
        "    overall += scores[3][i]*weights[i]\n",
        "\n",
        "print(overall)\n",
        "\n",
        "# 67*0.3 + 76*0.3 + 86 * 0.4 = overall"
      ],
      "metadata": {
        "colab": {
          "base_uri": "https://localhost:8080/"
        },
        "id": "8BHitnIJdUF5",
        "outputId": "12f2128b-fc5e-473a-bc51-b8fa0779f8a1"
      },
      "id": "8BHitnIJdUF5",
      "execution_count": 9,
      "outputs": [
        {
          "output_type": "stream",
          "name": "stdout",
          "text": [
            "[67, 76, 86]\n",
            "77.3\n"
          ]
        }
      ]
    },
    {
      "cell_type": "code",
      "source": [
        "for x in scores:\n",
        "  print(x)\n",
        "  print()"
      ],
      "metadata": {
        "colab": {
          "base_uri": "https://localhost:8080/"
        },
        "id": "-phb-XCyfPnY",
        "outputId": "3b0b01f8-aecb-442d-e05e-b890f20d4803"
      },
      "id": "-phb-XCyfPnY",
      "execution_count": 11,
      "outputs": [
        {
          "output_type": "stream",
          "name": "stdout",
          "text": [
            "[80, 90, 50]\n",
            "\n",
            "[85, 72, 63]\n",
            "\n",
            "[52, 91, 30]\n",
            "\n",
            "[67, 76, 86]\n",
            "\n"
          ]
        }
      ]
    },
    {
      "cell_type": "code",
      "source": [
        "overall = []\n",
        "weights = [0.3,0.3,0.4]\n",
        "for one_student_grades in scores:\n",
        "  overall_one_student = 0\n",
        "  i = 0\n",
        "  for grade in one_student_grades:\n",
        "    overall_one_student += grade * weights[i]\n",
        "    i += 1\n",
        "  overall.append(overall_one_student)\n",
        "\n",
        "print(overall)\n"
      ],
      "metadata": {
        "colab": {
          "base_uri": "https://localhost:8080/"
        },
        "id": "YF0OBLAsfmZX",
        "outputId": "91a779a7-bcb2-4a99-f37a-3f170229f1d4"
      },
      "id": "YF0OBLAsfmZX",
      "execution_count": 13,
      "outputs": [
        {
          "output_type": "stream",
          "name": "stdout",
          "text": [
            "[71.0, 72.3, 54.9, 77.3]\n"
          ]
        }
      ]
    },
    {
      "cell_type": "code",
      "source": [
        "# if I want to get an output variable from the function it should be return at the end\n",
        "\n",
        "def calculate_overall(scores,weights=[0.3,0.3,0.4]):\n",
        "  overall = []\n",
        "  for one_student_grades in scores:\n",
        "    overall_one_student = 0\n",
        "    i = 0\n",
        "    for grade in one_student_grades:\n",
        "      overall_one_student += grade * weights[i]\n",
        "      i += 1\n",
        "    overall.append(overall_one_student)\n",
        "  return overall"
      ],
      "metadata": {
        "id": "ECOCRFwwhcMT"
      },
      "id": "ECOCRFwwhcMT",
      "execution_count": 18,
      "outputs": []
    },
    {
      "cell_type": "code",
      "source": [
        "overall_from_function = calculate_overall(scores)\n",
        "print(overall_from_function)"
      ],
      "metadata": {
        "colab": {
          "base_uri": "https://localhost:8080/"
        },
        "id": "3VdZIsBJhp0i",
        "outputId": "082ed7b3-64a2-4ae9-fdfe-abbad4fcb4f3"
      },
      "id": "3VdZIsBJhp0i",
      "execution_count": 19,
      "outputs": [
        {
          "output_type": "stream",
          "name": "stdout",
          "text": [
            "[71.0, 72.3, 54.9, 77.3]\n"
          ]
        }
      ]
    },
    {
      "cell_type": "code",
      "source": [
        "avg = 0\n",
        "for x in overall_from_function:\n",
        "  avg += x\n",
        "print(avg/len(overall_from_function))"
      ],
      "metadata": {
        "colab": {
          "base_uri": "https://localhost:8080/"
        },
        "id": "ZKHlHXPkhcJ5",
        "outputId": "7108226b-9929-4cd0-b531-b1b57252962e"
      },
      "id": "ZKHlHXPkhcJ5",
      "execution_count": 20,
      "outputs": [
        {
          "output_type": "stream",
          "name": "stdout",
          "text": [
            "68.875\n"
          ]
        }
      ]
    },
    {
      "cell_type": "code",
      "source": [
        "print(scores[3])\n",
        "weights = [0.3,0.3,0.4]\n",
        "\n",
        "overall = 0\n",
        "\n",
        "for i in range(len(weights)):\n",
        "    overall += scores[3][i]*weights[i]\n",
        "\n",
        "print(overall)"
      ],
      "metadata": {
        "id": "nGkfr-NMfLxV"
      },
      "id": "nGkfr-NMfLxV",
      "execution_count": null,
      "outputs": []
    },
    {
      "cell_type": "code",
      "execution_count": null,
      "id": "0b0776a0-20b8-4048-be9c-dbb9fff6ca02",
      "metadata": {
        "id": "0b0776a0-20b8-4048-be9c-dbb9fff6ca02",
        "outputId": "db0ffe35-fe67-4f58-935c-0a91be98c351"
      },
      "outputs": [
        {
          "name": "stdout",
          "output_type": "stream",
          "text": [
            "[[80, 90, 50], [85, 72, 63]]\n"
          ]
        }
      ],
      "source": [
        "print(scores[0:2])"
      ]
    },
    {
      "cell_type": "code",
      "execution_count": null,
      "id": "a16c9415-77ba-4a94-834d-c734fcc43c44",
      "metadata": {
        "id": "a16c9415-77ba-4a94-834d-c734fcc43c44",
        "outputId": "203aec6c-5631-4696-f7a9-c68111b04315"
      },
      "outputs": [
        {
          "name": "stdout",
          "output_type": "stream",
          "text": [
            "[52, 91, 30]\n"
          ]
        }
      ],
      "source": [
        "mn = min(scores)\n",
        "print(mn)"
      ]
    },
    {
      "cell_type": "code",
      "execution_count": null,
      "id": "11b925c7-aae1-4a83-a0ba-de9a2ead248d",
      "metadata": {
        "id": "11b925c7-aae1-4a83-a0ba-de9a2ead248d",
        "outputId": "e0bf3603-3307-482c-dde5-06b7626e2218"
      },
      "outputs": [
        {
          "name": "stdout",
          "output_type": "stream",
          "text": [
            "[80, 90, 50] 50\n",
            "[85, 72, 63] 63\n",
            "[52, 91, 30] 30\n",
            "[67, 76, 86] 67\n",
            "30\n"
          ]
        }
      ],
      "source": [
        "mn = 100\n",
        "for i in scores:\n",
        "    tmp = min(i)\n",
        "    print(i,tmp)\n",
        "    if tmp < mn:\n",
        "        mn = tmp\n",
        "\n",
        "\n",
        "print(mn)"
      ]
    },
    {
      "cell_type": "code",
      "execution_count": null,
      "id": "d8134c6b-052c-4aa7-b81e-ab6ef0d04695",
      "metadata": {
        "id": "d8134c6b-052c-4aa7-b81e-ab6ef0d04695",
        "outputId": "9d2bd15a-a9c3-4217-8d0e-ab4547b11e9b"
      },
      "outputs": [
        {
          "name": "stdout",
          "output_type": "stream",
          "text": [
            "82.25\n"
          ]
        }
      ],
      "source": [
        "sum = 0\n",
        "for i in scores:\n",
        "    sum += i[1]\n",
        "\n",
        "print(sum/len(scores))"
      ]
    },
    {
      "cell_type": "code",
      "execution_count": null,
      "id": "999ab34f-dcac-4ce2-b489-cb06de34924b",
      "metadata": {
        "id": "999ab34f-dcac-4ce2-b489-cb06de34924b",
        "outputId": "66619885-f5ff-4aaa-e661-ae79af3d0a38"
      },
      "outputs": [
        {
          "name": "stdout",
          "output_type": "stream",
          "text": [
            "[85, 72, 63]\n"
          ]
        }
      ],
      "source": [
        "print(scores[:][1])"
      ]
    },
    {
      "cell_type": "code",
      "source": [
        "# Define two matrices as lists of lists\n",
        "matrix1 = [[1, 2], [3, 4]]\n",
        "matrix2 = [[5, 6], [7, 8]]\n",
        "\n",
        "# Initialize the result matrix with zeros\n",
        "result = [[0, 0], [0, 0]]\n",
        "\n",
        "# Perform matrix multiplication\n",
        "for i in range(len(matrix1)):\n",
        "    for j in range(len(matrix2[0])):\n",
        "        for k in range(len(matrix2)):\n",
        "            result[i][j] += matrix1[i][k] * matrix2[k][j]\n",
        "\n",
        "# Print the result\n",
        "for row in result:\n",
        "    print(row)\n"
      ],
      "metadata": {
        "colab": {
          "base_uri": "https://localhost:8080/"
        },
        "id": "vHvjO-SYXTBM",
        "outputId": "1a8974df-7ec6-4fcc-e78d-ca97d829e058"
      },
      "id": "vHvjO-SYXTBM",
      "execution_count": 1,
      "outputs": [
        {
          "output_type": "stream",
          "name": "stdout",
          "text": [
            "[19, 22]\n",
            "[43, 50]\n"
          ]
        }
      ]
    },
    {
      "cell_type": "code",
      "execution_count": null,
      "id": "1e60e71f-211f-403a-9b38-84371e4ec552",
      "metadata": {
        "id": "1e60e71f-211f-403a-9b38-84371e4ec552",
        "outputId": "6c47306f-0bd4-4e0d-ed32-6407fb448aba"
      },
      "outputs": [
        {
          "name": "stdin",
          "output_type": "stream",
          "text": [
            " 1 -1 0\n"
          ]
        },
        {
          "name": "stdout",
          "output_type": "stream",
          "text": [
            "True\n"
          ]
        }
      ],
      "source": [
        "def is_divisible_by_two(L):\n",
        "    n = len(L)\n",
        "    result = False\n",
        "    for i in range(1,n):\n",
        "        if sum(L[0:i]) == sum(L[i:n+1]):\n",
        "            result = True\n",
        "            break\n",
        "    return result\n",
        "\n",
        "L = [int(i) for i in input().split()]\n",
        "\n",
        "print(is_divisible_by_two(L))\n"
      ]
    },
    {
      "cell_type": "code",
      "execution_count": null,
      "id": "a146f19e-ab3a-486a-96d4-acfe611b9250",
      "metadata": {
        "id": "a146f19e-ab3a-486a-96d4-acfe611b9250",
        "outputId": "0f7e64ed-79bc-4c4f-8b02-03b3c4018679"
      },
      "outputs": [
        {
          "name": "stdin",
          "output_type": "stream",
          "text": [
            " AGCGCGCTGACCTAC\n"
          ]
        },
        {
          "name": "stdout",
          "output_type": "stream",
          "text": [
            "SALTY\n"
          ]
        }
      ],
      "source": [
        "def t(s):\n",
        "    r = \"\"\n",
        "    CODON_TO_AMINO_ACID={\n",
        "    'ATG':'M','GCG':'A','TCA':'S','GAA':'E','GGG':'G','GGT':'G',\n",
        "    'AAA':'K','GAG':'E','AAT':'N','CTA':'L','CAT':'H','TCG':'S',\n",
        "    'TAG':'_','GTG':'V','TAT':'Y','CCT':'P','ACT':'T','TCC':'s',\n",
        "    'CAG':'Q','CCA':'P','TAA':'_','AGA':'R','ACG':'T','CAA':'Q',\n",
        "    'TGT':'C','GCT':'A','TTC':'F','AGT':'S','ATA':'I','TTA':'L',\n",
        "    'CCG':'P','ATC':'I','TTT':'F','CGT':'R','TGA':'_','GTA':'V',\n",
        "    'TCT':'S','CAC':'H','GTT':'V','GAT':'D','CGA':'R','GGA':'G',\n",
        "    'GTC':'V','GGC':'G','TGC':'C','CTG':'L','CTC':'L','CGC':'R',\n",
        "    'CGG':'R','AAC':'N','GCC':'A','ATT':'I','AGG':'R','GAC':'D',\n",
        "    'ACC':'T','AGC':'S','TAC':'Y','ACA':'T','AAG':'K','GCA':'A',\n",
        "    'TTG':'L','CCC':'P','CTT':'L','TGG':'W'\n",
        "    }\n",
        "    for i in range(0,len(s),3):\n",
        "        r+= CODON_TO_AMINO_ACID[s[i:i+3]]\n",
        "    return r\n",
        "s = input()\n",
        "print(t(s))\n"
      ]
    },
    {
      "cell_type": "code",
      "execution_count": null,
      "id": "c4c0f040-4907-4f12-80fb-7576b47a7c19",
      "metadata": {
        "id": "c4c0f040-4907-4f12-80fb-7576b47a7c19",
        "outputId": "95891bed-1559-4e69-c292-351e2e2097fa"
      },
      "outputs": [
        {
          "name": "stdin",
          "output_type": "stream",
          "text": [
            " 4\n",
            " 4\n",
            " 59\n"
          ]
        },
        {
          "name": "stdout",
          "output_type": "stream",
          "text": [
            "13\n"
          ]
        }
      ],
      "source": [
        "def check_p(n):\n",
        "    is_p = True\n",
        "    if n <= 1:\n",
        "        is_p = False\n",
        "    else:\n",
        "        for i in range(2,n):\n",
        "            if n%i == 0:\n",
        "                is_p = False\n",
        "                break\n",
        "        return is_p\n",
        "\n",
        "def poli(a,b,c):\n",
        "    result = -1\n",
        "    i = 0\n",
        "    fx = a*(i**2)+ b*i + c\n",
        "    x = check_p(fx)\n",
        "    while x is True:\n",
        "        fx = a*(i**2)+ b*i + c\n",
        "        x = check_p(fx)\n",
        "        i+= 1\n",
        "        result = i - 2\n",
        "    return result\n",
        "\n",
        "a = int(input())\n",
        "b = int(input())\n",
        "c = int(input())\n",
        "\n",
        "print(poli(a,b,c))\n"
      ]
    },
    {
      "cell_type": "code",
      "execution_count": null,
      "id": "af612879-cbf0-4297-8486-ebda62995656",
      "metadata": {
        "id": "af612879-cbf0-4297-8486-ebda62995656",
        "outputId": "6c1b888d-dc4e-4751-8efd-326585d674a5"
      },
      "outputs": [
        {
          "name": "stdin",
          "output_type": "stream",
          "text": [
            " 3\n",
            " 0 1 1\n",
            " 1 0 0\n",
            " 1 0 0\n"
          ]
        },
        {
          "name": "stdout",
          "output_type": "stream",
          "text": [
            "2\n"
          ]
        }
      ],
      "source": [
        "def enter_matrix_data(num_rows, num_cols, dtype=int):\n",
        "    A = [0]*num_rows\n",
        "    for i in range(num_rows):\n",
        "        A[i] = input().split()\n",
        "        # keep asking user for input if they don't enter 'num_cols' numbers\n",
        "        while len(A[i]) != num_cols:\n",
        "            print(\"Bad column length! Enter\", num_cols, \"numbers: \")\n",
        "            A[i] = input().split()\n",
        "\n",
        "    if dtype == int or dtype == float:\n",
        "        for i in range(num_rows):\n",
        "            for j in range(num_cols):\n",
        "                if dtype == int:\n",
        "                    A[i][j] = int(A[i][j])\n",
        "                elif dtype == float:\n",
        "                    A[i][j] = float(A[i][j])\n",
        "    return A\n",
        "\n",
        "def totalFriendships(M):\n",
        "    n = len(M)\n",
        "    result = 0\n",
        "    for i in range(n):\n",
        "        for j in range(len(M[0])):\n",
        "            if M[i][j] == 1 and i <j:\n",
        "                result += 1\n",
        "    return result\n",
        "\n",
        "n = int(input()) # represents the number of rows and columns (n x n matrix)\n",
        "M = enter_matrix_data(n, n)\n",
        "print(totalFriendships(M))\n"
      ]
    },
    {
      "cell_type": "code",
      "execution_count": null,
      "id": "e9dfc373-97ca-4983-93d2-9611783a1e0c",
      "metadata": {
        "id": "e9dfc373-97ca-4983-93d2-9611783a1e0c",
        "outputId": "f9cf9fd5-8c5f-4556-8d1f-552ff2d9bd01"
      },
      "outputs": [
        {
          "ename": "IndentationError",
          "evalue": "unexpected indent (138440588.py, line 3)",
          "output_type": "error",
          "traceback": [
            "\u001b[1;36m  Cell \u001b[1;32mIn[10], line 3\u001b[1;36m\u001b[0m\n\u001b[1;33m    k-int(input()) x= int(input()) h=n[:X] q=n[x-1:]\u001b[0m\n\u001b[1;37m    ^\u001b[0m\n\u001b[1;31mIndentationError\u001b[0m\u001b[1;31m:\u001b[0m unexpected indent\n"
          ]
        }
      ],
      "source": [
        "input().split()\n",
        "for i in range(len(n)): n[1]= int(n[1])\n",
        "    k-int(input()) x= int(input()) h=n[:X] q=n[x-1:]\n",
        "    if abs(n[x-1]-k)<abs (n[x]-n[x+1]) or abs (n[x-1)-k)=abs (n[x]-n[x+1])\n",
        "    else:\n",
        "        print(h)\n",
        "        print(i)\n"
      ]
    },
    {
      "cell_type": "code",
      "execution_count": null,
      "id": "c59f3a13-2982-42b9-be42-a7c05790dd11",
      "metadata": {
        "id": "c59f3a13-2982-42b9-be42-a7c05790dd11"
      },
      "outputs": [],
      "source": []
    }
  ],
  "metadata": {
    "kernelspec": {
      "display_name": "Python 3 (ipykernel)",
      "language": "python",
      "name": "python3"
    },
    "language_info": {
      "codemirror_mode": {
        "name": "ipython",
        "version": 3
      },
      "file_extension": ".py",
      "mimetype": "text/x-python",
      "name": "python",
      "nbconvert_exporter": "python",
      "pygments_lexer": "ipython3",
      "version": "3.12.7"
    },
    "colab": {
      "provenance": [],
      "include_colab_link": true
    }
  },
  "nbformat": 4,
  "nbformat_minor": 5
}