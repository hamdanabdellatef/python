{
  "cells": [
    {
      "cell_type": "markdown",
      "metadata": {
        "id": "view-in-github",
        "colab_type": "text"
      },
      "source": [
        "<a href=\"https://colab.research.google.com/github/hamdanabdellatef/python/blob/main/Module_9_Part_2__Searching%26Sorting.ipynb\" target=\"_parent\"><img src=\"https://colab.research.google.com/assets/colab-badge.svg\" alt=\"Open In Colab\"/></a>"
      ]
    },
    {
      "cell_type": "markdown",
      "source": [
        "#Recursion"
      ],
      "metadata": {
        "id": "HRxfRNr9aSvB"
      },
      "id": "HRxfRNr9aSvB"
    },
    {
      "cell_type": "code",
      "source": [],
      "metadata": {
        "id": "FBkIEkjSaSZI"
      },
      "id": "FBkIEkjSaSZI",
      "execution_count": null,
      "outputs": []
    },
    {
      "cell_type": "code",
      "source": [
        "def message(times):\n",
        "  if times > 0:\n",
        "    print(\"This is a recursive function, times is\",times)\n",
        "    message(times - 1)\n",
        "\n",
        "message(5)"
      ],
      "metadata": {
        "colab": {
          "base_uri": "https://localhost:8080/"
        },
        "id": "sgBWT2gtEsxb",
        "outputId": "b36f5960-d2f3-4b20-9e69-7c4c21c3ddfb"
      },
      "id": "sgBWT2gtEsxb",
      "execution_count": null,
      "outputs": [
        {
          "output_type": "stream",
          "name": "stdout",
          "text": [
            "This is a recursive function, times is 5\n",
            "This is a recursive function, times is 4\n",
            "This is a recursive function, times is 3\n",
            "This is a recursive function, times is 2\n",
            "This is a recursive function, times is 1\n"
          ]
        }
      ]
    },
    {
      "cell_type": "markdown",
      "source": [
        "Lets write this in format of:\n",
        "- base case (times = 0)\n",
        "- recursive case\n"
      ],
      "metadata": {
        "id": "vzZ9LCoZanjx"
      },
      "id": "vzZ9LCoZanjx"
    },
    {
      "cell_type": "markdown",
      "source": [
        "#Writing Recursive Functions"
      ],
      "metadata": {
        "id": "sZrZumGOa2BP"
      },
      "id": "sZrZumGOa2BP"
    },
    {
      "cell_type": "markdown",
      "source": [
        "##Writing the factorial function"
      ],
      "metadata": {
        "id": "OGYLMvizeMCK"
      },
      "id": "OGYLMvizeMCK"
    },
    {
      "cell_type": "code",
      "source": [
        "def factorial(n):\n",
        "    if n==0:\n",
        "        print(\"Base case reached, return 1\")\n",
        "        return 1\n",
        "    else:\n",
        "        print(\"Recursive call for\", n,\"* factorial(\",n-1,\")\")\n",
        "        return n*factorial(n-1)\n",
        "\n",
        "print(factorial(4))"
      ],
      "metadata": {
        "colab": {
          "base_uri": "https://localhost:8080/"
        },
        "id": "fv84AWBuU0By",
        "outputId": "a5aa1929-55ce-4ddd-c055-ef3a553915ac"
      },
      "id": "fv84AWBuU0By",
      "execution_count": null,
      "outputs": [
        {
          "output_type": "stream",
          "name": "stdout",
          "text": [
            "Recursive call for 4 * factorial( 3 )\n",
            "Recursive call for 3 * factorial( 2 )\n",
            "Recursive call for 2 * factorial( 1 )\n",
            "Recursive call for 1 * factorial( 0 )\n",
            "Base case reached, return 1\n",
            "24\n"
          ]
        }
      ]
    },
    {
      "cell_type": "markdown",
      "source": [
        "##Summing a range of list elements with recursion\n",
        "Function receives a list containing range of elements to be summed, index of starting item in the range, and index of ending item in the range\n",
        "\n",
        "- Base case:\n",
        " - `if start_index > end_index return 0`\n",
        "- Recursive case:\n",
        " - return current_number + sum(list, start+1, end)\n"
      ],
      "metadata": {
        "id": "gIL2YosHeRBC"
      },
      "id": "gIL2YosHeRBC"
    },
    {
      "cell_type": "code",
      "source": [
        "def range_sum(num_list,start,end):\n",
        "    if start > end:\n",
        "        return 0\n",
        "    else:\n",
        "        return num_list[start]+range_sum(num_list,start+1,end)"
      ],
      "metadata": {
        "id": "X_J88LNVT_O5"
      },
      "id": "X_J88LNVT_O5",
      "execution_count": null,
      "outputs": []
    },
    {
      "cell_type": "code",
      "source": [
        "import random\n",
        "L = [random.randint(0,10) for i in range(100)]\n",
        "\n",
        "print(L[50:56])\n",
        "print(range_sum(L,50,55))\n"
      ],
      "metadata": {
        "colab": {
          "base_uri": "https://localhost:8080/"
        },
        "id": "yWmAjoD1EssW",
        "outputId": "4bb2b260-7d85-4a3b-a28c-1aef33877554"
      },
      "id": "yWmAjoD1EssW",
      "execution_count": null,
      "outputs": [
        {
          "output_type": "stream",
          "name": "stdout",
          "text": [
            "[4, 6, 9, 7, 3, 10]\n",
            "39\n"
          ]
        }
      ]
    },
    {
      "cell_type": "markdown",
      "source": [
        "##The Fibonacci numbers:\n",
        "0, 1, 1, 2, 3, 5, 8, 13, 21, 34, 55, 89, 144, 233, . . .\n",
        "After the second number, each number in the series is the sum of the two previous numbers.\n",
        "\n",
        "Fibonacci series: has two base cases\n",
        "- if n = 0 then Fib(n) = 0\n",
        "- if n = 1 then Fib(n) = 1\n",
        "- if n > 1 then Fib(n) = Fib(n-1) + Fib(n-2)\n"
      ],
      "metadata": {
        "id": "gXnZTrxlet84"
      },
      "id": "gXnZTrxlet84"
    },
    {
      "cell_type": "code",
      "execution_count": null,
      "id": "5e80c956-9382-4288-99a5-b098743ee04a",
      "metadata": {
        "id": "5e80c956-9382-4288-99a5-b098743ee04a"
      },
      "outputs": [],
      "source": [
        "def Fib(n):\n",
        "    if n==0:\n",
        "        return 0\n",
        "    elif n==1:\n",
        "        return 1\n",
        "    else:\n",
        "        return Fib(n-1)+Fib(n-2)"
      ]
    },
    {
      "cell_type": "code",
      "execution_count": null,
      "id": "b8396af9-ef14-4302-94b1-c927f5299d57",
      "metadata": {
        "colab": {
          "base_uri": "https://localhost:8080/"
        },
        "id": "b8396af9-ef14-4302-94b1-c927f5299d57",
        "outputId": "9d808a54-fe22-4e64-bea2-62dfe496f343"
      },
      "outputs": [
        {
          "output_type": "execute_result",
          "data": {
            "text/plain": [
              "55"
            ]
          },
          "metadata": {},
          "execution_count": 20
        }
      ],
      "source": [
        "Fib(10)"
      ]
    },
    {
      "cell_type": "code",
      "execution_count": null,
      "id": "1675926f-2692-4182-89b9-dcc397531c15",
      "metadata": {
        "id": "1675926f-2692-4182-89b9-dcc397531c15",
        "outputId": "a1dce475-0d52-44a6-94a2-1d7fb21f92f9"
      },
      "outputs": [
        {
          "data": {
            "text/plain": [
              "2"
            ]
          },
          "execution_count": 11,
          "metadata": {},
          "output_type": "execute_result"
        }
      ],
      "source": [
        "32%6"
      ]
    },
    {
      "cell_type": "markdown",
      "source": [
        "##Calculation of the greatest common divisor\n",
        "GCD of two positive integers\n",
        "\n",
        "- If x can be evenly divided by y, then\n",
        "\t\t\tgcd(x,y) = y\n",
        "- Otherwise,\n",
        "\n",
        "```\n",
        "gcd(x,y) = gcd(y, remainder of x/y)\n",
        "```\n",
        "\n"
      ],
      "metadata": {
        "id": "nFn-RBNde7dr"
      },
      "id": "nFn-RBNde7dr"
    },
    {
      "cell_type": "code",
      "execution_count": null,
      "id": "8830309f-3e36-4b30-91d8-b46735facf88",
      "metadata": {
        "id": "8830309f-3e36-4b30-91d8-b46735facf88"
      },
      "outputs": [],
      "source": [
        "def gcd(x,y):\n",
        "    if x%y==0:\n",
        "        return y\n",
        "    else:\n",
        "        return gcd(y,x%y)\n",
        "\n",
        "# 32  24\n",
        "# 24 32%24 = 8\n",
        "# return 8"
      ]
    },
    {
      "cell_type": "code",
      "execution_count": null,
      "id": "f7cb1cdd-2c77-4a20-8316-580f47278d22",
      "metadata": {
        "colab": {
          "base_uri": "https://localhost:8080/"
        },
        "id": "f7cb1cdd-2c77-4a20-8316-580f47278d22",
        "outputId": "155e8370-9a8d-40fb-d5a1-855b0374f3fa"
      },
      "outputs": [
        {
          "output_type": "execute_result",
          "data": {
            "text/plain": [
              "24"
            ]
          },
          "metadata": {},
          "execution_count": 27
        }
      ],
      "source": [
        "gcd(24,32)"
      ]
    },
    {
      "cell_type": "code",
      "execution_count": null,
      "id": "848fd109-b199-4293-af82-d22c5d8561e7",
      "metadata": {
        "id": "848fd109-b199-4293-af82-d22c5d8561e7"
      },
      "outputs": [],
      "source": []
    },
    {
      "cell_type": "markdown",
      "source": [
        "#Recusrsion vs Looping"
      ],
      "metadata": {
        "id": "2H-Bg1k-ghSe"
      },
      "id": "2H-Bg1k-ghSe"
    },
    {
      "cell_type": "code",
      "source": [
        "def fibonacci_recursive(n):\n",
        "    if n <= 1:\n",
        "        return n\n",
        "    return fibonacci_recursive(n - 1) + fibonacci_recursive(n - 2)\n"
      ],
      "metadata": {
        "id": "EnWcRnzNgruO"
      },
      "id": "EnWcRnzNgruO",
      "execution_count": null,
      "outputs": []
    },
    {
      "cell_type": "code",
      "source": [
        "def fibonacci_loop(n):\n",
        "    a, b = 0, 1\n",
        "    for _ in range(n):\n",
        "        a, b = b, a + b\n",
        "    return a"
      ],
      "metadata": {
        "id": "VAnCrIBigzV1"
      },
      "id": "VAnCrIBigzV1",
      "execution_count": null,
      "outputs": []
    },
    {
      "cell_type": "code",
      "source": [
        "import time"
      ],
      "metadata": {
        "id": "O8PlXOogg7Ni"
      },
      "id": "O8PlXOogg7Ni",
      "execution_count": null,
      "outputs": []
    },
    {
      "cell_type": "code",
      "source": [
        "\n",
        "n = 30   # manageable for recursion\n",
        "\n",
        "print(\"Comparing Fibonacci with n =\", n)\n",
        "\n",
        "# Recursive timing\n",
        "start = time.time()\n",
        "print(\"Recursive:\", fibonacci_recursive(n))\n",
        "end = time.time()\n",
        "print(\"Recursive time:\", end - start, \"seconds\")\n",
        "\n",
        "# Loop timing\n",
        "start = time.time()\n",
        "print(\"Loop:\", fibonacci_loop(n))\n",
        "end = time.time()\n",
        "print(\"Loop time:\", end - start, \"seconds\")\n"
      ],
      "metadata": {
        "colab": {
          "base_uri": "https://localhost:8080/"
        },
        "id": "b_osfJ5LgnxE",
        "outputId": "04efe02a-8004-4011-e638-4fa45926e80c"
      },
      "id": "b_osfJ5LgnxE",
      "execution_count": null,
      "outputs": [
        {
          "output_type": "stream",
          "name": "stdout",
          "text": [
            "Comparing Fibonacci with n = 30\n",
            "Recursive: 832040\n",
            "Recursive time: 0.17239856719970703 seconds\n",
            "Loop: 832040\n",
            "Loop time: 8.749961853027344e-05 seconds\n"
          ]
        }
      ]
    },
    {
      "cell_type": "code",
      "source": [
        "\n",
        "n = 1000 # recursion would be too slow or crash\n",
        "\n",
        "print(\"Comparing Fibonacci with n =\", n)\n",
        "\n",
        "# Recursive timing\n",
        "start = time.time()\n",
        "print(\"Recursive:\", fibonacci_recursive(n))\n",
        "end = time.time()\n",
        "print(\"Recursive time:\", end - start, \"seconds\")\n",
        "\n",
        "# Loop timing\n",
        "start = time.time()\n",
        "print(\"Loop:\", fibonacci_loop(n))\n",
        "end = time.time()\n",
        "print(\"Loop time:\", end - start, \"seconds\")\n"
      ],
      "metadata": {
        "colab": {
          "base_uri": "https://localhost:8080/",
          "height": 373
        },
        "id": "Xrh6U88HhDlY",
        "outputId": "feb83385-89a0-446f-ce81-3a8366a2b604"
      },
      "id": "Xrh6U88HhDlY",
      "execution_count": null,
      "outputs": [
        {
          "output_type": "stream",
          "name": "stdout",
          "text": [
            "Comparing Fibonacci with n = 1000\n"
          ]
        },
        {
          "output_type": "error",
          "ename": "RecursionError",
          "evalue": "maximum recursion depth exceeded",
          "traceback": [
            "\u001b[0;31m---------------------------------------------------------------------------\u001b[0m",
            "\u001b[0;31mRecursionError\u001b[0m                            Traceback (most recent call last)",
            "\u001b[0;32m/tmp/ipython-input-3477959796.py\u001b[0m in \u001b[0;36m<cell line: 0>\u001b[0;34m()\u001b[0m\n\u001b[1;32m      5\u001b[0m \u001b[0;31m# Recursive timing\u001b[0m\u001b[0;34m\u001b[0m\u001b[0;34m\u001b[0m\u001b[0m\n\u001b[1;32m      6\u001b[0m \u001b[0mstart\u001b[0m \u001b[0;34m=\u001b[0m \u001b[0mtime\u001b[0m\u001b[0;34m.\u001b[0m\u001b[0mtime\u001b[0m\u001b[0;34m(\u001b[0m\u001b[0;34m)\u001b[0m\u001b[0;34m\u001b[0m\u001b[0;34m\u001b[0m\u001b[0m\n\u001b[0;32m----> 7\u001b[0;31m \u001b[0mprint\u001b[0m\u001b[0;34m(\u001b[0m\u001b[0;34m\"Recursive:\"\u001b[0m\u001b[0;34m,\u001b[0m \u001b[0mfibonacci_recursive\u001b[0m\u001b[0;34m(\u001b[0m\u001b[0mn\u001b[0m\u001b[0;34m)\u001b[0m\u001b[0;34m)\u001b[0m\u001b[0;34m\u001b[0m\u001b[0;34m\u001b[0m\u001b[0m\n\u001b[0m\u001b[1;32m      8\u001b[0m \u001b[0mend\u001b[0m \u001b[0;34m=\u001b[0m \u001b[0mtime\u001b[0m\u001b[0;34m.\u001b[0m\u001b[0mtime\u001b[0m\u001b[0;34m(\u001b[0m\u001b[0;34m)\u001b[0m\u001b[0;34m\u001b[0m\u001b[0;34m\u001b[0m\u001b[0m\n\u001b[1;32m      9\u001b[0m \u001b[0mprint\u001b[0m\u001b[0;34m(\u001b[0m\u001b[0;34m\"Recursive time:\"\u001b[0m\u001b[0;34m,\u001b[0m \u001b[0mend\u001b[0m \u001b[0;34m-\u001b[0m \u001b[0mstart\u001b[0m\u001b[0;34m,\u001b[0m \u001b[0;34m\"seconds\"\u001b[0m\u001b[0;34m)\u001b[0m\u001b[0;34m\u001b[0m\u001b[0;34m\u001b[0m\u001b[0m\n",
            "\u001b[0;32m/tmp/ipython-input-1421874769.py\u001b[0m in \u001b[0;36mfibonacci_recursive\u001b[0;34m(n)\u001b[0m\n\u001b[1;32m      2\u001b[0m     \u001b[0;32mif\u001b[0m \u001b[0mn\u001b[0m \u001b[0;34m<=\u001b[0m \u001b[0;36m1\u001b[0m\u001b[0;34m:\u001b[0m\u001b[0;34m\u001b[0m\u001b[0;34m\u001b[0m\u001b[0m\n\u001b[1;32m      3\u001b[0m         \u001b[0;32mreturn\u001b[0m \u001b[0mn\u001b[0m\u001b[0;34m\u001b[0m\u001b[0;34m\u001b[0m\u001b[0m\n\u001b[0;32m----> 4\u001b[0;31m     \u001b[0;32mreturn\u001b[0m \u001b[0mfibonacci_recursive\u001b[0m\u001b[0;34m(\u001b[0m\u001b[0mn\u001b[0m \u001b[0;34m-\u001b[0m \u001b[0;36m1\u001b[0m\u001b[0;34m)\u001b[0m \u001b[0;34m+\u001b[0m \u001b[0mfibonacci_recursive\u001b[0m\u001b[0;34m(\u001b[0m\u001b[0mn\u001b[0m \u001b[0;34m-\u001b[0m \u001b[0;36m2\u001b[0m\u001b[0;34m)\u001b[0m\u001b[0;34m\u001b[0m\u001b[0;34m\u001b[0m\u001b[0m\n\u001b[0m",
            "... last 1 frames repeated, from the frame below ...\n",
            "\u001b[0;32m/tmp/ipython-input-1421874769.py\u001b[0m in \u001b[0;36mfibonacci_recursive\u001b[0;34m(n)\u001b[0m\n\u001b[1;32m      2\u001b[0m     \u001b[0;32mif\u001b[0m \u001b[0mn\u001b[0m \u001b[0;34m<=\u001b[0m \u001b[0;36m1\u001b[0m\u001b[0;34m:\u001b[0m\u001b[0;34m\u001b[0m\u001b[0;34m\u001b[0m\u001b[0m\n\u001b[1;32m      3\u001b[0m         \u001b[0;32mreturn\u001b[0m \u001b[0mn\u001b[0m\u001b[0;34m\u001b[0m\u001b[0;34m\u001b[0m\u001b[0m\n\u001b[0;32m----> 4\u001b[0;31m     \u001b[0;32mreturn\u001b[0m \u001b[0mfibonacci_recursive\u001b[0m\u001b[0;34m(\u001b[0m\u001b[0mn\u001b[0m \u001b[0;34m-\u001b[0m \u001b[0;36m1\u001b[0m\u001b[0;34m)\u001b[0m \u001b[0;34m+\u001b[0m \u001b[0mfibonacci_recursive\u001b[0m\u001b[0;34m(\u001b[0m\u001b[0mn\u001b[0m \u001b[0;34m-\u001b[0m \u001b[0;36m2\u001b[0m\u001b[0;34m)\u001b[0m\u001b[0;34m\u001b[0m\u001b[0;34m\u001b[0m\u001b[0m\n\u001b[0m",
            "\u001b[0;31mRecursionError\u001b[0m: maximum recursion depth exceeded"
          ]
        }
      ]
    }
  ],
  "metadata": {
    "kernelspec": {
      "display_name": "Python 3 (ipykernel)",
      "language": "python",
      "name": "python3"
    },
    "language_info": {
      "codemirror_mode": {
        "name": "ipython",
        "version": 3
      },
      "file_extension": ".py",
      "mimetype": "text/x-python",
      "name": "python",
      "nbconvert_exporter": "python",
      "pygments_lexer": "ipython3",
      "version": "3.11.5"
    },
    "colab": {
      "provenance": [],
      "include_colab_link": true
    }
  },
  "nbformat": 4,
  "nbformat_minor": 5
}