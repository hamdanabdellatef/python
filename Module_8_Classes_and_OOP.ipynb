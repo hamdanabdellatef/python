{
  "cells": [
    {
      "cell_type": "markdown",
      "metadata": {
        "id": "view-in-github",
        "colab_type": "text"
      },
      "source": [
        "<a href=\"https://colab.research.google.com/github/hamdanabdellatef/python/blob/main/Module_8_Classes_and_OOP.ipynb\" target=\"_parent\"><img src=\"https://colab.research.google.com/assets/colab-badge.svg\" alt=\"Open In Colab\"/></a>"
      ]
    },
    {
      "cell_type": "markdown",
      "source": [
        "#Coin Object example"
      ],
      "metadata": {
        "id": "UaJ8NZzWlnqF"
      },
      "id": "UaJ8NZzWlnqF"
    },
    {
      "cell_type": "markdown",
      "source": [
        "Object called coin that has one data attribute sideup\n",
        "\n",
        "It might be either Heads or Tails"
      ],
      "metadata": {
        "id": "W0PxcEbZlwHO"
      },
      "id": "W0PxcEbZlwHO"
    },
    {
      "cell_type": "code",
      "source": [
        "import random\n",
        "\n",
        "class Coin():\n",
        "  def __init__(self):\n",
        "    self.__sideup = 'Heads'\n",
        "\n",
        "  def toss(self):\n",
        "    if random.randint(0, 1) == 0:\n",
        "      self.__sideup = 'Heads'\n",
        "    else:\n",
        "      self.__sideup = 'Tails'\n",
        "\n",
        "  def get_sideup(self):\n",
        "    return self.__sideup\n"
      ],
      "metadata": {
        "id": "bDQAQ-iSlnGz"
      },
      "id": "bDQAQ-iSlnGz",
      "execution_count": null,
      "outputs": []
    },
    {
      "cell_type": "code",
      "source": [
        "coin1 = Coin()\n",
        "coin2 = Coin()"
      ],
      "metadata": {
        "id": "veX_HFsvlnC1"
      },
      "id": "veX_HFsvlnC1",
      "execution_count": null,
      "outputs": []
    },
    {
      "cell_type": "code",
      "source": [
        "print(coin1.get_sideup())\n",
        "print(coin2.get_sideup())"
      ],
      "metadata": {
        "colab": {
          "base_uri": "https://localhost:8080/"
        },
        "id": "CTGbj97um7-B",
        "outputId": "8a228730-9539-444c-d444-a54f4676f058"
      },
      "id": "CTGbj97um7-B",
      "execution_count": null,
      "outputs": [
        {
          "output_type": "stream",
          "name": "stdout",
          "text": [
            "Heads\n",
            "Heads\n"
          ]
        }
      ]
    },
    {
      "cell_type": "code",
      "source": [
        "coin1.toss()\n",
        "coin2.toss()\n",
        "print(coin1.get_sideup())\n",
        "print(coin2.get_sideup())"
      ],
      "metadata": {
        "colab": {
          "base_uri": "https://localhost:8080/"
        },
        "id": "a-x8hRUElnAg",
        "outputId": "8355523a-0ec9-4cad-a999-23323b89a7d9"
      },
      "id": "a-x8hRUElnAg",
      "execution_count": null,
      "outputs": [
        {
          "output_type": "stream",
          "name": "stdout",
          "text": [
            "Tails\n",
            "Heads\n"
          ]
        }
      ]
    },
    {
      "cell_type": "code",
      "source": [
        "print(coin1.__sideup)"
      ],
      "metadata": {
        "colab": {
          "base_uri": "https://localhost:8080/",
          "height": 141
        },
        "id": "GTYt38EoyRel",
        "outputId": "efc2a0d9-1c3d-4761-bddd-1344c04f8f04"
      },
      "id": "GTYt38EoyRel",
      "execution_count": null,
      "outputs": [
        {
          "output_type": "error",
          "ename": "AttributeError",
          "evalue": "'Coin' object has no attribute '__sideup'",
          "traceback": [
            "\u001b[0;31m---------------------------------------------------------------------------\u001b[0m",
            "\u001b[0;31mAttributeError\u001b[0m                            Traceback (most recent call last)",
            "\u001b[0;32m<ipython-input-7-5fa117619ebf>\u001b[0m in \u001b[0;36m<cell line: 1>\u001b[0;34m()\u001b[0m\n\u001b[0;32m----> 1\u001b[0;31m \u001b[0mprint\u001b[0m\u001b[0;34m(\u001b[0m\u001b[0mcoin1\u001b[0m\u001b[0;34m.\u001b[0m\u001b[0m__sideup\u001b[0m\u001b[0;34m)\u001b[0m\u001b[0;34m\u001b[0m\u001b[0;34m\u001b[0m\u001b[0m\n\u001b[0m",
            "\u001b[0;31mAttributeError\u001b[0m: 'Coin' object has no attribute '__sideup'"
          ]
        }
      ]
    },
    {
      "cell_type": "code",
      "source": [
        "coin1.__sideup = 'third side'"
      ],
      "metadata": {
        "id": "HYy3RIq4lm8x"
      },
      "id": "HYy3RIq4lm8x",
      "execution_count": null,
      "outputs": []
    },
    {
      "cell_type": "code",
      "source": [
        "print(coin1.get_sideup())"
      ],
      "metadata": {
        "colab": {
          "base_uri": "https://localhost:8080/"
        },
        "id": "SogtOZgnoZvo",
        "outputId": "59918532-bc5b-45a8-8f06-7b096b63ac81"
      },
      "id": "SogtOZgnoZvo",
      "execution_count": null,
      "outputs": [
        {
          "output_type": "stream",
          "name": "stdout",
          "text": [
            "Tails\n"
          ]
        }
      ]
    },
    {
      "cell_type": "code",
      "source": [],
      "metadata": {
        "id": "Wdey0r5klm5Q"
      },
      "id": "Wdey0r5klm5Q",
      "execution_count": null,
      "outputs": []
    },
    {
      "cell_type": "code",
      "source": [],
      "metadata": {
        "id": "mNwI0PURlmyX"
      },
      "id": "mNwI0PURlmyX",
      "execution_count": null,
      "outputs": []
    },
    {
      "cell_type": "code",
      "execution_count": null,
      "id": "9570b94d-f523-44c9-917e-ec73ebdaf0e4",
      "metadata": {
        "id": "9570b94d-f523-44c9-917e-ec73ebdaf0e4"
      },
      "outputs": [],
      "source": [
        "import random\n",
        "\n",
        "class Coin:\n",
        "\n",
        "    def __init__(self):\n",
        "        self.__sideup = 'Heads'\n",
        "\n",
        "    def toss(self):\n",
        "        if random.randint(0, 1) == 0:\n",
        "            self.__sideup = 'Heads'\n",
        "        else:\n",
        "            self.__sideup = 'Tails'\n",
        "\n",
        "    def get_sideup(self):\n",
        "        return self.__sideup"
      ]
    },
    {
      "cell_type": "code",
      "execution_count": null,
      "id": "e8f5d563-ec8d-4764-ab4d-67202fab087e",
      "metadata": {
        "id": "e8f5d563-ec8d-4764-ab4d-67202fab087e"
      },
      "outputs": [],
      "source": [
        "coin1 = Coin()\n",
        "coin2 = Coin()"
      ]
    },
    {
      "cell_type": "code",
      "execution_count": null,
      "id": "a4205bea-720e-4b2f-a513-e72dee7bef68",
      "metadata": {
        "id": "a4205bea-720e-4b2f-a513-e72dee7bef68",
        "outputId": "06594481-5b9b-4303-ef3e-72482532af13"
      },
      "outputs": [
        {
          "name": "stdout",
          "output_type": "stream",
          "text": [
            "Heads\n",
            "Heads\n"
          ]
        }
      ],
      "source": [
        "print(coin1.get_sideup())\n",
        "print(coin2.get_sideup())"
      ]
    },
    {
      "cell_type": "code",
      "execution_count": null,
      "id": "bb5d96d6-1243-45d2-8a95-5218d371b7d7",
      "metadata": {
        "id": "bb5d96d6-1243-45d2-8a95-5218d371b7d7",
        "outputId": "c84c596e-8d62-4853-f954-fbb348e8fee8"
      },
      "outputs": [
        {
          "name": "stdout",
          "output_type": "stream",
          "text": [
            "Tails\n",
            "Heads\n"
          ]
        }
      ],
      "source": [
        "coin1.toss()\n",
        "coin2.toss()\n",
        "print(coin1.get_sideup())\n",
        "print(coin2.get_sideup())"
      ]
    },
    {
      "cell_type": "code",
      "execution_count": null,
      "id": "6f8a5079-c8b9-4c61-bfc5-6a1114071ee4",
      "metadata": {
        "id": "6f8a5079-c8b9-4c61-bfc5-6a1114071ee4",
        "outputId": "e0f94d91-383d-416f-96a5-9b6a61b5ef8f"
      },
      "outputs": [
        {
          "data": {
            "text/plain": [
              "'Heads'"
            ]
          },
          "execution_count": 23,
          "metadata": {},
          "output_type": "execute_result"
        }
      ],
      "source": [
        "coin1.toss()\n",
        "coin1.get_sideup()"
      ]
    },
    {
      "cell_type": "code",
      "execution_count": null,
      "id": "019409e3-aa6a-4298-a697-0036c6d56372",
      "metadata": {
        "id": "019409e3-aa6a-4298-a697-0036c6d56372"
      },
      "outputs": [],
      "source": [
        "def show_coin_status(coin_obj):\n",
        "    print('This side of the coin is up:', coin_obj.get_sideup())\n",
        "\n",
        "def flip(coin_obj):\n",
        "    coin_obj.toss()"
      ]
    },
    {
      "cell_type": "code",
      "execution_count": null,
      "id": "e665e0a0-710a-4bf6-8f5d-20de111706a5",
      "metadata": {
        "id": "e665e0a0-710a-4bf6-8f5d-20de111706a5"
      },
      "outputs": [],
      "source": [
        "coin1 = Coin()"
      ]
    },
    {
      "cell_type": "code",
      "execution_count": null,
      "id": "8623701d-3b88-44a2-b324-fe56e8898a4d",
      "metadata": {
        "id": "8623701d-3b88-44a2-b324-fe56e8898a4d"
      },
      "outputs": [],
      "source": [
        "flip(coin1)\n",
        "show_coin_status(coin1)\n",
        "coin1.get_sideup()"
      ]
    },
    {
      "cell_type": "markdown",
      "source": [
        "#Bank account"
      ],
      "metadata": {
        "id": "tAbpj9IzZSb5"
      },
      "id": "tAbpj9IzZSb5"
    },
    {
      "cell_type": "code",
      "source": [
        "class bankaccount():\n",
        "  def __init__(self, balance):\n",
        "    self.__balance = balance\n",
        "\n",
        "  def get_balance(self):\n",
        "    return self.__balance\n",
        "\n",
        "  def deposit(self, amount):\n",
        "    self.__balance += amount\n",
        "\n",
        "  def withdraw(self, amount):\n",
        "    if self.__balance >= amount:\n",
        "      self.__balance -= amount\n",
        "    else:\n",
        "      print('Insufficient funds')\n",
        "\n",
        "  def __str__(self):\n",
        "    return 'The account balance is $' + str(self.__balance)"
      ],
      "metadata": {
        "id": "HezNiI4_z2fn"
      },
      "id": "HezNiI4_z2fn",
      "execution_count": null,
      "outputs": []
    },
    {
      "cell_type": "code",
      "source": [
        "Hamdan_balance = bankaccount(2000)\n",
        "print(Hamdan_balance.get_balance())"
      ],
      "metadata": {
        "colab": {
          "base_uri": "https://localhost:8080/"
        },
        "id": "pjxCMPhT0UfO",
        "outputId": "ec657d47-69f7-4ac5-b402-8b1bcd1a48e3"
      },
      "id": "pjxCMPhT0UfO",
      "execution_count": null,
      "outputs": [
        {
          "output_type": "stream",
          "name": "stdout",
          "text": [
            "2000\n"
          ]
        }
      ]
    },
    {
      "cell_type": "code",
      "source": [
        "Hamdan_balance.deposit(200)\n",
        "print(Hamdan_balance.get_balance())"
      ],
      "metadata": {
        "colab": {
          "base_uri": "https://localhost:8080/"
        },
        "id": "4gQ0AEJ-1dYq",
        "outputId": "e76db580-6347-4f83-b852-a646b184e4a7"
      },
      "id": "4gQ0AEJ-1dYq",
      "execution_count": null,
      "outputs": [
        {
          "output_type": "stream",
          "name": "stdout",
          "text": [
            "2200\n"
          ]
        }
      ]
    },
    {
      "cell_type": "code",
      "source": [
        "Hamdan_balance.withdraw(5000)"
      ],
      "metadata": {
        "colab": {
          "base_uri": "https://localhost:8080/"
        },
        "id": "KQWNMdOs1jqF",
        "outputId": "c300aeb9-d38c-4532-f7c9-4ff4217d81cf"
      },
      "id": "KQWNMdOs1jqF",
      "execution_count": null,
      "outputs": [
        {
          "output_type": "stream",
          "name": "stdout",
          "text": [
            "Insufficient funds\n"
          ]
        }
      ]
    },
    {
      "cell_type": "code",
      "source": [
        "text = Hamdan_balance.__str__()\n",
        "print(text)"
      ],
      "metadata": {
        "colab": {
          "base_uri": "https://localhost:8080/"
        },
        "id": "BX2Gx5eG1_PW",
        "outputId": "5795d139-bfb3-4a7b-ac40-f8e9f12af612"
      },
      "id": "BX2Gx5eG1_PW",
      "execution_count": null,
      "outputs": [
        {
          "output_type": "stream",
          "name": "stdout",
          "text": [
            "The account balance is $2200\n"
          ]
        }
      ]
    },
    {
      "cell_type": "code",
      "source": [
        "print(Hamdan_balance)"
      ],
      "metadata": {
        "colab": {
          "base_uri": "https://localhost:8080/"
        },
        "id": "RRa2freJ1p97",
        "outputId": "63363382-67cb-431e-e25d-30ad25cde5c9"
      },
      "id": "RRa2freJ1p97",
      "execution_count": null,
      "outputs": [
        {
          "output_type": "stream",
          "name": "stdout",
          "text": [
            "The account balance is $2200\n"
          ]
        }
      ]
    },
    {
      "cell_type": "code",
      "source": [
        "Khalil_balance = bankaccount(10000)\n",
        "print(Khalil_balance)"
      ],
      "metadata": {
        "colab": {
          "base_uri": "https://localhost:8080/"
        },
        "id": "lpvWklMk2Zb3",
        "outputId": "d00ee105-06f4-4d8f-8a81-26298cdef0a5"
      },
      "id": "lpvWklMk2Zb3",
      "execution_count": null,
      "outputs": [
        {
          "output_type": "stream",
          "name": "stdout",
          "text": [
            "The account balance is $10000\n"
          ]
        }
      ]
    },
    {
      "cell_type": "code",
      "source": [
        "Ahmad_balance = bankaccount(5000)\n",
        "print(Ahmad_balance)"
      ],
      "metadata": {
        "colab": {
          "base_uri": "https://localhost:8080/"
        },
        "id": "yp2CUJ3i2eOW",
        "outputId": "8353e541-9267-4d3d-db8e-653e2a163692"
      },
      "id": "yp2CUJ3i2eOW",
      "execution_count": null,
      "outputs": [
        {
          "output_type": "stream",
          "name": "stdout",
          "text": [
            "The account balance is $5000\n"
          ]
        }
      ]
    },
    {
      "cell_type": "code",
      "source": [
        "if Ahmad_balance.get_balance() > Khalil_balance.get_balance():\n",
        "  print('Ahmad has more money')\n",
        "else:\n",
        "  print('Khalil has more money')"
      ],
      "metadata": {
        "colab": {
          "base_uri": "https://localhost:8080/"
        },
        "id": "sMJUY0cd25hR",
        "outputId": "78c43dcc-8ff2-4237-e1cb-3deec8ed407b"
      },
      "id": "sMJUY0cd25hR",
      "execution_count": null,
      "outputs": [
        {
          "output_type": "stream",
          "name": "stdout",
          "text": [
            "Khalil has more money\n"
          ]
        }
      ]
    },
    {
      "cell_type": "code",
      "source": [
        "def compare_balance(account1, account2):\n",
        "  if account1.get_balance() > account2.get_balance():\n",
        "    print('The first account has more money')\n",
        "  else:\n",
        "    print('The second has more money')"
      ],
      "metadata": {
        "id": "HT1t0jUU5G0O"
      },
      "id": "HT1t0jUU5G0O",
      "execution_count": null,
      "outputs": []
    },
    {
      "cell_type": "code",
      "source": [
        "compare_balance(Ahmad_balance, Khalil_balance)"
      ],
      "metadata": {
        "colab": {
          "base_uri": "https://localhost:8080/"
        },
        "id": "_Yb7dgLh5aJQ",
        "outputId": "45e2f332-5fa7-40ac-8087-9c5029a9f949"
      },
      "id": "_Yb7dgLh5aJQ",
      "execution_count": null,
      "outputs": [
        {
          "output_type": "stream",
          "name": "stdout",
          "text": [
            "The second has more money\n"
          ]
        }
      ]
    },
    {
      "cell_type": "markdown",
      "source": [
        "Move 1000 dollars from kalil account to Ahmad"
      ],
      "metadata": {
        "id": "wo-SkeUH3JNP"
      },
      "id": "wo-SkeUH3JNP"
    },
    {
      "cell_type": "code",
      "source": [
        "if Khalil_balance.get_balance() >= 1000:\n",
        "  Khalil_balance.withdraw(1000)\n",
        "  Ahmad_balance.deposit(1000)\n",
        "  print('Transfer completed')\n",
        "else:\n",
        "  print('Insufficient funds')"
      ],
      "metadata": {
        "colab": {
          "base_uri": "https://localhost:8080/"
        },
        "id": "FwBFDi663INP",
        "outputId": "f73efcf7-7eaf-4b04-a704-75065205a29e"
      },
      "id": "FwBFDi663INP",
      "execution_count": null,
      "outputs": [
        {
          "output_type": "stream",
          "name": "stdout",
          "text": [
            "Transfer completed\n"
          ]
        }
      ]
    },
    {
      "cell_type": "code",
      "source": [
        "!git clone https://github.com/hamdanabdellatef/python.git\n",
        "%cd /content/python"
      ],
      "metadata": {
        "id": "4gH3qCDLZVZI",
        "colab": {
          "base_uri": "https://localhost:8080/"
        },
        "outputId": "91b0df0b-1084-4edf-dda3-c75aa138cf96"
      },
      "id": "4gH3qCDLZVZI",
      "execution_count": null,
      "outputs": [
        {
          "output_type": "stream",
          "name": "stdout",
          "text": [
            "Cloning into 'python'...\n",
            "remote: Enumerating objects: 58, done.\u001b[K\n",
            "remote: Counting objects: 100% (58/58), done.\u001b[K\n",
            "remote: Compressing objects: 100% (57/57), done.\u001b[K\n",
            "remote: Total 58 (delta 26), reused 0 (delta 0), pack-reused 0 (from 0)\u001b[K\n",
            "Receiving objects: 100% (58/58), 98.15 KiB | 3.50 MiB/s, done.\n",
            "Resolving deltas: 100% (26/26), done.\n",
            "/content/python\n"
          ]
        }
      ]
    },
    {
      "cell_type": "code",
      "execution_count": null,
      "id": "ef96144c-13f9-4edf-84c6-56af4ec9e5c7",
      "metadata": {
        "id": "ef96144c-13f9-4edf-84c6-56af4ec9e5c7"
      },
      "outputs": [],
      "source": [
        "import bankaccount"
      ]
    },
    {
      "cell_type": "code",
      "execution_count": null,
      "id": "2fa80e7a-d1ce-45f6-8587-f4cd29363b47",
      "metadata": {
        "id": "2fa80e7a-d1ce-45f6-8587-f4cd29363b47"
      },
      "outputs": [],
      "source": [
        "my_balance = bankaccount.BankAccount(2000)"
      ]
    },
    {
      "cell_type": "code",
      "execution_count": null,
      "id": "6110aa16-c099-4707-b320-6f59bb0f534f",
      "metadata": {
        "id": "6110aa16-c099-4707-b320-6f59bb0f534f",
        "outputId": "455af793-c3a1-48ca-9006-f3b530195f37"
      },
      "outputs": [
        {
          "name": "stdout",
          "output_type": "stream",
          "text": [
            "The balance is $2,200.00\n"
          ]
        }
      ],
      "source": [
        "my_balance.deposit(200)\n",
        "print(my_balance)"
      ]
    },
    {
      "cell_type": "code",
      "execution_count": null,
      "id": "e6f8d109-688e-4909-9ddb-d4c63f31d868",
      "metadata": {
        "id": "e6f8d109-688e-4909-9ddb-d4c63f31d868",
        "outputId": "7005ad9e-60e2-4ca5-9b4e-6df51812ed70"
      },
      "outputs": [
        {
          "name": "stdout",
          "output_type": "stream",
          "text": [
            "Error: Insufficient funds\n"
          ]
        }
      ],
      "source": [
        "my_balance.withdraw(5000)"
      ]
    },
    {
      "cell_type": "code",
      "execution_count": null,
      "id": "1dc476e3-df65-44ea-b978-554745d6305a",
      "metadata": {
        "id": "1dc476e3-df65-44ea-b978-554745d6305a",
        "outputId": "40fe4963-d823-42e6-cf40-a9368a365637"
      },
      "outputs": [
        {
          "name": "stdout",
          "output_type": "stream",
          "text": [
            "The balance is $2,200.00\n"
          ]
        }
      ],
      "source": [
        "print(my_balance)"
      ]
    },
    {
      "cell_type": "code",
      "execution_count": null,
      "id": "2370045f-40b1-4173-91f4-f28cbb8789a5",
      "metadata": {
        "id": "2370045f-40b1-4173-91f4-f28cbb8789a5"
      },
      "outputs": [],
      "source": []
    }
  ],
  "metadata": {
    "kernelspec": {
      "display_name": "Python 3 (ipykernel)",
      "language": "python",
      "name": "python3"
    },
    "language_info": {
      "codemirror_mode": {
        "name": "ipython",
        "version": 3
      },
      "file_extension": ".py",
      "mimetype": "text/x-python",
      "name": "python",
      "nbconvert_exporter": "python",
      "pygments_lexer": "ipython3",
      "version": "3.11.5"
    },
    "colab": {
      "provenance": [],
      "include_colab_link": true
    }
  },
  "nbformat": 4,
  "nbformat_minor": 5
}