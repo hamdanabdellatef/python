{
  "nbformat": 4,
  "nbformat_minor": 0,
  "metadata": {
    "colab": {
      "provenance": [],
      "authorship_tag": "ABX9TyNNBo5anLqunrEDEijM0kBE",
      "include_colab_link": true
    },
    "kernelspec": {
      "name": "python3",
      "display_name": "Python 3"
    },
    "language_info": {
      "name": "python"
    }
  },
  "cells": [
    {
      "cell_type": "markdown",
      "metadata": {
        "id": "view-in-github",
        "colab_type": "text"
      },
      "source": [
        "<a href=\"https://colab.research.google.com/github/hamdanabdellatef/python/blob/main/Module3_Repeatition_Structures.ipynb\" target=\"_parent\"><img src=\"https://colab.research.google.com/assets/colab-badge.svg\" alt=\"Open In Colab\"/></a>"
      ]
    },
    {
      "cell_type": "markdown",
      "source": [
        "#Introduction to Repetition Structures (Loops)\n",
        "\n",
        "Imagine you want to do something many times. Instead of copy-pasting the same line again and again, you can use loops!"
      ],
      "metadata": {
        "id": "5pZXZOjj1VSu"
      }
    },
    {
      "cell_type": "markdown",
      "source": [
        "##Count-Controlled Loop (using for)\n",
        "Do something a specific number of times.\n",
        "\n",
        "Example print Hello 5 times"
      ],
      "metadata": {
        "id": "0kydnxjG1hgf"
      }
    },
    {
      "cell_type": "code",
      "source": [],
      "metadata": {
        "id": "A5vjng1-1hBv"
      },
      "execution_count": null,
      "outputs": []
    },
    {
      "cell_type": "code",
      "execution_count": null,
      "metadata": {
        "id": "Koyvw60j1LBT"
      },
      "outputs": [],
      "source": []
    },
    {
      "cell_type": "markdown",
      "source": [
        "## Condition-Controlled Loop (using while)\n",
        "Do something while a condition is true.\n",
        "\n",
        "Example: Ask for a password until the user types \"secret\""
      ],
      "metadata": {
        "id": "YZExPVTQ1obz"
      }
    },
    {
      "cell_type": "code",
      "source": [],
      "metadata": {
        "id": "3z6fujAK11wg"
      },
      "execution_count": null,
      "outputs": []
    },
    {
      "cell_type": "code",
      "source": [],
      "metadata": {
        "id": "5Ditn3iu12fr"
      },
      "execution_count": null,
      "outputs": []
    }
  ]
}