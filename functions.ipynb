{
  "nbformat": 4,
  "nbformat_minor": 0,
  "metadata": {
    "colab": {
      "provenance": [],
      "authorship_tag": "ABX9TyOMqFfWx8uJV7UT27t32NmD",
      "include_colab_link": true
    },
    "kernelspec": {
      "name": "python3",
      "display_name": "Python 3"
    },
    "language_info": {
      "name": "python"
    }
  },
  "cells": [
    {
      "cell_type": "markdown",
      "metadata": {
        "id": "view-in-github",
        "colab_type": "text"
      },
      "source": [
        "<a href=\"https://colab.research.google.com/github/hamdanabdellatef/python/blob/main/functions.ipynb\" target=\"_parent\"><img src=\"https://colab.research.google.com/assets/colab-badge.svg\" alt=\"Open In Colab\"/></a>"
      ]
    },
    {
      "cell_type": "markdown",
      "source": [
        "#Functions\n",
        "\n",
        "The chapter is going to cover the following:\n",
        "\n",
        "1. Introduction to Functions\n",
        "2. Defining and Calling a Void Function\n",
        "3. Designing a Program to Use Functions\n",
        "4. Local Variables\n",
        "5. Passing Arguments to Functions\n",
        "6. Global Variables and Global Constants\n",
        "7. Introduction to Value-Returning Functions:\n",
        "8. Generating Random Numbers\n",
        "9. Writing Your Own Value-Returning Functions\n",
        "10. The math Module\n",
        "11. Storing Functions in Modules\n"
      ],
      "metadata": {
        "id": "hh7B0lrIrkvj"
      }
    },
    {
      "cell_type": "markdown",
      "source": [
        "## Introduction to Functions\n",
        "**Function**: group of statements within  a program that perform as specific task\n",
        "\n",
        "* Usually one task of a large program\n",
        "* Functions can be executed in order to perform overall program task\n",
        "* Known as divide and conquer approach\n",
        "\n",
        "**Modularized program**: program wherein each task within the program is in its own function\n",
        "\n"
      ],
      "metadata": {
        "id": "CL436oi4spNF"
      }
    },
    {
      "cell_type": "markdown",
      "source": [
        "Remember the bisection example."
      ],
      "metadata": {
        "id": "6FDd1viXvvfo"
      }
    },
    {
      "cell_type": "code",
      "execution_count": 3,
      "metadata": {
        "colab": {
          "base_uri": "https://localhost:8080/"
        },
        "id": "XIT6GS2irjrR",
        "outputId": "fd77f1c7-be65-4cd1-87f0-9e02c27de043"
      },
      "outputs": [
        {
          "output_type": "stream",
          "name": "stdout",
          "text": [
            "enter x (x>1): 40\n",
            "the square root of 40.0 is approximately: 6.324555320336803\n"
          ]
        }
      ],
      "source": [
        "x = float(input(\"enter x (x>1): \"))\n",
        "eps = 1E-12\n",
        "\n",
        "low = 1\n",
        "high = x\n",
        "mid = (low + high)/2\n",
        "while(abs(mid*mid - x) > eps):\n",
        "    if mid*mid < x:\n",
        "        low = mid\n",
        "    else:\n",
        "        high = mid\n",
        "    mid = (low + high)/2\n",
        "print(\"the square root of\", x,\"is approximately:\", mid)"
      ]
    },
    {
      "cell_type": "markdown",
      "source": [
        "Now we can write the function once and call it whenever we want"
      ],
      "metadata": {
        "id": "E9yn5lPzw6TU"
      }
    },
    {
      "cell_type": "code",
      "source": [
        "def bisection_sqrt(x):\n",
        "  eps = 1E-12\n",
        "\n",
        "  low = 1\n",
        "  high = x\n",
        "  mid = (low + high)/2\n",
        "  while(abs(mid*mid - x) > eps):\n",
        "      if mid*mid < x:\n",
        "          low = mid\n",
        "      else:\n",
        "          high = mid\n",
        "      mid = (low + high)/2\n",
        "\n",
        "  return mid"
      ],
      "metadata": {
        "id": "IgMhM7Ubw54V"
      },
      "execution_count": 7,
      "outputs": []
    },
    {
      "cell_type": "markdown",
      "source": [
        "Lets use the function"
      ],
      "metadata": {
        "id": "4PbYWhFGxODM"
      }
    },
    {
      "cell_type": "code",
      "source": [
        "x = float(input(\"enter x (x>1): \"))\n",
        "\n",
        "sqrt_x = bisection_sqrt(x)\n",
        "print(\"the square root of\", x,\"is approximately:\", sqrt_x)\n",
        "\n",
        "sqrt_sqrt_x = bisection_sqrt(sqrt_x)\n",
        "print(\"the square root of\", sqrt_x,\"is approximately:\", sqrt_sqrt_x)"
      ],
      "metadata": {
        "colab": {
          "base_uri": "https://localhost:8080/"
        },
        "id": "7lxiTUF5xNde",
        "outputId": "4495aeab-c0da-4e25-a9c5-61058c3720a5"
      },
      "execution_count": 9,
      "outputs": [
        {
          "output_type": "stream",
          "name": "stdout",
          "text": [
            "enter x (x>1): 40\n",
            "the square root of 40.0 is approximately: 6.324555320336803\n",
            "the square root of 6.324555320336803 is approximately: 2.51486685936578\n"
          ]
        }
      ]
    },
    {
      "cell_type": "markdown",
      "source": [
        "#Defining and Calling a Void Function\n"
      ],
      "metadata": {
        "id": "Mi1ehZ5wz01C"
      }
    },
    {
      "cell_type": "code",
      "source": [
        "def print_lyrics():\n",
        "  print(\"I'm a lumberjack, and I'm okay.\")\n",
        "  print(\"I sleep all night and I work all day.\")"
      ],
      "metadata": {
        "id": "f0yJfZut0ZQI"
      },
      "execution_count": 10,
      "outputs": []
    },
    {
      "cell_type": "code",
      "source": [
        "x = print_lyrics()\n",
        "\n",
        "print(x)"
      ],
      "metadata": {
        "colab": {
          "base_uri": "https://localhost:8080/"
        },
        "id": "jvt3z9nQ0nLE",
        "outputId": "4d24c763-b110-4a02-9fc5-da2d156d8148"
      },
      "execution_count": 12,
      "outputs": [
        {
          "output_type": "stream",
          "name": "stdout",
          "text": [
            "I'm a lumberjack, and I'm okay.\n",
            "I sleep all night and I work all day.\n",
            "None\n"
          ]
        }
      ]
    },
    {
      "cell_type": "markdown",
      "source": [
        "## Local Variables\n",
        "**Local variable**: variable that is assigned a value inside a function\n",
        "* Belongs to the function in which it was created\n",
        "* Only statements inside that function can access it, error will occur if another function tries to access the variable\n",
        "\n",
        "**Scope**: the part of a program in which a variable may be accessed\n",
        "For local variable: function in which created\n"
      ],
      "metadata": {
        "id": "STS2w6aT0qRj"
      }
    },
    {
      "cell_type": "code",
      "source": [
        "y = 10\n",
        "print(\"This is y outside the function \",y) # (1) This ... 10\n",
        "\n",
        "def squarer(x): # x = y = 10\n",
        "    y = x * x # here y is local var in squarer y = 100\n",
        "    print(\"This is y inside the function \",y) # (3) This is .... 100\n",
        "    return y\n",
        "\n",
        "print(\"This is y outside the function again \",y) # (2) This is .... 10\n",
        "z = squarer(y) # here z is 100\n",
        "\n",
        "print(\"This is y outside the function again 2nd time \",y) # (4) This is .... 10\n",
        "print(z) #100"
      ],
      "metadata": {
        "colab": {
          "base_uri": "https://localhost:8080/"
        },
        "id": "EI5bBNpY1WNP",
        "outputId": "e9bd6ff6-bb46-491e-d505-db85f2ada662"
      },
      "execution_count": 13,
      "outputs": [
        {
          "output_type": "stream",
          "name": "stdout",
          "text": [
            "This is y outside the function  10\n",
            "This is y outside the function again  10\n",
            "This is y inside the function  100\n",
            "This is y outside the function again 2nd time  10\n",
            "100\n"
          ]
        }
      ]
    },
    {
      "cell_type": "code",
      "source": [
        "y = 10\n",
        "\n",
        "def mul_with_y(x):\n",
        "    y = 5\n",
        "    b = 10\n",
        "    return x * y\n",
        "b = 100\n",
        "a = 5 + b\n",
        "\n",
        "z = mul_with_y(a)\n",
        "print(z)"
      ],
      "metadata": {
        "colab": {
          "base_uri": "https://localhost:8080/"
        },
        "id": "tOXyP_4t1fgm",
        "outputId": "eb1a9be4-a1dd-4a92-c71e-75cd6283052c"
      },
      "execution_count": 15,
      "outputs": [
        {
          "output_type": "stream",
          "name": "stdout",
          "text": [
            "525\n"
          ]
        }
      ]
    },
    {
      "cell_type": "markdown",
      "source": [
        "## Passing Arguments to Functions"
      ],
      "metadata": {
        "id": "D5soAJ4JHvyA"
      }
    },
    {
      "cell_type": "code",
      "source": [
        "def show_double(number):\n",
        "    result = number * 2\n",
        "    print(result)\n",
        "    return result\n",
        "\n",
        "value = 5\n",
        "x = show_double(value)\n",
        "print(x)"
      ],
      "metadata": {
        "colab": {
          "base_uri": "https://localhost:8080/"
        },
        "id": "raGY7gIfHvK-",
        "outputId": "7db025f8-b449-41c0-d242-6def2114e7ae"
      },
      "execution_count": 16,
      "outputs": [
        {
          "output_type": "stream",
          "name": "stdout",
          "text": [
            "10\n",
            "10\n"
          ]
        }
      ]
    },
    {
      "cell_type": "code",
      "source": [
        "def show_mul(num1,num2,num3):\n",
        "    result = num1*num2*num3\n",
        "    print(result)\n",
        "\n",
        "show_mul(2,3,-2.3)"
      ],
      "metadata": {
        "colab": {
          "base_uri": "https://localhost:8080/"
        },
        "id": "5Svjw7sMH-mB",
        "outputId": "5b587a03-7e03-4abe-e50a-51f6635affcb"
      },
      "execution_count": 17,
      "outputs": [
        {
          "output_type": "stream",
          "name": "stdout",
          "text": [
            "-13.799999999999999\n"
          ]
        }
      ]
    },
    {
      "cell_type": "code",
      "source": [
        "def bisection_sqrt(x, epsilon=1E-6):\n",
        "    #condition_1 = (type(x) == int or type(x) == float) and x > 1\n",
        "    #assert condition_1, \"Bad input x!\"\n",
        "    low = 1\n",
        "    high = x\n",
        "    mid = (low + high)/2\n",
        "    while abs(mid*mid - x) > epsilon:\n",
        "        if mid*mid < x:\n",
        "            low = mid\n",
        "        else:\n",
        "            high = mid\n",
        "        mid = (low + high)/2\n",
        "    return mid"
      ],
      "metadata": {
        "id": "HxGmC14HH-bb"
      },
      "execution_count": 22,
      "outputs": []
    },
    {
      "cell_type": "code",
      "source": [
        "x = int(input(\"enter x (x>1): \"))\n",
        "sqrt_x = bisection_sqrt(x)\n",
        "print(\"the square root of\", x,\"is approximately:\", sqrt_x)\n",
        "\n",
        "sqrt_x = bisection_sqrt(x, epsilon=1E-8)\n",
        "print(\"the square root of\", x,\"is approximately:\", sqrt_x)\n",
        "\n",
        "sqrt_x = bisection_sqrt(x, 1E-12)\n",
        "print(\"the square root of\", x,\"is approximately:\", sqrt_x)\n",
        "\n",
        "\n"
      ],
      "metadata": {
        "colab": {
          "base_uri": "https://localhost:8080/"
        },
        "id": "wEsXqHNjJEDN",
        "outputId": "7abf4a93-95de-4713-ed2b-a7418f53c1cb"
      },
      "execution_count": 26,
      "outputs": [
        {
          "output_type": "stream",
          "name": "stdout",
          "text": [
            "enter x (x>1): 5\n",
            "the square root of 5 is approximately: 2.236067771911621\n",
            "the square root of 5 is approximately: 2.2360679768025875\n",
            "the square root of 5 is approximately: 2.236067977499715\n"
          ]
        }
      ]
    },
    {
      "cell_type": "markdown",
      "source": [
        "## Global Variables and Global Constants"
      ],
      "metadata": {
        "id": "YHZlw871LJDi"
      }
    },
    {
      "cell_type": "code",
      "source": [
        "gvar = 10\n",
        "\n",
        "\n",
        "def get_gvar_value():\n",
        "    y = gvar\n",
        "    return y\n",
        "\n",
        "\n",
        "x = get_gvar_value()\n",
        "\n",
        "print(x)"
      ],
      "metadata": {
        "colab": {
          "base_uri": "https://localhost:8080/"
        },
        "id": "D2RCoxISL8Ye",
        "outputId": "c343a723-860d-45dd-cae0-db619c85b25a"
      },
      "execution_count": 31,
      "outputs": [
        {
          "output_type": "stream",
          "name": "stdout",
          "text": [
            "10\n"
          ]
        }
      ]
    },
    {
      "cell_type": "code",
      "source": [
        "def change_x(a):\n",
        "    x = a # x = 3\n",
        "    print(\"x in the function is: \",x) # (1) x in the function is 3\n",
        "x = 2\n",
        "y = 3\n",
        "change_x(y)\n",
        "print(\"x out of the function is: \",x) # (2) x out of .. 2"
      ],
      "metadata": {
        "colab": {
          "base_uri": "https://localhost:8080/"
        },
        "id": "AFO9LHw2LogW",
        "outputId": "e59dbe9c-1890-4e5c-a4ef-765080680474"
      },
      "execution_count": 32,
      "outputs": [
        {
          "output_type": "stream",
          "name": "stdout",
          "text": [
            "x in the function is:  3\n",
            "x out of the function is:  2\n"
          ]
        }
      ]
    },
    {
      "cell_type": "code",
      "source": [
        "def change_x(a):\n",
        "    global x # x  = 2\n",
        "    x = a # x = 3\n",
        "    print(\"x in the function is: \",x) # (1) x in the function is 3\n",
        "x = 2\n",
        "y = 3\n",
        "change_x(y)\n",
        "print(\"x out of the function is: \",x) # (2) x out of .. 2"
      ],
      "metadata": {
        "colab": {
          "base_uri": "https://localhost:8080/"
        },
        "id": "yH-zVuiAOYqn",
        "outputId": "54302a78-6baf-4998-d5fc-b24e3c434b49"
      },
      "execution_count": 33,
      "outputs": [
        {
          "output_type": "stream",
          "name": "stdout",
          "text": [
            "x in the function is:  3\n",
            "x out of the function is:  3\n"
          ]
        }
      ]
    },
    {
      "cell_type": "markdown",
      "source": [
        "**Warning**: please avoid using global variables unless it is really necesiary to do that."
      ],
      "metadata": {
        "id": "sb7H_cs-Omm-"
      }
    },
    {
      "cell_type": "markdown",
      "source": [
        "## Generating Random Numbers"
      ],
      "metadata": {
        "id": "CoJ4Ja31SwJe"
      }
    },
    {
      "cell_type": "code",
      "source": [
        "import random\n",
        "#random.seed(76)\n",
        "print(random.randint(1,200))\n",
        "print(random.random())\n",
        "print(random.uniform(1,1000))\n",
        "\n",
        "for x in range(3):\n",
        "    print(random.randrange(1,10,2))"
      ],
      "metadata": {
        "colab": {
          "base_uri": "https://localhost:8080/"
        },
        "id": "J5LeBfnbSwp9",
        "outputId": "76101f6b-690f-4a09-887f-4f6dc0a0fcfe"
      },
      "execution_count": 43,
      "outputs": [
        {
          "output_type": "stream",
          "name": "stdout",
          "text": [
            "22\n",
            "0.3346538010773862\n",
            "302.63636620488836\n",
            "5\n",
            "9\n",
            "1\n"
          ]
        }
      ]
    },
    {
      "cell_type": "markdown",
      "source": [
        "## Writing Your Own Value-Returning Functions"
      ],
      "metadata": {
        "id": "Jle4ovx6W3-B"
      }
    },
    {
      "cell_type": "code",
      "source": [
        "def is_prime(n):\n",
        "    isprime = True\n",
        "    for d in range(2,n):\n",
        "        if n%d == 0:\n",
        "            isprime = False\n",
        "            break\n",
        "\n",
        "    return isprime"
      ],
      "metadata": {
        "id": "PdVcJE83W3nJ"
      },
      "execution_count": null,
      "outputs": []
    },
    {
      "cell_type": "code",
      "source": [
        "x = 124822\n",
        "if is_prime(x):\n",
        "    print(\"{} is a prime number\".format(x))\n",
        "else:\n",
        "    print(\"{} is not a prime number\".format(x))"
      ],
      "metadata": {
        "id": "Wtk7N57UW-_7"
      },
      "execution_count": null,
      "outputs": []
    },
    {
      "cell_type": "code",
      "source": [
        "def min_max(L):\n",
        "    mn = min(L)\n",
        "    mx = max(L)\n",
        "    return mn, mx\n",
        "\n",
        "a, b = min_max([5,8,7,10,11])\n",
        "print(a,b)"
      ],
      "metadata": {
        "colab": {
          "base_uri": "https://localhost:8080/"
        },
        "id": "OJ_fDfATXASA",
        "outputId": "8d6d2167-8c0d-4149-9faa-7beb026038ac"
      },
      "execution_count": 44,
      "outputs": [
        {
          "output_type": "stream",
          "name": "stdout",
          "text": [
            "5 11\n"
          ]
        }
      ]
    },
    {
      "cell_type": "code",
      "source": [
        "def sum_mul(num1,num2):\n",
        "    sum = num1 + num2\n",
        "    mul = num1 * num2\n",
        "    return sum, mul\n",
        "\n",
        "a, b = sum_mul(2,3)\n",
        "print(a,b)\n"
      ],
      "metadata": {
        "colab": {
          "base_uri": "https://localhost:8080/"
        },
        "id": "7eg3s2JkXZro",
        "outputId": "4695ce02-c361-467d-edbd-d7140a66c6e8"
      },
      "execution_count": 45,
      "outputs": [
        {
          "output_type": "stream",
          "name": "stdout",
          "text": [
            "5 6\n"
          ]
        }
      ]
    },
    {
      "cell_type": "markdown",
      "source": [
        "## The math Module"
      ],
      "metadata": {
        "id": "AQPOQ3XIXjuI"
      }
    },
    {
      "cell_type": "code",
      "source": [
        "from math import sqrt\n",
        "sqrt(x)"
      ],
      "metadata": {
        "id": "SLEVOFwyYAVB"
      },
      "execution_count": null,
      "outputs": []
    },
    {
      "cell_type": "markdown",
      "source": [
        "## Storing Functions in Modules"
      ],
      "metadata": {
        "id": "VedCy1AXX0qb"
      }
    },
    {
      "cell_type": "code",
      "source": [
        "import circle\n",
        "\n",
        "r = 6\n",
        "\n",
        "area_circle = circle.area(r)\n",
        "print(area_circle)\n",
        "\n",
        "print(circle.circumference(r))"
      ],
      "metadata": {
        "id": "l3UbycuTYKdt"
      },
      "execution_count": null,
      "outputs": []
    },
    {
      "cell_type": "code",
      "source": [
        "from circle import area\n",
        "\n",
        "r = 13\n",
        "\n",
        "area_circle = area(r)\n",
        "print(area_circle)"
      ],
      "metadata": {
        "id": "bVlm4OInYciY"
      },
      "execution_count": null,
      "outputs": []
    }
  ]
}