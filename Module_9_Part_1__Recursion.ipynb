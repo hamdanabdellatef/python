{
  "cells": [
    {
      "cell_type": "markdown",
      "metadata": {
        "id": "view-in-github",
        "colab_type": "text"
      },
      "source": [
        "<a href=\"https://colab.research.google.com/github/hamdanabdellatef/python/blob/main/Module_9_Part_1__Recursion.ipynb\" target=\"_parent\"><img src=\"https://colab.research.google.com/assets/colab-badge.svg\" alt=\"Open In Colab\"/></a>"
      ]
    },
    {
      "cell_type": "markdown",
      "source": [
        "#Introduction to Recursion\n",
        "Recursion is one of the most powerful techniques in computer programming. Instead of solving a big problem all at once, recursion allows us to break the problem into smaller sub-problems of the same type. A recursive function is a function that calls itself until it reaches a condition where it can stop (known as the base case).\n",
        "\n",
        "###Why Learn Recursion?\n",
        "\n",
        "-It simplifies the solution for problems that have a self-similar structure (e.g., factorial, Fibonacci sequence, tree traversal).\n",
        "- It provides a new way of thinking about problems in terms of divide and conquer.\n",
        "- It builds the foundation for understanding algorithms and data structures such as sorting, searching, and dynamic programming.\n",
        "\n",
        "###Key Concepts\n",
        "\n",
        "- **Base Case** → The condition where recursion stops.\n",
        "- **Recursive Case** → The part of the function where it calls itself with a smaller input.\n",
        "\n",
        "\n",
        "###In this notebook, we will:\n",
        "\n",
        "- Explore the fundamentals of recursion.\n",
        "- Work through classic examples (factorial, Fibonacci, etc.).\n",
        "- Analyze recursion in terms of time complexity.\n",
        "- Compare recursion vs iteration to understand their trade-offs"
      ],
      "metadata": {
        "id": "yK1Yyo2Z_sPn"
      },
      "id": "yK1Yyo2Z_sPn"
    },
    {
      "cell_type": "markdown",
      "source": [
        "#What is Recursion"
      ],
      "metadata": {
        "id": "HRxfRNr9aSvB"
      },
      "id": "HRxfRNr9aSvB"
    },
    {
      "cell_type": "markdown",
      "source": [
        "First Recursive function"
      ],
      "metadata": {
        "id": "Oei9lToybZUx"
      },
      "id": "Oei9lToybZUx"
    },
    {
      "cell_type": "code",
      "source": [
        "def message(times):\n",
        "  print('times =',times)\n",
        "  if times > 0:\n",
        "    print(\"This is a recursive function\")\n",
        "    message(times - 1)\n",
        "    print('times after the recursive call =',times)\n",
        "  print('Goodbye with times = ', times)"
      ],
      "metadata": {
        "id": "FBkIEkjSaSZI"
      },
      "id": "FBkIEkjSaSZI",
      "execution_count": 10,
      "outputs": []
    },
    {
      "cell_type": "code",
      "source": [
        "message(5)"
      ],
      "metadata": {
        "colab": {
          "base_uri": "https://localhost:8080/"
        },
        "id": "cmS9o9TKbuY1",
        "outputId": "44ce7c58-0827-4b37-9ffb-0b862e775bc5"
      },
      "id": "cmS9o9TKbuY1",
      "execution_count": 11,
      "outputs": [
        {
          "output_type": "stream",
          "name": "stdout",
          "text": [
            "times = 5\n",
            "This is a recursive function\n",
            "times = 4\n",
            "This is a recursive function\n",
            "times = 3\n",
            "This is a recursive function\n",
            "times = 2\n",
            "This is a recursive function\n",
            "times = 1\n",
            "This is a recursive function\n",
            "times = 0\n",
            "Goodbye with times =  0\n",
            "times after the recursive call = 1\n",
            "Goodbye with times =  1\n",
            "times after the recursive call = 2\n",
            "Goodbye with times =  2\n",
            "times after the recursive call = 3\n",
            "Goodbye with times =  3\n",
            "times after the recursive call = 4\n",
            "Goodbye with times =  4\n",
            "times after the recursive call = 5\n",
            "Goodbye with times =  5\n"
          ]
        }
      ]
    },
    {
      "cell_type": "markdown",
      "source": [
        "Lets write this in format of:\n",
        "- base case (times = 0)\n",
        "- recursive case\n"
      ],
      "metadata": {
        "id": "vzZ9LCoZanjx"
      },
      "id": "vzZ9LCoZanjx"
    },
    {
      "cell_type": "code",
      "source": [
        "def message_recursive(times):\n",
        "  if times == 0: # Base case\n",
        "    print('This is the base case')\n",
        "    return\n",
        "  else: #Recursive case\n",
        "    print(\"This is a recursive function\")\n",
        "    message_recursive(times - 1)\n",
        "\n",
        "message_recursive(5)"
      ],
      "metadata": {
        "colab": {
          "base_uri": "https://localhost:8080/"
        },
        "id": "DD6LK_pwdKO9",
        "outputId": "4488ada9-933f-4c64-ffa0-f5adb956d4fa"
      },
      "id": "DD6LK_pwdKO9",
      "execution_count": 12,
      "outputs": [
        {
          "output_type": "stream",
          "name": "stdout",
          "text": [
            "This is a recursive function\n",
            "This is a recursive function\n",
            "This is a recursive function\n",
            "This is a recursive function\n",
            "This is a recursive function\n",
            "This is the base case\n"
          ]
        }
      ]
    },
    {
      "cell_type": "markdown",
      "source": [
        "#Writing Recursive Functions"
      ],
      "metadata": {
        "id": "sZrZumGOa2BP"
      },
      "id": "sZrZumGOa2BP"
    },
    {
      "cell_type": "markdown",
      "source": [
        "##Writing the factorial function"
      ],
      "metadata": {
        "id": "OGYLMvizeMCK"
      },
      "id": "OGYLMvizeMCK"
    },
    {
      "cell_type": "code",
      "source": [
        "def factorial(n):\n",
        "    if n==0:\n",
        "        print(\"Base case reached, return 1\")\n",
        "        return 1\n",
        "    else:\n",
        "        print(\"Recursive call for\", n,\"* factorial(\",n-1,\")\")\n",
        "        return n*factorial(n-1)"
      ],
      "metadata": {
        "id": "Hjp8_Nw2hY4x"
      },
      "id": "Hjp8_Nw2hY4x",
      "execution_count": 13,
      "outputs": []
    },
    {
      "cell_type": "code",
      "source": [
        "x = factorial(4)"
      ],
      "metadata": {
        "colab": {
          "base_uri": "https://localhost:8080/"
        },
        "id": "fMdF4tvghmih",
        "outputId": "9f7f1c27-7d41-4617-bfde-88bf0a4d9a8a"
      },
      "id": "fMdF4tvghmih",
      "execution_count": 14,
      "outputs": [
        {
          "output_type": "stream",
          "name": "stdout",
          "text": [
            "Recursive call for 4 * factorial( 3 )\n",
            "Recursive call for 3 * factorial( 2 )\n",
            "Recursive call for 2 * factorial( 1 )\n",
            "Recursive call for 1 * factorial( 0 )\n",
            "Base case reached, return 1\n"
          ]
        }
      ]
    },
    {
      "cell_type": "code",
      "source": [
        "print(x)"
      ],
      "metadata": {
        "colab": {
          "base_uri": "https://localhost:8080/"
        },
        "id": "WrWuMBJShyVU",
        "outputId": "8a30ec03-b215-4d60-e799-e481ae188d17"
      },
      "id": "WrWuMBJShyVU",
      "execution_count": 15,
      "outputs": [
        {
          "output_type": "stream",
          "name": "stdout",
          "text": [
            "24\n"
          ]
        }
      ]
    },
    {
      "cell_type": "markdown",
      "source": [
        "##Summing a range of list elements with recursion\n",
        "Function receives a list containing range of elements to be summed, index of starting item in the range, and index of ending item in the range\n",
        "\n",
        "- Base case:\n",
        " - `if start_index > end_index return 0`\n",
        "- Recursive case:\n",
        " - return current_number + sum(list, start+1, end)\n"
      ],
      "metadata": {
        "id": "gIL2YosHeRBC"
      },
      "id": "gIL2YosHeRBC"
    },
    {
      "cell_type": "code",
      "source": [
        "def recursive_range_sum(num_list,start_index,end_index):\n",
        "    if start_index > end_index:\n",
        "        return 0\n",
        "    else:\n",
        "        return num_list[start_index]+recursive_range_sum(num_list,start_index+1,end_index)"
      ],
      "metadata": {
        "id": "zMGbZcm1iFk4"
      },
      "id": "zMGbZcm1iFk4",
      "execution_count": 16,
      "outputs": []
    },
    {
      "cell_type": "code",
      "source": [
        "import random\n",
        "L = [random.randint(0,10) for i in range(100)]\n",
        "\n",
        "print(L[50:56])\n",
        "print(recursive_range_sum(L,50,55))"
      ],
      "metadata": {
        "colab": {
          "base_uri": "https://localhost:8080/"
        },
        "id": "oqsHVMbOiZRy",
        "outputId": "6e02ad07-fc04-4ab2-b7ee-d1f98e20c5e1"
      },
      "id": "oqsHVMbOiZRy",
      "execution_count": 17,
      "outputs": [
        {
          "output_type": "stream",
          "name": "stdout",
          "text": [
            "[9, 6, 6, 9, 8, 5]\n",
            "43\n"
          ]
        }
      ]
    },
    {
      "cell_type": "markdown",
      "source": [
        "##The Fibonacci numbers:\n",
        "0, 1, 1, 2, 3, 5, 8, 13, 21, 34, 55, 89, 144, 233, . . .\n",
        "After the second number, each number in the series is the sum of the two previous numbers.\n",
        "\n",
        "Fibonacci series: has two base cases\n",
        "- if n = 0 then Fib(n) = 0\n",
        "- if n = 1 then Fib(n) = 1\n",
        "- if n > 1 then Fib(n) = Fib(n-1) + Fib(n-2)\n"
      ],
      "metadata": {
        "id": "gXnZTrxlet84"
      },
      "id": "gXnZTrxlet84"
    },
    {
      "cell_type": "code",
      "source": [
        "def Fib(n):\n",
        "    if n==0:\n",
        "        return 0\n",
        "    elif n==1:\n",
        "        return 1\n",
        "    else:\n",
        "        return Fib(n-1)+Fib(n-2)"
      ],
      "metadata": {
        "id": "B8cR203Sjbxp"
      },
      "id": "B8cR203Sjbxp",
      "execution_count": 18,
      "outputs": []
    },
    {
      "cell_type": "code",
      "source": [
        "print(Fib(10))"
      ],
      "metadata": {
        "colab": {
          "base_uri": "https://localhost:8080/"
        },
        "id": "JrlSJTqHj1oF",
        "outputId": "a2033259-9be0-4bee-fb84-0d9a176e8590"
      },
      "id": "JrlSJTqHj1oF",
      "execution_count": 19,
      "outputs": [
        {
          "output_type": "stream",
          "name": "stdout",
          "text": [
            "55\n"
          ]
        }
      ]
    },
    {
      "cell_type": "markdown",
      "source": [
        "##Calculation of the greatest common divisor\n",
        "GCD of two positive integers\n",
        "\n",
        "- If x can be evenly divided by y, then\n",
        "\t\t\tgcd(x,y) = y\n",
        "- Otherwise,\n",
        "\n",
        "```\n",
        "gcd(x,y) = gcd(y, remainder of x/y)\n",
        "```\n",
        "\n"
      ],
      "metadata": {
        "id": "nFn-RBNde7dr"
      },
      "id": "nFn-RBNde7dr"
    },
    {
      "cell_type": "code",
      "source": [
        "def gcd(x,y):\n",
        "    if x%y==0:\n",
        "        return y\n",
        "    else:\n",
        "        return gcd(y,x%y)"
      ],
      "metadata": {
        "id": "qs_ViGv8kEXG"
      },
      "id": "qs_ViGv8kEXG",
      "execution_count": 20,
      "outputs": []
    },
    {
      "cell_type": "code",
      "source": [
        "print(gcd(24,32))"
      ],
      "metadata": {
        "colab": {
          "base_uri": "https://localhost:8080/"
        },
        "id": "CsjfCccCkEO4",
        "outputId": "247bf4aa-4f90-416d-f6a9-4fbcdf4851f7"
      },
      "id": "CsjfCccCkEO4",
      "execution_count": 21,
      "outputs": [
        {
          "output_type": "stream",
          "name": "stdout",
          "text": [
            "8\n"
          ]
        }
      ]
    },
    {
      "cell_type": "markdown",
      "source": [
        "#Recusrsion vs Looping"
      ],
      "metadata": {
        "id": "2H-Bg1k-ghSe"
      },
      "id": "2H-Bg1k-ghSe"
    },
    {
      "cell_type": "code",
      "source": [
        "def fibonacci_recursive(n):\n",
        "    if n==0:\n",
        "        return 0\n",
        "    elif n==1:\n",
        "        return 1\n",
        "    else:\n",
        "        return fibonacci_recursive(n-1)+fibonacci_recursive(n-2)\n"
      ],
      "metadata": {
        "id": "EnWcRnzNgruO"
      },
      "id": "EnWcRnzNgruO",
      "execution_count": 14,
      "outputs": []
    },
    {
      "cell_type": "code",
      "source": [
        "def fibonacci_loop(n):\n",
        "    a, b = 0, 1\n",
        "    for _ in range(n):\n",
        "        a, b = b, a + b\n",
        "    return a"
      ],
      "metadata": {
        "id": "VAnCrIBigzV1"
      },
      "id": "VAnCrIBigzV1",
      "execution_count": 15,
      "outputs": []
    },
    {
      "cell_type": "code",
      "source": [
        "print(fibonacci_recursive(10))\n",
        "print(fibonacci_loop(10))"
      ],
      "metadata": {
        "colab": {
          "base_uri": "https://localhost:8080/"
        },
        "id": "-PhTpDNhlI8o",
        "outputId": "b4af9b5d-3121-41cb-c71a-d855b394240a"
      },
      "id": "-PhTpDNhlI8o",
      "execution_count": 24,
      "outputs": [
        {
          "output_type": "stream",
          "name": "stdout",
          "text": [
            "55\n",
            "55\n"
          ]
        }
      ]
    },
    {
      "cell_type": "code",
      "source": [
        "import time"
      ],
      "metadata": {
        "id": "-HQQohDmlIo-"
      },
      "id": "-HQQohDmlIo-",
      "execution_count": 16,
      "outputs": []
    },
    {
      "cell_type": "code",
      "source": [
        "n = 30"
      ],
      "metadata": {
        "id": "Dsf4OZ5slIjT"
      },
      "id": "Dsf4OZ5slIjT",
      "execution_count": 32,
      "outputs": []
    },
    {
      "cell_type": "code",
      "source": [
        "start = time.time()\n",
        "print(fibonacci_recursive(n))\n",
        "end = time.time()\n",
        "print('The recursion time is',end - start)"
      ],
      "metadata": {
        "colab": {
          "base_uri": "https://localhost:8080/"
        },
        "id": "iWqOiNjom5wZ",
        "outputId": "182495c0-c858-46dc-e01c-f53016241fb7"
      },
      "id": "iWqOiNjom5wZ",
      "execution_count": 33,
      "outputs": [
        {
          "output_type": "stream",
          "name": "stdout",
          "text": [
            "832040\n",
            "The recursion time is 0.12664055824279785\n"
          ]
        }
      ]
    },
    {
      "cell_type": "code",
      "source": [
        "start = time.time()\n",
        "print(fibonacci_loop(n))\n",
        "end = time.time()\n",
        "print('The loop time is',end - start)"
      ],
      "metadata": {
        "colab": {
          "base_uri": "https://localhost:8080/"
        },
        "id": "sVoT_0nvm5oH",
        "outputId": "02921ecc-02cb-4e29-93fa-f199504b1393"
      },
      "id": "sVoT_0nvm5oH",
      "execution_count": 34,
      "outputs": [
        {
          "output_type": "stream",
          "name": "stdout",
          "text": [
            "832040\n",
            "The loop time is 0.0001506805419921875\n"
          ]
        }
      ]
    },
    {
      "cell_type": "code",
      "source": [
        "n = 1000"
      ],
      "metadata": {
        "id": "CeSPTQBGm5e9"
      },
      "id": "CeSPTQBGm5e9",
      "execution_count": 17,
      "outputs": []
    },
    {
      "cell_type": "code",
      "source": [
        "start = time.time()\n",
        "print(fibonacci_recursive(n))\n",
        "end = time.time()\n",
        "print('The recursion time is',end - start)"
      ],
      "metadata": {
        "colab": {
          "base_uri": "https://localhost:8080/",
          "height": 425
        },
        "id": "srUDrkjKlIeA",
        "outputId": "137261ba-ed59-4bac-961c-9e81580b4019"
      },
      "id": "srUDrkjKlIeA",
      "execution_count": 19,
      "outputs": [
        {
          "output_type": "error",
          "ename": "RecursionError",
          "evalue": "maximum recursion depth exceeded",
          "traceback": [
            "\u001b[0;31m---------------------------------------------------------------------------\u001b[0m",
            "\u001b[0;31mRecursionError\u001b[0m                            Traceback (most recent call last)",
            "\u001b[0;32m/tmp/ipython-input-3525270905.py\u001b[0m in \u001b[0;36m<cell line: 0>\u001b[0;34m()\u001b[0m\n\u001b[1;32m      1\u001b[0m \u001b[0mstart\u001b[0m \u001b[0;34m=\u001b[0m \u001b[0mtime\u001b[0m\u001b[0;34m.\u001b[0m\u001b[0mtime\u001b[0m\u001b[0;34m(\u001b[0m\u001b[0;34m)\u001b[0m\u001b[0;34m\u001b[0m\u001b[0;34m\u001b[0m\u001b[0m\n\u001b[0;32m----> 2\u001b[0;31m \u001b[0mprint\u001b[0m\u001b[0;34m(\u001b[0m\u001b[0mfibonacci_recursive\u001b[0m\u001b[0;34m(\u001b[0m\u001b[0mn\u001b[0m\u001b[0;34m)\u001b[0m\u001b[0;34m)\u001b[0m\u001b[0;34m\u001b[0m\u001b[0;34m\u001b[0m\u001b[0m\n\u001b[0m\u001b[1;32m      3\u001b[0m \u001b[0mend\u001b[0m \u001b[0;34m=\u001b[0m \u001b[0mtime\u001b[0m\u001b[0;34m.\u001b[0m\u001b[0mtime\u001b[0m\u001b[0;34m(\u001b[0m\u001b[0;34m)\u001b[0m\u001b[0;34m\u001b[0m\u001b[0;34m\u001b[0m\u001b[0m\n\u001b[1;32m      4\u001b[0m \u001b[0mprint\u001b[0m\u001b[0;34m(\u001b[0m\u001b[0;34m'The recursion time is'\u001b[0m\u001b[0;34m,\u001b[0m\u001b[0mend\u001b[0m \u001b[0;34m-\u001b[0m \u001b[0mstart\u001b[0m\u001b[0;34m)\u001b[0m\u001b[0;34m\u001b[0m\u001b[0;34m\u001b[0m\u001b[0m\n",
            "\u001b[0;32m/tmp/ipython-input-2013849308.py\u001b[0m in \u001b[0;36mfibonacci_recursive\u001b[0;34m(n)\u001b[0m\n\u001b[1;32m      5\u001b[0m         \u001b[0;32mreturn\u001b[0m \u001b[0;36m1\u001b[0m\u001b[0;34m\u001b[0m\u001b[0;34m\u001b[0m\u001b[0m\n\u001b[1;32m      6\u001b[0m     \u001b[0;32melse\u001b[0m\u001b[0;34m:\u001b[0m\u001b[0;34m\u001b[0m\u001b[0;34m\u001b[0m\u001b[0m\n\u001b[0;32m----> 7\u001b[0;31m         \u001b[0;32mreturn\u001b[0m \u001b[0mfibonacci_recursive\u001b[0m\u001b[0;34m(\u001b[0m\u001b[0mn\u001b[0m\u001b[0;34m-\u001b[0m\u001b[0;36m1\u001b[0m\u001b[0;34m)\u001b[0m\u001b[0;34m+\u001b[0m\u001b[0mfibonacci_recursive\u001b[0m\u001b[0;34m(\u001b[0m\u001b[0mn\u001b[0m\u001b[0;34m-\u001b[0m\u001b[0;36m2\u001b[0m\u001b[0;34m)\u001b[0m\u001b[0;34m\u001b[0m\u001b[0;34m\u001b[0m\u001b[0m\n\u001b[0m",
            "... last 1 frames repeated, from the frame below ...\n",
            "\u001b[0;32m/tmp/ipython-input-2013849308.py\u001b[0m in \u001b[0;36mfibonacci_recursive\u001b[0;34m(n)\u001b[0m\n\u001b[1;32m      5\u001b[0m         \u001b[0;32mreturn\u001b[0m \u001b[0;36m1\u001b[0m\u001b[0;34m\u001b[0m\u001b[0;34m\u001b[0m\u001b[0m\n\u001b[1;32m      6\u001b[0m     \u001b[0;32melse\u001b[0m\u001b[0;34m:\u001b[0m\u001b[0;34m\u001b[0m\u001b[0;34m\u001b[0m\u001b[0m\n\u001b[0;32m----> 7\u001b[0;31m         \u001b[0;32mreturn\u001b[0m \u001b[0mfibonacci_recursive\u001b[0m\u001b[0;34m(\u001b[0m\u001b[0mn\u001b[0m\u001b[0;34m-\u001b[0m\u001b[0;36m1\u001b[0m\u001b[0;34m)\u001b[0m\u001b[0;34m+\u001b[0m\u001b[0mfibonacci_recursive\u001b[0m\u001b[0;34m(\u001b[0m\u001b[0mn\u001b[0m\u001b[0;34m-\u001b[0m\u001b[0;36m2\u001b[0m\u001b[0;34m)\u001b[0m\u001b[0;34m\u001b[0m\u001b[0;34m\u001b[0m\u001b[0m\n\u001b[0m",
            "\u001b[0;31mRecursionError\u001b[0m: maximum recursion depth exceeded"
          ]
        }
      ]
    },
    {
      "cell_type": "code",
      "source": [
        "start = time.time()\n",
        "print(fibonacci_loop(n))\n",
        "end = time.time()\n",
        "print('The loop time is',end - start)"
      ],
      "metadata": {
        "colab": {
          "base_uri": "https://localhost:8080/"
        },
        "id": "JID9DUe2lIYX",
        "outputId": "acb9947d-0016-4a43-80f8-9d25f243535b"
      },
      "id": "JID9DUe2lIYX",
      "execution_count": 18,
      "outputs": [
        {
          "output_type": "stream",
          "name": "stdout",
          "text": [
            "43466557686937456435688527675040625802564660517371780402481729089536555417949051890403879840079255169295922593080322634775209689623239873322471161642996440906533187938298969649928516003704476137795166849228875\n",
            "The loop time is 0.00018548965454101562\n"
          ]
        }
      ]
    },
    {
      "cell_type": "code",
      "source": [],
      "metadata": {
        "id": "_xVy-QGOlISn"
      },
      "id": "_xVy-QGOlISn",
      "execution_count": null,
      "outputs": []
    },
    {
      "cell_type": "code",
      "source": [],
      "metadata": {
        "id": "GxmiCA_vlIMn"
      },
      "id": "GxmiCA_vlIMn",
      "execution_count": null,
      "outputs": []
    },
    {
      "cell_type": "code",
      "source": [],
      "metadata": {
        "id": "Awh0_WN0lIGb"
      },
      "id": "Awh0_WN0lIGb",
      "execution_count": null,
      "outputs": []
    },
    {
      "cell_type": "code",
      "source": [],
      "metadata": {
        "id": "x8YflMF7lH_M"
      },
      "id": "x8YflMF7lH_M",
      "execution_count": null,
      "outputs": []
    },
    {
      "cell_type": "code",
      "source": [
        "import time"
      ],
      "metadata": {
        "id": "O8PlXOogg7Ni"
      },
      "id": "O8PlXOogg7Ni",
      "execution_count": 3,
      "outputs": []
    },
    {
      "cell_type": "code",
      "source": [
        "\n",
        "n = 30   # manageable for recursion\n",
        "\n",
        "print(\"Comparing Fibonacci with n =\", n)\n",
        "\n",
        "# Recursive timing\n",
        "start = time.time()\n",
        "print(\"Recursive:\", fibonacci_recursive(n))\n",
        "end = time.time()\n",
        "print(\"Recursive time:\", end - start, \"seconds\")\n",
        "\n",
        "# Loop timing\n",
        "start = time.time()\n",
        "print(\"Loop:\", fibonacci_loop(n))\n",
        "end = time.time()\n",
        "print(\"Loop time:\", end - start, \"seconds\")\n"
      ],
      "metadata": {
        "colab": {
          "base_uri": "https://localhost:8080/"
        },
        "id": "b_osfJ5LgnxE",
        "outputId": "04efe02a-8004-4011-e638-4fa45926e80c"
      },
      "id": "b_osfJ5LgnxE",
      "execution_count": 4,
      "outputs": [
        {
          "output_type": "stream",
          "name": "stdout",
          "text": [
            "Comparing Fibonacci with n = 30\n",
            "Recursive: 832040\n",
            "Recursive time: 0.17239856719970703 seconds\n",
            "Loop: 832040\n",
            "Loop time: 8.749961853027344e-05 seconds\n"
          ]
        }
      ]
    },
    {
      "cell_type": "code",
      "source": [
        "\n",
        "n = 1000 # recursion would be too slow or crash\n",
        "\n",
        "print(\"Comparing Fibonacci with n =\", n)\n",
        "\n",
        "# Recursive timing\n",
        "start = time.time()\n",
        "print(\"Recursive:\", fibonacci_recursive(n))\n",
        "end = time.time()\n",
        "print(\"Recursive time:\", end - start, \"seconds\")\n",
        "\n",
        "# Loop timing\n",
        "start = time.time()\n",
        "print(\"Loop:\", fibonacci_loop(n))\n",
        "end = time.time()\n",
        "print(\"Loop time:\", end - start, \"seconds\")\n"
      ],
      "metadata": {
        "colab": {
          "base_uri": "https://localhost:8080/",
          "height": 373
        },
        "id": "Xrh6U88HhDlY",
        "outputId": "feb83385-89a0-446f-ce81-3a8366a2b604"
      },
      "id": "Xrh6U88HhDlY",
      "execution_count": 7,
      "outputs": [
        {
          "output_type": "stream",
          "name": "stdout",
          "text": [
            "Comparing Fibonacci with n = 1000\n"
          ]
        },
        {
          "output_type": "error",
          "ename": "RecursionError",
          "evalue": "maximum recursion depth exceeded",
          "traceback": [
            "\u001b[0;31m---------------------------------------------------------------------------\u001b[0m",
            "\u001b[0;31mRecursionError\u001b[0m                            Traceback (most recent call last)",
            "\u001b[0;32m/tmp/ipython-input-3477959796.py\u001b[0m in \u001b[0;36m<cell line: 0>\u001b[0;34m()\u001b[0m\n\u001b[1;32m      5\u001b[0m \u001b[0;31m# Recursive timing\u001b[0m\u001b[0;34m\u001b[0m\u001b[0;34m\u001b[0m\u001b[0m\n\u001b[1;32m      6\u001b[0m \u001b[0mstart\u001b[0m \u001b[0;34m=\u001b[0m \u001b[0mtime\u001b[0m\u001b[0;34m.\u001b[0m\u001b[0mtime\u001b[0m\u001b[0;34m(\u001b[0m\u001b[0;34m)\u001b[0m\u001b[0;34m\u001b[0m\u001b[0;34m\u001b[0m\u001b[0m\n\u001b[0;32m----> 7\u001b[0;31m \u001b[0mprint\u001b[0m\u001b[0;34m(\u001b[0m\u001b[0;34m\"Recursive:\"\u001b[0m\u001b[0;34m,\u001b[0m \u001b[0mfibonacci_recursive\u001b[0m\u001b[0;34m(\u001b[0m\u001b[0mn\u001b[0m\u001b[0;34m)\u001b[0m\u001b[0;34m)\u001b[0m\u001b[0;34m\u001b[0m\u001b[0;34m\u001b[0m\u001b[0m\n\u001b[0m\u001b[1;32m      8\u001b[0m \u001b[0mend\u001b[0m \u001b[0;34m=\u001b[0m \u001b[0mtime\u001b[0m\u001b[0;34m.\u001b[0m\u001b[0mtime\u001b[0m\u001b[0;34m(\u001b[0m\u001b[0;34m)\u001b[0m\u001b[0;34m\u001b[0m\u001b[0;34m\u001b[0m\u001b[0m\n\u001b[1;32m      9\u001b[0m \u001b[0mprint\u001b[0m\u001b[0;34m(\u001b[0m\u001b[0;34m\"Recursive time:\"\u001b[0m\u001b[0;34m,\u001b[0m \u001b[0mend\u001b[0m \u001b[0;34m-\u001b[0m \u001b[0mstart\u001b[0m\u001b[0;34m,\u001b[0m \u001b[0;34m\"seconds\"\u001b[0m\u001b[0;34m)\u001b[0m\u001b[0;34m\u001b[0m\u001b[0;34m\u001b[0m\u001b[0m\n",
            "\u001b[0;32m/tmp/ipython-input-1421874769.py\u001b[0m in \u001b[0;36mfibonacci_recursive\u001b[0;34m(n)\u001b[0m\n\u001b[1;32m      2\u001b[0m     \u001b[0;32mif\u001b[0m \u001b[0mn\u001b[0m \u001b[0;34m<=\u001b[0m \u001b[0;36m1\u001b[0m\u001b[0;34m:\u001b[0m\u001b[0;34m\u001b[0m\u001b[0;34m\u001b[0m\u001b[0m\n\u001b[1;32m      3\u001b[0m         \u001b[0;32mreturn\u001b[0m \u001b[0mn\u001b[0m\u001b[0;34m\u001b[0m\u001b[0;34m\u001b[0m\u001b[0m\n\u001b[0;32m----> 4\u001b[0;31m     \u001b[0;32mreturn\u001b[0m \u001b[0mfibonacci_recursive\u001b[0m\u001b[0;34m(\u001b[0m\u001b[0mn\u001b[0m \u001b[0;34m-\u001b[0m \u001b[0;36m1\u001b[0m\u001b[0;34m)\u001b[0m \u001b[0;34m+\u001b[0m \u001b[0mfibonacci_recursive\u001b[0m\u001b[0;34m(\u001b[0m\u001b[0mn\u001b[0m \u001b[0;34m-\u001b[0m \u001b[0;36m2\u001b[0m\u001b[0;34m)\u001b[0m\u001b[0;34m\u001b[0m\u001b[0;34m\u001b[0m\u001b[0m\n\u001b[0m",
            "... last 1 frames repeated, from the frame below ...\n",
            "\u001b[0;32m/tmp/ipython-input-1421874769.py\u001b[0m in \u001b[0;36mfibonacci_recursive\u001b[0;34m(n)\u001b[0m\n\u001b[1;32m      2\u001b[0m     \u001b[0;32mif\u001b[0m \u001b[0mn\u001b[0m \u001b[0;34m<=\u001b[0m \u001b[0;36m1\u001b[0m\u001b[0;34m:\u001b[0m\u001b[0;34m\u001b[0m\u001b[0;34m\u001b[0m\u001b[0m\n\u001b[1;32m      3\u001b[0m         \u001b[0;32mreturn\u001b[0m \u001b[0mn\u001b[0m\u001b[0;34m\u001b[0m\u001b[0;34m\u001b[0m\u001b[0m\n\u001b[0;32m----> 4\u001b[0;31m     \u001b[0;32mreturn\u001b[0m \u001b[0mfibonacci_recursive\u001b[0m\u001b[0;34m(\u001b[0m\u001b[0mn\u001b[0m \u001b[0;34m-\u001b[0m \u001b[0;36m1\u001b[0m\u001b[0;34m)\u001b[0m \u001b[0;34m+\u001b[0m \u001b[0mfibonacci_recursive\u001b[0m\u001b[0;34m(\u001b[0m\u001b[0mn\u001b[0m \u001b[0;34m-\u001b[0m \u001b[0;36m2\u001b[0m\u001b[0;34m)\u001b[0m\u001b[0;34m\u001b[0m\u001b[0;34m\u001b[0m\u001b[0m\n\u001b[0m",
            "\u001b[0;31mRecursionError\u001b[0m: maximum recursion depth exceeded"
          ]
        }
      ]
    }
  ],
  "metadata": {
    "kernelspec": {
      "display_name": "Python 3 (ipykernel)",
      "language": "python",
      "name": "python3"
    },
    "language_info": {
      "codemirror_mode": {
        "name": "ipython",
        "version": 3
      },
      "file_extension": ".py",
      "mimetype": "text/x-python",
      "name": "python",
      "nbconvert_exporter": "python",
      "pygments_lexer": "ipython3",
      "version": "3.11.5"
    },
    "colab": {
      "provenance": [],
      "include_colab_link": true
    }
  },
  "nbformat": 4,
  "nbformat_minor": 5
}