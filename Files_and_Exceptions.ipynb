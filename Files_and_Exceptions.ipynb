{
  "nbformat": 4,
  "nbformat_minor": 0,
  "metadata": {
    "colab": {
      "provenance": [],
      "authorship_tag": "ABX9TyOYU41pHZ8dHkvLnpa59nN2",
      "include_colab_link": true
    },
    "kernelspec": {
      "name": "python3",
      "display_name": "Python 3"
    },
    "language_info": {
      "name": "python"
    }
  },
  "cells": [
    {
      "cell_type": "markdown",
      "metadata": {
        "id": "view-in-github",
        "colab_type": "text"
      },
      "source": [
        "<a href=\"https://colab.research.google.com/github/hamdanabdellatef/python/blob/main/Files_and_Exceptions.ipynb\" target=\"_parent\"><img src=\"https://colab.research.google.com/assets/colab-badge.svg\" alt=\"Open In Colab\"/></a>"
      ]
    },
    {
      "cell_type": "markdown",
      "source": [
        "# Files and Exeptions\n",
        "\n",
        "1.   Introduction to File Input and Output\n",
        "2.   Using Loops to Process Files\n",
        "3.   Processing Records\n",
        "4.   Exceptions\n"
      ],
      "metadata": {
        "id": "-VJAhA1G-EkM"
      }
    },
    {
      "cell_type": "markdown",
      "source": [
        "## Creating a File"
      ],
      "metadata": {
        "id": "gCCOMUj0-aNL"
      }
    },
    {
      "cell_type": "code",
      "source": [
        "f = open('prime.txt','w')\n",
        "f.write('This is our file')\n",
        "f.close()"
      ],
      "metadata": {
        "id": "WVvd495L-Zwa"
      },
      "execution_count": null,
      "outputs": []
    },
    {
      "cell_type": "markdown",
      "source": [
        "## Writing to file"
      ],
      "metadata": {
        "id": "3IYClawj-rjq"
      }
    },
    {
      "cell_type": "code",
      "source": [
        "f = open('prime.txt','w')\n",
        "f.write('This is a new line')\n",
        "f.close()"
      ],
      "metadata": {
        "id": "KijdHS6F-rE4"
      },
      "execution_count": null,
      "outputs": []
    },
    {
      "cell_type": "markdown",
      "source": [
        "##Reading From File"
      ],
      "metadata": {
        "id": "LjY73Xti-99W"
      }
    },
    {
      "cell_type": "code",
      "execution_count": null,
      "metadata": {
        "id": "cov3IvPM9-6G",
        "outputId": "d73a4be6-0b0e-4bf9-b402-2982aba302b9",
        "colab": {
          "base_uri": "https://localhost:8080/"
        }
      },
      "outputs": [
        {
          "output_type": "stream",
          "name": "stdout",
          "text": [
            "This is a new line\n"
          ]
        }
      ],
      "source": [
        "f2 = open('prime.txt','r')\n",
        "contents = f2.read()\n",
        "f2.close()\n",
        "print(contents)"
      ]
    },
    {
      "cell_type": "markdown",
      "source": [
        "## Append"
      ],
      "metadata": {
        "id": "SV7Ht1bP_Tgh"
      }
    },
    {
      "cell_type": "code",
      "source": [
        "f = open('prime.txt','a')\n",
        "f.write('\\n This is another line')\n",
        "f.close()"
      ],
      "metadata": {
        "id": "haiIfFQA_SLZ"
      },
      "execution_count": null,
      "outputs": []
    },
    {
      "cell_type": "code",
      "source": [
        "f2 = open('prime.txt','r')\n",
        "line = f2.readline()\n",
        "print('The first line:', line)\n",
        "line = f2.readline()\n",
        "print('The second line:',line)\n",
        "f2.close()"
      ],
      "metadata": {
        "id": "ldbUBrbPJVSv",
        "outputId": "6cc05616-bc7d-40c3-9dba-93dfa63e23d3",
        "colab": {
          "base_uri": "https://localhost:8080/"
        }
      },
      "execution_count": null,
      "outputs": [
        {
          "output_type": "stream",
          "name": "stdout",
          "text": [
            "The first line: This is a new line\n",
            "\n",
            "The second line:  This is another line\n"
          ]
        }
      ]
    },
    {
      "cell_type": "code",
      "source": [
        "f2 = open('prime.txt','r')\n",
        "line = f2.readline()\n",
        "print('The first line:', line.rstrip())\n",
        "line = f2.readline()\n",
        "print('The second line:',line.rstrip())\n",
        "f2.close()"
      ],
      "metadata": {
        "id": "T__saq6h_SF-",
        "outputId": "6a88571b-0afa-4cb9-ead4-606e71f48039",
        "colab": {
          "base_uri": "https://localhost:8080/"
        }
      },
      "execution_count": null,
      "outputs": [
        {
          "output_type": "stream",
          "name": "stdout",
          "text": [
            "The first line: This is a new line\n",
            "The second line:  This is another line\n"
          ]
        }
      ]
    },
    {
      "cell_type": "code",
      "source": [
        "x = 'This is a string \\n'\n",
        "print(x)\n",
        "print(x.rstrip())"
      ],
      "metadata": {
        "id": "vuMZ21MIJ1_A",
        "outputId": "0cb20129-42f6-4e19-cbb9-3584c4ca90e1",
        "colab": {
          "base_uri": "https://localhost:8080/"
        }
      },
      "execution_count": null,
      "outputs": [
        {
          "output_type": "stream",
          "name": "stdout",
          "text": [
            "This is a string \n",
            "\n",
            "This is a string\n"
          ]
        }
      ]
    },
    {
      "cell_type": "markdown",
      "source": [
        "## Using Loops to process Files\n",
        "\n",
        "In this example we want to create a file that contains all prime numbers"
      ],
      "metadata": {
        "id": "f4smik4O_pt2"
      }
    },
    {
      "cell_type": "code",
      "source": [
        "def is_prime(n):\n",
        "    isprime = True\n",
        "    for d in range(2,n):\n",
        "        if n%d == 0:\n",
        "            isprime = False\n",
        "            break\n",
        "\n",
        "    return isprime"
      ],
      "metadata": {
        "id": "yWvG9QPH_SDi"
      },
      "execution_count": null,
      "outputs": []
    },
    {
      "cell_type": "code",
      "source": [
        "filename = 'prime_numbers.txt'\n",
        "f = open(filename,'w')\n",
        "for x in range(2,100):\n",
        "    if is_prime(x):\n",
        "        f.write(str(x)+'\\n')\n",
        "\n",
        "f.close()"
      ],
      "metadata": {
        "id": "IqYdWWrb_zwZ"
      },
      "execution_count": null,
      "outputs": []
    },
    {
      "cell_type": "code",
      "source": [
        "f2 = open(filename,'r')\n",
        "x = f2.read()\n",
        "f2.close()\n",
        "print(x)"
      ],
      "metadata": {
        "id": "ZkmFzeoIAioy",
        "outputId": "e99469af-2464-40cf-a677-2343376b2325",
        "colab": {
          "base_uri": "https://localhost:8080/"
        }
      },
      "execution_count": null,
      "outputs": [
        {
          "output_type": "stream",
          "name": "stdout",
          "text": [
            "2\n",
            "3\n",
            "5\n",
            "7\n",
            "11\n",
            "13\n",
            "17\n",
            "19\n",
            "23\n",
            "29\n",
            "31\n",
            "37\n",
            "41\n",
            "43\n",
            "47\n",
            "53\n",
            "59\n",
            "61\n",
            "67\n",
            "71\n",
            "73\n",
            "79\n",
            "83\n",
            "89\n",
            "97\n",
            "\n"
          ]
        }
      ]
    },
    {
      "cell_type": "code",
      "source": [
        "f2 = open(filename,'r')\n",
        "x = f2.readline()\n",
        "print(x)\n",
        "x = f2.readline()\n",
        "print(x)\n",
        "f2.close()"
      ],
      "metadata": {
        "id": "bSeD5XdGAl2S"
      },
      "execution_count": null,
      "outputs": []
    },
    {
      "cell_type": "code",
      "source": [
        "print(\"anb \\n\".rstrip())"
      ],
      "metadata": {
        "id": "EpPctgfiA6Bw"
      },
      "execution_count": null,
      "outputs": []
    },
    {
      "cell_type": "code",
      "source": [
        "f2 = open(filename,'r')\n",
        "x = f2.readline()\n",
        "print(x.rstrip())\n",
        "x = f2.readline()\n",
        "print(x.rstrip())\n",
        "f2.close()"
      ],
      "metadata": {
        "id": "qBZshXtKAnXG",
        "outputId": "657c7297-84b9-4b8d-82a8-5f1e93320b20",
        "colab": {
          "base_uri": "https://localhost:8080/"
        }
      },
      "execution_count": null,
      "outputs": [
        {
          "output_type": "stream",
          "name": "stdout",
          "text": [
            "2\n",
            "3\n"
          ]
        }
      ]
    },
    {
      "cell_type": "markdown",
      "source": [
        "### using while loop"
      ],
      "metadata": {
        "id": "pq0cf76EBU9a"
      }
    },
    {
      "cell_type": "code",
      "source": [
        "f2 = open(filename,'r')\n",
        "line = f2.readline()\n",
        "i = 1\n",
        "while line != '':\n",
        "    print(\"line {}: {}\".format(i,line.rstrip()))\n",
        "    line = f2.readline()\n",
        "    i += 1\n",
        "\n",
        "f2.close()"
      ],
      "metadata": {
        "id": "eaoLkNy2AvCD",
        "outputId": "a6266cab-3fb9-4b4c-bea1-a90c7b9d10d8",
        "colab": {
          "base_uri": "https://localhost:8080/"
        }
      },
      "execution_count": null,
      "outputs": [
        {
          "output_type": "stream",
          "name": "stdout",
          "text": [
            "line 1: 2\n",
            "line 2: 3\n",
            "line 3: 5\n",
            "line 4: 7\n",
            "line 5: 11\n",
            "line 6: 13\n",
            "line 7: 17\n",
            "line 8: 19\n",
            "line 9: 23\n",
            "line 10: 29\n",
            "line 11: 31\n",
            "line 12: 37\n",
            "line 13: 41\n",
            "line 14: 43\n",
            "line 15: 47\n",
            "line 16: 53\n",
            "line 17: 59\n",
            "line 18: 61\n",
            "line 19: 67\n",
            "line 20: 71\n",
            "line 21: 73\n",
            "line 22: 79\n",
            "line 23: 83\n",
            "line 24: 89\n",
            "line 25: 97\n"
          ]
        }
      ]
    },
    {
      "cell_type": "markdown",
      "source": [
        "### using for loop"
      ],
      "metadata": {
        "id": "rOnUK0CLBaX8"
      }
    },
    {
      "cell_type": "code",
      "source": [],
      "metadata": {
        "id": "HVNrEUMVBZ-L"
      },
      "execution_count": null,
      "outputs": []
    },
    {
      "cell_type": "code",
      "source": [
        "filename = 'prime_numbers.txt'\n",
        "f2 = open(filename,'r')\n",
        "i = 1\n",
        "for line in f2:\n",
        "    print(\"line {}: {}\".format(i,line.rstrip()))\n",
        "    i += 1\n",
        "\n",
        "f2.close()"
      ],
      "metadata": {
        "id": "QkKQSpT5AzJ7",
        "outputId": "3f2e6942-489c-4028-917e-935809f710ca",
        "colab": {
          "base_uri": "https://localhost:8080/"
        }
      },
      "execution_count": null,
      "outputs": [
        {
          "output_type": "stream",
          "name": "stdout",
          "text": [
            "line 1: 2\n",
            "line 2: 3\n",
            "line 3: 5\n",
            "line 4: 7\n",
            "line 5: 11\n",
            "line 6: 13\n",
            "line 7: 17\n",
            "line 8: 19\n",
            "line 9: 23\n",
            "line 10: 29\n",
            "line 11: 31\n",
            "line 12: 37\n",
            "line 13: 41\n",
            "line 14: 43\n",
            "line 15: 47\n",
            "line 16: 53\n",
            "line 17: 59\n",
            "line 18: 61\n",
            "line 19: 67\n",
            "line 20: 71\n",
            "line 21: 73\n",
            "line 22: 79\n",
            "line 23: 83\n",
            "line 24: 89\n",
            "line 25: 97\n"
          ]
        }
      ]
    },
    {
      "cell_type": "markdown",
      "source": [
        "I want to get the prime numbers that are > 50"
      ],
      "metadata": {
        "id": "9FGFE3N4NTbL"
      }
    },
    {
      "cell_type": "code",
      "source": [
        "filename = 'prime_numbers.txt'\n",
        "f2 = open(filename,'r')\n",
        "\n",
        "for line in f2:\n",
        "    if int(line) > 50:\n",
        "        print(line.rstrip(), end=' ')\n",
        "\n",
        "f2.close()"
      ],
      "metadata": {
        "id": "j1UwyoXENfYp",
        "outputId": "905c6816-2856-4fd9-f0a5-c31e4a7d9403",
        "colab": {
          "base_uri": "https://localhost:8080/"
        }
      },
      "execution_count": null,
      "outputs": [
        {
          "output_type": "stream",
          "name": "stdout",
          "text": [
            "53 59 61 67 71 73 79 83 89 97 "
          ]
        }
      ]
    },
    {
      "cell_type": "code",
      "source": [
        "f2 = open(filename,'r')\n",
        "line = f2.readline()\n",
        "while line != '':\n",
        "    if int(line) > 50:\n",
        "        print(line.rstrip(), end=' ')\n",
        "    line = f2.readline()\n",
        "\n",
        "f2.close()"
      ],
      "metadata": {
        "id": "BeC7I8eXOQ3T",
        "outputId": "5989befd-bf90-4a82-ddc4-f0596d2dffb2",
        "colab": {
          "base_uri": "https://localhost:8080/"
        }
      },
      "execution_count": null,
      "outputs": [
        {
          "output_type": "stream",
          "name": "stdout",
          "text": [
            "53 59 61 67 71 73 79 83 89 97 "
          ]
        }
      ]
    },
    {
      "cell_type": "markdown",
      "source": [
        "#Exceptions"
      ],
      "metadata": {
        "id": "jghcltC8_DLI"
      }
    },
    {
      "cell_type": "code",
      "source": [
        "num1 = int(input('Enter a number: '))\n",
        "num2 = int(input('Enter another number: '))\n",
        "result = num1 / num2\n",
        "print(num1, 'divided by', num2, 'is', result)"
      ],
      "metadata": {
        "id": "Dfcvsm7sPwCE",
        "outputId": "2b5a75f7-b2a5-47da-ae6f-3012bed3a54c",
        "colab": {
          "base_uri": "https://localhost:8080/",
          "height": 228
        }
      },
      "execution_count": 1,
      "outputs": [
        {
          "name": "stdout",
          "output_type": "stream",
          "text": [
            "Enter a number: 10\n",
            "Enter another number: 0\n"
          ]
        },
        {
          "output_type": "error",
          "ename": "ZeroDivisionError",
          "evalue": "division by zero",
          "traceback": [
            "\u001b[0;31m---------------------------------------------------------------------------\u001b[0m",
            "\u001b[0;31mZeroDivisionError\u001b[0m                         Traceback (most recent call last)",
            "\u001b[0;32m<ipython-input-1-5d2244ca8f31>\u001b[0m in \u001b[0;36m<cell line: 3>\u001b[0;34m()\u001b[0m\n\u001b[1;32m      1\u001b[0m \u001b[0mnum1\u001b[0m \u001b[0;34m=\u001b[0m \u001b[0mint\u001b[0m\u001b[0;34m(\u001b[0m\u001b[0minput\u001b[0m\u001b[0;34m(\u001b[0m\u001b[0;34m'Enter a number: '\u001b[0m\u001b[0;34m)\u001b[0m\u001b[0;34m)\u001b[0m\u001b[0;34m\u001b[0m\u001b[0;34m\u001b[0m\u001b[0m\n\u001b[1;32m      2\u001b[0m \u001b[0mnum2\u001b[0m \u001b[0;34m=\u001b[0m \u001b[0mint\u001b[0m\u001b[0;34m(\u001b[0m\u001b[0minput\u001b[0m\u001b[0;34m(\u001b[0m\u001b[0;34m'Enter another number: '\u001b[0m\u001b[0;34m)\u001b[0m\u001b[0;34m)\u001b[0m\u001b[0;34m\u001b[0m\u001b[0;34m\u001b[0m\u001b[0m\n\u001b[0;32m----> 3\u001b[0;31m \u001b[0mresult\u001b[0m \u001b[0;34m=\u001b[0m \u001b[0mnum1\u001b[0m \u001b[0;34m/\u001b[0m \u001b[0mnum2\u001b[0m\u001b[0;34m\u001b[0m\u001b[0;34m\u001b[0m\u001b[0m\n\u001b[0m\u001b[1;32m      4\u001b[0m \u001b[0mprint\u001b[0m\u001b[0;34m(\u001b[0m\u001b[0mnum1\u001b[0m\u001b[0;34m,\u001b[0m \u001b[0;34m'divided by'\u001b[0m\u001b[0;34m,\u001b[0m \u001b[0mnum2\u001b[0m\u001b[0;34m,\u001b[0m \u001b[0;34m'is'\u001b[0m\u001b[0;34m,\u001b[0m \u001b[0mresult\u001b[0m\u001b[0;34m)\u001b[0m\u001b[0;34m\u001b[0m\u001b[0;34m\u001b[0m\u001b[0m\n",
            "\u001b[0;31mZeroDivisionError\u001b[0m: division by zero"
          ]
        }
      ]
    },
    {
      "cell_type": "code",
      "source": [
        "\n",
        "hours = int(input('How many hours did you work? '))\n",
        "pay_rate = float(input('Enter your hourly pay rate: '))\n",
        "gross_pay = hours * pay_rate\n",
        "print('Gross pay: $', format(gross_pay, ',.2f'), sep='')"
      ],
      "metadata": {
        "id": "7Gs0nGcbP23R",
        "outputId": "46ed6a91-2f6c-4c38-9173-33866a5ac3dc",
        "colab": {
          "base_uri": "https://localhost:8080/",
          "height": 228
        }
      },
      "execution_count": 3,
      "outputs": [
        {
          "name": "stdout",
          "output_type": "stream",
          "text": [
            "How many hours did you work? 10\n",
            "Enter your hourly pay rate: forty\n"
          ]
        },
        {
          "output_type": "error",
          "ename": "ValueError",
          "evalue": "could not convert string to float: 'forty'",
          "traceback": [
            "\u001b[0;31m---------------------------------------------------------------------------\u001b[0m",
            "\u001b[0;31mValueError\u001b[0m                                Traceback (most recent call last)",
            "\u001b[0;32m<ipython-input-3-d0740b9a1895>\u001b[0m in \u001b[0;36m<cell line: 2>\u001b[0;34m()\u001b[0m\n\u001b[1;32m      1\u001b[0m \u001b[0mhours\u001b[0m \u001b[0;34m=\u001b[0m \u001b[0mint\u001b[0m\u001b[0;34m(\u001b[0m\u001b[0minput\u001b[0m\u001b[0;34m(\u001b[0m\u001b[0;34m'How many hours did you work? '\u001b[0m\u001b[0;34m)\u001b[0m\u001b[0;34m)\u001b[0m\u001b[0;34m\u001b[0m\u001b[0;34m\u001b[0m\u001b[0m\n\u001b[0;32m----> 2\u001b[0;31m \u001b[0mpay_rate\u001b[0m \u001b[0;34m=\u001b[0m \u001b[0mfloat\u001b[0m\u001b[0;34m(\u001b[0m\u001b[0minput\u001b[0m\u001b[0;34m(\u001b[0m\u001b[0;34m'Enter your hourly pay rate: '\u001b[0m\u001b[0;34m)\u001b[0m\u001b[0;34m)\u001b[0m\u001b[0;34m\u001b[0m\u001b[0;34m\u001b[0m\u001b[0m\n\u001b[0m\u001b[1;32m      3\u001b[0m \u001b[0mgross_pay\u001b[0m \u001b[0;34m=\u001b[0m \u001b[0mhours\u001b[0m \u001b[0;34m*\u001b[0m \u001b[0mpay_rate\u001b[0m\u001b[0;34m\u001b[0m\u001b[0;34m\u001b[0m\u001b[0m\n\u001b[1;32m      4\u001b[0m \u001b[0mprint\u001b[0m\u001b[0;34m(\u001b[0m\u001b[0;34m'Gross pay: $'\u001b[0m\u001b[0;34m,\u001b[0m \u001b[0mformat\u001b[0m\u001b[0;34m(\u001b[0m\u001b[0mgross_pay\u001b[0m\u001b[0;34m,\u001b[0m \u001b[0;34m',.2f'\u001b[0m\u001b[0;34m)\u001b[0m\u001b[0;34m,\u001b[0m \u001b[0msep\u001b[0m\u001b[0;34m=\u001b[0m\u001b[0;34m''\u001b[0m\u001b[0;34m)\u001b[0m\u001b[0;34m\u001b[0m\u001b[0;34m\u001b[0m\u001b[0m\n",
            "\u001b[0;31mValueError\u001b[0m: could not convert string to float: 'forty'"
          ]
        }
      ]
    },
    {
      "cell_type": "code",
      "source": [
        "try:\n",
        "  hours = int(input('How many hours did you work? '))\n",
        "  pay_rate = float(input('Enter your hourly pay rate: '))\n",
        "  gross_pay = hours * pay_rate\n",
        "  print('Gross pay: $', format(gross_pay, ',.2f'), sep='')\n",
        "except ValueError:\n",
        "  print('ERROR: Hours worked and hourly pay rate must be valid integers or floating point numbers.')\n",
        ""
      ],
      "metadata": {
        "id": "DSjw6bW4QjmN",
        "outputId": "d1afaaef-a132-4bc9-af2d-f028a08aeae2",
        "colab": {
          "base_uri": "https://localhost:8080/"
        }
      },
      "execution_count": 4,
      "outputs": [
        {
          "output_type": "stream",
          "name": "stdout",
          "text": [
            "How many hours did you work? forty\n",
            "ERROR: Hours worked and hourly pay rate must be valid integers or floating point numbers.\n"
          ]
        }
      ]
    },
    {
      "cell_type": "code",
      "source": [
        "try:\n",
        "  hours = int(input('How many hours did you work? '))\n",
        "  pay_rate = float(input('Enter your hourly pay rate: '))\n",
        "  gross_pay = hours * pay_rate\n",
        "  print('Gross pay: $', format(gross_pay, ',.2f'), sep='')\n",
        "except ValueError as err:\n",
        "  print(err)"
      ],
      "metadata": {
        "id": "5g3-2wHeSGI4",
        "outputId": "e6babff2-e12b-4b9e-fe2a-7c7e018c8fc4",
        "colab": {
          "base_uri": "https://localhost:8080/"
        }
      },
      "execution_count": 7,
      "outputs": [
        {
          "output_type": "stream",
          "name": "stdout",
          "text": [
            "How many hours did you work? forty\n",
            "invalid literal for int() with base 10: 'forty'\n"
          ]
        }
      ]
    },
    {
      "cell_type": "code",
      "source": [
        "filename = input('Enter a filename: ')\n",
        "\n",
        "infile = open(filename, 'r')\n",
        "contents = infile.read()\n",
        "print(contents)\n",
        "infile.close()"
      ],
      "metadata": {
        "id": "mwEyGFfNQ3TP"
      },
      "execution_count": null,
      "outputs": []
    },
    {
      "cell_type": "code",
      "source": [
        "try:\n",
        "  filename = input('Enter a filename: ')\n",
        "  infile = open(filename, 'r')\n",
        "  contents = infile.read()\n",
        "  print(contents)\n",
        "  infile.close()\n",
        "except FileNotFoundError:\n",
        "  print('File', filename, 'does not exist.')"
      ],
      "metadata": {
        "id": "T4JNikZtRBVL",
        "outputId": "ce208955-f4cf-47fe-bfb6-4a2ec0fc8e56",
        "colab": {
          "base_uri": "https://localhost:8080/"
        }
      },
      "execution_count": 5,
      "outputs": [
        {
          "output_type": "stream",
          "name": "stdout",
          "text": [
            "Enter a filename: bad.txt\n",
            "File bad.txt does not exist.\n"
          ]
        }
      ]
    },
    {
      "cell_type": "code",
      "source": [
        "try:\n",
        "  infile = open('sales_data.txt', 'r')\n",
        "  total = 0.0\n",
        "  for line in infile:\n",
        "    amount = float(line)\n",
        "    total += amount\n",
        "\n",
        "  infile.close()\n",
        "  print(format(total, ',.2f'))\n",
        "\n",
        "except IOError:\n",
        "  print('An error occured trying to read the file.')\n",
        "\n",
        "except ValueError:\n",
        "  print('Non-numeric data found in the file.')\n",
        "\n",
        "except:\n",
        "  print('An error occured.')\n",
        "\n",
        "else:\n",
        "  print('No error occured.')"
      ],
      "metadata": {
        "id": "bEuQOTfnRdps",
        "outputId": "0ea0854c-caf1-4f10-8e55-0926f41b2ca5",
        "colab": {
          "base_uri": "https://localhost:8080/"
        }
      },
      "execution_count": 6,
      "outputs": [
        {
          "output_type": "stream",
          "name": "stdout",
          "text": [
            "An error occured trying to read the file.\n"
          ]
        }
      ]
    }
  ]
}