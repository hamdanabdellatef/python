{
  "nbformat": 4,
  "nbformat_minor": 0,
  "metadata": {
    "colab": {
      "provenance": [],
      "authorship_tag": "ABX9TyNkUFeMPDZUUnvGCcEK8FRI",
      "include_colab_link": true
    },
    "kernelspec": {
      "name": "python3",
      "display_name": "Python 3"
    },
    "language_info": {
      "name": "python"
    }
  },
  "cells": [
    {
      "cell_type": "markdown",
      "metadata": {
        "id": "view-in-github",
        "colab_type": "text"
      },
      "source": [
        "<a href=\"https://colab.research.google.com/github/hamdanabdellatef/python/blob/main/Files_and_Exceptions.ipynb\" target=\"_parent\"><img src=\"https://colab.research.google.com/assets/colab-badge.svg\" alt=\"Open In Colab\"/></a>"
      ]
    },
    {
      "cell_type": "markdown",
      "source": [
        "# Files and Exeptions\n",
        "\n",
        "1.   Introduction to File Input and Output\n",
        "2.   Using Loops to Process Files\n",
        "3.   Processing Records\n",
        "4.   Exceptions\n"
      ],
      "metadata": {
        "id": "-VJAhA1G-EkM"
      }
    },
    {
      "cell_type": "markdown",
      "source": [
        "## Creating a File"
      ],
      "metadata": {
        "id": "gCCOMUj0-aNL"
      }
    },
    {
      "cell_type": "code",
      "source": [
        "f = open('prime.txt','w')\n",
        "f.write('This is our file')\n",
        "f.close()"
      ],
      "metadata": {
        "id": "WVvd495L-Zwa"
      },
      "execution_count": null,
      "outputs": []
    },
    {
      "cell_type": "markdown",
      "source": [
        "## Writing to file"
      ],
      "metadata": {
        "id": "3IYClawj-rjq"
      }
    },
    {
      "cell_type": "code",
      "source": [
        "f = open('prime.txt','w')\n",
        "f.write('This is a new line')\n",
        "f.close()"
      ],
      "metadata": {
        "id": "KijdHS6F-rE4"
      },
      "execution_count": null,
      "outputs": []
    },
    {
      "cell_type": "markdown",
      "source": [
        "##Reading From File"
      ],
      "metadata": {
        "id": "LjY73Xti-99W"
      }
    },
    {
      "cell_type": "code",
      "execution_count": null,
      "metadata": {
        "id": "cov3IvPM9-6G"
      },
      "outputs": [],
      "source": [
        "f2 = open('prime.txt','r')\n",
        "contents = f2.read()\n",
        "f2.close()\n",
        "print(contents)"
      ]
    },
    {
      "cell_type": "markdown",
      "source": [
        "## Append"
      ],
      "metadata": {
        "id": "SV7Ht1bP_Tgh"
      }
    },
    {
      "cell_type": "code",
      "source": [
        "f = open('prime.txt','a')\n",
        "f.write('\\n This is another line')\n",
        "f.close()"
      ],
      "metadata": {
        "id": "haiIfFQA_SLZ"
      },
      "execution_count": null,
      "outputs": []
    },
    {
      "cell_type": "code",
      "source": [
        "f2 = open('prime.txt','r')\n",
        "line = f2.readline()\n",
        "print('The first line:', line.rstrip())\n",
        "line = f2.readline()\n",
        "print('The second line:',line.rstrip())\n",
        "f2.close()"
      ],
      "metadata": {
        "id": "T__saq6h_SF-"
      },
      "execution_count": null,
      "outputs": []
    },
    {
      "cell_type": "markdown",
      "source": [
        "## Using Loops to process Files\n",
        "\n",
        "In this example we want to create a file that contains all prime numbers"
      ],
      "metadata": {
        "id": "f4smik4O_pt2"
      }
    },
    {
      "cell_type": "code",
      "source": [
        "def is_prime(n):\n",
        "    isprime = True\n",
        "    for d in range(2,n):\n",
        "        if n%d == 0:\n",
        "            isprime = False\n",
        "            break\n",
        "\n",
        "    return isprime"
      ],
      "metadata": {
        "id": "yWvG9QPH_SDi"
      },
      "execution_count": null,
      "outputs": []
    },
    {
      "cell_type": "code",
      "source": [
        "filename = 'prime_numbers.txt'\n",
        "f = open(filename,'w')\n",
        "for x in range(2,100):\n",
        "    if is_prime(x):\n",
        "        f.write(str(x)+'\\n')\n",
        "\n",
        "f.close()"
      ],
      "metadata": {
        "id": "IqYdWWrb_zwZ"
      },
      "execution_count": null,
      "outputs": []
    },
    {
      "cell_type": "code",
      "source": [
        "f2 = open(filename,'r')\n",
        "x = f2.read()\n",
        "f2.close()\n",
        "print(x)"
      ],
      "metadata": {
        "id": "ZkmFzeoIAioy"
      },
      "execution_count": null,
      "outputs": []
    },
    {
      "cell_type": "code",
      "source": [
        "f2 = open(filename,'r')\n",
        "x = f2.readline()\n",
        "print(x)\n",
        "x = f2.readline()\n",
        "print(x)\n",
        "f2.close()"
      ],
      "metadata": {
        "id": "bSeD5XdGAl2S"
      },
      "execution_count": null,
      "outputs": []
    },
    {
      "cell_type": "code",
      "source": [
        "print(\"anb \\n\".rstrip())"
      ],
      "metadata": {
        "id": "EpPctgfiA6Bw"
      },
      "execution_count": null,
      "outputs": []
    },
    {
      "cell_type": "code",
      "source": [
        "f2 = open(filename,'r')\n",
        "x = f2.readline()\n",
        "print(x.rstrip())\n",
        "x = f2.readline()\n",
        "print(x.rstrip())\n",
        "f2.close()"
      ],
      "metadata": {
        "id": "qBZshXtKAnXG"
      },
      "execution_count": null,
      "outputs": []
    },
    {
      "cell_type": "markdown",
      "source": [
        "### using while loop"
      ],
      "metadata": {
        "id": "pq0cf76EBU9a"
      }
    },
    {
      "cell_type": "code",
      "source": [
        "f2 = open(filename,'r')\n",
        "line = f2.readline()\n",
        "i = 1\n",
        "while line != '':\n",
        "    print(\"line {}: {}\".format(i,line.rstrip()))\n",
        "    line = f2.readline()\n",
        "    i += 1\n",
        "\n",
        "f2.close()"
      ],
      "metadata": {
        "id": "eaoLkNy2AvCD"
      },
      "execution_count": null,
      "outputs": []
    },
    {
      "cell_type": "markdown",
      "source": [
        "### using for loop"
      ],
      "metadata": {
        "id": "rOnUK0CLBaX8"
      }
    },
    {
      "cell_type": "code",
      "source": [],
      "metadata": {
        "id": "HVNrEUMVBZ-L"
      },
      "execution_count": null,
      "outputs": []
    },
    {
      "cell_type": "code",
      "source": [
        "filename = 'prime_numbers.txt'\n",
        "f2 = open(filename,'r')\n",
        "i = 1\n",
        "for line in f2:\n",
        "    print(\"line {}: {}\".format(i,line.rstrip()))\n",
        "    i += 1\n",
        "\n",
        "f2.close()"
      ],
      "metadata": {
        "id": "QkKQSpT5AzJ7"
      },
      "execution_count": null,
      "outputs": []
    },
    {
      "cell_type": "markdown",
      "source": [
        "## Append"
      ],
      "metadata": {
        "id": "jghcltC8_DLI"
      }
    }
  ]
}