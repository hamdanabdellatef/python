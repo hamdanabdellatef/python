{
  "nbformat": 4,
  "nbformat_minor": 0,
  "metadata": {
    "colab": {
      "provenance": [],
      "authorship_tag": "ABX9TyMRu7MRlh47YlHQOHzbEoro",
      "include_colab_link": true
    },
    "kernelspec": {
      "name": "python3",
      "display_name": "Python 3"
    },
    "language_info": {
      "name": "python"
    }
  },
  "cells": [
    {
      "cell_type": "markdown",
      "metadata": {
        "id": "view-in-github",
        "colab_type": "text"
      },
      "source": [
        "<a href=\"https://colab.research.google.com/github/hamdanabdellatef/python/blob/main/Files_and_Exceptions.ipynb\" target=\"_parent\"><img src=\"https://colab.research.google.com/assets/colab-badge.svg\" alt=\"Open In Colab\"/></a>"
      ]
    },
    {
      "cell_type": "markdown",
      "source": [
        "# Files and Exeptions\n",
        "\n",
        "1.   Introduction to File Input and Output\n",
        "2.   Using Loops to Process Files\n",
        "3.   Processing Records\n",
        "4.   Exceptions\n"
      ],
      "metadata": {
        "id": "-VJAhA1G-EkM"
      }
    },
    {
      "cell_type": "markdown",
      "source": [
        "## Creating a File"
      ],
      "metadata": {
        "id": "gCCOMUj0-aNL"
      }
    },
    {
      "cell_type": "code",
      "source": [
        "f = open('prime.txt','w')\n",
        "f.write('This is our file')\n",
        "f.close()"
      ],
      "metadata": {
        "id": "WVvd495L-Zwa"
      },
      "execution_count": 1,
      "outputs": []
    },
    {
      "cell_type": "markdown",
      "source": [
        "## Writing to file"
      ],
      "metadata": {
        "id": "3IYClawj-rjq"
      }
    },
    {
      "cell_type": "code",
      "source": [
        "f = open('prime.txt','w')\n",
        "f.write('This is a new line')\n",
        "f.close()"
      ],
      "metadata": {
        "id": "KijdHS6F-rE4"
      },
      "execution_count": 5,
      "outputs": []
    },
    {
      "cell_type": "markdown",
      "source": [
        "##Reading From File"
      ],
      "metadata": {
        "id": "LjY73Xti-99W"
      }
    },
    {
      "cell_type": "code",
      "execution_count": 6,
      "metadata": {
        "id": "cov3IvPM9-6G",
        "outputId": "d73a4be6-0b0e-4bf9-b402-2982aba302b9",
        "colab": {
          "base_uri": "https://localhost:8080/"
        }
      },
      "outputs": [
        {
          "output_type": "stream",
          "name": "stdout",
          "text": [
            "This is a new line\n"
          ]
        }
      ],
      "source": [
        "f2 = open('prime.txt','r')\n",
        "contents = f2.read()\n",
        "f2.close()\n",
        "print(contents)"
      ]
    },
    {
      "cell_type": "markdown",
      "source": [
        "## Append"
      ],
      "metadata": {
        "id": "SV7Ht1bP_Tgh"
      }
    },
    {
      "cell_type": "code",
      "source": [
        "f = open('prime.txt','a')\n",
        "f.write('\\n This is another line')\n",
        "f.close()"
      ],
      "metadata": {
        "id": "haiIfFQA_SLZ"
      },
      "execution_count": 7,
      "outputs": []
    },
    {
      "cell_type": "code",
      "source": [
        "f2 = open('prime.txt','r')\n",
        "line = f2.readline()\n",
        "print('The first line:', line)\n",
        "line = f2.readline()\n",
        "print('The second line:',line)\n",
        "f2.close()"
      ],
      "metadata": {
        "id": "ldbUBrbPJVSv",
        "outputId": "6cc05616-bc7d-40c3-9dba-93dfa63e23d3",
        "colab": {
          "base_uri": "https://localhost:8080/"
        }
      },
      "execution_count": 8,
      "outputs": [
        {
          "output_type": "stream",
          "name": "stdout",
          "text": [
            "The first line: This is a new line\n",
            "\n",
            "The second line:  This is another line\n"
          ]
        }
      ]
    },
    {
      "cell_type": "code",
      "source": [
        "f2 = open('prime.txt','r')\n",
        "line = f2.readline()\n",
        "print('The first line:', line.rstrip())\n",
        "line = f2.readline()\n",
        "print('The second line:',line.rstrip())\n",
        "f2.close()"
      ],
      "metadata": {
        "id": "T__saq6h_SF-",
        "outputId": "6a88571b-0afa-4cb9-ead4-606e71f48039",
        "colab": {
          "base_uri": "https://localhost:8080/"
        }
      },
      "execution_count": 9,
      "outputs": [
        {
          "output_type": "stream",
          "name": "stdout",
          "text": [
            "The first line: This is a new line\n",
            "The second line:  This is another line\n"
          ]
        }
      ]
    },
    {
      "cell_type": "code",
      "source": [
        "x = 'This is a string \\n'\n",
        "print(x)\n",
        "print(x.rstrip())"
      ],
      "metadata": {
        "id": "vuMZ21MIJ1_A",
        "outputId": "0cb20129-42f6-4e19-cbb9-3584c4ca90e1",
        "colab": {
          "base_uri": "https://localhost:8080/"
        }
      },
      "execution_count": 10,
      "outputs": [
        {
          "output_type": "stream",
          "name": "stdout",
          "text": [
            "This is a string \n",
            "\n",
            "This is a string\n"
          ]
        }
      ]
    },
    {
      "cell_type": "markdown",
      "source": [
        "## Using Loops to process Files\n",
        "\n",
        "In this example we want to create a file that contains all prime numbers"
      ],
      "metadata": {
        "id": "f4smik4O_pt2"
      }
    },
    {
      "cell_type": "code",
      "source": [
        "def is_prime(n):\n",
        "    isprime = True\n",
        "    for d in range(2,n):\n",
        "        if n%d == 0:\n",
        "            isprime = False\n",
        "            break\n",
        "\n",
        "    return isprime"
      ],
      "metadata": {
        "id": "yWvG9QPH_SDi"
      },
      "execution_count": 11,
      "outputs": []
    },
    {
      "cell_type": "code",
      "source": [
        "filename = 'prime_numbers.txt'\n",
        "f = open(filename,'w')\n",
        "for x in range(2,100):\n",
        "    if is_prime(x):\n",
        "        f.write(str(x)+'\\n')\n",
        "\n",
        "f.close()"
      ],
      "metadata": {
        "id": "IqYdWWrb_zwZ"
      },
      "execution_count": 12,
      "outputs": []
    },
    {
      "cell_type": "code",
      "source": [
        "f2 = open(filename,'r')\n",
        "x = f2.read()\n",
        "f2.close()\n",
        "print(x)"
      ],
      "metadata": {
        "id": "ZkmFzeoIAioy",
        "outputId": "e99469af-2464-40cf-a677-2343376b2325",
        "colab": {
          "base_uri": "https://localhost:8080/"
        }
      },
      "execution_count": 13,
      "outputs": [
        {
          "output_type": "stream",
          "name": "stdout",
          "text": [
            "2\n",
            "3\n",
            "5\n",
            "7\n",
            "11\n",
            "13\n",
            "17\n",
            "19\n",
            "23\n",
            "29\n",
            "31\n",
            "37\n",
            "41\n",
            "43\n",
            "47\n",
            "53\n",
            "59\n",
            "61\n",
            "67\n",
            "71\n",
            "73\n",
            "79\n",
            "83\n",
            "89\n",
            "97\n",
            "\n"
          ]
        }
      ]
    },
    {
      "cell_type": "code",
      "source": [
        "f2 = open(filename,'r')\n",
        "x = f2.readline()\n",
        "print(x)\n",
        "x = f2.readline()\n",
        "print(x)\n",
        "f2.close()"
      ],
      "metadata": {
        "id": "bSeD5XdGAl2S"
      },
      "execution_count": null,
      "outputs": []
    },
    {
      "cell_type": "code",
      "source": [
        "print(\"anb \\n\".rstrip())"
      ],
      "metadata": {
        "id": "EpPctgfiA6Bw"
      },
      "execution_count": null,
      "outputs": []
    },
    {
      "cell_type": "code",
      "source": [
        "f2 = open(filename,'r')\n",
        "x = f2.readline()\n",
        "print(x.rstrip())\n",
        "x = f2.readline()\n",
        "print(x.rstrip())\n",
        "f2.close()"
      ],
      "metadata": {
        "id": "qBZshXtKAnXG",
        "outputId": "657c7297-84b9-4b8d-82a8-5f1e93320b20",
        "colab": {
          "base_uri": "https://localhost:8080/"
        }
      },
      "execution_count": 14,
      "outputs": [
        {
          "output_type": "stream",
          "name": "stdout",
          "text": [
            "2\n",
            "3\n"
          ]
        }
      ]
    },
    {
      "cell_type": "markdown",
      "source": [
        "### using while loop"
      ],
      "metadata": {
        "id": "pq0cf76EBU9a"
      }
    },
    {
      "cell_type": "code",
      "source": [
        "f2 = open(filename,'r')\n",
        "line = f2.readline()\n",
        "i = 1\n",
        "while line != '':\n",
        "    print(\"line {}: {}\".format(i,line.rstrip()))\n",
        "    line = f2.readline()\n",
        "    i += 1\n",
        "\n",
        "f2.close()"
      ],
      "metadata": {
        "id": "eaoLkNy2AvCD",
        "outputId": "a6266cab-3fb9-4b4c-bea1-a90c7b9d10d8",
        "colab": {
          "base_uri": "https://localhost:8080/"
        }
      },
      "execution_count": 15,
      "outputs": [
        {
          "output_type": "stream",
          "name": "stdout",
          "text": [
            "line 1: 2\n",
            "line 2: 3\n",
            "line 3: 5\n",
            "line 4: 7\n",
            "line 5: 11\n",
            "line 6: 13\n",
            "line 7: 17\n",
            "line 8: 19\n",
            "line 9: 23\n",
            "line 10: 29\n",
            "line 11: 31\n",
            "line 12: 37\n",
            "line 13: 41\n",
            "line 14: 43\n",
            "line 15: 47\n",
            "line 16: 53\n",
            "line 17: 59\n",
            "line 18: 61\n",
            "line 19: 67\n",
            "line 20: 71\n",
            "line 21: 73\n",
            "line 22: 79\n",
            "line 23: 83\n",
            "line 24: 89\n",
            "line 25: 97\n"
          ]
        }
      ]
    },
    {
      "cell_type": "markdown",
      "source": [
        "### using for loop"
      ],
      "metadata": {
        "id": "rOnUK0CLBaX8"
      }
    },
    {
      "cell_type": "code",
      "source": [],
      "metadata": {
        "id": "HVNrEUMVBZ-L"
      },
      "execution_count": null,
      "outputs": []
    },
    {
      "cell_type": "code",
      "source": [
        "filename = 'prime_numbers.txt'\n",
        "f2 = open(filename,'r')\n",
        "i = 1\n",
        "for line in f2:\n",
        "    print(\"line {}: {}\".format(i,line.rstrip()))\n",
        "    i += 1\n",
        "\n",
        "f2.close()"
      ],
      "metadata": {
        "id": "QkKQSpT5AzJ7",
        "outputId": "3f2e6942-489c-4028-917e-935809f710ca",
        "colab": {
          "base_uri": "https://localhost:8080/"
        }
      },
      "execution_count": 16,
      "outputs": [
        {
          "output_type": "stream",
          "name": "stdout",
          "text": [
            "line 1: 2\n",
            "line 2: 3\n",
            "line 3: 5\n",
            "line 4: 7\n",
            "line 5: 11\n",
            "line 6: 13\n",
            "line 7: 17\n",
            "line 8: 19\n",
            "line 9: 23\n",
            "line 10: 29\n",
            "line 11: 31\n",
            "line 12: 37\n",
            "line 13: 41\n",
            "line 14: 43\n",
            "line 15: 47\n",
            "line 16: 53\n",
            "line 17: 59\n",
            "line 18: 61\n",
            "line 19: 67\n",
            "line 20: 71\n",
            "line 21: 73\n",
            "line 22: 79\n",
            "line 23: 83\n",
            "line 24: 89\n",
            "line 25: 97\n"
          ]
        }
      ]
    },
    {
      "cell_type": "markdown",
      "source": [
        "I want to get the prime numbers that are > 50"
      ],
      "metadata": {
        "id": "9FGFE3N4NTbL"
      }
    },
    {
      "cell_type": "code",
      "source": [
        "filename = 'prime_numbers.txt'\n",
        "f2 = open(filename,'r')\n",
        "\n",
        "for line in f2:\n",
        "    if int(line) > 50:\n",
        "        print(line.rstrip(), end=' ')\n",
        "\n",
        "f2.close()"
      ],
      "metadata": {
        "id": "j1UwyoXENfYp",
        "outputId": "905c6816-2856-4fd9-f0a5-c31e4a7d9403",
        "colab": {
          "base_uri": "https://localhost:8080/"
        }
      },
      "execution_count": 17,
      "outputs": [
        {
          "output_type": "stream",
          "name": "stdout",
          "text": [
            "53 59 61 67 71 73 79 83 89 97 "
          ]
        }
      ]
    },
    {
      "cell_type": "code",
      "source": [
        "f2 = open(filename,'r')\n",
        "line = f2.readline()\n",
        "while line != '':\n",
        "    if int(line) > 50:\n",
        "        print(line.rstrip(), end=' ')\n",
        "    line = f2.readline()\n",
        "\n",
        "f2.close()"
      ],
      "metadata": {
        "id": "BeC7I8eXOQ3T",
        "outputId": "5989befd-bf90-4a82-ddc4-f0596d2dffb2",
        "colab": {
          "base_uri": "https://localhost:8080/"
        }
      },
      "execution_count": 18,
      "outputs": [
        {
          "output_type": "stream",
          "name": "stdout",
          "text": [
            "53 59 61 67 71 73 79 83 89 97 "
          ]
        }
      ]
    },
    {
      "cell_type": "markdown",
      "source": [
        "## Append"
      ],
      "metadata": {
        "id": "jghcltC8_DLI"
      }
    }
  ]
}