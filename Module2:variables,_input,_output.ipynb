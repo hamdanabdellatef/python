{
  "nbformat": 4,
  "nbformat_minor": 0,
  "metadata": {
    "colab": {
      "provenance": [],
      "collapsed_sections": [
        "n8dvkS40_6Kz",
        "YtNv7A0w904w",
        "uNvVkgSU-8Xq",
        "ATV9P7EiDOD3",
        "kIt-oUCZDSTM",
        "uHY877-jHmKV",
        "kTjPz9cxMKP2"
      ],
      "authorship_tag": "ABX9TyO/w6seRvga2GS96KDGv0jF",
      "include_colab_link": true
    },
    "kernelspec": {
      "name": "python3",
      "display_name": "Python 3"
    },
    "language_info": {
      "name": "python"
    }
  },
  "cells": [
    {
      "cell_type": "markdown",
      "metadata": {
        "id": "view-in-github",
        "colab_type": "text"
      },
      "source": [
        "<a href=\"https://colab.research.google.com/github/hamdanabdellatef/python/blob/main/Module2%3Avariables%2C_input%2C_output.ipynb\" target=\"_parent\"><img src=\"https://colab.research.google.com/assets/colab-badge.svg\" alt=\"Open In Colab\"/></a>"
      ]
    },
    {
      "cell_type": "markdown",
      "source": [
        "# Introduction: Variables, Input, and Output in Python\n",
        "Welcome to your first hands-on notebook in Introduction to Computer Programming!\n",
        "\n",
        "In this notebook, you’ll begin exploring some of the most fundamental concepts in any programming language — and especially in Python:\n",
        "\n",
        "🟨 Variables — how we store and work with data\n",
        "\n",
        "🔤 Input — how to receive values from the user\n",
        "\n",
        "🖨️ Output — how to display results on the screen\n",
        "\n",
        "These building blocks will allow you to create interactive, meaningful programs — from simple calculations to real-world applications.\n",
        "\n",
        "🎯 What You'll Learn:\n",
        "How to define and use variables\n",
        "\n",
        "- How to collect user input using the input() function\n",
        "- How to display output using the print() function\n",
        "- How to process data, perform basic math and combine everything into small programs\n",
        "\n",
        "\n",
        "By the end of this notebook, you'll be able to write Python programs that:\n",
        "- Respond to the user\n",
        "- Process numeric or text input\n",
        "- Display formatted results\n",
        "\n",
        "Let’s dive in and begin your journey into programming!"
      ],
      "metadata": {
        "id": "gJXe5wXl4sfS"
      }
    },
    {
      "cell_type": "markdown",
      "source": [
        "#Using the print function, Comments, and Basic Strings"
      ],
      "metadata": {
        "id": "n8dvkS40_6Kz"
      }
    },
    {
      "cell_type": "markdown",
      "source": [
        "##Displaying Output with the `print` Function\n",
        "\n",
        "**Function**: piece of prewritten code that performs an operation\n",
        "\n",
        "**`print` function**: displays output on the screen\n",
        "\n",
        "**Argument**: data given to a function\n",
        "- Example: data that is printed to screen\n",
        "\n",
        "Statements in a program **execute in the order** that they appear\n",
        "-From top to bottom\n"
      ],
      "metadata": {
        "id": "YtNv7A0w904w"
      }
    },
    {
      "cell_type": "code",
      "execution_count": null,
      "metadata": {
        "id": "AtKkt3Gk9T83",
        "outputId": "63c076cd-886b-4e1e-8fc1-ab18cb7375fb",
        "colab": {
          "base_uri": "https://localhost:8080/"
        }
      },
      "outputs": [
        {
          "output_type": "stream",
          "name": "stdout",
          "text": [
            "Hello World!\n"
          ]
        }
      ],
      "source": [
        "print(\"Hello World!\")"
      ]
    },
    {
      "cell_type": "code",
      "source": [
        "print(\"This is the first line of code\")\n",
        "print(\"This is the second line of code\")\n",
        "print(\"This is the third line of code\")"
      ],
      "metadata": {
        "id": "b8JjvC0BrQL9",
        "outputId": "efd39aeb-dd96-4ef4-8bc9-eea37c54f85b",
        "colab": {
          "base_uri": "https://localhost:8080/"
        }
      },
      "execution_count": null,
      "outputs": [
        {
          "output_type": "stream",
          "name": "stdout",
          "text": [
            "This is the first line of code\n",
            "This is the second line of code\n",
            "This is the third line of code\n"
          ]
        }
      ]
    },
    {
      "cell_type": "markdown",
      "source": [
        "##Strings and String Literals\n",
        "\n",
        "**String**: sequence of characters that is used as data\n",
        "\n",
        "**String literal**: string that appears in actual code of a program\n",
        "- Must be enclosed in single (`'`) or double (`\"`) quote marks\n",
        "- String literal can be enclosed in triple quotes (`'''` or `\"\"\"`)\n",
        " - Enclosed string can contain both single and double quotes and can have multiple lines\n"
      ],
      "metadata": {
        "id": "uNvVkgSU-8Xq"
      }
    },
    {
      "cell_type": "code",
      "source": [
        "print('This is a string literal')\n",
        "print(\"This is a string literal\")\n",
        "print('''This is a string literal''')\n",
        "print(\"\"\"This is a string literal\"\"\")"
      ],
      "metadata": {
        "id": "C3s78TjD_18p",
        "outputId": "0624b7da-e10c-4a55-bc35-da2797ea7bc9",
        "colab": {
          "base_uri": "https://localhost:8080/"
        }
      },
      "execution_count": null,
      "outputs": [
        {
          "output_type": "stream",
          "name": "stdout",
          "text": [
            "This is a string literal\n",
            "This is a string literal\n",
            "This is a string literal\n",
            "This is a string literal\n"
          ]
        }
      ]
    },
    {
      "cell_type": "code",
      "source": [
        "print('''This is a string literal\n",
        "that spans multiple lines''')"
      ],
      "metadata": {
        "id": "4rU7o0PLr-sQ",
        "outputId": "c14e3733-c4e6-4b00-fefb-fcb25eb83a45",
        "colab": {
          "base_uri": "https://localhost:8080/"
        }
      },
      "execution_count": null,
      "outputs": [
        {
          "output_type": "stream",
          "name": "stdout",
          "text": [
            "This is a string literal\n",
            "that spans multiple lines\n"
          ]
        }
      ]
    },
    {
      "cell_type": "markdown",
      "source": [
        "##Comments\n",
        "**Comments**: notes of explanation within a program\n",
        "- Ignored by Python interpreter\n",
        " - Intended for a person reading the program’s code\n",
        "- Begin with a `#` character\n",
        "\n",
        "**End-line comment**: appears at the end of a line of code\n",
        "- Typically explains the purpose of that line\n"
      ],
      "metadata": {
        "id": "FjJA-01NA1gK"
      }
    },
    {
      "cell_type": "code",
      "source": [
        "print(\"Hello world\")\n",
        "#This is a comment\n",
        "\n",
        "print(\"This line is not a comment\")\n"
      ],
      "metadata": {
        "id": "XYFmDn3TBbKg",
        "outputId": "11460f55-9762-439e-ac58-f78243a05da7",
        "colab": {
          "base_uri": "https://localhost:8080/"
        }
      },
      "execution_count": null,
      "outputs": [
        {
          "output_type": "stream",
          "name": "stdout",
          "text": [
            "Hello world\n",
            "This line is not a comment\n"
          ]
        }
      ]
    },
    {
      "cell_type": "code",
      "source": [
        "#the print function prints data to screed\n",
        "#The syntax is print(data)\n",
        "print(\"Hello World\")"
      ],
      "metadata": {
        "id": "HlgQgsJmssyi",
        "outputId": "47717875-19a1-40f8-cdb1-b41271514b01",
        "colab": {
          "base_uri": "https://localhost:8080/"
        }
      },
      "execution_count": null,
      "outputs": [
        {
          "output_type": "stream",
          "name": "stdout",
          "text": [
            "Hello World\n"
          ]
        }
      ]
    },
    {
      "cell_type": "code",
      "source": [
        "print(\"Hello World\") #This is a comment"
      ],
      "metadata": {
        "id": "HdDmtODcs7dK",
        "outputId": "6abfc7b0-a9bd-4137-9d7c-a979f0cf2a47",
        "colab": {
          "base_uri": "https://localhost:8080/"
        }
      },
      "execution_count": null,
      "outputs": [
        {
          "output_type": "stream",
          "name": "stdout",
          "text": [
            "Hello World\n"
          ]
        }
      ]
    },
    {
      "cell_type": "code",
      "source": [
        "#this is comment print(\"hello world\")"
      ],
      "metadata": {
        "id": "appIgXxttBO8"
      },
      "execution_count": null,
      "outputs": []
    },
    {
      "cell_type": "markdown",
      "source": [
        "##Displaying Multiple Items with the `print` Function\n",
        "Python allows one to display multiple items with a single call to print\n",
        "- Items are separated by commas when passed as arguments\n",
        "- Arguments displayed in the order they are passed to the function\n",
        "- Items are automatically separated by a space when displayed on screen\n"
      ],
      "metadata": {
        "id": "ZTlmcVUMBbqP"
      }
    },
    {
      "cell_type": "code",
      "source": [
        "print(\"Hello\", \"World\", '!!')"
      ],
      "metadata": {
        "id": "Zk2gvTDyDNhU",
        "outputId": "4d241bcc-cc74-413e-cdb7-e188895d0fe4",
        "colab": {
          "base_uri": "https://localhost:8080/"
        }
      },
      "execution_count": null,
      "outputs": [
        {
          "output_type": "stream",
          "name": "stdout",
          "text": [
            "Hello World !!\n"
          ]
        }
      ]
    },
    {
      "cell_type": "code",
      "source": [
        "x = 10\n",
        "y = 20\n",
        "\n",
        "z = x + y\n",
        "\n",
        "print(x, \"+\", y, \"=\", z)\n",
        "# The output will be 10 + 20 = 30"
      ],
      "metadata": {
        "id": "SR3Pk46ItvMK",
        "outputId": "fe732cb2-0565-411f-ad59-27e61b688f1f",
        "colab": {
          "base_uri": "https://localhost:8080/"
        }
      },
      "execution_count": null,
      "outputs": [
        {
          "output_type": "stream",
          "name": "stdout",
          "text": [
            "10 + 20 = 30\n"
          ]
        }
      ]
    },
    {
      "cell_type": "code",
      "source": [
        "print('x','+','y','=',z)\n",
        "#x + y = 30"
      ],
      "metadata": {
        "id": "TmuGwxlXugGf",
        "outputId": "3a31a602-8665-4a5f-bf34-148bd1dc73eb",
        "colab": {
          "base_uri": "https://localhost:8080/"
        }
      },
      "execution_count": null,
      "outputs": [
        {
          "output_type": "stream",
          "name": "stdout",
          "text": [
            "x + y = 30\n"
          ]
        }
      ]
    },
    {
      "cell_type": "markdown",
      "source": [
        "#Introduction to Varaibles"
      ],
      "metadata": {
        "id": "ATV9P7EiDOD3"
      }
    },
    {
      "cell_type": "markdown",
      "source": [
        "**Variable**: name that represents a value stored in the computer memory\n",
        "- Used to access and manipulate data stored in memory\n",
        "- A variable references the value it represents"
      ],
      "metadata": {
        "id": "g71_3bIpE0rc"
      }
    },
    {
      "cell_type": "markdown",
      "source": [
        "##Variable Assignment\n",
        "**Assignment statement**: used to create a variable and make it reference data\n",
        "- General format is `variable = expression`\n",
        "- Example: `age = 29`\n",
        "\n",
        "**Assignment operator**: the equal sign (`=`)\n",
        "\n",
        "In assignment statement, *variable receiving value must be on left side*."
      ],
      "metadata": {
        "id": "kIt-oUCZDSTM"
      }
    },
    {
      "cell_type": "code",
      "source": [
        "a = 5\n",
        "age = 29\n",
        "text = 'Hello World'"
      ],
      "metadata": {
        "id": "aOv2VwPnFLJJ"
      },
      "execution_count": null,
      "outputs": []
    },
    {
      "cell_type": "code",
      "source": [
        "print(a,age,text)"
      ],
      "metadata": {
        "id": "6p37oT9vxxtY",
        "outputId": "7909b3c8-e444-493d-e01f-a4076d88adf1",
        "colab": {
          "base_uri": "https://localhost:8080/"
        }
      },
      "execution_count": null,
      "outputs": [
        {
          "output_type": "stream",
          "name": "stdout",
          "text": [
            "5 29 Hello World\n"
          ]
        }
      ]
    },
    {
      "cell_type": "code",
      "source": [
        "b = a\n",
        "print(b)"
      ],
      "metadata": {
        "id": "zJ2qq4Wpx53W",
        "outputId": "7a444418-f157-4351-d4d6-769cce10c716",
        "colab": {
          "base_uri": "https://localhost:8080/"
        }
      },
      "execution_count": null,
      "outputs": [
        {
          "output_type": "stream",
          "name": "stdout",
          "text": [
            "5\n"
          ]
        }
      ]
    },
    {
      "cell_type": "code",
      "source": [
        "c = 10\n",
        "b = c\n",
        "print(b)"
      ],
      "metadata": {
        "id": "vYjM67c2yE_F",
        "outputId": "bac55682-2e74-4aa8-c3fd-a8241234457a",
        "colab": {
          "base_uri": "https://localhost:8080/"
        }
      },
      "execution_count": null,
      "outputs": [
        {
          "output_type": "stream",
          "name": "stdout",
          "text": [
            "10\n"
          ]
        }
      ]
    },
    {
      "cell_type": "markdown",
      "source": [
        "##Passing Variables to functions\n",
        "- A variable can be passed as an argument to a function\n",
        "- Variable name should not be enclosed in quote marks\n",
        "- You can only use a variable if a value is assigned to it\n",
        "\n",
        "\n"
      ],
      "metadata": {
        "id": "rjLumQPoFWyA"
      }
    },
    {
      "cell_type": "code",
      "source": [
        "print(age)"
      ],
      "metadata": {
        "id": "YMDtpgfSFv9i",
        "outputId": "232f83f6-8536-4cc9-cfc5-5ecff3112451",
        "colab": {
          "base_uri": "https://localhost:8080/"
        }
      },
      "execution_count": null,
      "outputs": [
        {
          "output_type": "stream",
          "name": "stdout",
          "text": [
            "29\n"
          ]
        }
      ]
    },
    {
      "cell_type": "code",
      "source": [
        "print('my age is', age)"
      ],
      "metadata": {
        "id": "OOA-6-ctykQo",
        "outputId": "86688822-d52c-4fcb-e92a-8d7ca60d09dc",
        "colab": {
          "base_uri": "https://localhost:8080/"
        }
      },
      "execution_count": null,
      "outputs": [
        {
          "output_type": "stream",
          "name": "stdout",
          "text": [
            "my age is 29\n"
          ]
        }
      ]
    },
    {
      "cell_type": "code",
      "source": [
        "print('age')"
      ],
      "metadata": {
        "id": "ww1DcB_nyucW",
        "outputId": "1cfd62dc-87ee-4af1-c684-c9de0839bead",
        "colab": {
          "base_uri": "https://localhost:8080/"
        }
      },
      "execution_count": null,
      "outputs": [
        {
          "output_type": "stream",
          "name": "stdout",
          "text": [
            "age\n"
          ]
        }
      ]
    },
    {
      "cell_type": "markdown",
      "source": [
        "##Variable Naming Rules\n",
        "Rules for naming variables in Python:\n",
        "- Variable name cannot be a Python key word\n",
        "- Variable name cannot contain spaces\n",
        "- First character must be a letter or an underscore\n",
        "- After first character may use letters, digits, or underscores\n",
        "- Variable names are case sensitive\n",
        "\n",
        "Variable name should reflect its use\n"
      ],
      "metadata": {
        "id": "DdZONOyuF1TY"
      }
    },
    {
      "cell_type": "code",
      "source": [
        "if = 4"
      ],
      "metadata": {
        "id": "aF3a_jDQGTb0",
        "outputId": "7f23a0d7-865a-4393-899c-b0e387b1dff1",
        "colab": {
          "base_uri": "https://localhost:8080/",
          "height": 106
        }
      },
      "execution_count": null,
      "outputs": [
        {
          "output_type": "error",
          "ename": "SyntaxError",
          "evalue": "invalid syntax (ipython-input-22-1720054281.py, line 1)",
          "traceback": [
            "\u001b[0;36m  File \u001b[0;32m\"/tmp/ipython-input-22-1720054281.py\"\u001b[0;36m, line \u001b[0;32m1\u001b[0m\n\u001b[0;31m    if = 4\u001b[0m\n\u001b[0m       ^\u001b[0m\n\u001b[0;31mSyntaxError\u001b[0m\u001b[0;31m:\u001b[0m invalid syntax\n"
          ]
        }
      ]
    },
    {
      "cell_type": "code",
      "source": [
        "new_sentence = 'This is the sentence'"
      ],
      "metadata": {
        "id": "xlORi5UtzMP9"
      },
      "execution_count": null,
      "outputs": []
    },
    {
      "cell_type": "code",
      "source": [
        "x1 = 1\n",
        "x2 = 2"
      ],
      "metadata": {
        "id": "u7VR4bECze_P"
      },
      "execution_count": null,
      "outputs": []
    },
    {
      "cell_type": "code",
      "source": [
        "_variable = 10\n",
        "print(_variable)"
      ],
      "metadata": {
        "id": "JuMBjkJtzl_e",
        "outputId": "2ec15625-7d35-41df-cc96-e611ba02f504",
        "colab": {
          "base_uri": "https://localhost:8080/"
        }
      },
      "execution_count": null,
      "outputs": [
        {
          "output_type": "stream",
          "name": "stdout",
          "text": [
            "10\n"
          ]
        }
      ]
    },
    {
      "cell_type": "code",
      "source": [
        "print(a)"
      ],
      "metadata": {
        "id": "y83P-K5wz4Xv",
        "outputId": "b4f6f50d-da24-45c7-9ff0-d7d2ba0ed7b3",
        "colab": {
          "base_uri": "https://localhost:8080/"
        }
      },
      "execution_count": null,
      "outputs": [
        {
          "output_type": "stream",
          "name": "stdout",
          "text": [
            "5\n"
          ]
        }
      ]
    },
    {
      "cell_type": "code",
      "source": [
        "#A is not the same as a\n",
        "A = 10\n",
        "a = 20\n",
        "print(A)\n",
        "print(a)"
      ],
      "metadata": {
        "id": "Z_gNq69Hz7Jn",
        "outputId": "b05b24ea-d93d-4bb6-c654-22eda2f6390b",
        "colab": {
          "base_uri": "https://localhost:8080/"
        }
      },
      "execution_count": null,
      "outputs": [
        {
          "output_type": "stream",
          "name": "stdout",
          "text": [
            "10\n",
            "20\n"
          ]
        }
      ]
    },
    {
      "cell_type": "code",
      "source": [
        "Employee_name = 'John Smith'\n",
        "print(Employee_name)"
      ],
      "metadata": {
        "id": "isgaz77w0GLi",
        "outputId": "8ad0bfad-4738-490d-b5d2-a434e010fcff",
        "colab": {
          "base_uri": "https://localhost:8080/"
        }
      },
      "execution_count": null,
      "outputs": [
        {
          "output_type": "stream",
          "name": "stdout",
          "text": [
            "John Smith\n"
          ]
        }
      ]
    },
    {
      "cell_type": "markdown",
      "source": [
        "##Variable Reassignment\n",
        "Variables can reference different values while program is running\n",
        "\n",
        "**Garbage collection**: removal of values that are no longer referenced by variables\n",
        "- Carried out by Python interpreter\n",
        "\n",
        "A variable can refer to item of any type\n",
        "- Variable that has been assigned to one type can be reassigned to another type\n"
      ],
      "metadata": {
        "id": "AnWasbQcGT70"
      }
    },
    {
      "cell_type": "code",
      "source": [
        "x = 10\n",
        "print(x)\n",
        "x = 15\n",
        "print(x)\n",
        "x = 'This is a text'\n",
        "print(x)"
      ],
      "metadata": {
        "id": "7LtzZztiG-BK",
        "outputId": "abbaa991-60f4-408f-c384-41ae657eb069",
        "colab": {
          "base_uri": "https://localhost:8080/"
        }
      },
      "execution_count": null,
      "outputs": [
        {
          "output_type": "stream",
          "name": "stdout",
          "text": [
            "10\n",
            "15\n",
            "This is a text\n"
          ]
        }
      ]
    },
    {
      "cell_type": "markdown",
      "source": [
        "#More on Variables and Data Types"
      ],
      "metadata": {
        "id": "uHY877-jHmKV"
      }
    },
    {
      "cell_type": "markdown",
      "source": [
        "## Data types\n",
        "- In python, data type is considered based on the assignment\n",
        "- use `type()` function to show the data type\n"
      ],
      "metadata": {
        "id": "Rg7TcYjiHqIK"
      }
    },
    {
      "cell_type": "code",
      "source": [
        "x = 10\n",
        "print(type(x))"
      ],
      "metadata": {
        "id": "XI0g071eJih6",
        "colab": {
          "base_uri": "https://localhost:8080/"
        },
        "outputId": "c254c6b9-97df-408c-a23f-cf346dbe9bf5"
      },
      "execution_count": null,
      "outputs": [
        {
          "output_type": "stream",
          "name": "stdout",
          "text": [
            "<class 'int'>\n"
          ]
        }
      ]
    },
    {
      "cell_type": "code",
      "source": [
        "x = 10.5\n",
        "print(type(x))"
      ],
      "metadata": {
        "colab": {
          "base_uri": "https://localhost:8080/"
        },
        "id": "Z1BR5VPr87Zg",
        "outputId": "859ef897-cba5-44cb-d445-d5627f73850a"
      },
      "execution_count": null,
      "outputs": [
        {
          "output_type": "stream",
          "name": "stdout",
          "text": [
            "<class 'float'>\n"
          ]
        }
      ]
    },
    {
      "cell_type": "code",
      "source": [
        "x = 'Hello World'\n",
        "print(type(x))"
      ],
      "metadata": {
        "colab": {
          "base_uri": "https://localhost:8080/"
        },
        "id": "kNZdrt8x9EQU",
        "outputId": "6a1aebbc-bb43-42c0-e148-9db1ef5e4fa0"
      },
      "execution_count": null,
      "outputs": [
        {
          "output_type": "stream",
          "name": "stdout",
          "text": [
            "<class 'str'>\n"
          ]
        }
      ]
    },
    {
      "cell_type": "code",
      "source": [
        "x = 10.5\n",
        "y = 15\n",
        "print(type(x),type(y),x+y,type(x+y))"
      ],
      "metadata": {
        "colab": {
          "base_uri": "https://localhost:8080/"
        },
        "id": "5U7bidBK9vMe",
        "outputId": "caba53cd-7e67-4fdb-9d8c-5cc5fd01e38c"
      },
      "execution_count": null,
      "outputs": [
        {
          "output_type": "stream",
          "name": "stdout",
          "text": [
            "<class 'float'> <class 'int'> 25.5 <class 'float'>\n"
          ]
        }
      ]
    },
    {
      "cell_type": "markdown",
      "source": [
        "## Operations depend on data type\n",
        "- Some operations behave differently depending on data type\n",
        "- Example `+` with `int` is different than `str`\n"
      ],
      "metadata": {
        "id": "CZp-KDNPJi7n"
      }
    },
    {
      "cell_type": "code",
      "source": [
        "x = 'Hello'\n",
        "y = 'World'\n",
        "print(x+' '+y)"
      ],
      "metadata": {
        "id": "tfjweFwOKGnz",
        "colab": {
          "base_uri": "https://localhost:8080/"
        },
        "outputId": "9be6e29f-5a54-461c-ae6b-e8fb10dabb85"
      },
      "execution_count": null,
      "outputs": [
        {
          "output_type": "stream",
          "name": "stdout",
          "text": [
            "Hello World\n"
          ]
        }
      ]
    },
    {
      "cell_type": "code",
      "source": [
        "text = 'my are is'\n",
        "age = 29\n",
        "print(text,age)"
      ],
      "metadata": {
        "colab": {
          "base_uri": "https://localhost:8080/"
        },
        "id": "74xY0bL8_AXE",
        "outputId": "48e3c89e-a18c-4460-f6d0-3c9658f8f0cd"
      },
      "execution_count": null,
      "outputs": [
        {
          "output_type": "stream",
          "name": "stdout",
          "text": [
            "my are is 29\n"
          ]
        }
      ]
    },
    {
      "cell_type": "code",
      "source": [
        "text = 'Hello'\n",
        "repeat = 5\n",
        "print(text*repeat)"
      ],
      "metadata": {
        "colab": {
          "base_uri": "https://localhost:8080/"
        },
        "id": "vU9okuaH_tRa",
        "outputId": "e6c1ac98-1afb-4c6e-dbca-34a7fc7d39c3"
      },
      "execution_count": null,
      "outputs": [
        {
          "output_type": "stream",
          "name": "stdout",
          "text": [
            "HelloHelloHelloHelloHello\n"
          ]
        }
      ]
    },
    {
      "cell_type": "markdown",
      "source": [
        "#Peforming Calculations"
      ],
      "metadata": {
        "id": "kTjPz9cxMKP2"
      }
    },
    {
      "cell_type": "markdown",
      "source": [
        "##Mathematical operators\n",
        "- Addition `+` and subtraction `-`\n",
        "- Multiplication `*`, division `/`, integer division '//'\n",
        "- Perecedence *PEMDAS*"
      ],
      "metadata": {
        "id": "Ni2SBTnDMOBk"
      }
    },
    {
      "cell_type": "code",
      "source": [
        "x = 2\n",
        "y = 3\n",
        "print(x+y)\n",
        "print(x-y)\n",
        "print(x*y)\n",
        "print(x/y)\n",
        "print(x//y)"
      ],
      "metadata": {
        "id": "pbu5cVjYMxLl",
        "colab": {
          "base_uri": "https://localhost:8080/"
        },
        "outputId": "f4ccc460-2e3c-4d98-c7d2-dbed3a20a533"
      },
      "execution_count": null,
      "outputs": [
        {
          "output_type": "stream",
          "name": "stdout",
          "text": [
            "5\n",
            "-1\n",
            "6\n",
            "0.6666666666666666\n",
            "0\n"
          ]
        }
      ]
    },
    {
      "cell_type": "code",
      "source": [
        "z = (x+y)**2 + 5 / 2\n",
        "# 5**2 + 5/2\n",
        "#25 + 5/2\n",
        "#25 + 2.5 = 27.5\n",
        "print(z)"
      ],
      "metadata": {
        "colab": {
          "base_uri": "https://localhost:8080/"
        },
        "id": "ODyXgLVXDzPs",
        "outputId": "a2c14cae-5dd0-411c-c525-27b65e3a21a5"
      },
      "execution_count": null,
      "outputs": [
        {
          "output_type": "stream",
          "name": "stdout",
          "text": [
            "27.5\n"
          ]
        }
      ]
    },
    {
      "cell_type": "markdown",
      "source": [
        "##The Exponent Operator\n",
        "**Exponent operator** (`**`): Raises a number to a power\n",
        "\n",
        "`x ** y` = $x^y$\n",
        "\n"
      ],
      "metadata": {
        "id": "NadssfuDMyrv"
      }
    },
    {
      "cell_type": "code",
      "source": [
        "print(5**3)"
      ],
      "metadata": {
        "id": "OjRftx23Ne1F",
        "colab": {
          "base_uri": "https://localhost:8080/"
        },
        "outputId": "5a5c464b-a9a8-41b4-c775-068999edb2d2"
      },
      "execution_count": null,
      "outputs": [
        {
          "output_type": "stream",
          "name": "stdout",
          "text": [
            "125\n"
          ]
        }
      ]
    },
    {
      "cell_type": "code",
      "source": [
        "print(16**0.5)"
      ],
      "metadata": {
        "colab": {
          "base_uri": "https://localhost:8080/"
        },
        "id": "DzjpJbTKF3xd",
        "outputId": "f8eeac64-b67b-4e44-9c6c-2c8a9b290d35"
      },
      "execution_count": null,
      "outputs": [
        {
          "output_type": "stream",
          "name": "stdout",
          "text": [
            "4.0\n"
          ]
        }
      ]
    },
    {
      "cell_type": "code",
      "source": [
        "print(10**-1)"
      ],
      "metadata": {
        "colab": {
          "base_uri": "https://localhost:8080/"
        },
        "id": "kIVdXexkF3jR",
        "outputId": "ebd575f8-6b32-43dc-d563-ba8daa25f367"
      },
      "execution_count": null,
      "outputs": [
        {
          "output_type": "stream",
          "name": "stdout",
          "text": [
            "0.1\n"
          ]
        }
      ]
    },
    {
      "cell_type": "markdown",
      "source": [
        "##The Remainder operator\n",
        "**Remainder operator** (`%`): Performs division and returns the remainder\n",
        "a.k.a. modulus operator\n",
        "\n",
        "e.g., `4%2`= 0, `5%2` = 1\n",
        "\n",
        "Typically used to convert times and distances, and to detect odd or even numbers"
      ],
      "metadata": {
        "id": "z3GpsjhJNMho"
      }
    },
    {
      "cell_type": "code",
      "source": [
        "x = 3\n",
        "y = 2\n",
        "print(x,'/',y,'=',x//y,'+',x%y,'/',y)\n"
      ],
      "metadata": {
        "id": "YXQHhfAvNpcd",
        "colab": {
          "base_uri": "https://localhost:8080/"
        },
        "outputId": "e8a778e0-8dea-4389-ccfc-e36894f08522"
      },
      "execution_count": null,
      "outputs": [
        {
          "output_type": "stream",
          "name": "stdout",
          "text": [
            "3 / 2 = 1 + 1 / 2\n"
          ]
        }
      ]
    },
    {
      "cell_type": "code",
      "source": [
        "x = 37\n",
        "\n",
        "print(x%2)"
      ],
      "metadata": {
        "colab": {
          "base_uri": "https://localhost:8080/"
        },
        "id": "-f52WVDkHFq7",
        "outputId": "7e71fb59-8de2-4e0b-be30-fa150485a16a"
      },
      "execution_count": null,
      "outputs": [
        {
          "output_type": "stream",
          "name": "stdout",
          "text": [
            "1\n"
          ]
        }
      ]
    },
    {
      "cell_type": "markdown",
      "source": [
        "#Converting a formula to programming statements"
      ],
      "metadata": {
        "id": "xqH6kJ0pPk9v"
      }
    },
    {
      "cell_type": "markdown",
      "source": [
        "Mathematical formula for the area of the circle:\n",
        "\n",
        "Area$=\\pi r^2$\n",
        "\n",
        "Where:\n",
        "\n",
        "$\\pi \\approx 3.1416$\n",
        "\n",
        "$r$ is the radius of the circle"
      ],
      "metadata": {
        "id": "2rGw0dLCPn_0"
      }
    },
    {
      "cell_type": "code",
      "source": [
        "r = 10\n",
        "area = 3.1416 * r**2\n",
        "print('The area of the circle is', area, 'meters squared')"
      ],
      "metadata": {
        "id": "Q_nWrUGPPnhj",
        "colab": {
          "base_uri": "https://localhost:8080/"
        },
        "outputId": "ac30c504-f6c2-4e89-983d-acdfd21a38c5"
      },
      "execution_count": null,
      "outputs": [
        {
          "output_type": "stream",
          "name": "stdout",
          "text": [
            "The area of the circle is 314.15999999999997 meters squared\n"
          ]
        }
      ]
    },
    {
      "cell_type": "markdown",
      "source": [
        "Mathematical Formula: Solving a Quadratic Equation\n",
        "\n",
        "For an equation:\n",
        "\n",
        "$ax^2+bx+c=0$\n",
        "\n",
        "The solutions are given by the quadratic formula:\n",
        "\n",
        "$x = \\frac{-b \\pm \\sqrt{b^2-4ac}}{2a}$\n"
      ],
      "metadata": {
        "id": "PqLrBfiZQfLV"
      }
    },
    {
      "cell_type": "code",
      "source": [
        "# INPUT\n",
        "# some way to ask the user for the values of a b and c\n",
        "a = 2\n",
        "b = 4\n",
        "c = 1\n",
        "\n",
        "#PROCESS\n",
        "d = b**2 - 4*a*c\n",
        "\n",
        "x1 = (-b + d**0.5)/(2*a)\n",
        "x2 = (-b - d**0.5)/(2*a)\n",
        "\n",
        "#OUTPUT\n",
        "print('The solutions are', x1, 'and', x2)"
      ],
      "metadata": {
        "id": "vXx17KckQen-",
        "colab": {
          "base_uri": "https://localhost:8080/"
        },
        "outputId": "edd961dc-3179-4f45-a2d3-79fb3065b88e"
      },
      "execution_count": null,
      "outputs": [
        {
          "output_type": "stream",
          "name": "stdout",
          "text": [
            "The solutions are -0.2928932188134524 and -1.7071067811865475\n"
          ]
        }
      ]
    },
    {
      "cell_type": "markdown",
      "source": [
        "#Formating Text and Numbers"
      ],
      "metadata": {
        "id": "zUyk3XM9iAAx"
      }
    },
    {
      "cell_type": "markdown",
      "source": [
        "##More on Output\n",
        "\n",
        "`print` function displays line of output\n",
        "- Newline character at end of printed data\n",
        "- Special argument `end='delimiter'` causes print to place delimiter at end of data instead of newline character\n"
      ],
      "metadata": {
        "id": "JSK9IHNFiDR0"
      }
    },
    {
      "cell_type": "code",
      "source": [
        "print('Hello')\n",
        "print('World')\n",
        "\n",
        "#i want to have the output to be Hello World\n",
        "print('Hello',end=' ')\n",
        "print('World')"
      ],
      "metadata": {
        "id": "Exn_KzgniZRD",
        "colab": {
          "base_uri": "https://localhost:8080/"
        },
        "outputId": "332b7a53-0c94-4537-c7e3-94fd0e253877"
      },
      "execution_count": 2,
      "outputs": [
        {
          "output_type": "stream",
          "name": "stdout",
          "text": [
            "Hello\n",
            "World\n",
            "Hello World\n"
          ]
        }
      ]
    },
    {
      "cell_type": "code",
      "source": [
        "#Hello--World\n",
        "print('Hello',end='--')\n",
        "print('World')"
      ],
      "metadata": {
        "colab": {
          "base_uri": "https://localhost:8080/"
        },
        "id": "_RCcLNRqxrE9",
        "outputId": "7892b3d8-e1f9-4755-f2b5-d75ebe5f66f8"
      },
      "execution_count": 3,
      "outputs": [
        {
          "output_type": "stream",
          "name": "stdout",
          "text": [
            "Hello--World\n"
          ]
        }
      ]
    },
    {
      "cell_type": "markdown",
      "source": [
        "`print` function uses space as item separator\n",
        "- Special argument `sep='delimiter'` causes print to use delimiter as item separator\n"
      ],
      "metadata": {
        "id": "_LkZvdZhiZ6x"
      }
    },
    {
      "cell_type": "code",
      "source": [
        "print('Hello','World','!!')"
      ],
      "metadata": {
        "id": "Zu1otT8simGU",
        "colab": {
          "base_uri": "https://localhost:8080/"
        },
        "outputId": "89abd4ca-ae75-4201-da5d-49765b6743c1"
      },
      "execution_count": 4,
      "outputs": [
        {
          "output_type": "stream",
          "name": "stdout",
          "text": [
            "Hello World !!\n"
          ]
        }
      ]
    },
    {
      "cell_type": "code",
      "source": [
        "#Hello__-World__-!!\n",
        "print('Hello','World','!!',sep='__-')"
      ],
      "metadata": {
        "colab": {
          "base_uri": "https://localhost:8080/"
        },
        "id": "N1AVDak7yP-6",
        "outputId": "16fea435-6205-4653-fb9e-5347df85c1a6"
      },
      "execution_count": 6,
      "outputs": [
        {
          "output_type": "stream",
          "name": "stdout",
          "text": [
            "Hello__-World__-!!\n"
          ]
        }
      ]
    },
    {
      "cell_type": "markdown",
      "source": [
        "Special characters appearing in string literal\n",
        "- Preceded by backslash (`\\`)\n",
        "- Examples: newline (`\\n`), horizontal tab (`\\t`)\n",
        "- Treated as commands embedded in string\n"
      ],
      "metadata": {
        "id": "iqekDRW3inGY"
      }
    },
    {
      "cell_type": "code",
      "source": [
        "print('Hello','World','!!',sep='\\n')"
      ],
      "metadata": {
        "id": "67HfP5uji6up",
        "colab": {
          "base_uri": "https://localhost:8080/"
        },
        "outputId": "6822253b-4528-462d-f91e-72854eeba7d2"
      },
      "execution_count": 7,
      "outputs": [
        {
          "output_type": "stream",
          "name": "stdout",
          "text": [
            "Hello\n",
            "World\n",
            "!!\n"
          ]
        }
      ]
    },
    {
      "cell_type": "code",
      "source": [
        "print('Hello','World','!!',sep='\\t')"
      ],
      "metadata": {
        "colab": {
          "base_uri": "https://localhost:8080/"
        },
        "id": "ljj3BSRJzSUP",
        "outputId": "b9fb7153-9597-4c85-e966-1a37aa29f3ab"
      },
      "execution_count": 8,
      "outputs": [
        {
          "output_type": "stream",
          "name": "stdout",
          "text": [
            "Hello\tWorld\t!!\n"
          ]
        }
      ]
    },
    {
      "cell_type": "code",
      "source": [
        "text = 'Hello\\nWorld\\n!!'\n",
        "print(text)"
      ],
      "metadata": {
        "colab": {
          "base_uri": "https://localhost:8080/"
        },
        "id": "Xg_u_pS-zXIj",
        "outputId": "605706c8-e581-4784-f290-f3b8ef35dc6e"
      },
      "execution_count": 9,
      "outputs": [
        {
          "output_type": "stream",
          "name": "stdout",
          "text": [
            "Hello\n",
            "World\n",
            "!!\n"
          ]
        }
      ]
    },
    {
      "cell_type": "code",
      "source": [
        "text = 'Hello\\new\\World\\!!'\n",
        "#Hello\n",
        "#ew\\World\\!!\n",
        "print(text)"
      ],
      "metadata": {
        "colab": {
          "base_uri": "https://localhost:8080/"
        },
        "id": "ExLya7XizoN4",
        "outputId": "7bbd0015-e8b4-438a-9734-fdccf1768ff7"
      },
      "execution_count": 11,
      "outputs": [
        {
          "output_type": "stream",
          "name": "stdout",
          "text": [
            "Hello\n",
            "ew\\World\\!!\n"
          ]
        }
      ]
    },
    {
      "cell_type": "code",
      "source": [
        "text = 'Hello\\\\new\\\\World\\\\!!'\n",
        "print(text)"
      ],
      "metadata": {
        "colab": {
          "base_uri": "https://localhost:8080/"
        },
        "id": "-ojIL7Fb0VWA",
        "outputId": "9ebe0ee9-abbb-4191-f479-f694076dbf6e"
      },
      "execution_count": 12,
      "outputs": [
        {
          "output_type": "stream",
          "name": "stdout",
          "text": [
            "Hello\\new\\World\\!!\n"
          ]
        }
      ]
    },
    {
      "cell_type": "markdown",
      "source": [
        "When `+` operator used on two strings in performs string concatenation\n",
        "- Useful for breaking up a long string literal\n"
      ],
      "metadata": {
        "id": "z0Zwr_iRi7LZ"
      }
    },
    {
      "cell_type": "code",
      "source": [
        "text1 = 'Hello'\n",
        "text2 = 'World'\n",
        "print(text1+' '+text2)"
      ],
      "metadata": {
        "id": "qj3U6fWHjFhM",
        "colab": {
          "base_uri": "https://localhost:8080/"
        },
        "outputId": "cd9d9b60-e391-4d86-8cb8-5076ff202443"
      },
      "execution_count": 14,
      "outputs": [
        {
          "output_type": "stream",
          "name": "stdout",
          "text": [
            "Hello World\n"
          ]
        }
      ]
    },
    {
      "cell_type": "markdown",
      "source": [
        "##Formatting Numbers in Python: format() vs f-Strings\n",
        "\n",
        "Python lets you control how numbers appear on screen using formatting tools. Two common methods:\n"
      ],
      "metadata": {
        "id": "lYA2cgibjGvM"
      }
    },
    {
      "cell_type": "markdown",
      "source": [
        "###`format()` Function\n",
        "Takes two arguments:\n",
        "- The number to format\n",
        "- A format specifier string\n",
        " - https://docs.python.org/3/library/string.html"
      ],
      "metadata": {
        "id": "XjxrXlt7Jwnr"
      }
    },
    {
      "cell_type": "code",
      "source": [
        "x = 128.123456\n",
        "y = 123.987\n",
        "print('The results are {:.2f} and {}'.format(x,y))\n",
        "\n",
        "print('The results are {1:.2f} and {0:.2f}'.format(x,y))\n",
        "\n",
        "print(format(x,'.2f'))"
      ],
      "metadata": {
        "id": "5SD9z9W2jkzJ",
        "colab": {
          "base_uri": "https://localhost:8080/"
        },
        "outputId": "68409acd-e3a8-403e-a24f-649adcaff266"
      },
      "execution_count": 24,
      "outputs": [
        {
          "output_type": "stream",
          "name": "stdout",
          "text": [
            "The results are 128.12 and 123.987\n",
            "The results are 123.99 and 128.12\n",
            "128.12\n"
          ]
        }
      ]
    },
    {
      "cell_type": "markdown",
      "source": [
        "###f-Strings (Recommended for Python 3.6+)\n",
        "- Easier and more readable\n",
        "- Embed formatting directly inside the string"
      ],
      "metadata": {
        "id": "5l_3Fwscj2cW"
      }
    },
    {
      "cell_type": "code",
      "source": [
        "print(f'The results are {x:.2f} and {y:.2f}')"
      ],
      "metadata": {
        "id": "GJ1j2hxAkfc0",
        "colab": {
          "base_uri": "https://localhost:8080/"
        },
        "outputId": "ffa5eeaf-a0f9-40c6-aaf7-48b4b565e96b"
      },
      "execution_count": 25,
      "outputs": [
        {
          "output_type": "stream",
          "name": "stdout",
          "text": [
            "The results are 128.12 and 123.99\n"
          ]
        }
      ]
    },
    {
      "cell_type": "markdown",
      "source": [
        "#Using Constants"
      ],
      "metadata": {
        "id": "KCBvoT7okgJi"
      }
    },
    {
      "cell_type": "markdown",
      "source": [
        "Problem: Calculate the total price of an item after adding sales tax.\n",
        "- Without a Named Constant (magic number used)\n",
        "- Problem: 0.1 is a magic number — not obvious what it means."
      ],
      "metadata": {
        "id": "tothwPhIkksQ"
      }
    },
    {
      "cell_type": "code",
      "source": [
        "price = 100\n",
        "total = price + (price * 0.1)  # What is 0.1?\n",
        "print(\"Total price:\", total)"
      ],
      "metadata": {
        "id": "czvhmMtjnAp0",
        "colab": {
          "base_uri": "https://localhost:8080/"
        },
        "outputId": "baeab3dd-7ca4-4696-fc4f-a3488c9f37a4"
      },
      "execution_count": 26,
      "outputs": [
        {
          "output_type": "stream",
          "name": "stdout",
          "text": [
            "Total price: 110.0\n"
          ]
        }
      ]
    },
    {
      "cell_type": "code",
      "source": [
        "SALES_TAX = 0.1\n",
        "price = 100\n",
        "total = price + (price * SALES_TAX)\n",
        "print(\"Total price:\", total)"
      ],
      "metadata": {
        "colab": {
          "base_uri": "https://localhost:8080/"
        },
        "id": "K8KAoivE7L0V",
        "outputId": "b1a9513d-c0f5-43f3-ea8f-d76af6e8dcb0"
      },
      "execution_count": 27,
      "outputs": [
        {
          "output_type": "stream",
          "name": "stdout",
          "text": [
            "Total price: 110.0\n"
          ]
        }
      ]
    },
    {
      "cell_type": "markdown",
      "source": [
        "##Mobile Data Overage Fee Calculator\n",
        "A mobile carrier charges a base monthly fee of \\$20, which includes 5 GB of data. After the 5 GB, users are charged \\$2.75 per GB (or any part thereof) for extra usage.\n",
        "\n",
        "You are to write a program that:\n",
        "\n",
        "- Takes as input the total number of gigabytes used by the customer in a month (can be a float).\n",
        "- Calculates the total cost."
      ],
      "metadata": {
        "id": "kybkWwDG8ZRj"
      }
    },
    {
      "cell_type": "code",
      "source": [
        "gb_used = 6.2 # This is the input\n",
        "\n",
        "extra_gb = max(0, gb_used - 5)\n",
        "total_cost = 20 + extra_gb * 2.75\n",
        "\n",
        "print(f\"Total cost: ${round(total_cost, 2)}\")"
      ],
      "metadata": {
        "colab": {
          "base_uri": "https://localhost:8080/"
        },
        "id": "XPFeBXxl838J",
        "outputId": "ef242857-0a06-4909-8ba5-43e2f1ef29c4"
      },
      "execution_count": 30,
      "outputs": [
        {
          "output_type": "stream",
          "name": "stdout",
          "text": [
            "Total cost: $23.3\n"
          ]
        }
      ]
    },
    {
      "cell_type": "code",
      "source": [
        "# Named constants\n",
        "BASE_PLAN_COST = 20.0\n",
        "INCLUDED_GB = 5\n",
        "OVERAGE_RATE = 2.75\n",
        "\n",
        "# Input and logic\n",
        "gb_used = 6.2 # This is the input\n",
        "extra_gb = max(0, gb_used - INCLUDED_GB)\n",
        "total_cost = BASE_PLAN_COST + extra_gb * OVERAGE_RATE\n",
        "\n",
        "# Output\n",
        "print(f\"Total cost: ${round(total_cost, 2)}\")"
      ],
      "metadata": {
        "colab": {
          "base_uri": "https://localhost:8080/"
        },
        "id": "b85vK8T0-_fm",
        "outputId": "c39e8944-6c85-41cf-aafd-8a1ea2ff6b88"
      },
      "execution_count": 31,
      "outputs": [
        {
          "output_type": "stream",
          "name": "stdout",
          "text": [
            "Total cost: $23.3\n"
          ]
        }
      ]
    },
    {
      "cell_type": "markdown",
      "source": [
        "#Applying Output in Different Problems"
      ],
      "metadata": {
        "id": "M5RUZ05t_SEn"
      }
    },
    {
      "cell_type": "markdown",
      "source": [
        "##Decimal Precision"
      ],
      "metadata": {
        "id": "NSItyMbiDQ7i"
      }
    },
    {
      "cell_type": "code",
      "source": [
        "x = 123.456789\n",
        "print(x)"
      ],
      "metadata": {
        "id": "PAo6RpIpER1E",
        "colab": {
          "base_uri": "https://localhost:8080/"
        },
        "outputId": "d1d5f3b1-5ff9-4e98-9e91-7684d4868804"
      },
      "execution_count": 32,
      "outputs": [
        {
          "output_type": "stream",
          "name": "stdout",
          "text": [
            "123.456789\n"
          ]
        }
      ]
    },
    {
      "cell_type": "code",
      "source": [
        "print(f'{x:.2f}')"
      ],
      "metadata": {
        "colab": {
          "base_uri": "https://localhost:8080/"
        },
        "id": "RmtFyyAZAgbU",
        "outputId": "654e2c28-466e-4d8f-e889-6e5df8755627"
      },
      "execution_count": 33,
      "outputs": [
        {
          "output_type": "stream",
          "name": "stdout",
          "text": [
            "123.46\n"
          ]
        }
      ]
    },
    {
      "cell_type": "code",
      "source": [
        "print(f'This is also x with 3 decimal points {x:.3f}')"
      ],
      "metadata": {
        "colab": {
          "base_uri": "https://localhost:8080/"
        },
        "id": "qqC2JIXxAnuz",
        "outputId": "18f940a1-949b-455d-b66c-86daf58ad88a"
      },
      "execution_count": 34,
      "outputs": [
        {
          "output_type": "stream",
          "name": "stdout",
          "text": [
            "This is also x with 3 decimal points 123.457\n"
          ]
        }
      ]
    },
    {
      "cell_type": "markdown",
      "source": [
        "##Scientific Notation"
      ],
      "metadata": {
        "id": "1Ei0WmsrERWc"
      }
    },
    {
      "cell_type": "code",
      "source": [
        "m = 0.0000000000123\n",
        "print(f'{m:e}')\n",
        "print(f'{m:.2E}')"
      ],
      "metadata": {
        "id": "c2f-H9A1EShy",
        "colab": {
          "base_uri": "https://localhost:8080/"
        },
        "outputId": "40b1818d-8330-44f0-fcbb-4cf5ecf6140e"
      },
      "execution_count": 37,
      "outputs": [
        {
          "output_type": "stream",
          "name": "stdout",
          "text": [
            "1.230000e-11\n",
            "1.23E-11\n"
          ]
        }
      ]
    },
    {
      "cell_type": "markdown",
      "source": [
        "##`\\N{name}` — Unicode Character by Name\n",
        "- This escape sequence lets you insert a Unicode character by its official name, wrapped in \\N{...}.\n",
        "- https://unicode.org/charts/\n",
        "- Let's create simple converter euro to usd\n"
      ],
      "metadata": {
        "id": "L5c3KcmiEZh8"
      }
    },
    {
      "cell_type": "code",
      "source": [
        "euro = 200\n",
        "usd = 1.16 * euro\n",
        "print(f'{euro} \\N{euro sign} is {usd:.2f} \\N{dollar sign}')"
      ],
      "metadata": {
        "id": "wCmRCPBMEaFH",
        "colab": {
          "base_uri": "https://localhost:8080/"
        },
        "outputId": "eeb0b4ec-dd80-4f94-aeec-8da4d786505b"
      },
      "execution_count": 39,
      "outputs": [
        {
          "output_type": "stream",
          "name": "stdout",
          "text": [
            "200 € is 232.00 $\n"
          ]
        }
      ]
    },
    {
      "cell_type": "markdown",
      "source": [
        "You can create emojis"
      ],
      "metadata": {
        "id": "SR7hxNEhEXlE"
      }
    },
    {
      "cell_type": "code",
      "source": [
        "print('Hello \\N{grinning face}')"
      ],
      "metadata": {
        "id": "lKMv5TmmHUhA",
        "colab": {
          "base_uri": "https://localhost:8080/"
        },
        "outputId": "dab187fe-b71c-42fd-f9e6-c37e0b08541b"
      },
      "execution_count": 40,
      "outputs": [
        {
          "output_type": "stream",
          "name": "stdout",
          "text": [
            "Hello 😀\n"
          ]
        }
      ]
    },
    {
      "cell_type": "markdown",
      "source": [
        "##`\\u` — Unicode Character by 4-Digit Hex Code\n",
        "\n",
        "- In Python, the escape sequence \\u is used to represent Unicode characters using their 4-digit hexadecimal code point.\n",
        "- https://unicode.org/charts/\n",
        "-  If the code is longer than 4 digits use `\\U` (uppercase U) with 8 digits instead"
      ],
      "metadata": {
        "id": "S4_RoPkdHjkV"
      }
    },
    {
      "cell_type": "code",
      "source": [
        "print('200\\u20ac')"
      ],
      "metadata": {
        "id": "ZENQYbOUHtqh",
        "colab": {
          "base_uri": "https://localhost:8080/"
        },
        "outputId": "c585efc2-f211-45ea-ec91-20ab71e1b6f7"
      },
      "execution_count": 42,
      "outputs": [
        {
          "output_type": "stream",
          "name": "stdout",
          "text": [
            "200€\n"
          ]
        }
      ]
    },
    {
      "cell_type": "markdown",
      "source": [
        "##Alignment and Width\n",
        "- You can align numbers using format codes to print neat tables or columns."
      ],
      "metadata": {
        "id": "irzGaPtJIk17"
      }
    },
    {
      "cell_type": "code",
      "source": [
        "x = 123456.789123\n",
        "print(f'{\"precision\":^20}{x:15.2f}')\n",
        "print(f'{\"Scientific\":^20}{x:15.3e}')\n",
        "\n"
      ],
      "metadata": {
        "id": "b-qvym0EIpMb",
        "colab": {
          "base_uri": "https://localhost:8080/"
        },
        "outputId": "d7c4cef1-090b-475c-c5a6-88ff07ec39d7"
      },
      "execution_count": 52,
      "outputs": [
        {
          "output_type": "stream",
          "name": "stdout",
          "text": [
            "     precision            123456.79\n",
            "     Scientific           1.235e+05\n"
          ]
        }
      ]
    },
    {
      "cell_type": "markdown",
      "source": [
        "##Update output on the same line\n",
        "\n",
        "- `\\r` returns the cursor to the beginning of the current line, without moving to the next line.\n",
        "- It’s often used to overwrite or update output on the same line — like showing a loading spinner or a countdown."
      ],
      "metadata": {
        "id": "z0tjlezC_UkO"
      }
    },
    {
      "cell_type": "code",
      "source": [
        "from time import sleep"
      ],
      "metadata": {
        "id": "kBQAnIuCCxqe"
      },
      "execution_count": 56,
      "outputs": []
    },
    {
      "cell_type": "code",
      "source": [
        "print('before sleep',end=' ')\n",
        "sleep(5)\n",
        "print('\\rafter sleep')"
      ],
      "metadata": {
        "id": "3_kJAEl6B-FE",
        "colab": {
          "base_uri": "https://localhost:8080/"
        },
        "outputId": "0f8e56f9-428c-414c-f98a-0a0a70d00318"
      },
      "execution_count": 59,
      "outputs": [
        {
          "output_type": "stream",
          "name": "stdout",
          "text": [
            "after sleep\n"
          ]
        }
      ]
    },
    {
      "cell_type": "code",
      "source": [
        "print('5',end=' ')\n",
        "sleep(1)\n",
        "print('\\r4',end=' ')\n",
        "sleep(1)\n",
        "print('\\r3',end=' ')\n",
        "sleep(1)\n",
        "print('\\r2',end=' ')\n",
        "sleep(1)\n",
        "print('\\r1',end=' ')\n",
        "sleep(1)\n",
        "print('\\rGO!!',end=' ')"
      ],
      "metadata": {
        "colab": {
          "base_uri": "https://localhost:8080/"
        },
        "id": "FSvu-EGwH17_",
        "outputId": "7264891a-38ab-4495-fd50-b525186f281d"
      },
      "execution_count": 63,
      "outputs": [
        {
          "output_type": "stream",
          "name": "stdout",
          "text": [
            "GO!! "
          ]
        }
      ]
    },
    {
      "cell_type": "markdown",
      "source": [
        "#Getting Input"
      ],
      "metadata": {
        "id": "bpWvCd3Vr3K7"
      }
    },
    {
      "cell_type": "markdown",
      "source": [
        "##Using the `input()` Function\n",
        "- `input()` pauses program execution\n",
        "- Returns a string\n",
        "- You can store the result in a variable"
      ],
      "metadata": {
        "id": "iFUQBJAKr7Z3"
      }
    },
    {
      "cell_type": "code",
      "source": [
        "print('The program starts here')\n",
        "input('Press enter to continue')\n",
        "print('The program continues here')"
      ],
      "metadata": {
        "id": "1MfqRrkZr-IV",
        "colab": {
          "base_uri": "https://localhost:8080/"
        },
        "outputId": "981ba536-2b1f-42e2-8a1e-f05dc6eff479"
      },
      "execution_count": 64,
      "outputs": [
        {
          "output_type": "stream",
          "name": "stdout",
          "text": [
            "The program starts here\n",
            "Press enter to continue\n",
            "The program continues here\n"
          ]
        }
      ]
    },
    {
      "cell_type": "code",
      "source": [
        "name = input('Enter your name:')\n",
        "print('Hello',name)\n",
        "print(type(name))"
      ],
      "metadata": {
        "id": "M1sRhVp-N_sQ",
        "outputId": "562b8219-3b07-4643-9612-9b37c58dac83",
        "colab": {
          "base_uri": "https://localhost:8080/"
        }
      },
      "execution_count": 65,
      "outputs": [
        {
          "output_type": "stream",
          "name": "stdout",
          "text": [
            "Enter your name:Hamdan\n",
            "Hello Hamdan\n",
            "<class 'str'>\n"
          ]
        }
      ]
    },
    {
      "cell_type": "markdown",
      "source": [
        "##Combining Input and Output\n",
        "name with age example"
      ],
      "metadata": {
        "id": "m9zX38yvsLKq"
      }
    },
    {
      "cell_type": "code",
      "source": [
        "name = input('Enter your name:')\n",
        "age = input('Enter your age:')\n",
        "print('Hello',name,'you are',age,'years old')\n",
        "print(type(name),type(age))"
      ],
      "metadata": {
        "id": "OxRz8IIisKyE",
        "colab": {
          "base_uri": "https://localhost:8080/"
        },
        "outputId": "26a8af93-5c1b-497f-b275-2ea14691ed2d"
      },
      "execution_count": 66,
      "outputs": [
        {
          "output_type": "stream",
          "name": "stdout",
          "text": [
            "Enter your name:John\n",
            "Enter your age:25\n",
            "Hello John you are 25 years old\n",
            "<class 'str'> <class 'str'>\n"
          ]
        }
      ]
    },
    {
      "cell_type": "markdown",
      "source": [
        "##Input Cleaning and Tips\n",
        "- Use strip() to remove extra spaces\n",
        "- .lower() / .upper() to normalize input\n",
        "- Use split() for multiple value"
      ],
      "metadata": {
        "id": "6Ele35uFs3Kq"
      }
    },
    {
      "cell_type": "code",
      "source": [
        "name = input('Enter your name:').strip()\n",
        "#name = name.strip()\n",
        "print('Hello',name)"
      ],
      "metadata": {
        "id": "jF20zYqVtI1c",
        "colab": {
          "base_uri": "https://localhost:8080/"
        },
        "outputId": "741b8840-6c5a-4f67-920a-e82174e8765a"
      },
      "execution_count": 70,
      "outputs": [
        {
          "output_type": "stream",
          "name": "stdout",
          "text": [
            "Enter your name:     John      \n",
            "Hello John\n"
          ]
        }
      ]
    },
    {
      "cell_type": "code",
      "source": [
        "name = input('Enter your name:').strip().upper()\n",
        "print('Hello',name)"
      ],
      "metadata": {
        "id": "egGWO7HtPr0e",
        "outputId": "69c6b51a-27e7-4bce-f768-9d1eddaf67e5",
        "colab": {
          "base_uri": "https://localhost:8080/"
        }
      },
      "execution_count": 72,
      "outputs": [
        {
          "output_type": "stream",
          "name": "stdout",
          "text": [
            "Enter your name:hamdan\n",
            "Hello HAMDAN\n"
          ]
        }
      ]
    },
    {
      "cell_type": "code",
      "source": [
        "name, surname = input('Enter your name and surname:').split()\n",
        "print('Hello',surname, name)"
      ],
      "metadata": {
        "id": "25El8rT-QRhT",
        "outputId": "4c738078-a974-4079-83eb-498eaa90ea68",
        "colab": {
          "base_uri": "https://localhost:8080/"
        }
      },
      "execution_count": 74,
      "outputs": [
        {
          "output_type": "stream",
          "name": "stdout",
          "text": [
            "Enter your name and surname:Hamdan Abdellatef\n",
            "Hello Abdellatef Hamdan\n"
          ]
        }
      ]
    },
    {
      "cell_type": "markdown",
      "source": [
        "#Data Type Conversion"
      ],
      "metadata": {
        "id": "5ioNMpFtudfW"
      }
    },
    {
      "cell_type": "markdown",
      "source": [
        "##Converting the data type of a variable\n",
        "- `int(variable)` convert to integer\n",
        "- `float(variable)` covert to float\n",
        "- `str(variable)` convert to string"
      ],
      "metadata": {
        "id": "rmfBAB9Wug_A"
      }
    },
    {
      "cell_type": "code",
      "source": [
        "age = input('Enter your age:')\n",
        "print(age,type(age))\n",
        "age = int(age)\n",
        "print(type(age))"
      ],
      "metadata": {
        "id": "YoXH1pBkvXnl",
        "colab": {
          "base_uri": "https://localhost:8080/"
        },
        "outputId": "438e6ee4-94b4-4eaa-b007-cce415df4511"
      },
      "execution_count": 75,
      "outputs": [
        {
          "output_type": "stream",
          "name": "stdout",
          "text": [
            "Enter your age:40\n",
            "40 <class 'str'>\n",
            "<class 'int'>\n"
          ]
        }
      ]
    },
    {
      "cell_type": "code",
      "source": [
        "age = int(input('Enter your age (with numbers):'))\n",
        "print(age,type(age))"
      ],
      "metadata": {
        "id": "H_iwz-fHTlrq",
        "outputId": "32ad7f75-da2a-4559-c6db-4035b16dac8f",
        "colab": {
          "base_uri": "https://localhost:8080/"
        }
      },
      "execution_count": 78,
      "outputs": [
        {
          "output_type": "stream",
          "name": "stdout",
          "text": [
            "Enter your age (with numbers):20\n",
            "20 <class 'int'>\n"
          ]
        }
      ]
    },
    {
      "cell_type": "code",
      "source": [
        "mass = float(input('Enter the object mass:'))\n",
        "print(mass,type(mass))"
      ],
      "metadata": {
        "id": "06S82gujUG7C",
        "outputId": "2f75957e-2fbe-47f7-8fa5-2ff359686509",
        "colab": {
          "base_uri": "https://localhost:8080/"
        }
      },
      "execution_count": 79,
      "outputs": [
        {
          "output_type": "stream",
          "name": "stdout",
          "text": [
            "Enter the object mass:1.4\n",
            "1.4 <class 'float'>\n"
          ]
        }
      ]
    },
    {
      "cell_type": "code",
      "source": [
        "mass = 1.4\n",
        "mass = int(mass)\n",
        "print(mass,type(mass))"
      ],
      "metadata": {
        "id": "S8HK3oraUXkG",
        "outputId": "32d411b7-d673-4d4a-ccaa-9d21f0ae3665",
        "colab": {
          "base_uri": "https://localhost:8080/"
        }
      },
      "execution_count": 82,
      "outputs": [
        {
          "output_type": "stream",
          "name": "stdout",
          "text": [
            "1 <class 'int'>\n"
          ]
        }
      ]
    },
    {
      "cell_type": "code",
      "source": [
        "print('the mass is '+str(mass)+' kg')"
      ],
      "metadata": {
        "id": "z8pyvuaWVCz8",
        "outputId": "99fa043e-34bf-4860-9941-2abb9ce2eb23",
        "colab": {
          "base_uri": "https://localhost:8080/"
        }
      },
      "execution_count": 83,
      "outputs": [
        {
          "output_type": "stream",
          "name": "stdout",
          "text": [
            "the mass is 1 kg\n"
          ]
        }
      ]
    },
    {
      "cell_type": "markdown",
      "source": [
        "##Type Conversion\n",
        "All input is returned as a string, so you must convert it to use it for math.\n",
        "\n",
        "Example age next year"
      ],
      "metadata": {
        "id": "XA2cPvcYvYpM"
      }
    },
    {
      "cell_type": "code",
      "source": [
        "age = int(input('Enter your age:'))\n",
        "age = age + 1\n",
        "print('Next year you will be',age)"
      ],
      "metadata": {
        "id": "5StEslCfwFWL",
        "colab": {
          "base_uri": "https://localhost:8080/"
        },
        "outputId": "b377e805-0086-4b87-fd2b-bd6b4bd69cd8"
      },
      "execution_count": 84,
      "outputs": [
        {
          "output_type": "stream",
          "name": "stdout",
          "text": [
            "Enter your age:32\n",
            "Next year you will be 33\n"
          ]
        }
      ]
    },
    {
      "cell_type": "markdown",
      "source": [
        "Example price and quantity"
      ],
      "metadata": {
        "id": "cC_6T1s2wQnP"
      }
    },
    {
      "cell_type": "code",
      "source": [
        "unit_price = float(input('Enter the unit price \\N{euro sign}:'))\n",
        "quantity = int(input('Enter the quantity:'))\n",
        "total = unit_price * quantity\n",
        "print('The total is',total,'\\N{euro sign}')"
      ],
      "metadata": {
        "id": "rcHFICZTwhYt",
        "colab": {
          "base_uri": "https://localhost:8080/"
        },
        "outputId": "f4477d82-cec4-44f9-9e05-fd34a1bd33d0"
      },
      "execution_count": 85,
      "outputs": [
        {
          "output_type": "stream",
          "name": "stdout",
          "text": [
            "Enter the unit price €:15.7\n",
            "Enter the quantity:55\n",
            "The total is 863.5 €\n"
          ]
        }
      ]
    },
    {
      "cell_type": "markdown",
      "source": [
        "##Common Mistakes\n",
        "- forgetting to do conversion\n",
        "- Invalid conversion"
      ],
      "metadata": {
        "id": "N5RsEknzwxSE"
      }
    },
    {
      "cell_type": "code",
      "source": [
        "unit_price = input('Enter the unit price \\N{euro sign}:')\n",
        "quantity = input('Enter the quantity:')\n",
        "total = unit_price * quantity\n",
        "print('The total is',total,'\\N{euro sign}')"
      ],
      "metadata": {
        "id": "JnKfyeoHxHVH",
        "colab": {
          "base_uri": "https://localhost:8080/",
          "height": 228
        },
        "outputId": "f3da003c-72a7-4bfe-8556-3d9dec80f301"
      },
      "execution_count": 86,
      "outputs": [
        {
          "name": "stdout",
          "output_type": "stream",
          "text": [
            "Enter the unit price €:14.8\n",
            "Enter the quantity:100\n"
          ]
        },
        {
          "output_type": "error",
          "ename": "TypeError",
          "evalue": "can't multiply sequence by non-int of type 'str'",
          "traceback": [
            "\u001b[0;31m---------------------------------------------------------------------------\u001b[0m",
            "\u001b[0;31mTypeError\u001b[0m                                 Traceback (most recent call last)",
            "\u001b[0;32m/tmp/ipython-input-86-654695740.py\u001b[0m in \u001b[0;36m<cell line: 0>\u001b[0;34m()\u001b[0m\n\u001b[1;32m      1\u001b[0m \u001b[0munit_price\u001b[0m \u001b[0;34m=\u001b[0m \u001b[0minput\u001b[0m\u001b[0;34m(\u001b[0m\u001b[0;34m'Enter the unit price \\N{euro sign}:'\u001b[0m\u001b[0;34m)\u001b[0m\u001b[0;34m\u001b[0m\u001b[0;34m\u001b[0m\u001b[0m\n\u001b[1;32m      2\u001b[0m \u001b[0mquantity\u001b[0m \u001b[0;34m=\u001b[0m \u001b[0minput\u001b[0m\u001b[0;34m(\u001b[0m\u001b[0;34m'Enter the quantity:'\u001b[0m\u001b[0;34m)\u001b[0m\u001b[0;34m\u001b[0m\u001b[0;34m\u001b[0m\u001b[0m\n\u001b[0;32m----> 3\u001b[0;31m \u001b[0mtotal\u001b[0m \u001b[0;34m=\u001b[0m \u001b[0munit_price\u001b[0m \u001b[0;34m*\u001b[0m \u001b[0mquantity\u001b[0m\u001b[0;34m\u001b[0m\u001b[0;34m\u001b[0m\u001b[0m\n\u001b[0m\u001b[1;32m      4\u001b[0m \u001b[0mprint\u001b[0m\u001b[0;34m(\u001b[0m\u001b[0;34m'The total is'\u001b[0m\u001b[0;34m,\u001b[0m\u001b[0mtotal\u001b[0m\u001b[0;34m,\u001b[0m\u001b[0;34m'\\N{euro sign}'\u001b[0m\u001b[0;34m)\u001b[0m\u001b[0;34m\u001b[0m\u001b[0;34m\u001b[0m\u001b[0m\n",
            "\u001b[0;31mTypeError\u001b[0m: can't multiply sequence by non-int of type 'str'"
          ]
        }
      ]
    },
    {
      "cell_type": "markdown",
      "source": [
        "##Mini problem\n",
        "\n",
        "Write a program to calculate BMI using the following equation:\n",
        "\n",
        "$\\text{BMI}=\\frac{weight}{height^2}$\n",
        "\n",
        "where weight in kg and height in m\n",
        "\n",
        "The BMI result should be with only 2 digits as fraction part"
      ],
      "metadata": {
        "id": "Hn3Nlw1Gwgk5"
      }
    },
    {
      "cell_type": "code",
      "source": [
        "#input\n",
        "weight = float(input('Enter your weight (kg):'))\n",
        "height = float(input('Enter your height (m):'))\n",
        "\n",
        "#process\n",
        "bmi = weight / height**2\n",
        "\n",
        "#output\n",
        "print(f'Your BMI is {bmi:.2f}')"
      ],
      "metadata": {
        "id": "xriyoBfUx8FX",
        "colab": {
          "base_uri": "https://localhost:8080/"
        },
        "outputId": "5a4321ee-f46e-4616-b02d-c351822fec3b"
      },
      "execution_count": 88,
      "outputs": [
        {
          "output_type": "stream",
          "name": "stdout",
          "text": [
            "Enter your weight (kg):80\n",
            "Enter your height (m):1.8\n",
            "Your BMI is 24.69\n"
          ]
        }
      ]
    },
    {
      "cell_type": "markdown",
      "source": [
        "##Mini problem\n",
        "\n",
        "write a program that convert the temparture from Celcieus to Fahrenheit using the following formula\n",
        "\n",
        "$°F = (°C \\times \\frac{9}{5})+32$\n",
        "\n"
      ],
      "metadata": {
        "id": "wvfqtkXCx8vw"
      }
    },
    {
      "cell_type": "code",
      "source": [
        "#input\n",
        "C = float(input('Enter the temperature in Celsius:'))\n",
        "\n",
        "#process\n",
        "F = C * 9/5 + 32\n",
        "\n",
        "#output\n",
        "print(f'{C}°C is {F}°F')"
      ],
      "metadata": {
        "id": "pBvL8oT3ywj7",
        "colab": {
          "base_uri": "https://localhost:8080/"
        },
        "outputId": "25949fcc-8e20-4273-e2c5-93a29852613f"
      },
      "execution_count": 89,
      "outputs": [
        {
          "output_type": "stream",
          "name": "stdout",
          "text": [
            "Enter the temperature in Celsius:38\n",
            "38.0°C is 100.4°F\n"
          ]
        }
      ]
    },
    {
      "cell_type": "markdown",
      "source": [
        "#Simple Math application"
      ],
      "metadata": {
        "id": "jxjX6L0Az32p"
      }
    },
    {
      "cell_type": "markdown",
      "source": [
        "Ask the user to enter the following:\n",
        "- Name and Surname\n",
        "- Homework grade (25%)\n",
        "- Midterm exam grade (35%)\n",
        "- Final exam grade (40%)\n",
        "\n",
        "Calculate and display the final weighted grade rounded with two decimal digits. The output should look like this:\n",
        "\n",
        "`John Smith scored 80.75%`\n"
      ],
      "metadata": {
        "id": "0SXyMQ3m2DTI"
      }
    },
    {
      "cell_type": "code",
      "source": [
        "#input\n",
        "name, surname = input('Enter your name and surname:').split()\n",
        "hw = float(input('Enter your homework grade:'))\n",
        "me = float(input('Enter your midterm exam grade:'))\n",
        "fe = float(input('Enter your final exam grade:'))\n",
        "\n",
        "#process\n",
        "weighted_grade = hw * 0.25 + me * 0.35 + fe * 0.40\n",
        "\n",
        "#output\n",
        "print(f'{name} {surname} scored {weighted_grade:.2f}%')\n",
        "#"
      ],
      "metadata": {
        "id": "zV9ljaPfz3jI",
        "colab": {
          "base_uri": "https://localhost:8080/"
        },
        "outputId": "69ea1a9f-d1c4-474c-ed68-b9dcbfe3285e"
      },
      "execution_count": 87,
      "outputs": [
        {
          "output_type": "stream",
          "name": "stdout",
          "text": [
            "Enter your name and surname:John Smith\n",
            "Enter your homework grade:90\n",
            "Enter your midterm exam grade:80\n",
            "Enter your final exam grade:85\n",
            "John Smith scored 84.50%\n"
          ]
        }
      ]
    }
  ]
}