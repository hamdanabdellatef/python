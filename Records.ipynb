{
  "cells": [
    {
      "cell_type": "markdown",
      "metadata": {
        "id": "view-in-github",
        "colab_type": "text"
      },
      "source": [
        "<a href=\"https://colab.research.google.com/github/hamdanabdellatef/python/blob/main/Records.ipynb\" target=\"_parent\"><img src=\"https://colab.research.google.com/assets/colab-badge.svg\" alt=\"Open In Colab\"/></a>"
      ]
    },
    {
      "cell_type": "markdown",
      "source": [
        "#Create Record"
      ],
      "metadata": {
        "id": "GNn-JL0NDJgY"
      },
      "id": "GNn-JL0NDJgY"
    },
    {
      "cell_type": "code",
      "execution_count": null,
      "id": "61606eac-67bc-4648-a8a6-de6a6936862e",
      "metadata": {
        "id": "61606eac-67bc-4648-a8a6-de6a6936862e"
      },
      "outputs": [],
      "source": [
        "# This function gets employee data from the user and saves it as records in the employee.txt.\n",
        "\n",
        "def enter_emp():\n",
        "    # Get the number of employee records to create.\n",
        "    num_emps = int(input('How many employee records do you want to create? '))\n",
        "\n",
        "    # Open a file for writing.\n",
        "    emp_file = open('employees.txt', 'w')\n",
        "\n",
        "    # Get each employee's data and write it to the file.\n",
        "    for count in range(1, num_emps + 1):\n",
        "        # Get the data for an employee.\n",
        "        print('Enter data for employee #', count, sep='')\n",
        "        name = input('Name: ')\n",
        "        id_num = input('ID number: ')\n",
        "        dept = input('Department: ')\n",
        "\n",
        "        # Write the data as a record to the file.\n",
        "        emp_file.write(name + '\\n')\n",
        "        emp_file.write(id_num + '\\n')\n",
        "        emp_file.write(dept + '\\n')\n",
        "\n",
        "    # Display a blank line.\n",
        "    print()\n",
        "\n",
        "    # Close the file.\n",
        "    emp_file.close()\n",
        "    print('Employee records written to employees.txt.')"
      ]
    },
    {
      "cell_type": "code",
      "execution_count": null,
      "id": "2e38426f-e0b2-429b-a7b4-0f694f6a6d5f",
      "metadata": {
        "id": "2e38426f-e0b2-429b-a7b4-0f694f6a6d5f"
      },
      "outputs": [],
      "source": [
        "enter_emp()"
      ]
    },
    {
      "cell_type": "markdown",
      "source": [
        "#Add Record"
      ],
      "metadata": {
        "id": "FwhDj-lxDNP8"
      },
      "id": "FwhDj-lxDNP8"
    },
    {
      "cell_type": "code",
      "execution_count": null,
      "id": "44d37704-2868-4598-9458-8d2d29fa84f9",
      "metadata": {
        "id": "44d37704-2868-4598-9458-8d2d29fa84f9"
      },
      "outputs": [],
      "source": [
        "# This function adds employee data from the user and saves it as records in the employee.txt.\n",
        "\n",
        "def add_emp():\n",
        "    # Get the number of employee records to create.\n",
        "    num_emps = int(input('How many employee records do you want to add? '))\n",
        "\n",
        "    # Open a file for writing.\n",
        "    emp_file = open('employees.txt', 'a')\n",
        "\n",
        "    # Get each employee's data and write it to the file.\n",
        "    for count in range(1, num_emps + 1):\n",
        "        # Get the data for an employee.\n",
        "        print('Enter data for employee #', count, sep='')\n",
        "        name = input('Name: ')\n",
        "        id_num = input('ID number: ')\n",
        "        dept = input('Department: ')\n",
        "\n",
        "        # Write the data as a record to the file.\n",
        "        emp_file.write(name + '\\n')\n",
        "        emp_file.write(id_num + '\\n')\n",
        "        emp_file.write(dept + '\\n')\n",
        "\n",
        "    # Display a blank line.\n",
        "    print()\n",
        "\n",
        "    # Close the file.\n",
        "    emp_file.close()\n",
        "    print('Employee records are added to employees.txt.')"
      ]
    },
    {
      "cell_type": "code",
      "execution_count": null,
      "id": "53b315e7-e787-4600-a778-3f97ee8e25ba",
      "metadata": {
        "id": "53b315e7-e787-4600-a778-3f97ee8e25ba"
      },
      "outputs": [],
      "source": [
        "add_emp()"
      ]
    },
    {
      "cell_type": "markdown",
      "source": [
        "#Display Record"
      ],
      "metadata": {
        "id": "cC0E8Zg7DQbG"
      },
      "id": "cC0E8Zg7DQbG"
    },
    {
      "cell_type": "code",
      "execution_count": null,
      "id": "bc1e86a8-c148-4dec-9c23-fb99c8780d28",
      "metadata": {
        "id": "bc1e86a8-c148-4dec-9c23-fb99c8780d28"
      },
      "outputs": [],
      "source": [
        "# This program displays the records that are in the employees.txt file.\n",
        "\n",
        "def display_emp():\n",
        "    # Open the employees.txt file.\n",
        "    emp_file = open('employees.txt', 'r')\n",
        "\n",
        "    # Read the first line from the file, which is the name field of the first record.\n",
        "    name = emp_file.readline()\n",
        "\n",
        "    # If a field was read, continue processing.\n",
        "    while name != '':\n",
        "\n",
        "        # Read the ID number field.\n",
        "        id_num = emp_file.readline()\n",
        "        # Read the department field.\n",
        "        dept = emp_file.readline()\n",
        "\n",
        "        # Strip the newlines from the fields.\n",
        "        name = name.rstrip('\\n')\n",
        "        id_num = id_num.rstrip('\\n')\n",
        "        dept = dept.rstrip('\\n')\n",
        "\n",
        "        # Display the record.\n",
        "        print('Name:', name)\n",
        "        print('ID:', id_num)\n",
        "        print('Dept:', dept)\n",
        "        print()\n",
        "\n",
        "        # Read the name field of the next record.\n",
        "        name = emp_file.readline()\n",
        "\n",
        "    # Close the file.\n",
        "    emp_file.close()"
      ]
    },
    {
      "cell_type": "code",
      "execution_count": null,
      "id": "05cf74b6-8bf9-45b9-a781-2ee4015f0a38",
      "metadata": {
        "id": "05cf74b6-8bf9-45b9-a781-2ee4015f0a38"
      },
      "outputs": [],
      "source": [
        "display_emp()"
      ]
    },
    {
      "cell_type": "markdown",
      "source": [
        "#Search Record"
      ],
      "metadata": {
        "id": "bR3D9FylDTYa"
      },
      "id": "bR3D9FylDTYa"
    },
    {
      "cell_type": "code",
      "execution_count": null,
      "id": "f093882e-e85c-4d7c-99fc-ff6a0eb2eca6",
      "metadata": {
        "id": "f093882e-e85c-4d7c-99fc-ff6a0eb2eca6"
      },
      "outputs": [],
      "source": [
        "# This function allows the user to search the employees.txt file for records matching a description.\n",
        "\n",
        "def search_emp():\n",
        "    # Create a bool variable to use as a flag.\n",
        "    found = False\n",
        "\n",
        "    # Get the search value.\n",
        "    search = input('Enter a name or ID to search for: ')\n",
        "\n",
        "    # Open the coffee.txt file.\n",
        "    emp_file = open('employees.txt', 'r')\n",
        "\n",
        "    # Read the first record's name field.\n",
        "    name = emp_file.readline()\n",
        "\n",
        "    # Read the rest of the file.\n",
        "    while name != '':\n",
        "        # Read the ID number field.\n",
        "        id_num = emp_file.readline()\n",
        "        # Read the department field.\n",
        "        dept = emp_file.readline()\n",
        "\n",
        "        # Strip the newlines from the fields.\n",
        "        name = name.rstrip('\\n')\n",
        "        id_num = id_num.rstrip('\\n')\n",
        "        dept = dept.rstrip('\\n')\n",
        "\n",
        "        # Determine whether this record matches the search value.\n",
        "        if name == search or str(id_num) == search:\n",
        "            # Display the record.\n",
        "            print('Name:', name)\n",
        "            print('ID:', id_num)\n",
        "            print('Dept:', dept)\n",
        "            print()\n",
        "\n",
        "            # Set the found flag to True\n",
        "            found = True\n",
        "            break\n",
        "\n",
        "        # Read the name field of the next record.\n",
        "        name = emp_file.readline()\n",
        "\n",
        "    # Close the file.\n",
        "    emp_file.close()\n",
        "\n",
        "    # If the search value was not found in the file display a message.\n",
        "    if not found:\n",
        "        print('That item was not found in the file.')"
      ]
    },
    {
      "cell_type": "code",
      "execution_count": null,
      "id": "79df6138-d6b5-4c4b-9030-fcdc06d7ad7c",
      "metadata": {
        "id": "79df6138-d6b5-4c4b-9030-fcdc06d7ad7c"
      },
      "outputs": [],
      "source": [
        "search_emp()"
      ]
    },
    {
      "cell_type": "markdown",
      "source": [
        "#Modify Record"
      ],
      "metadata": {
        "id": "hTOhbyIwDmNF"
      },
      "id": "hTOhbyIwDmNF"
    },
    {
      "cell_type": "code",
      "execution_count": null,
      "id": "2ff1b3ab-df26-486a-8920-004203beb71d",
      "metadata": {
        "id": "2ff1b3ab-df26-486a-8920-004203beb71d"
      },
      "outputs": [],
      "source": [
        "# This function allows the user to modify a record in the employees.txt file\n",
        "import os\n",
        "def modify_emp():\n",
        "    # Create a bool variable to use as a flag.\n",
        "    found = False\n",
        "\n",
        "    # Get the search value.\n",
        "    search = input('Enter a name or ID to search for: ')\n",
        "\n",
        "    # Open the coffee.txt file.\n",
        "    emp_file = open('employees.txt', 'r')\n",
        "\n",
        "    #open temporary file\n",
        "    tmp_file = open('tmp.txt', 'w')\n",
        "\n",
        "    # Read the first record's name field.\n",
        "    name = emp_file.readline()\n",
        "\n",
        "    # Read the rest of the file.\n",
        "    while name != '':\n",
        "        # Read the ID number field.\n",
        "        id_num = emp_file.readline()\n",
        "        # Read the department field.\n",
        "        dept = emp_file.readline()\n",
        "\n",
        "        # Strip the newlines from the fields.\n",
        "        name = name.rstrip('\\n')\n",
        "        id_num = id_num.rstrip('\\n')\n",
        "        dept = dept.rstrip('\\n')\n",
        "\n",
        "        # Determine whether this record matches the search value.\n",
        "        if name == search or str(id_num) == search:\n",
        "            # Display the record.\n",
        "            done = False\n",
        "            print(\"The record you want to modify is:\")\n",
        "            print('Name:', name)\n",
        "            print('ID:', id_num)\n",
        "            print('Dept:', dept)\n",
        "            print()\n",
        "            while not done :\n",
        "                L = input(\"Choose number (separate with spaces): \\n What do you want to modify \\n 1. name \\n 2. ID \\n 3. department\").split(\" \")\n",
        "                if '1' in L:\n",
        "                    name = input(\"Enter the MODIFIED name: \")\n",
        "\n",
        "                if '2' in L:\n",
        "                    id_num = input(\"Enter the MODIFIED ID: \")\n",
        "\n",
        "                if '3' in L:\n",
        "                    dept = input(\"Enter the MODIFIED department: \")\n",
        "                tmp_file.write(name + '\\n')\n",
        "                tmp_file.write(id_num + '\\n')\n",
        "                tmp_file.write(dept + '\\n')\n",
        "\n",
        "                d = input(\"Type y if done\")\n",
        "                done = (d == 'y')\n",
        "                # Set the found flag to True\n",
        "                found = True\n",
        "\n",
        "        else:\n",
        "            tmp_file.write(name + '\\n')\n",
        "            tmp_file.write(id_num + '\\n')\n",
        "            tmp_file.write(dept + '\\n')\n",
        "\n",
        "\n",
        "            print()\n",
        "        # Read the name field of the next record.\n",
        "        name = emp_file.readline()\n",
        "\n",
        "    # Close the file.\n",
        "    emp_file.close()\n",
        "    tmp_file.close()\n",
        "    # Delete the original coffee.txt file.\n",
        "    os.remove('employees.txt')\n",
        "\n",
        "    # Rename the temporary file.\n",
        "    os.rename('tmp.txt', 'employees.txt')\n",
        "    # If the search value was not found in the file display a message.\n",
        "    if not found:\n",
        "        print('That item was not found in the file.')"
      ]
    },
    {
      "cell_type": "code",
      "execution_count": null,
      "id": "cfb66bbc-4d60-4c6e-91c4-82203026ebe3",
      "metadata": {
        "id": "cfb66bbc-4d60-4c6e-91c4-82203026ebe3"
      },
      "outputs": [],
      "source": [
        "modify_emp()"
      ]
    },
    {
      "cell_type": "code",
      "execution_count": null,
      "id": "88afed4a-bc46-45ab-b4c5-e9cc14d4a385",
      "metadata": {
        "id": "88afed4a-bc46-45ab-b4c5-e9cc14d4a385"
      },
      "outputs": [],
      "source": [
        "display_emp()\n"
      ]
    },
    {
      "cell_type": "markdown",
      "source": [
        "#Remove Record"
      ],
      "metadata": {
        "id": "7jMsrHzADr3s"
      },
      "id": "7jMsrHzADr3s"
    },
    {
      "cell_type": "code",
      "execution_count": null,
      "id": "ed0a2f9d-fb58-44b9-bb41-b70a58ff980c",
      "metadata": {
        "id": "ed0a2f9d-fb58-44b9-bb41-b70a58ff980c"
      },
      "outputs": [],
      "source": [
        "# This function allows the user to modify a record in the employees.txt file\n",
        "import os\n",
        "def rm_emp():\n",
        "    # Create a bool variable to use as a flag.\n",
        "    found = False\n",
        "\n",
        "    # Get the search value.\n",
        "    search = input('Enter a name or ID to search for: ')\n",
        "\n",
        "    # Open the coffee.txt file.\n",
        "    emp_file = open('employees.txt', 'r')\n",
        "\n",
        "    #open temporary file\n",
        "    tmp_file = open('tmp.txt', 'w')\n",
        "\n",
        "    # Read the first record's name field.\n",
        "    name = emp_file.readline()\n",
        "\n",
        "    # Read the rest of the file.\n",
        "    while name != '':\n",
        "        # Read the ID number field.\n",
        "        id_num = emp_file.readline()\n",
        "        # Read the department field.\n",
        "        dept = emp_file.readline()\n",
        "\n",
        "        # Strip the newlines from the fields.\n",
        "        name = name.rstrip('\\n')\n",
        "        id_num = id_num.rstrip('\\n')\n",
        "        dept = dept.rstrip('\\n')\n",
        "\n",
        "        # Determine whether this record matches the search value.\n",
        "        if name == search or str(id_num) == search:\n",
        "            # Display the record.\n",
        "            done = False\n",
        "            print(\"The record you want to remove is:\")\n",
        "            print('Name:', name)\n",
        "            print('ID:', id_num)\n",
        "            print('Dept:', dept)\n",
        "            print()\n",
        "            d = input(\"Type y if OK\")\n",
        "\n",
        "            if d != 'y':\n",
        "                tmp_file.write(name + '\\n')\n",
        "                tmp_file.write(id_num + '\\n')\n",
        "                tmp_file.write(dept + '\\n')\n",
        "            else:\n",
        "                found = True\n",
        "\n",
        "\n",
        "        else:\n",
        "            tmp_file.write(name + '\\n')\n",
        "            tmp_file.write(id_num + '\\n')\n",
        "            tmp_file.write(dept + '\\n')\n",
        "\n",
        "\n",
        "            print()\n",
        "        # Read the name field of the next record.\n",
        "        name = emp_file.readline()\n",
        "\n",
        "    # Close the file.\n",
        "    emp_file.close()\n",
        "    tmp_file.close()\n",
        "    # Delete the original coffee.txt file.\n",
        "    os.remove('employees.txt')\n",
        "\n",
        "    # Rename the temporary file.\n",
        "    os.rename('tmp.txt', 'employees.txt')\n",
        "    # If the search value was not found in the file display a message.\n",
        "    if not found:\n",
        "        print('That item was not found in the file.')"
      ]
    },
    {
      "cell_type": "code",
      "execution_count": null,
      "id": "5e120e48-2ffa-40f4-b48d-d13e8fdabc2c",
      "metadata": {
        "id": "5e120e48-2ffa-40f4-b48d-d13e8fdabc2c"
      },
      "outputs": [],
      "source": [
        "rm_emp()\n"
      ]
    },
    {
      "cell_type": "code",
      "execution_count": null,
      "id": "4bd22a97-ea77-40aa-a857-3735166816c8",
      "metadata": {
        "id": "4bd22a97-ea77-40aa-a857-3735166816c8"
      },
      "outputs": [],
      "source": [
        "display_emp()"
      ]
    }
  ],
  "metadata": {
    "kernelspec": {
      "display_name": "Python 3 (ipykernel)",
      "language": "python",
      "name": "python3"
    },
    "language_info": {
      "codemirror_mode": {
        "name": "ipython",
        "version": 3
      },
      "file_extension": ".py",
      "mimetype": "text/x-python",
      "name": "python",
      "nbconvert_exporter": "python",
      "pygments_lexer": "ipython3",
      "version": "3.12.7"
    },
    "colab": {
      "provenance": [],
      "include_colab_link": true
    }
  },
  "nbformat": 4,
  "nbformat_minor": 5
}