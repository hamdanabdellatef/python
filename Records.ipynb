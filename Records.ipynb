{
 "cells": [
  {
   "cell_type": "code",
   "execution_count": 3,
   "id": "61606eac-67bc-4648-a8a6-de6a6936862e",
   "metadata": {},
   "outputs": [],
   "source": [
    "# This function gets employee data from the user and saves it as records in the employee.txt.\n",
    "\n",
    "def enter_emp():\n",
    "    # Get the number of employee records to create.\n",
    "    num_emps = int(input('How many employee records do you want to create? '))\n",
    "    \n",
    "    # Open a file for writing.\n",
    "    emp_file = open('employees.txt', 'w')\n",
    "    \n",
    "    # Get each employee's data and write it to the file.\n",
    "    for count in range(1, num_emps + 1):\n",
    "        # Get the data for an employee.\n",
    "        print('Enter data for employee #', count, sep='')\n",
    "        name = input('Name: ')\n",
    "        id_num = input('ID number: ')\n",
    "        dept = input('Department: ')\n",
    "        \n",
    "        # Write the data as a record to the file.\n",
    "        emp_file.write(name + '\\n')\n",
    "        emp_file.write(id_num + '\\n')\n",
    "        emp_file.write(dept + '\\n')\n",
    "    \n",
    "    # Display a blank line.\n",
    "    print()\n",
    "    \n",
    "    # Close the file.\n",
    "    emp_file.close()\n",
    "    print('Employee records written to employees.txt.')"
   ]
  },
  {
   "cell_type": "code",
   "execution_count": null,
   "id": "60ab2134-c58c-4606-9480-4992a147fa42",
   "metadata": {},
   "outputs": [],
   "source": []
  },
  {
   "cell_type": "code",
   "execution_count": 17,
   "id": "2e38426f-e0b2-429b-a7b4-0f694f6a6d5f",
   "metadata": {},
   "outputs": [
    {
     "name": "stdin",
     "output_type": "stream",
     "text": [
      "How many employee records do you want to create?  3\n"
     ]
    },
    {
     "name": "stdout",
     "output_type": "stream",
     "text": [
      "Enter data for employee #1\n"
     ]
    },
    {
     "name": "stdin",
     "output_type": "stream",
     "text": [
      "Name:  Raed\n",
      "ID number:  1234\n",
      "Department:  Math\n"
     ]
    },
    {
     "name": "stdout",
     "output_type": "stream",
     "text": [
      "Enter data for employee #2\n"
     ]
    },
    {
     "name": "stdin",
     "output_type": "stream",
     "text": [
      "Name:  Mohammad\n",
      "ID number:  1235\n",
      "Department:  Engineering\n"
     ]
    },
    {
     "name": "stdout",
     "output_type": "stream",
     "text": [
      "Enter data for employee #3\n"
     ]
    },
    {
     "name": "stdin",
     "output_type": "stream",
     "text": [
      "Name:  Sara\n",
      "ID number:  1236\n",
      "Department:  Business\n"
     ]
    },
    {
     "name": "stdout",
     "output_type": "stream",
     "text": [
      "\n",
      "Employee records written to employees.txt.\n"
     ]
    }
   ],
   "source": [
    "enter_emp()"
   ]
  },
  {
   "cell_type": "code",
   "execution_count": 5,
   "id": "44d37704-2868-4598-9458-8d2d29fa84f9",
   "metadata": {},
   "outputs": [],
   "source": [
    "# This function adds employee data from the user and saves it as records in the employee.txt.\n",
    "\n",
    "def add_emp():\n",
    "    # Get the number of employee records to create.\n",
    "    num_emps = int(input('How many employee records do you want to add? '))\n",
    "    \n",
    "    # Open a file for writing.\n",
    "    emp_file = open('employees.txt', 'a')\n",
    "    \n",
    "    # Get each employee's data and write it to the file.\n",
    "    for count in range(1, num_emps + 1):\n",
    "        # Get the data for an employee.\n",
    "        print('Enter data for employee #', count, sep='')\n",
    "        name = input('Name: ')\n",
    "        id_num = input('ID number: ')\n",
    "        dept = input('Department: ')\n",
    "        \n",
    "        # Write the data as a record to the file.\n",
    "        emp_file.write(name + '\\n')\n",
    "        emp_file.write(id_num + '\\n')\n",
    "        emp_file.write(dept + '\\n')\n",
    "    \n",
    "    # Display a blank line.\n",
    "    print()\n",
    "    \n",
    "    # Close the file.\n",
    "    emp_file.close()\n",
    "    print('Employee records are added to employees.txt.')"
   ]
  },
  {
   "cell_type": "code",
   "execution_count": 20,
   "id": "53b315e7-e787-4600-a778-3f97ee8e25ba",
   "metadata": {},
   "outputs": [
    {
     "ename": "KeyboardInterrupt",
     "evalue": "Interrupted by user",
     "output_type": "error",
     "traceback": [
      "\u001b[1;31m---------------------------------------------------------------------------\u001b[0m",
      "\u001b[1;31mKeyboardInterrupt\u001b[0m                         Traceback (most recent call last)",
      "Cell \u001b[1;32mIn[20], line 1\u001b[0m\n\u001b[1;32m----> 1\u001b[0m \u001b[43madd_emp\u001b[49m\u001b[43m(\u001b[49m\u001b[43m)\u001b[49m\n",
      "Cell \u001b[1;32mIn[18], line 5\u001b[0m, in \u001b[0;36madd_emp\u001b[1;34m()\u001b[0m\n\u001b[0;32m      3\u001b[0m \u001b[38;5;28;01mdef\u001b[39;00m \u001b[38;5;21madd_emp\u001b[39m():\n\u001b[0;32m      4\u001b[0m     \u001b[38;5;66;03m# Get the number of employee records to create.\u001b[39;00m\n\u001b[1;32m----> 5\u001b[0m     num_emps \u001b[38;5;241m=\u001b[39m \u001b[38;5;28mint\u001b[39m(\u001b[38;5;28;43minput\u001b[39;49m\u001b[43m(\u001b[49m\u001b[38;5;124;43m'\u001b[39;49m\u001b[38;5;124;43mHow many employee records do you want to add? \u001b[39;49m\u001b[38;5;124;43m'\u001b[39;49m\u001b[43m)\u001b[49m)\n\u001b[0;32m      7\u001b[0m     \u001b[38;5;66;03m# Open a file for writing.\u001b[39;00m\n\u001b[0;32m      8\u001b[0m     emp_file \u001b[38;5;241m=\u001b[39m \u001b[38;5;28mopen\u001b[39m(\u001b[38;5;124m'\u001b[39m\u001b[38;5;124memployees.txt\u001b[39m\u001b[38;5;124m'\u001b[39m, \u001b[38;5;124m'\u001b[39m\u001b[38;5;124ma\u001b[39m\u001b[38;5;124m'\u001b[39m)\n",
      "File \u001b[1;32m~\\AppData\\Local\\Programs\\Python\\Python311\\Lib\\site-packages\\ipykernel\\kernelbase.py:1202\u001b[0m, in \u001b[0;36mKernel.raw_input\u001b[1;34m(self, prompt)\u001b[0m\n\u001b[0;32m   1200\u001b[0m     msg \u001b[38;5;241m=\u001b[39m \u001b[38;5;124m\"\u001b[39m\u001b[38;5;124mraw_input was called, but this frontend does not support input requests.\u001b[39m\u001b[38;5;124m\"\u001b[39m\n\u001b[0;32m   1201\u001b[0m     \u001b[38;5;28;01mraise\u001b[39;00m StdinNotImplementedError(msg)\n\u001b[1;32m-> 1202\u001b[0m \u001b[38;5;28;01mreturn\u001b[39;00m \u001b[38;5;28;43mself\u001b[39;49m\u001b[38;5;241;43m.\u001b[39;49m\u001b[43m_input_request\u001b[49m\u001b[43m(\u001b[49m\n\u001b[0;32m   1203\u001b[0m \u001b[43m    \u001b[49m\u001b[38;5;28;43mstr\u001b[39;49m\u001b[43m(\u001b[49m\u001b[43mprompt\u001b[49m\u001b[43m)\u001b[49m\u001b[43m,\u001b[49m\n\u001b[0;32m   1204\u001b[0m \u001b[43m    \u001b[49m\u001b[38;5;28;43mself\u001b[39;49m\u001b[38;5;241;43m.\u001b[39;49m\u001b[43m_parent_ident\u001b[49m\u001b[43m[\u001b[49m\u001b[38;5;124;43m\"\u001b[39;49m\u001b[38;5;124;43mshell\u001b[39;49m\u001b[38;5;124;43m\"\u001b[39;49m\u001b[43m]\u001b[49m\u001b[43m,\u001b[49m\n\u001b[0;32m   1205\u001b[0m \u001b[43m    \u001b[49m\u001b[38;5;28;43mself\u001b[39;49m\u001b[38;5;241;43m.\u001b[39;49m\u001b[43mget_parent\u001b[49m\u001b[43m(\u001b[49m\u001b[38;5;124;43m\"\u001b[39;49m\u001b[38;5;124;43mshell\u001b[39;49m\u001b[38;5;124;43m\"\u001b[39;49m\u001b[43m)\u001b[49m\u001b[43m,\u001b[49m\n\u001b[0;32m   1206\u001b[0m \u001b[43m    \u001b[49m\u001b[43mpassword\u001b[49m\u001b[38;5;241;43m=\u001b[39;49m\u001b[38;5;28;43;01mFalse\u001b[39;49;00m\u001b[43m,\u001b[49m\n\u001b[0;32m   1207\u001b[0m \u001b[43m\u001b[49m\u001b[43m)\u001b[49m\n",
      "File \u001b[1;32m~\\AppData\\Local\\Programs\\Python\\Python311\\Lib\\site-packages\\ipykernel\\kernelbase.py:1245\u001b[0m, in \u001b[0;36mKernel._input_request\u001b[1;34m(self, prompt, ident, parent, password)\u001b[0m\n\u001b[0;32m   1242\u001b[0m \u001b[38;5;28;01mexcept\u001b[39;00m \u001b[38;5;167;01mKeyboardInterrupt\u001b[39;00m:\n\u001b[0;32m   1243\u001b[0m     \u001b[38;5;66;03m# re-raise KeyboardInterrupt, to truncate traceback\u001b[39;00m\n\u001b[0;32m   1244\u001b[0m     msg \u001b[38;5;241m=\u001b[39m \u001b[38;5;124m\"\u001b[39m\u001b[38;5;124mInterrupted by user\u001b[39m\u001b[38;5;124m\"\u001b[39m\n\u001b[1;32m-> 1245\u001b[0m     \u001b[38;5;28;01mraise\u001b[39;00m \u001b[38;5;167;01mKeyboardInterrupt\u001b[39;00m(msg) \u001b[38;5;28;01mfrom\u001b[39;00m \u001b[38;5;28;01mNone\u001b[39;00m\n\u001b[0;32m   1246\u001b[0m \u001b[38;5;28;01mexcept\u001b[39;00m \u001b[38;5;167;01mException\u001b[39;00m:\n\u001b[0;32m   1247\u001b[0m     \u001b[38;5;28mself\u001b[39m\u001b[38;5;241m.\u001b[39mlog\u001b[38;5;241m.\u001b[39mwarning(\u001b[38;5;124m\"\u001b[39m\u001b[38;5;124mInvalid Message:\u001b[39m\u001b[38;5;124m\"\u001b[39m, exc_info\u001b[38;5;241m=\u001b[39m\u001b[38;5;28;01mTrue\u001b[39;00m)\n",
      "\u001b[1;31mKeyboardInterrupt\u001b[0m: Interrupted by user"
     ]
    }
   ],
   "source": [
    "add_emp()"
   ]
  },
  {
   "cell_type": "code",
   "execution_count": 4,
   "id": "bc1e86a8-c148-4dec-9c23-fb99c8780d28",
   "metadata": {},
   "outputs": [],
   "source": [
    "# This program displays the records that are in the employees.txt file.\n",
    "\n",
    "def display_emp():\n",
    "    # Open the employees.txt file.\n",
    "    emp_file = open('employees.txt', 'r')\n",
    "\n",
    "    # Read the first line from the file, which is the name field of the first record.\n",
    "    name = emp_file.readline()\n",
    "    \n",
    "    # If a field was read, continue processing.\n",
    "    while name != '':\n",
    "    \n",
    "        # Read the ID number field.\n",
    "        id_num = emp_file.readline()\n",
    "        # Read the department field.\n",
    "        dept = emp_file.readline()\n",
    "        \n",
    "        # Strip the newlines from the fields.\n",
    "        name = name.rstrip('\\n')\n",
    "        id_num = id_num.rstrip('\\n')\n",
    "        dept = dept.rstrip('\\n')\n",
    "        \n",
    "        # Display the record.\n",
    "        print('Name:', name)\n",
    "        print('ID:', id_num)\n",
    "        print('Dept:', dept)\n",
    "        print()\n",
    "        \n",
    "        # Read the name field of the next record.\n",
    "        name = emp_file.readline()\n",
    "\n",
    "    # Close the file.\n",
    "    emp_file.close()"
   ]
  },
  {
   "cell_type": "code",
   "execution_count": 5,
   "id": "05cf74b6-8bf9-45b9-a781-2ee4015f0a38",
   "metadata": {},
   "outputs": [
    {
     "name": "stdout",
     "output_type": "stream",
     "text": [
      "Name: Raed\n",
      "ID: 1234\n",
      "Dept: Math\n",
      "\n",
      "Name: Sara\n",
      "ID: 1236\n",
      "Dept: Business\n",
      "\n",
      "Name: Ali\n",
      "ID: 1237\n",
      "Dept: Computer Science\n",
      "\n",
      "Name: Sami\n",
      "ID: 1239\n",
      "Dept: IT\n",
      "\n"
     ]
    }
   ],
   "source": [
    "display_emp()"
   ]
  },
  {
   "cell_type": "code",
   "execution_count": 23,
   "id": "f093882e-e85c-4d7c-99fc-ff6a0eb2eca6",
   "metadata": {},
   "outputs": [],
   "source": [
    "# This function allows the user to search the employees.txt file for records matching a description.\n",
    "\n",
    "def search_emp():\n",
    "    # Create a bool variable to use as a flag.\n",
    "    found = False\n",
    "    \n",
    "    # Get the search value.\n",
    "    search = input('Enter a name or ID to search for: ')\n",
    "    \n",
    "    # Open the coffee.txt file.\n",
    "    emp_file = open('employees.txt', 'r')\n",
    "    \n",
    "    # Read the first record's name field.\n",
    "    name = emp_file.readline()\n",
    "    \n",
    "    # Read the rest of the file.\n",
    "    while name != '':\n",
    "        # Read the ID number field.\n",
    "        id_num = emp_file.readline()\n",
    "        # Read the department field.\n",
    "        dept = emp_file.readline()\n",
    "        \n",
    "        # Strip the newlines from the fields.\n",
    "        name = name.rstrip('\\n')\n",
    "        id_num = id_num.rstrip('\\n')\n",
    "        dept = dept.rstrip('\\n')\n",
    "        \n",
    "        # Determine whether this record matches the search value.\n",
    "        if name == search or str(id_num) == search:\n",
    "            # Display the record.\n",
    "            print('Name:', name)\n",
    "            print('ID:', id_num)\n",
    "            print('Dept:', dept)\n",
    "            print()\n",
    "\n",
    "            # Set the found flag to True\n",
    "            found = True\n",
    "            break\n",
    "\n",
    "        # Read the name field of the next record.\n",
    "        name = emp_file.readline()\n",
    "\n",
    "    # Close the file.\n",
    "    emp_file.close()\n",
    "\n",
    "    # If the search value was not found in the file display a message.\n",
    "    if not found:\n",
    "        print('That item was not found in the file.')"
   ]
  },
  {
   "cell_type": "code",
   "execution_count": 26,
   "id": "79df6138-d6b5-4c4b-9030-fcdc06d7ad7c",
   "metadata": {},
   "outputs": [
    {
     "name": "stdin",
     "output_type": "stream",
     "text": [
      "Enter a name or ID to search for:  1238\n"
     ]
    },
    {
     "name": "stdout",
     "output_type": "stream",
     "text": [
      "That item was not found in the file.\n"
     ]
    }
   ],
   "source": [
    "search_emp()"
   ]
  },
  {
   "cell_type": "code",
   "execution_count": 1,
   "id": "2ff1b3ab-df26-486a-8920-004203beb71d",
   "metadata": {},
   "outputs": [],
   "source": [
    "# This function allows the user to modify a record in the employees.txt file\n",
    "import os\n",
    "def modify_emp():\n",
    "    # Create a bool variable to use as a flag.\n",
    "    found = False\n",
    "    \n",
    "    # Get the search value.\n",
    "    search = input('Enter a name or ID to search for: ')\n",
    "    \n",
    "    # Open the coffee.txt file.\n",
    "    emp_file = open('employees.txt', 'r')\n",
    "\n",
    "    #open temporary file\n",
    "    tmp_file = open('tmp.txt', 'w')\n",
    "    \n",
    "    # Read the first record's name field.\n",
    "    name = emp_file.readline()\n",
    "    \n",
    "    # Read the rest of the file.\n",
    "    while name != '':\n",
    "        # Read the ID number field.\n",
    "        id_num = emp_file.readline()\n",
    "        # Read the department field.\n",
    "        dept = emp_file.readline()\n",
    "        \n",
    "        # Strip the newlines from the fields.\n",
    "        name = name.rstrip('\\n')\n",
    "        id_num = id_num.rstrip('\\n')\n",
    "        dept = dept.rstrip('\\n')\n",
    "        \n",
    "        # Determine whether this record matches the search value.\n",
    "        if name == search or str(id_num) == search:\n",
    "            # Display the record.\n",
    "            done = False\n",
    "            print(\"The record you want to modify is:\")\n",
    "            print('Name:', name)\n",
    "            print('ID:', id_num)\n",
    "            print('Dept:', dept)\n",
    "            print()\n",
    "            while not done :\n",
    "                L = input(\"Choose number (separate with spaces): \\n What do you want to modify \\n 1. name \\n 2. ID \\n 3. department\").split(\" \")\n",
    "                if '1' in L:\n",
    "                    name = input(\"Enter the MODIFIED name: \")\n",
    "                \n",
    "                if '2' in L:\n",
    "                    id_num = input(\"Enter the MODIFIED ID: \")\n",
    "                    \n",
    "                if '3' in L:\n",
    "                    dept = input(\"Enter the MODIFIED department: \")\n",
    "                tmp_file.write(name + '\\n')\n",
    "                tmp_file.write(id_num + '\\n')\n",
    "                tmp_file.write(dept + '\\n')\n",
    "\n",
    "                d = input(\"Type y if done\")\n",
    "                done = (d == 'y')\n",
    "                # Set the found flag to True\n",
    "                found = True\n",
    "\n",
    "        else:\n",
    "            tmp_file.write(name + '\\n')\n",
    "            tmp_file.write(id_num + '\\n')\n",
    "            tmp_file.write(dept + '\\n')\n",
    "                          \n",
    "                        \n",
    "            print()\n",
    "        # Read the name field of the next record.\n",
    "        name = emp_file.readline()\n",
    "\n",
    "    # Close the file.\n",
    "    emp_file.close()\n",
    "    tmp_file.close()\n",
    "    # Delete the original coffee.txt file.\n",
    "    os.remove('employees.txt')\n",
    "\n",
    "    # Rename the temporary file.\n",
    "    os.rename('tmp.txt', 'employees.txt')\n",
    "    # If the search value was not found in the file display a message.\n",
    "    if not found:\n",
    "        print('That item was not found in the file.')"
   ]
  },
  {
   "cell_type": "code",
   "execution_count": 6,
   "id": "cfb66bbc-4d60-4c6e-91c4-82203026ebe3",
   "metadata": {},
   "outputs": [
    {
     "name": "stdin",
     "output_type": "stream",
     "text": [
      "Enter a name or ID to search for:  Sara\n"
     ]
    },
    {
     "name": "stdout",
     "output_type": "stream",
     "text": [
      "\n",
      "The record you want to modify is:\n",
      "Name: Sara\n",
      "ID: 1236\n",
      "Dept: Business\n",
      "\n"
     ]
    },
    {
     "name": "stdin",
     "output_type": "stream",
     "text": [
      "Choose number (separate with spaces): \n",
      " What do you want to modify \n",
      " 1. name \n",
      " 2. ID \n",
      " 3. department 2\n",
      "Enter the MODIFIED ID:  1206\n",
      "Type y if done y\n"
     ]
    },
    {
     "name": "stdout",
     "output_type": "stream",
     "text": [
      "\n",
      "\n"
     ]
    }
   ],
   "source": [
    "modify_emp()"
   ]
  },
  {
   "cell_type": "code",
   "execution_count": 7,
   "id": "88afed4a-bc46-45ab-b4c5-e9cc14d4a385",
   "metadata": {},
   "outputs": [
    {
     "name": "stdout",
     "output_type": "stream",
     "text": [
      "Name: Raed\n",
      "ID: 1234\n",
      "Dept: Math\n",
      "\n",
      "Name: Sara\n",
      "ID: 1206\n",
      "Dept: Business\n",
      "\n",
      "Name: Ali\n",
      "ID: 1237\n",
      "Dept: Computer Science\n",
      "\n",
      "Name: Sami\n",
      "ID: 1239\n",
      "Dept: IT\n",
      "\n"
     ]
    }
   ],
   "source": [
    "display_emp()\n"
   ]
  },
  {
   "cell_type": "code",
   "execution_count": 8,
   "id": "ed0a2f9d-fb58-44b9-bb41-b70a58ff980c",
   "metadata": {},
   "outputs": [],
   "source": [
    "# This function allows the user to modify a record in the employees.txt file\n",
    "import os\n",
    "def rm_emp():\n",
    "    # Create a bool variable to use as a flag.\n",
    "    found = False\n",
    "    \n",
    "    # Get the search value.\n",
    "    search = input('Enter a name or ID to search for: ')\n",
    "    \n",
    "    # Open the coffee.txt file.\n",
    "    emp_file = open('employees.txt', 'r')\n",
    "\n",
    "    #open temporary file\n",
    "    tmp_file = open('tmp.txt', 'w')\n",
    "    \n",
    "    # Read the first record's name field.\n",
    "    name = emp_file.readline()\n",
    "    \n",
    "    # Read the rest of the file.\n",
    "    while name != '':\n",
    "        # Read the ID number field.\n",
    "        id_num = emp_file.readline()\n",
    "        # Read the department field.\n",
    "        dept = emp_file.readline()\n",
    "        \n",
    "        # Strip the newlines from the fields.\n",
    "        name = name.rstrip('\\n')\n",
    "        id_num = id_num.rstrip('\\n')\n",
    "        dept = dept.rstrip('\\n')\n",
    "        \n",
    "        # Determine whether this record matches the search value.\n",
    "        if name == search or str(id_num) == search:\n",
    "            # Display the record.\n",
    "            done = False\n",
    "            print(\"The record you want to remove is:\")\n",
    "            print('Name:', name)\n",
    "            print('ID:', id_num)\n",
    "            print('Dept:', dept)\n",
    "            print()\n",
    "            d = input(\"Type y if OK\")\n",
    "        \n",
    "            if d != 'y':\n",
    "                tmp_file.write(name + '\\n')\n",
    "                tmp_file.write(id_num + '\\n')\n",
    "                tmp_file.write(dept + '\\n')\n",
    "            else:\n",
    "                found = True\n",
    "                \n",
    "\n",
    "        else:\n",
    "            tmp_file.write(name + '\\n')\n",
    "            tmp_file.write(id_num + '\\n')\n",
    "            tmp_file.write(dept + '\\n')\n",
    "                          \n",
    "                        \n",
    "            print()\n",
    "        # Read the name field of the next record.\n",
    "        name = emp_file.readline()\n",
    "\n",
    "    # Close the file.\n",
    "    emp_file.close()\n",
    "    tmp_file.close()\n",
    "    # Delete the original coffee.txt file.\n",
    "    os.remove('employees.txt')\n",
    "\n",
    "    # Rename the temporary file.\n",
    "    os.rename('tmp.txt', 'employees.txt')\n",
    "    # If the search value was not found in the file display a message.\n",
    "    if not found:\n",
    "        print('That item was not found in the file.')"
   ]
  },
  {
   "cell_type": "code",
   "execution_count": 9,
   "id": "5e120e48-2ffa-40f4-b48d-d13e8fdabc2c",
   "metadata": {},
   "outputs": [
    {
     "name": "stdin",
     "output_type": "stream",
     "text": [
      "Enter a name or ID to search for:  Raed\n"
     ]
    },
    {
     "name": "stdout",
     "output_type": "stream",
     "text": [
      "The record you want to remove is:\n",
      "Name: Raed\n",
      "ID: 1234\n",
      "Dept: Math\n",
      "\n"
     ]
    },
    {
     "name": "stdin",
     "output_type": "stream",
     "text": [
      "Type y if OK y\n"
     ]
    },
    {
     "name": "stdout",
     "output_type": "stream",
     "text": [
      "\n",
      "\n",
      "\n"
     ]
    }
   ],
   "source": [
    "rm_emp()\n"
   ]
  },
  {
   "cell_type": "code",
   "execution_count": 10,
   "id": "4bd22a97-ea77-40aa-a857-3735166816c8",
   "metadata": {},
   "outputs": [
    {
     "name": "stdout",
     "output_type": "stream",
     "text": [
      "Name: Sara\n",
      "ID: 1206\n",
      "Dept: Business\n",
      "\n",
      "Name: Ali\n",
      "ID: 1237\n",
      "Dept: Computer Science\n",
      "\n",
      "Name: Sami\n",
      "ID: 1239\n",
      "Dept: IT\n",
      "\n"
     ]
    }
   ],
   "source": [
    "display_emp()"
   ]
  },
  {
   "cell_type": "code",
   "execution_count": 11,
   "id": "66462e8f-9ec0-4611-aa7c-49d9eda1fc36",
   "metadata": {},
   "outputs": [],
   "source": [
    "#processing using lists\n",
    "def display_emp_list():  \n",
    "    # Open the coffee.txt file.\n",
    "    emp_file = open('employees.txt', 'r')\n",
    "    \n",
    "    # Read the file contents to the list\n",
    "    emp_list = emp_file.readlines()\n",
    "    print(\"name\",\"ID\",\"Department\",sep=\"\\t \\t\")\n",
    "    for i in range(0,len(emp_list),3):\n",
    "        print(emp_list[i].rstrip(),emp_list[i+1].rstrip(),emp_list[i+2].rstrip(),sep='\\t \\t')\n",
    "        "
   ]
  },
  {
   "cell_type": "code",
   "execution_count": 16,
   "id": "c07c6df5-0384-4c9f-857d-bb7beba05a6b",
   "metadata": {},
   "outputs": [
    {
     "name": "stdout",
     "output_type": "stream",
     "text": [
      "name\t \tID\t \tDepartment\n",
      "Sara\t \t1206\t \tBusiness\n",
      "Ali\t \t1237\t \tComputer Science\n",
      "Sami\t \t1239\t \tIT\n",
      "Raed\t \t2345\t \tMath\n"
     ]
    }
   ],
   "source": [
    "display_emp_list()"
   ]
  },
  {
   "cell_type": "code",
   "execution_count": 13,
   "id": "2baa202d-bb06-4e30-9dd9-2fed9a73ea38",
   "metadata": {},
   "outputs": [],
   "source": [
    "# This function adds employee data from the user and saves it as records in the employee.txt.\n",
    "\n",
    "def add_emp_list():\n",
    "    # Get the number of employee records to create.\n",
    "    num_emps = int(input('How many employee records do you want to add? '))\n",
    "    \n",
    "    # Open a file for writing.\n",
    "    emp_file = open('employees.txt', 'a')\n",
    "    emp_list = []\n",
    "    \n",
    "    # Get each employee's data and write it to the file.\n",
    "    for count in range(1, num_emps + 1):\n",
    "        # Get the data for an employee.\n",
    "        print('Enter data for employee #', count, sep='')\n",
    "        emp_list.append(input('Name: '))\n",
    "        emp_list.append(input('ID number: '))\n",
    "        emp_list.append(input('Department: '))\n",
    "    \n",
    "    # Display a blank line.\n",
    "    emp_file.writelines(line + '\\n' for line in emp_list)\n",
    "    print()\n",
    "    \n",
    "    # Close the file.\n",
    "    emp_file.close()\n",
    "    print('Employee records are added to employees.txt.')"
   ]
  },
  {
   "cell_type": "code",
   "execution_count": 15,
   "id": "5ffac1cf-bb7a-4e78-a898-997aa4249e04",
   "metadata": {},
   "outputs": [
    {
     "name": "stdin",
     "output_type": "stream",
     "text": [
      "How many employee records do you want to add?  1\n"
     ]
    },
    {
     "name": "stdout",
     "output_type": "stream",
     "text": [
      "Enter data for employee #1\n"
     ]
    },
    {
     "name": "stdin",
     "output_type": "stream",
     "text": [
      "Name:  Raed\n",
      "ID number:  2345\n",
      "Department:  Math\n"
     ]
    },
    {
     "name": "stdout",
     "output_type": "stream",
     "text": [
      "\n",
      "Employee records are added to employees.txt.\n"
     ]
    }
   ],
   "source": [
    "add_emp_list()"
   ]
  },
  {
   "cell_type": "code",
   "execution_count": null,
   "id": "068d6d47-8646-4d4f-9239-5c2f727363cb",
   "metadata": {},
   "outputs": [],
   "source": []
  }
 ],
 "metadata": {
  "kernelspec": {
   "display_name": "Python 3 (ipykernel)",
   "language": "python",
   "name": "python3"
  },
  "language_info": {
   "codemirror_mode": {
    "name": "ipython",
    "version": 3
   },
   "file_extension": ".py",
   "mimetype": "text/x-python",
   "name": "python",
   "nbconvert_exporter": "python",
   "pygments_lexer": "ipython3",
   "version": "3.12.7"
  }
 },
 "nbformat": 4,
 "nbformat_minor": 5
}
