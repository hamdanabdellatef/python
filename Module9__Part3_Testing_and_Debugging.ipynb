{
  "nbformat": 4,
  "nbformat_minor": 0,
  "metadata": {
    "colab": {
      "provenance": [],
      "authorship_tag": "ABX9TyPF1tnYXRHQPgRtE8YWiS4G",
      "include_colab_link": true
    },
    "kernelspec": {
      "name": "python3",
      "display_name": "Python 3"
    },
    "language_info": {
      "name": "python"
    }
  },
  "cells": [
    {
      "cell_type": "markdown",
      "metadata": {
        "id": "view-in-github",
        "colab_type": "text"
      },
      "source": [
        "<a href=\"https://colab.research.google.com/github/hamdanabdellatef/python/blob/main/Module9__Part3_Testing_and_Debugging.ipynb\" target=\"_parent\"><img src=\"https://colab.research.google.com/assets/colab-badge.svg\" alt=\"Open In Colab\"/></a>"
      ]
    },
    {
      "cell_type": "markdown",
      "source": [
        "Show a short “buggy” function and explain how a test would have caught it."
      ],
      "metadata": {
        "id": "B-_zXlhzMeG6"
      }
    },
    {
      "cell_type": "code",
      "execution_count": null,
      "metadata": {
        "id": "TtMZlaOmMUXg"
      },
      "outputs": [],
      "source": []
    },
    {
      "cell_type": "code",
      "source": [
        "def add(a, b):\n",
        "    return a + b\n",
        "\n",
        "# Test case\n",
        "input_data = (2, 3)\n",
        "expected = 5\n",
        "actual = add(*input_data)\n",
        "print(\"Pass\" if expected == actual else \"Fail\")\n"
      ],
      "metadata": {
        "id": "KJKRxOrtNJbZ"
      },
      "execution_count": null,
      "outputs": []
    },
    {
      "cell_type": "markdown",
      "source": [
        "Types of test cases"
      ],
      "metadata": {
        "id": "vcgmlZGpNt-m"
      }
    },
    {
      "cell_type": "code",
      "source": [
        "# Positive\n",
        "assert add(2, 3) == 5\n",
        "\n",
        "# Negative\n",
        "try:\n",
        "    add(\"a\", 3)\n",
        "except TypeError:\n",
        "    print(\"Caught error as expected\")\n",
        "\n",
        "# Boundary\n",
        "assert add(0, 0) == 0\n"
      ],
      "metadata": {
        "id": "ZH8q49KgNw6Z"
      },
      "execution_count": null,
      "outputs": []
    },
    {
      "cell_type": "code",
      "source": [
        "import unittest\n",
        "\n",
        "# Function to test\n",
        "def multiply(a, b):\n",
        "    return a * b\n",
        "\n",
        "# Test class\n",
        "class TestMultiply(unittest.TestCase):\n",
        "    def test_positive(self):\n",
        "        self.assertEqual(multiply(2, 3), 6)\n",
        "\n",
        "    def test_negative(self):\n",
        "        self.assertEqual(multiply(-2, 3), -6)\n",
        "\n",
        "    def test_boundary(self):\n",
        "        self.assertEqual(multiply(0, 100), 0)\n",
        "\n",
        "\n",
        "unittest.main(argv=['first-arg-is-ignored'], exit=False)\n",
        "\n",
        "#unittest.main()"
      ],
      "metadata": {
        "colab": {
          "base_uri": "https://localhost:8080/"
        },
        "id": "xWaJ37qaOXfB",
        "outputId": "a1d8eb14-7d20-4d6a-88f0-e7b7f251a6c0"
      },
      "execution_count": 5,
      "outputs": [
        {
          "output_type": "stream",
          "name": "stderr",
          "text": [
            "...\n",
            "----------------------------------------------------------------------\n",
            "Ran 3 tests in 0.002s\n",
            "\n",
            "OK\n"
          ]
        },
        {
          "output_type": "execute_result",
          "data": {
            "text/plain": [
              "<unittest.main.TestProgram at 0x796f54b0df40>"
            ]
          },
          "metadata": {},
          "execution_count": 5
        }
      ]
    }
  ]
}