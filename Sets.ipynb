{
  "cells": [
    {
      "cell_type": "markdown",
      "metadata": {
        "id": "view-in-github",
        "colab_type": "text"
      },
      "source": [
        "<a href=\"https://colab.research.google.com/github/hamdanabdellatef/python/blob/main/Sets.ipynb\" target=\"_parent\"><img src=\"https://colab.research.google.com/assets/colab-badge.svg\" alt=\"Open In Colab\"/></a>"
      ]
    },
    {
      "cell_type": "markdown",
      "source": [
        "#Sets"
      ],
      "metadata": {
        "id": "Vdx32yid3ck3"
      },
      "id": "Vdx32yid3ck3"
    },
    {
      "cell_type": "code",
      "execution_count": 8,
      "id": "f1585b30-7b7a-46f2-b292-fdf9613602d2",
      "metadata": {
        "colab": {
          "base_uri": "https://localhost:8080/"
        },
        "id": "f1585b30-7b7a-46f2-b292-fdf9613602d2",
        "outputId": "bdab19ae-71f8-4450-e937-e57276575417"
      },
      "outputs": [
        {
          "output_type": "stream",
          "name": "stdout",
          "text": [
            "set()\n"
          ]
        }
      ],
      "source": [
        "set1 = set()\n",
        "print(set1)"
      ]
    },
    {
      "cell_type": "code",
      "source": [
        "string = 'This is a string'\n",
        "set3 = set(string)\n",
        "print(set3)"
      ],
      "metadata": {
        "colab": {
          "base_uri": "https://localhost:8080/"
        },
        "id": "g8KZ_LkbEzvU",
        "outputId": "14a7672b-b1d4-4989-ed17-6d0fac30a018"
      },
      "id": "g8KZ_LkbEzvU",
      "execution_count": 11,
      "outputs": [
        {
          "output_type": "stream",
          "name": "stdout",
          "text": [
            "{'a', 'i', 't', 'r', 'T', 'n', 'g', ' ', 'h', 's'}\n"
          ]
        }
      ]
    },
    {
      "cell_type": "code",
      "execution_count": 10,
      "id": "88822c24-c944-4f44-9db1-d749a988f011",
      "metadata": {
        "colab": {
          "base_uri": "https://localhost:8080/"
        },
        "id": "88822c24-c944-4f44-9db1-d749a988f011",
        "outputId": "c0107466-9f26-4afc-b9c3-406303a3076d"
      },
      "outputs": [
        {
          "output_type": "stream",
          "name": "stdout",
          "text": [
            "{1, 2, 3, 4, 5, 6, 7, 8, 'a', 'abc'}\n"
          ]
        }
      ],
      "source": [
        "L =[ 1,2,3,4,5,5,5,6,7,7,8,8,'a','abc']\n",
        "set2 = set(L)\n",
        "print(set2)"
      ]
    },
    {
      "cell_type": "code",
      "execution_count": 13,
      "id": "f9c2e23d-4df9-40f9-9c95-f9dbd765df13",
      "metadata": {
        "colab": {
          "base_uri": "https://localhost:8080/"
        },
        "id": "f9c2e23d-4df9-40f9-9c95-f9dbd765df13",
        "outputId": "333ac888-91d3-4ad9-c5a4-1c5f70766fd0"
      },
      "outputs": [
        {
          "output_type": "stream",
          "name": "stdout",
          "text": [
            "{1, 2, 3, 4, 5, 6, 7, 8, 'a', 'abc', 'A new item'}\n"
          ]
        }
      ],
      "source": [
        "set2.add('A new item')\n",
        "print(set2)"
      ]
    },
    {
      "cell_type": "code",
      "execution_count": 14,
      "id": "6439bf9d-2b10-46d6-903d-6651a3ea7fa9",
      "metadata": {
        "colab": {
          "base_uri": "https://localhost:8080/"
        },
        "id": "6439bf9d-2b10-46d6-903d-6651a3ea7fa9",
        "outputId": "409441f5-b195-4312-a0f7-78a98a6911bf"
      },
      "outputs": [
        {
          "output_type": "stream",
          "name": "stdout",
          "text": [
            "{1, 2, 3, 4, 5, 6, 7, 8, 'a', 'ab', 'abc', 'A new item'}\n"
          ]
        }
      ],
      "source": [
        "set2.add('ab')\n",
        "print(set2)"
      ]
    },
    {
      "cell_type": "code",
      "source": [
        "L2 = [1,2,10, 11 ,5.5, 'one']\n",
        "set2.update(L2)\n",
        "print(set2)"
      ],
      "metadata": {
        "colab": {
          "base_uri": "https://localhost:8080/"
        },
        "id": "oMhTHkh5FXln",
        "outputId": "09b4dbec-8189-4e5f-82a2-aca3e8468270"
      },
      "id": "oMhTHkh5FXln",
      "execution_count": 15,
      "outputs": [
        {
          "output_type": "stream",
          "name": "stdout",
          "text": [
            "{1, 2, 3, 4, 5, 6, 7, 8, 'a', 10, 'ab', 11, 5.5, 'one', 'abc', 'A new item'}\n"
          ]
        }
      ]
    },
    {
      "cell_type": "code",
      "execution_count": 16,
      "id": "88c3327c-89ed-4b61-8c80-8463a185e715",
      "metadata": {
        "colab": {
          "base_uri": "https://localhost:8080/"
        },
        "id": "88c3327c-89ed-4b61-8c80-8463a185e715",
        "outputId": "8895afc5-657a-471d-8af0-fa9f3ab8a549"
      },
      "outputs": [
        {
          "output_type": "stream",
          "name": "stdout",
          "text": [
            "{1, 2, 3, 4, 5, 6, 7, 8, 5.5, 10, 11, 'w', 'e', 'a', 'i', 't', 'one', 'ab', 'abc', 'A new item', 'n', 'A', ' ', 'm'}\n"
          ]
        }
      ],
      "source": [
        "s = 'A new item'\n",
        "set2.update(s)\n",
        "print(set2)"
      ]
    },
    {
      "cell_type": "code",
      "execution_count": 17,
      "id": "80e32a49-6956-491e-bed0-076e93a6ef52",
      "metadata": {
        "colab": {
          "base_uri": "https://localhost:8080/"
        },
        "id": "80e32a49-6956-491e-bed0-076e93a6ef52",
        "outputId": "6ed9c440-0ca1-4b04-81d3-e615a243e971"
      },
      "outputs": [
        {
          "output_type": "stream",
          "name": "stdout",
          "text": [
            "{1, 2, 3, 4, 5, 6, 7, 8, 5.5, 10, 11, 'w', 'e', 'a', 'i', 't', 'one', 'ab', 'abc', 'A new item', 'n', 'A', ' ', 'm'}\n"
          ]
        }
      ],
      "source": [
        "set2.add(s)\n",
        "print(set2)"
      ]
    },
    {
      "cell_type": "code",
      "execution_count": 18,
      "id": "b070e0d9-45c7-43b1-9e2f-8c5040f0b04c",
      "metadata": {
        "colab": {
          "base_uri": "https://localhost:8080/",
          "height": 141
        },
        "id": "b070e0d9-45c7-43b1-9e2f-8c5040f0b04c",
        "outputId": "d5eb7790-1bf4-4f62-bdc9-e3eb2d7cd43f"
      },
      "outputs": [
        {
          "output_type": "error",
          "ename": "KeyError",
          "evalue": "9",
          "traceback": [
            "\u001b[0;31m---------------------------------------------------------------------------\u001b[0m",
            "\u001b[0;31mKeyError\u001b[0m                                  Traceback (most recent call last)",
            "\u001b[0;32m<ipython-input-18-2bdec9f9a381>\u001b[0m in \u001b[0;36m<cell line: 1>\u001b[0;34m()\u001b[0m\n\u001b[0;32m----> 1\u001b[0;31m \u001b[0mset2\u001b[0m\u001b[0;34m.\u001b[0m\u001b[0mremove\u001b[0m\u001b[0;34m(\u001b[0m\u001b[0;36m9\u001b[0m\u001b[0;34m)\u001b[0m\u001b[0;34m\u001b[0m\u001b[0;34m\u001b[0m\u001b[0m\n\u001b[0m",
            "\u001b[0;31mKeyError\u001b[0m: 9"
          ]
        }
      ],
      "source": [
        "set2.remove(9)"
      ]
    },
    {
      "cell_type": "code",
      "execution_count": 19,
      "id": "f18e8187-c752-4331-a007-59b965387720",
      "metadata": {
        "id": "f18e8187-c752-4331-a007-59b965387720"
      },
      "outputs": [],
      "source": [
        "set2.discard(9)"
      ]
    },
    {
      "cell_type": "code",
      "execution_count": 21,
      "id": "d5ce3b4c-7633-4065-bade-72dc77aa1836",
      "metadata": {
        "colab": {
          "base_uri": "https://localhost:8080/"
        },
        "id": "d5ce3b4c-7633-4065-bade-72dc77aa1836",
        "outputId": "d06d911c-228c-4d50-f375-1207e77e59df"
      },
      "outputs": [
        {
          "output_type": "stream",
          "name": "stdout",
          "text": [
            "{1, 2, 3, 4, 5, 6, 7, 8, 5.5, 10, 11, 'w', 'e', 'a', 'i', 't', 'one', 'ab', 'abc', 'n', 'A', ' ', 'm'}\n"
          ]
        }
      ],
      "source": [
        "set2.remove('A new item')\n",
        "print(set2)"
      ]
    },
    {
      "cell_type": "code",
      "execution_count": null,
      "id": "0f78fa25-cfde-426b-99e4-77e6218d8937",
      "metadata": {
        "id": "0f78fa25-cfde-426b-99e4-77e6218d8937"
      },
      "outputs": [],
      "source": [
        "print(set2)"
      ]
    },
    {
      "cell_type": "code",
      "execution_count": 22,
      "id": "be85b320-4b6e-40a7-8f84-af29b39bdeec",
      "metadata": {
        "colab": {
          "base_uri": "https://localhost:8080/"
        },
        "id": "be85b320-4b6e-40a7-8f84-af29b39bdeec",
        "outputId": "65ba21b8-5a9c-4d65-e5e1-2563f1100243"
      },
      "outputs": [
        {
          "output_type": "stream",
          "name": "stdout",
          "text": [
            "set()\n"
          ]
        }
      ],
      "source": [
        "set2.clear()\n",
        "print(set2)"
      ]
    },
    {
      "cell_type": "markdown",
      "source": [
        "# set operations"
      ],
      "metadata": {
        "id": "K_L-wlYjGdML"
      },
      "id": "K_L-wlYjGdML"
    },
    {
      "cell_type": "code",
      "execution_count": 23,
      "id": "6e370f69-144f-4b27-ab9a-08db10482f36",
      "metadata": {
        "colab": {
          "base_uri": "https://localhost:8080/"
        },
        "id": "6e370f69-144f-4b27-ab9a-08db10482f36",
        "outputId": "d44c0b2b-ae80-4763-d7e9-bc7804b2b962"
      },
      "outputs": [
        {
          "output_type": "stream",
          "name": "stdout",
          "text": [
            "{'a', 'o', 'i', 'l', 't', 'u', 'K', 'n', 'e', 'd', 'p', ' ', 'h', 's'}\n"
          ]
        }
      ],
      "source": [
        "set3 = set('Khalil is a top student')\n",
        "print(set3)"
      ]
    },
    {
      "cell_type": "code",
      "execution_count": 24,
      "id": "9dfc8afe-1129-4b1f-a3a6-e1bd338578e4",
      "metadata": {
        "colab": {
          "base_uri": "https://localhost:8080/"
        },
        "id": "9dfc8afe-1129-4b1f-a3a6-e1bd338578e4",
        "outputId": "9c3469bb-6b0b-477e-e769-7c0611af49a1"
      },
      "outputs": [
        {
          "output_type": "stream",
          "name": "stdout",
          "text": [
            "a\n",
            "o\n",
            "i\n",
            "l\n",
            "t\n",
            "u\n",
            "K\n",
            "n\n",
            "e\n",
            "d\n",
            "p\n",
            " \n",
            "h\n",
            "s\n"
          ]
        }
      ],
      "source": [
        "for item in set3:\n",
        "    print(item)"
      ]
    },
    {
      "cell_type": "code",
      "execution_count": 26,
      "id": "7244c455-5277-44d0-ad8c-e82890793a90",
      "metadata": {
        "colab": {
          "base_uri": "https://localhost:8080/"
        },
        "id": "7244c455-5277-44d0-ad8c-e82890793a90",
        "outputId": "2fa46f74-7c0e-4349-ef82-323d4085cd8e"
      },
      "outputs": [
        {
          "output_type": "stream",
          "name": "stdout",
          "text": [
            "True\n"
          ]
        }
      ],
      "source": [
        "print('K' in set3)"
      ]
    },
    {
      "cell_type": "code",
      "execution_count": 27,
      "id": "936904c8-3cbf-476a-9d58-9bfac5cb134a",
      "metadata": {
        "id": "936904c8-3cbf-476a-9d58-9bfac5cb134a"
      },
      "outputs": [],
      "source": [
        "set1 = set('We use khalil in all of our examples')\n",
        "set2 = set('Khalil is also in this example')"
      ]
    },
    {
      "cell_type": "code",
      "execution_count": 28,
      "id": "fce0a159-fedc-48f3-a560-ed4bbb00e057",
      "metadata": {
        "colab": {
          "base_uri": "https://localhost:8080/"
        },
        "id": "fce0a159-fedc-48f3-a560-ed4bbb00e057",
        "outputId": "979f9593-d314-4b76-ca32-a114376e42c6"
      },
      "outputs": [
        {
          "output_type": "stream",
          "name": "stdout",
          "text": [
            "{'a', 'o', 'i', 'l', 'u', 'r', 'n', 'W', 'k', 'f', 'e', 'x', 'p', ' ', 'm', 'h', 's'}\n",
            "{'a', 'o', 'i', 'l', 't', 'K', 'n', 'x', 'e', 'p', ' ', 'm', 'h', 's'}\n"
          ]
        }
      ],
      "source": [
        "print(set1)\n",
        "print(set2)"
      ]
    },
    {
      "cell_type": "code",
      "execution_count": 29,
      "id": "bb5e491e-b11a-42ab-bdb9-7a8539fcc318",
      "metadata": {
        "colab": {
          "base_uri": "https://localhost:8080/"
        },
        "id": "bb5e491e-b11a-42ab-bdb9-7a8539fcc318",
        "outputId": "95f1e11f-f7eb-4f30-fd1c-868ffab2fe52"
      },
      "outputs": [
        {
          "output_type": "stream",
          "name": "stdout",
          "text": [
            "{'n', 'e', 's', 'a', 'o', 'i', 'l', 't', 'u', 'r', 'K', 'W', 'k', 'f', 'x', 'p', ' ', 'm', 'h'}\n",
            "{'n', 'e', 's', 'a', 'o', 'i', 'l', 't', 'u', 'r', 'K', 'W', 'k', 'f', 'x', 'p', ' ', 'm', 'h'}\n"
          ]
        }
      ],
      "source": [
        "set3 = set1.union(set2)\n",
        "set4 = set1 | set2\n",
        "\n",
        "print(set3)\n",
        "print(set4)"
      ]
    },
    {
      "cell_type": "code",
      "execution_count": 30,
      "id": "f1e32872-3687-42be-94c2-ddc8ceb24e73",
      "metadata": {
        "colab": {
          "base_uri": "https://localhost:8080/"
        },
        "id": "f1e32872-3687-42be-94c2-ddc8ceb24e73",
        "outputId": "29c3f007-ac66-404d-9df0-1b307c0518cc"
      },
      "outputs": [
        {
          "output_type": "stream",
          "name": "stdout",
          "text": [
            "{'a', 'o', 'i', 'l', 'n', 'x', 'e', 'p', ' ', 'm', 'h', 's'}\n",
            "{'a', 'o', 'i', 'l', 'n', 'x', 'e', 'p', ' ', 'm', 'h', 's'}\n"
          ]
        }
      ],
      "source": [
        "set3 = set1.intersection(set2)\n",
        "set4 = set1 & set2\n",
        "print(set3)\n",
        "print(set4)\n"
      ]
    },
    {
      "cell_type": "code",
      "execution_count": 31,
      "id": "961b4b94-22d5-4e04-9aa8-8377c745d6fe",
      "metadata": {
        "colab": {
          "base_uri": "https://localhost:8080/"
        },
        "id": "961b4b94-22d5-4e04-9aa8-8377c745d6fe",
        "outputId": "62cc4cda-cf57-48f7-cb7b-bf5d6d24d413"
      },
      "outputs": [
        {
          "output_type": "stream",
          "name": "stdout",
          "text": [
            "{'u', 'r', 'W', 'k', 'f'}\n",
            "{'u', 'r', 'W', 'k', 'f'}\n"
          ]
        }
      ],
      "source": [
        "set3 = set1.difference(set2)\n",
        "set4 = set1 - set2\n",
        "print(set3)\n",
        "print(set4)"
      ]
    },
    {
      "cell_type": "code",
      "execution_count": 32,
      "id": "70d0fb30-c3f1-45da-b241-b4ec6a3eee9c",
      "metadata": {
        "colab": {
          "base_uri": "https://localhost:8080/"
        },
        "id": "70d0fb30-c3f1-45da-b241-b4ec6a3eee9c",
        "outputId": "db3b4c6a-7b6a-4eae-8962-e3f77295c8ac"
      },
      "outputs": [
        {
          "output_type": "stream",
          "name": "stdout",
          "text": [
            "{'t', 'u', 'K', 'r', 'W', 'k', 'f'}\n",
            "{'t', 'u', 'K', 'r', 'W', 'k', 'f'}\n"
          ]
        }
      ],
      "source": [
        "set3 = set1.symmetric_difference(set2)\n",
        "set4 = set1 ^ set2\n",
        "print(set3)\n",
        "print(set4)"
      ]
    },
    {
      "cell_type": "code",
      "execution_count": 33,
      "id": "15db07f9-c1bc-4cbd-8851-600302ba2ba0",
      "metadata": {
        "colab": {
          "base_uri": "https://localhost:8080/"
        },
        "id": "15db07f9-c1bc-4cbd-8851-600302ba2ba0",
        "outputId": "edc9e7fd-d31c-4622-b16b-67f6bdd7846a"
      },
      "outputs": [
        {
          "output_type": "stream",
          "name": "stdout",
          "text": [
            "False\n"
          ]
        }
      ],
      "source": [
        "print(set1.issubset(set2))"
      ]
    },
    {
      "cell_type": "code",
      "execution_count": 34,
      "id": "57860810-b598-4056-a151-c9958bd1ca03",
      "metadata": {
        "colab": {
          "base_uri": "https://localhost:8080/"
        },
        "id": "57860810-b598-4056-a151-c9958bd1ca03",
        "outputId": "709bb012-0a9c-41fe-85d3-c3a164f6fc90"
      },
      "outputs": [
        {
          "output_type": "stream",
          "name": "stdout",
          "text": [
            "True\n"
          ]
        }
      ],
      "source": [
        "setA = set('example')\n",
        "print(setA.issubset(set1))"
      ]
    },
    {
      "cell_type": "code",
      "execution_count": 35,
      "id": "5c09f199-6649-40a2-9a86-09006caf767a",
      "metadata": {
        "colab": {
          "base_uri": "https://localhost:8080/"
        },
        "id": "5c09f199-6649-40a2-9a86-09006caf767a",
        "outputId": "42e11180-25ce-442a-e358-6c5a8cb56fe1"
      },
      "outputs": [
        {
          "output_type": "stream",
          "name": "stdout",
          "text": [
            "True\n"
          ]
        }
      ],
      "source": [
        "print(set1.issuperset(setA))"
      ]
    },
    {
      "cell_type": "code",
      "execution_count": 36,
      "id": "1ed429e6-1d69-4591-b262-8b9dccf008fa",
      "metadata": {
        "colab": {
          "base_uri": "https://localhost:8080/"
        },
        "id": "1ed429e6-1d69-4591-b262-8b9dccf008fa",
        "outputId": "00cd2ae4-7c05-4ea3-95d2-a61436dac610"
      },
      "outputs": [
        {
          "output_type": "stream",
          "name": "stdout",
          "text": [
            "False\n"
          ]
        }
      ],
      "source": [
        "print(set1.issuperset(set2))"
      ]
    },
    {
      "cell_type": "code",
      "source": [
        "s = 'This is a SENTENCE'\n",
        "sets = set(s.lower())\n",
        "print(sets)"
      ],
      "metadata": {
        "colab": {
          "base_uri": "https://localhost:8080/"
        },
        "id": "bn3I9mimIztu",
        "outputId": "865d784b-3749-42b1-c300-ac497963477a"
      },
      "id": "bn3I9mimIztu",
      "execution_count": 37,
      "outputs": [
        {
          "output_type": "stream",
          "name": "stdout",
          "text": [
            "{'a', 'i', 't', 'c', 'n', 'e', ' ', 'h', 's'}\n"
          ]
        }
      ]
    },
    {
      "cell_type": "markdown",
      "source": [
        "# Example\n",
        "\n",
        "Write a program that reads the contents of two text files and compares them in the following ways:\n",
        "\n",
        "\n",
        "*   It should display a list of all the unique words contained in both files.\n",
        "*   It should display a list of the all words that are in both files.\n",
        "*   It should display a list of the words that appear in the first file but not the second.\n",
        "*   It should display a list of the words that appear in the second file but not the first.\n",
        "*   It should display a list of the words that appear in either the first or second file, but not both.\n",
        "\n",
        "\n",
        "\n",
        "\n",
        "\n",
        "\n",
        "\n",
        "\n",
        "\n",
        "\n",
        "\n"
      ],
      "metadata": {
        "id": "r2AXJTMg4JsK"
      },
      "id": "r2AXJTMg4JsK"
    },
    {
      "cell_type": "markdown",
      "source": [],
      "metadata": {
        "id": "H3b_1gmyK1fz"
      },
      "id": "H3b_1gmyK1fz"
    },
    {
      "cell_type": "code",
      "source": [
        "!git clone https://github.com/hamdanabdellatef/python.git\n",
        "%cd /content/python"
      ],
      "metadata": {
        "id": "M5rp4Oqu4OVL"
      },
      "id": "M5rp4Oqu4OVL",
      "execution_count": null,
      "outputs": []
    },
    {
      "cell_type": "code",
      "source": [
        "cf = open('C++.txt','r')\n",
        "c = cf.read().split(\" \")\n",
        "print(c)\n",
        "cf.close()\n",
        "setc = set(c)"
      ],
      "metadata": {
        "colab": {
          "base_uri": "https://localhost:8080/"
        },
        "id": "xq_Mu6emJa3h",
        "outputId": "bd76933b-823e-4cb2-b9af-8cdd1d68d09b"
      },
      "id": "xq_Mu6emJa3h",
      "execution_count": 38,
      "outputs": [
        {
          "output_type": "stream",
          "name": "stdout",
          "text": [
            "['C++', 'is', 'a', 'powerful', 'and', 'versatile', 'programming', 'language', 'that', 'builds', 'upon', 'the', 'foundation', 'of', 'the', 'C', 'programming', 'language.', 'It', 'was', 'developed', 'by', 'Bjarne', 'Stroustrup', 'in', 'the', 'early', '1980s', 'as', 'an', 'extension', 'of', 'C', 'and', 'is', 'often', 'referred', 'to', 'as', '\"C', 'with', 'classes.\"', 'C++', 'introduces', 'several', 'key', 'features', 'and', 'concepts', 'that', 'differentiate', 'it', 'from', 'C', 'while', 'retaining', 'compatibility', 'with', 'C', 'code.\\n\\nHere', 'are', 'some', 'of', 'the', 'fundamental', 'features', 'and', 'characteristics', 'of', 'C++:\\n\\n1.', '**Object-Oriented', 'Programming', '(OOP):**', 'C++', 'supports', 'object-oriented', 'programming,', 'allowing', 'developers', 'to', 'create', 'and', 'manipulate', 'objects.', 'This', 'paradigm', 'enables', 'code', 'organization', 'and', 'reusability', 'through', 'the', 'use', 'of', 'classes', 'and', 'objects.\\n\\n2.', '**Classes', 'and', 'Objects:**', 'In', 'C++,', 'classes', 'are', 'user-defined', 'data', 'types', 'that', 'encapsulate', 'data', '(attributes)', 'and', 'functions', '(methods)', 'that', 'operate', 'on', 'that', 'data.', 'Objects', 'are', 'instances', 'of', 'classes,', 'and', 'they', 'can', 'be', 'created', 'to', 'work', 'with', 'the', 'data', 'and', 'methods', 'defined', 'within', 'a', 'class.\\n\\n3.', '**Inheritance:**', 'C++', 'allows', 'for', 'the', 'creation', 'of', 'new', 'classes', '(derived', 'or', 'child', 'classes)', 'that', 'inherit', 'properties', 'and', 'behaviors', 'from', 'existing', 'classes', '(base', 'or', 'parent', 'classes).', 'Inheritance', 'promotes', 'code', 'reuse', 'and', 'the', 'creation', 'of', 'hierarchical', 'structures.\\n\\n4.', '**Polymorphism:**', 'Polymorphism', 'is', 'a', 'key', 'OOP', 'concept', 'that', 'C++', 'supports.', 'It', 'allows', 'objects', 'of', 'different', 'classes', 'to', 'be', 'treated', 'as', 'objects', 'of', 'a', 'common', 'base', 'class,', 'enabling', 'flexibility', 'and', 'dynamic', 'method', 'invocation.\\n\\n5.', '**Encapsulation:**', 'C++', 'supports', 'the', 'concept', 'of', 'encapsulation,', 'which', 'restricts', 'access', 'to', 'the', 'internal', 'details', 'of', 'an', 'object', 'or', 'class', 'and', 'provides', 'a', 'clean', 'interface', 'for', 'interacting', 'with', 'it.', 'This', 'enhances', 'code', 'security', 'and', 'maintainability.\\n\\n6.', '**Abstraction:**', 'Abstraction', 'allows', 'developers', 'to', 'represent', 'complex', 'systems', 'in', 'a', 'simplified', 'way.', 'C++', 'enables', 'the', 'creation', 'of', 'abstract', 'data', 'types', 'and', 'abstract', 'classes', 'to', 'achieve', 'this.\\n\\n7.', '**Templates:**', 'C++', 'features', 'templates', 'that', 'allow', 'for', 'the', 'creation', 'of', 'generic', 'classes', 'and', 'functions.', 'This', 'enables', 'the', 'development', 'of', 'data', 'structures', 'and', 'algorithms', 'that', 'work', 'with', 'different', 'data', 'types', 'while', 'maintaining', 'code', 'efficiency', 'and', 'type', 'safety.\\n\\n8.', '**Standard', 'Template', 'Library', '(STL):**', 'The', 'STL', 'is', 'a', 'powerful', 'part', 'of', 'C++', 'that', 'provides', 'a', 'collection', 'of', 'template', 'classes', 'and', 'functions', 'for', 'common', 'data', 'structures', '(e.g.,', 'vectors,', 'lists,', 'maps)', 'and', 'algorithms', '(e.g.,', 'sorting,', 'searching).', 'It', 'simplifies', 'the', 'development', 'process', 'and', 'promotes', 'code', 'reuse.\\n\\n9.', '**Low-Level', 'Memory', 'Manipulation:**', 'C++', 'allows', 'for', 'low-level', 'memory', 'management,', 'including', 'direct', 'memory', 'allocation', 'and', 'deallocation,', 'which', 'can', 'be', 'beneficial', 'in', 'systems', 'programming', 'and', 'hardware-related', 'tasks.\\n\\n10.', '**Multi-Paradigm:**', 'C++', 'is', 'a', 'multi-paradigm', 'language,', 'which', 'means', 'it', 'supports', 'not', 'only', 'OOP', 'but', 'also', 'procedural', 'and', 'generic', 'programming.', 'Developers', 'can', 'choose', 'the', 'most', 'suitable', 'approach', 'for', 'a', 'given', 'task.\\n\\nC++', 'is', 'widely', 'used', 'in', 'a', 'variety', 'of', 'applications,', 'including', 'system', 'software,', 'game', 'development,', 'embedded', 'systems,', 'real-time', 'applications,', 'and', 'high-performance', 'computing.', 'It', 'is', 'known', 'for', 'its', 'performance', 'and', 'flexibility,', 'making', 'it', 'a', 'popular', 'choice', 'for', 'projects', 'where', 'control', 'over', 'system', 'resources', 'and', 'efficient', 'execution', 'are', 'crucial.', 'However,', 'C++', 'can', 'also', 'be', 'complex', 'and', 'requires', 'a', 'good', 'understanding', 'of', 'its', 'features', 'and', 'best', 'practices', 'for', 'safe', 'and', 'effective', 'development.']\n"
          ]
        }
      ]
    },
    {
      "cell_type": "code",
      "source": [
        "print(setc)"
      ],
      "metadata": {
        "colab": {
          "base_uri": "https://localhost:8080/"
        },
        "id": "WfdDuKgCJmTP",
        "outputId": "d556bb1a-63f5-45c0-a431-cc5386022dba"
      },
      "id": "WfdDuKgCJmTP",
      "execution_count": 39,
      "outputs": [
        {
          "output_type": "stream",
          "name": "stdout",
          "text": [
            "{'Objects:**', 'interface', '**Multi-Paradigm:**', 'allows', 'best', 'C++,', 'code.\\n\\nHere', 'Stroustrup', 'builds', 'fundamental', 'common', 'a', 'several', 'most', 'achieve', 'retaining', 'complex', 'clean', 'upon', 'supports', '(methods)', 'C++:\\n\\n1.', 'resources', 'requires', 'Programming', 'simplified', 'structures', 'systems,', 'maintainability.\\n\\n6.', 'used', 'object', 'they', 'to', 'access', 'classes,', 'generic', 'differentiate', 'direct', 'process', 'deallocation,', '**Encapsulation:**', 'classes', 'can', 'STL', 'hardware-related', 'enhances', 'However,', 'with', 'key', 'This', '1980s', 'concepts', 'good', 'on', '(base', '(attributes)', 'paradigm', '**Low-Level', 'making', 'efficiency', 'Polymorphism', '\"C', 'classes.\"', 'programming', 'that', 'this.\\n\\n7.', '**Classes', 'different', 'interacting', 'OOP', 'not', 'but', 'suitable', 'early', '**Templates:**', 'foundation', 'concept', 'treated', 'simplifies', 'execution', 'or', 'high-performance', 'as', '(derived', 'compatibility', 'object-oriented', '**Object-Oriented', 'class,', 'from', 'code', 'language', 'vectors,', 'developed', 'safety.\\n\\n8.', 'Inheritance', 'method', 'base', 'existing', 'choice', 'often', '(OOP):**', 'Bjarne', 'objects.', 'user-defined', 'Manipulation:**', 'instances', 'hierarchical', 'programming.', 'development.', 'multi-paradigm', 'types', 'class', 'features', 'including', 'lists,', 'represent', 'powerful', 'Developers', 'which', 'its', 'Objects', 'also', 'known', 'where', 'restricts', 'functions', 'tasks.\\n\\n10.', 'objects', 'Template', 'Library', 'system', 'security', 'create', 'encapsulate', 'be', 'given', 'task.\\n\\nC++', 'new', 'It', 'are', 'memory', 'effective', 'understanding', 'computing.', 'promotes', 'inherit', 'type', 'part', 'safe', 'manipulate', 'the', 'allowing', 'game', 'searching).', 'abstract', 'through', 'flexibility', 'functions.', 'collection', 'classes)', 'properties', 'only', 'developers', 'for', 'efficient', 'internal', 'Memory', 'allocation', 'reuse.\\n\\n9.', 'referred', 'data', 'enabling', 'C', 'provides', 'template', 'practices', 'enables', 'dynamic', 'invocation.\\n\\n5.', 'data.', 'development,', 'widely', '**Inheritance:**', 'low-level', 'methods', 'development', 'choose', 'maintaining', '**Standard', 'control', 'versatile', 'within', 'objects.\\n\\n2.', 'language,', 'creation', 'structures.\\n\\n4.', 'and', 'performance', 'child', 'templates', 'approach', 'by', 'an', 'procedural', 'variety', 'extension', 'encapsulation,', 'real-time', 'crucial.', 'systems', 'C++', 'introduces', 'use', 'while', 'behaviors', 'sorting,', 'class.\\n\\n3.', 'The', 'maps)', 'of', 'popular', 'operate', 'programming,', 'it', 'way.', '(e.g.,', 'beneficial', 'reuse', 'means', 'some', '**Abstraction:**', 'it.', 'projects', 'In', 'flexibility,', 'created', 'characteristics', 'applications,', 'organization', '**Polymorphism:**', 'embedded', 'management,', 'over', 'details', 'allow', 'language.', 'is', 'reusability', 'in', 'Abstraction', 'parent', 'work', 'defined', 'was', 'classes).', '(STL):**', 'algorithms', 'software,', 'supports.'}\n"
          ]
        }
      ]
    },
    {
      "cell_type": "code",
      "execution_count": 40,
      "id": "20765454-73ab-4ccc-8fa0-c72e3afbf91d",
      "metadata": {
        "id": "20765454-73ab-4ccc-8fa0-c72e3afbf91d"
      },
      "outputs": [],
      "source": [
        "pf = open('python.txt','r')\n",
        "p = pf.read().split(\" \")\n",
        "pf.close()\n",
        "setp = set(p)"
      ]
    },
    {
      "cell_type": "code",
      "execution_count": null,
      "id": "c68e038d-aa0c-491b-be28-1b6aed90e9f1",
      "metadata": {
        "id": "c68e038d-aa0c-491b-be28-1b6aed90e9f1"
      },
      "outputs": [],
      "source": [
        "def display_set(set1):\n",
        "    for item in set1:\n",
        "        print(item)"
      ]
    },
    {
      "cell_type": "code",
      "source": [
        "def display_words_in_both_files(set1,set2):\n",
        "    set3 = set1.union(set2)\n",
        "    display_set(set3)\n",
        "\n",
        "set_in_both = display_words_in_both_files(setc,setp)"
      ],
      "metadata": {
        "colab": {
          "base_uri": "https://localhost:8080/"
        },
        "id": "ztaT1YHXK-Uf",
        "outputId": "73dc6412-07d3-4445-e88c-a28761b8c012"
      },
      "id": "ztaT1YHXK-Uf",
      "execution_count": 44,
      "outputs": [
        {
          "output_type": "stream",
          "name": "stdout",
          "text": [
            "readability,\n",
            "interface\n",
            "**Multi-Paradigm:**\n",
            "syntax\n",
            "(OOP),\n",
            "best\n",
            "macOS,\n",
            "reinvent\n",
            "remains\n",
            "available\n",
            "Stroustrup\n",
            "builds\n",
            "fundamental\n",
            "researchers\n",
            "simplicity,\n",
            "complex\n",
            "experienced\n",
            "upon\n",
            "(methods)\n",
            "C++:\n",
            "\n",
            "1.\n",
            "beyond.\n",
            "resources\n",
            "requires\n",
            "structures\n",
            "packages\n",
            "highly\n",
            "object\n",
            "they\n",
            "versatility,\n",
            "access\n",
            "Language:**\n",
            "classes,\n",
            "generic\n",
            "contributes\n",
            "engineers,\n",
            "differentiate\n",
            "deallocation,\n",
            "enhances\n",
            "However,\n",
            "with\n",
            "file\n",
            "key\n",
            "concepts\n",
            "on\n",
            "(attributes)\n",
            "paradigm\n",
            "standard\n",
            "**Low-Level\n",
            "making\n",
            "Polymorphism\n",
            "this.\n",
            "\n",
            "7.\n",
            "Library\n",
            "programming\n",
            "but\n",
            "users\n",
            "suitable\n",
            "interacting\n",
            "reusable\n",
            "such\n",
            "early\n",
            "concept\n",
            "makes\n",
            "or\n",
            "compatibility\n",
            "class,\n",
            "line,\n",
            "code\n",
            "Syntax:**\n",
            "vectors,\n",
            "use.\n",
            "\n",
            "In\n",
            "Inheritance\n",
            "base\n",
            "due\n",
            "user-defined\n",
            "Manipulation:**\n",
            "instances\n",
            "hierarchical\n",
            "programming.\n",
            "development.\n",
            "machine\n",
            "including\n",
            "lists,\n",
            "represent\n",
            "Developers\n",
            "has\n",
            "web\n",
            "which\n",
            "its\n",
            "Objects\n",
            "read\n",
            "beginners\n",
            "also\n",
            "need\n",
            "learning,\n",
            "restricts\n",
            "wide\n",
            "tasks.\n",
            "\n",
            "10.\n",
            "growth\n",
            "specify\n",
            "create\n",
            "be\n",
            "van\n",
            "effective\n",
            "memory\n",
            "software\n",
            "computing.\n",
            "promotes\n",
            "type\n",
            "part\n",
            "safe\n",
            "write,\n",
            "frameworks,\n",
            "manipulate\n",
            "the\n",
            "game\n",
            "first\n",
            "modify,\n",
            "searching).\n",
            "functions.\n",
            "collection\n",
            "gained\n",
            "classes)\n",
            "fields\n",
            "only\n",
            "for\n",
            "allocation\n",
            "reuse.\n",
            "\n",
            "9.\n",
            "tool\n",
            "include:\n",
            "\n",
            "1.\n",
            "data\n",
            "enabling\n",
            "easy\n",
            "Created\n",
            "extensive\n",
            "Django,\n",
            "dynamic\n",
            "invocation.\n",
            "\n",
            "5.\n",
            "widely\n",
            "**Inheritance:**\n",
            "Library:**\n",
            "methods\n",
            "choose\n",
            "**Standard\n",
            "lead\n",
            "flexible\n",
            "rapid\n",
            "language,\n",
            "reduces\n",
            "explicitly.\n",
            "artificial\n",
            "performance\n",
            "capabilities\n",
            "approach\n",
            "by\n",
            "an\n",
            "procedural\n",
            "variety\n",
            "extension\n",
            "encapsulation,\n",
            "crucial.\n",
            "(whitespace)\n",
            "don't\n",
            "high-level,\n",
            "C++\n",
            "extend\n",
            "frameworks.\n",
            "Flask,\n",
            "libraries\n",
            "strong\n",
            "use\n",
            "sorting,\n",
            "behaviors\n",
            "class.\n",
            "\n",
            "3.\n",
            "The\n",
            "maps)\n",
            "wheel,\n",
            "Typing:**\n",
            "comes\n",
            "community\n",
            "way.\n",
            "reuse\n",
            "variable\n",
            "means\n",
            "some\n",
            "it.\n",
            "projects\n",
            "flexibility,\n",
            "characteristics\n",
            "organization\n",
            "management,\n",
            "allow\n",
            "freely\n",
            "is\n",
            "vast\n",
            "alike.\n",
            "reusability\n",
            "range\n",
            "errors\n",
            "analysis,\n",
            "in\n",
            "Abstraction\n",
            "parent\n",
            "objects.\n",
            "\n",
            "7.\n",
            "work\n",
            "classes).\n",
            "modular\n",
            "(STL):**\n",
            "ideal\n",
            "software,\n",
            "There\n",
            "Objects:**\n",
            "purposes,\n",
            "allows\n",
            "development.\n",
            "\n",
            "3.\n",
            "open-source,\n",
            "C++,\n",
            "code.\n",
            "\n",
            "Here\n",
            "NumPy,\n",
            "**Dynamic\n",
            "library\n",
            "common\n",
            "effort.\n",
            "\n",
            "5.\n",
            "a\n",
            "several\n",
            "most\n",
            "achieve\n",
            "retaining\n",
            "continues\n",
            "**Cross-Platform\n",
            "defining\n",
            "coding\n",
            "Source:**\n",
            "clean\n",
            "supports\n",
            "typed,\n",
            "Python\n",
            "anyone\n",
            "readability.\n",
            "\n",
            "2.\n",
            "Windows,\n",
            "Programming\n",
            "simplified\n",
            "systems,\n",
            "maintainability.\n",
            "\n",
            "6.\n",
            "grow\n",
            "scientific\n",
            "**Large\n",
            "Python's\n",
            "to\n",
            "computing,\n",
            "direct\n",
            "process\n",
            "**Encapsulation:**\n",
            "tasks,\n",
            "classes\n",
            "can\n",
            "runtime\n",
            "STL\n",
            "hardware-related\n",
            "Expressive\n",
            "versatile,\n",
            "This\n",
            "emphasizes\n",
            "1980s\n",
            "good\n",
            "(base\n",
            "modules\n",
            "efficiency\n",
            "accessible\n",
            "\"C\n",
            "classes.\"\n",
            "used\n",
            "that\n",
            "Rossum\n",
            "**Classes\n",
            "different\n",
            "more.\n",
            "\n",
            "8.\n",
            "OOP\n",
            "not\n",
            "beyond.\n",
            "\n",
            "Key\n",
            "comprehensive\n",
            "**Templates:**\n",
            "foundation\n",
            "treated\n",
            "simplifies\n",
            "execution\n",
            "valuable\n",
            "high-performance\n",
            "if\n",
            "as\n",
            "(derived\n",
            "immense\n",
            "object-oriented\n",
            "**Object-Oriented\n",
            "versatility\n",
            "**Community\n",
            "from\n",
            "language\n",
            "executed\n",
            "technology\n",
            "intelligence,\n",
            "developed\n",
            "safety.\n",
            "\n",
            "8.\n",
            "method\n",
            "**Readable\n",
            "existing\n",
            "choice\n",
            "often\n",
            "(OOP):**\n",
            "code,\n",
            "Bjarne\n",
            "more\n",
            "objects.\n",
            "**Object-Oriented:**\n",
            "scripting.\n",
            "multi-paradigm\n",
            "developers.\n",
            "types\n",
            "class\n",
            "features\n",
            "various\n",
            "dynamically\n",
            "powerful\n",
            "manipulation\n",
            "supportive\n",
            "known\n",
            "where\n",
            "functions\n",
            "objects\n",
            "Template\n",
            "system\n",
            "security\n",
            "vibrant\n",
            "encapsulate\n",
            "given\n",
            "TensorFlow,\n",
            "task.\n",
            "\n",
            "C++\n",
            "new\n",
            "It\n",
            "are\n",
            "platforms,\n",
            "1991,\n",
            "use,\n",
            "understanding\n",
            "ease\n",
            "inherit\n",
            "interpreted\n",
            "allowing\n",
            "science,\n",
            "abstract\n",
            "through\n",
            "flexibility\n",
            "world\n",
            "properties\n",
            "scientists,\n",
            "developers\n",
            "efficient\n",
            "internal\n",
            "Standard\n",
            "Memory\n",
            "designed\n",
            "you\n",
            "referred\n",
            "provides\n",
            "practices\n",
            "C\n",
            "template\n",
            "enables\n",
            "data.\n",
            "development,\n",
            "commonly\n",
            "more.\n",
            "development.\n",
            "\n",
            "4.\n",
            "low-level\n",
            "development\n",
            "time\n",
            "maintaining\n",
            "control\n",
            "**Interpreted\n",
            "versatile\n",
            "within\n",
            "objects.\n",
            "\n",
            "2.\n",
            "creation\n",
            "structures.\n",
            "\n",
            "4.\n",
            "and\n",
            "child\n",
            "templates\n",
            "real-time\n",
            "distribute.\n",
            "\n",
            "Python\n",
            "carefully.\n",
            "\n",
            "6.\n",
            "structure\n",
            "Guido\n",
            "many\n",
            "systems\n",
            "summary,\n",
            "cross-platform\n",
            "Compatibility:**\n",
            "introduces\n",
            "while\n",
            "of\n",
            "popular\n",
            "operate\n",
            "programming,\n",
            "it\n",
            "beneficial\n",
            "(e.g.,\n",
            "ecosystem\n",
            "Ecosystem:**\n",
            "**Abstraction:**\n",
            "In\n",
            "saving\n",
            "created\n",
            "applications,\n",
            "**Open\n",
            "**Polymorphism:**\n",
            "embedded\n",
            "automation,\n",
            "over\n",
            "indentation\n",
            "third-party\n",
            "details\n",
            "language.\n",
            "popularity\n",
            "defined\n",
            "released\n",
            "line\n",
            "was\n",
            "distributions,\n",
            "algorithms\n",
            "Linux\n",
            "supports.\n"
          ]
        }
      ]
    },
    {
      "cell_type": "code",
      "source": [
        "def display_words_contained_in_both(set1,set2):\n",
        "    set3 = set1.intersection(set2)\n",
        "    display_set(set3)\n",
        "\n",
        "\n",
        "set_contained_in_both = display_words_contained_in_both(setc,setp)"
      ],
      "metadata": {
        "colab": {
          "base_uri": "https://localhost:8080/"
        },
        "id": "p6LZ9ZyXKNON",
        "outputId": "32a849be-6eee-47a4-a7bc-3d89534aef51"
      },
      "id": "p6LZ9ZyXKNON",
      "execution_count": 42,
      "outputs": [
        {
          "output_type": "stream",
          "name": "stdout",
          "text": [
            "known\n",
            "on\n",
            "by\n",
            "an\n",
            "making\n",
            "create\n",
            "be\n",
            "used\n",
            "but\n",
            "that\n",
            "suitable\n",
            "programming\n",
            "It\n",
            "not\n",
            "a\n",
            "use\n",
            "as\n",
            "the\n",
            "object-oriented\n",
            "supports\n",
            "of\n",
            "code\n",
            "from\n",
            "language\n",
            "it\n",
            "which\n",
            "means\n",
            "for\n",
            "choice\n",
            "developers\n",
            "applications,\n",
            "characteristics\n",
            "to\n",
            "data\n",
            "provides\n",
            "enabling\n",
            "is\n",
            "development.\n",
            "development,\n",
            "in\n",
            "types\n",
            "widely\n",
            "features\n",
            "including\n",
            "classes\n",
            "can\n",
            "development\n",
            "powerful\n",
            "enhances\n",
            "versatile\n",
            "with\n",
            "language,\n",
            "its\n",
            "This\n",
            "and\n",
            "also\n"
          ]
        }
      ]
    },
    {
      "cell_type": "code",
      "source": [
        "def display_words_in_first_file_but_not_in_second(set1,set2):\n",
        "    set3 = set1.difference(set2)\n",
        "    display_set(set3)"
      ],
      "metadata": {
        "id": "4Bd0ttFRLc_O"
      },
      "id": "4Bd0ttFRLc_O",
      "execution_count": 45,
      "outputs": []
    },
    {
      "cell_type": "code",
      "source": [
        "def display_words_in_second_file_but_not_in_first(set1,set2):\n",
        "    set3 = set2.difference(set1)\n",
        "    display_set(set3)"
      ],
      "metadata": {
        "id": "GjGt93f5LgrC"
      },
      "id": "GjGt93f5LgrC",
      "execution_count": 46,
      "outputs": []
    },
    {
      "cell_type": "code",
      "source": [
        "def display_words_that_appear_in_either_the_first_or_second_file_but_not_both(set1,set2):\n",
        "    set3 = set1.symmetric_difference(set2)\n",
        "    display_set(set3)"
      ],
      "metadata": {
        "id": "MtlLHVOOLmAZ"
      },
      "id": "MtlLHVOOLmAZ",
      "execution_count": 47,
      "outputs": []
    },
    {
      "cell_type": "code",
      "execution_count": 48,
      "id": "50d5357a-be10-42b6-a900-e77673e67af6",
      "metadata": {
        "colab": {
          "base_uri": "https://localhost:8080/",
          "height": 460
        },
        "id": "50d5357a-be10-42b6-a900-e77673e67af6",
        "outputId": "09210023-99cf-4886-e995-9a22726603b9"
      },
      "outputs": [
        {
          "output_type": "stream",
          "name": "stdout",
          "text": [
            "1. union\n",
            "2. set1 - set2\n",
            "3. set2 - set1\n",
            "4. similar difference\n",
            "5. Exit\n"
          ]
        },
        {
          "output_type": "error",
          "ename": "KeyboardInterrupt",
          "evalue": "Interrupted by user",
          "traceback": [
            "\u001b[0;31m---------------------------------------------------------------------------\u001b[0m",
            "\u001b[0;31mKeyboardInterrupt\u001b[0m                         Traceback (most recent call last)",
            "\u001b[0;32m<ipython-input-48-1ef26bd071d0>\u001b[0m in \u001b[0;36m<cell line: 2>\u001b[0;34m()\u001b[0m\n\u001b[1;32m      6\u001b[0m     \u001b[0mprint\u001b[0m\u001b[0;34m(\u001b[0m\u001b[0;34m\"4. similar difference\"\u001b[0m\u001b[0;34m)\u001b[0m\u001b[0;34m\u001b[0m\u001b[0;34m\u001b[0m\u001b[0m\n\u001b[1;32m      7\u001b[0m     \u001b[0mprint\u001b[0m\u001b[0;34m(\u001b[0m\u001b[0;34m\"5. Exit\"\u001b[0m\u001b[0;34m)\u001b[0m\u001b[0;34m\u001b[0m\u001b[0;34m\u001b[0m\u001b[0m\n\u001b[0;32m----> 8\u001b[0;31m     \u001b[0mcond\u001b[0m \u001b[0;34m=\u001b[0m \u001b[0mint\u001b[0m\u001b[0;34m(\u001b[0m\u001b[0minput\u001b[0m\u001b[0;34m(\u001b[0m\u001b[0;34m\"Enter your choice :\"\u001b[0m\u001b[0;34m)\u001b[0m\u001b[0;34m)\u001b[0m\u001b[0;34m\u001b[0m\u001b[0;34m\u001b[0m\u001b[0m\n\u001b[0m\u001b[1;32m      9\u001b[0m     \u001b[0;32mif\u001b[0m \u001b[0mcond\u001b[0m \u001b[0;34m==\u001b[0m\u001b[0;36m1\u001b[0m\u001b[0;34m:\u001b[0m\u001b[0;34m\u001b[0m\u001b[0;34m\u001b[0m\u001b[0m\n\u001b[1;32m     10\u001b[0m         \u001b[0mset3\u001b[0m \u001b[0;34m=\u001b[0m \u001b[0msetc\u001b[0m\u001b[0;34m.\u001b[0m\u001b[0munion\u001b[0m\u001b[0;34m(\u001b[0m\u001b[0msetp\u001b[0m\u001b[0;34m)\u001b[0m\u001b[0;34m\u001b[0m\u001b[0;34m\u001b[0m\u001b[0m\n",
            "\u001b[0;32m/usr/local/lib/python3.10/dist-packages/ipykernel/kernelbase.py\u001b[0m in \u001b[0;36mraw_input\u001b[0;34m(self, prompt)\u001b[0m\n\u001b[1;32m    849\u001b[0m                 \u001b[0;34m\"raw_input was called, but this frontend does not support input requests.\"\u001b[0m\u001b[0;34m\u001b[0m\u001b[0;34m\u001b[0m\u001b[0m\n\u001b[1;32m    850\u001b[0m             )\n\u001b[0;32m--> 851\u001b[0;31m         return self._input_request(str(prompt),\n\u001b[0m\u001b[1;32m    852\u001b[0m             \u001b[0mself\u001b[0m\u001b[0;34m.\u001b[0m\u001b[0m_parent_ident\u001b[0m\u001b[0;34m,\u001b[0m\u001b[0;34m\u001b[0m\u001b[0;34m\u001b[0m\u001b[0m\n\u001b[1;32m    853\u001b[0m             \u001b[0mself\u001b[0m\u001b[0;34m.\u001b[0m\u001b[0m_parent_header\u001b[0m\u001b[0;34m,\u001b[0m\u001b[0;34m\u001b[0m\u001b[0;34m\u001b[0m\u001b[0m\n",
            "\u001b[0;32m/usr/local/lib/python3.10/dist-packages/ipykernel/kernelbase.py\u001b[0m in \u001b[0;36m_input_request\u001b[0;34m(self, prompt, ident, parent, password)\u001b[0m\n\u001b[1;32m    893\u001b[0m             \u001b[0;32mexcept\u001b[0m \u001b[0mKeyboardInterrupt\u001b[0m\u001b[0;34m:\u001b[0m\u001b[0;34m\u001b[0m\u001b[0;34m\u001b[0m\u001b[0m\n\u001b[1;32m    894\u001b[0m                 \u001b[0;31m# re-raise KeyboardInterrupt, to truncate traceback\u001b[0m\u001b[0;34m\u001b[0m\u001b[0;34m\u001b[0m\u001b[0m\n\u001b[0;32m--> 895\u001b[0;31m                 \u001b[0;32mraise\u001b[0m \u001b[0mKeyboardInterrupt\u001b[0m\u001b[0;34m(\u001b[0m\u001b[0;34m\"Interrupted by user\"\u001b[0m\u001b[0;34m)\u001b[0m \u001b[0;32mfrom\u001b[0m \u001b[0;32mNone\u001b[0m\u001b[0;34m\u001b[0m\u001b[0;34m\u001b[0m\u001b[0m\n\u001b[0m\u001b[1;32m    896\u001b[0m             \u001b[0;32mexcept\u001b[0m \u001b[0mException\u001b[0m \u001b[0;32mas\u001b[0m \u001b[0me\u001b[0m\u001b[0;34m:\u001b[0m\u001b[0;34m\u001b[0m\u001b[0;34m\u001b[0m\u001b[0m\n\u001b[1;32m    897\u001b[0m                 \u001b[0mself\u001b[0m\u001b[0;34m.\u001b[0m\u001b[0mlog\u001b[0m\u001b[0;34m.\u001b[0m\u001b[0mwarning\u001b[0m\u001b[0;34m(\u001b[0m\u001b[0;34m\"Invalid Message:\"\u001b[0m\u001b[0;34m,\u001b[0m \u001b[0mexc_info\u001b[0m\u001b[0;34m=\u001b[0m\u001b[0;32mTrue\u001b[0m\u001b[0;34m)\u001b[0m\u001b[0;34m\u001b[0m\u001b[0;34m\u001b[0m\u001b[0m\n",
            "\u001b[0;31mKeyboardInterrupt\u001b[0m: Interrupted by user"
          ]
        }
      ],
      "source": [
        "cond = 1\n",
        "while cond !=5:\n",
        "    print(\"1. union\")\n",
        "    print(\"2. set1 - set2\")\n",
        "    print(\"3. set2 - set1\")\n",
        "    print(\"4. similar difference\")\n",
        "    print(\"5. Exit\")\n",
        "    cond = int(input(\"Enter your choice :\"))\n",
        "    if cond ==1:\n",
        "        set3 = setc.union(setp)\n",
        "        display_set(set3)\n",
        "    elif cond ==2:\n",
        "        set3 = setc.difference(setp)\n",
        "        display_set(set3)\n",
        "    elif cond ==3:\n",
        "        set3 = setp.difference(setc)\n",
        "        display_set(set3)"
      ]
    },
    {
      "cell_type": "code",
      "execution_count": null,
      "id": "e2048cf2-ee35-4582-b88e-434d17613366",
      "metadata": {
        "id": "e2048cf2-ee35-4582-b88e-434d17613366"
      },
      "outputs": [],
      "source": [
        "dc = dict.fromkeys(setc,[])\n",
        "print(dc)"
      ]
    },
    {
      "cell_type": "code",
      "execution_count": null,
      "id": "66e77986-fbd7-4726-a6f8-2ae6371fa74b",
      "metadata": {
        "id": "66e77986-fbd7-4726-a6f8-2ae6371fa74b"
      },
      "outputs": [],
      "source": [
        "cf = open('ex.txt','r')\n",
        "words = cf.read().split(\" \")\n",
        "cf.close()\n",
        "cf = open('ex.txt','r')\n",
        "c = cf.readlines()\n",
        "\n",
        "print(c)\n",
        "cf.close()\n",
        "setc = set(words)\n",
        "print(setc)\n",
        "dc = {}\n",
        "line = 1\n",
        "for i in c:\n",
        "    for word in i.split(\" \"):\n",
        "        if word in dc:\n",
        "            dc[word].add(line)\n",
        "        else:\n",
        "            dc[word] = set([line])\n",
        "\n",
        "    line+=1\n",
        "\n",
        "\n",
        "print(dc)"
      ]
    },
    {
      "cell_type": "code",
      "execution_count": null,
      "id": "d4547d35-8b02-4781-ae35-f36b8800291c",
      "metadata": {
        "id": "d4547d35-8b02-4781-ae35-f36b8800291c"
      },
      "outputs": [],
      "source": []
    }
  ],
  "metadata": {
    "kernelspec": {
      "display_name": "Python 3 (ipykernel)",
      "language": "python",
      "name": "python3"
    },
    "language_info": {
      "codemirror_mode": {
        "name": "ipython",
        "version": 3
      },
      "file_extension": ".py",
      "mimetype": "text/x-python",
      "name": "python",
      "nbconvert_exporter": "python",
      "pygments_lexer": "ipython3",
      "version": "3.11.5"
    },
    "colab": {
      "provenance": [],
      "include_colab_link": true
    }
  },
  "nbformat": 4,
  "nbformat_minor": 5
}