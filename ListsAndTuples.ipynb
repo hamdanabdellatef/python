{
  "cells": [
    {
      "cell_type": "markdown",
      "metadata": {
        "id": "view-in-github",
        "colab_type": "text"
      },
      "source": [
        "<a href=\"https://colab.research.google.com/github/hamdanabdellatef/python/blob/main/ListsAndTuples.ipynb\" target=\"_parent\"><img src=\"https://colab.research.google.com/assets/colab-badge.svg\" alt=\"Open In Colab\"/></a>"
      ]
    },
    {
      "cell_type": "code",
      "source": [
        "even_number = [2,4,6,8]\n",
        "\n",
        "days_of_week = [ \"Monday\", \"Tuesday\", \"Wednesday\", \"Thursday\", \"Friday\", \"Saturday\",\"Sunday\"]\n",
        "\n",
        "info = ['Khalil', 5, 4.2, True]\n",
        "\n",
        "print(even_number)\n",
        "print(days_of_week)\n",
        "print(info)"
      ],
      "metadata": {
        "colab": {
          "base_uri": "https://localhost:8080/"
        },
        "id": "QjvT-hVcvRpD",
        "outputId": "23ffdb01-d90b-4c14-9b30-2a2bfb984059"
      },
      "id": "QjvT-hVcvRpD",
      "execution_count": 8,
      "outputs": [
        {
          "output_type": "stream",
          "name": "stdout",
          "text": [
            "[2, 4, 6, 8]\n",
            "['Monday', 'Tuesday', 'Wednesday', 'Thursday', 'Friday', 'Saturday', 'Sunday']\n",
            "['Khalil', 5, 4.2, True]\n"
          ]
        }
      ]
    },
    {
      "cell_type": "code",
      "source": [
        "print(even_number * 2)"
      ],
      "metadata": {
        "colab": {
          "base_uri": "https://localhost:8080/"
        },
        "id": "cLYWkQcaJ1EX",
        "outputId": "a22c9769-5178-4898-bd0a-9241ee78a82a"
      },
      "id": "cLYWkQcaJ1EX",
      "execution_count": 2,
      "outputs": [
        {
          "output_type": "stream",
          "name": "stdout",
          "text": [
            "[2, 4, 6, 8, 2, 4, 6, 8]\n"
          ]
        }
      ]
    },
    {
      "cell_type": "code",
      "source": [
        "print(even_number + days_of_week)"
      ],
      "metadata": {
        "colab": {
          "base_uri": "https://localhost:8080/"
        },
        "id": "09t8oiTbJ__Q",
        "outputId": "a1096b32-8c2a-455d-e2ce-0d4ad14d367a"
      },
      "id": "09t8oiTbJ__Q",
      "execution_count": 3,
      "outputs": [
        {
          "output_type": "stream",
          "name": "stdout",
          "text": [
            "[2, 4, 6, 8, 'Sunday', 'Monday', 'Tuesday', 'Wednesday', 'Thursday', 'Friday', 'Saturday']\n"
          ]
        }
      ]
    },
    {
      "cell_type": "code",
      "source": [
        "print(days_of_week[3])"
      ],
      "metadata": {
        "colab": {
          "base_uri": "https://localhost:8080/"
        },
        "id": "P9Yt4AwiNNjq",
        "outputId": "6a31f387-a4fe-4f05-ef11-b73b35b56f79"
      },
      "id": "P9Yt4AwiNNjq",
      "execution_count": 10,
      "outputs": [
        {
          "output_type": "stream",
          "name": "stdout",
          "text": [
            "Thursday\n"
          ]
        }
      ]
    },
    {
      "cell_type": "code",
      "source": [
        "print(info)"
      ],
      "metadata": {
        "colab": {
          "base_uri": "https://localhost:8080/"
        },
        "id": "ixTlTyrkNxt7",
        "outputId": "b6f08365-286d-4a29-a1f5-2f862d0303b5"
      },
      "id": "ixTlTyrkNxt7",
      "execution_count": 11,
      "outputs": [
        {
          "output_type": "stream",
          "name": "stdout",
          "text": [
            "['Khalil', 5, 4.2, True]\n"
          ]
        }
      ]
    },
    {
      "cell_type": "code",
      "source": [
        "info[2] = 4.5\n",
        "print(info)"
      ],
      "metadata": {
        "colab": {
          "base_uri": "https://localhost:8080/"
        },
        "id": "P_MAifUrN7vT",
        "outputId": "671a0404-3ce8-4741-f133-38cbe99aa17a"
      },
      "id": "P_MAifUrN7vT",
      "execution_count": 12,
      "outputs": [
        {
          "output_type": "stream",
          "name": "stdout",
          "text": [
            "['Khalil', 5, 4.5, True]\n"
          ]
        }
      ]
    },
    {
      "cell_type": "code",
      "source": [
        "info[-1] = 'OK'\n",
        "print(info)"
      ],
      "metadata": {
        "colab": {
          "base_uri": "https://localhost:8080/"
        },
        "id": "PLUzb0VoORVH",
        "outputId": "6ad2e195-b109-4acf-c80d-147e50a6d106"
      },
      "id": "PLUzb0VoORVH",
      "execution_count": 13,
      "outputs": [
        {
          "output_type": "stream",
          "name": "stdout",
          "text": [
            "['Khalil', 5, 4.5, 'OK']\n"
          ]
        }
      ]
    },
    {
      "cell_type": "code",
      "source": [
        "name = info[0]\n",
        "print(name)"
      ],
      "metadata": {
        "colab": {
          "base_uri": "https://localhost:8080/"
        },
        "id": "jgZpiyR2OmXs",
        "outputId": "b0a740a2-db7b-4461-f02c-bd58561db7cf"
      },
      "id": "jgZpiyR2OmXs",
      "execution_count": 14,
      "outputs": [
        {
          "output_type": "stream",
          "name": "stdout",
          "text": [
            "Khalil\n"
          ]
        }
      ]
    },
    {
      "cell_type": "code",
      "source": [
        "print(len(days_of_week))"
      ],
      "metadata": {
        "colab": {
          "base_uri": "https://localhost:8080/"
        },
        "id": "fzSuCzRTO4YW",
        "outputId": "18fa8998-3f8c-41b8-820d-7221576c5697"
      },
      "id": "fzSuCzRTO4YW",
      "execution_count": 15,
      "outputs": [
        {
          "output_type": "stream",
          "name": "stdout",
          "text": [
            "7\n"
          ]
        }
      ]
    },
    {
      "cell_type": "code",
      "source": [
        "even_number = [0,2,4,6,8]\n",
        "for x in range(0,len(even_number)):\n",
        "    even_number[x] += 1\n",
        "print(even_number)\n",
        ""
      ],
      "metadata": {
        "colab": {
          "base_uri": "https://localhost:8080/"
        },
        "id": "IVQjoQNwPEN2",
        "outputId": "0325be7e-d170-4dde-9258-21edf240049f"
      },
      "id": "IVQjoQNwPEN2",
      "execution_count": 19,
      "outputs": [
        {
          "output_type": "stream",
          "name": "stdout",
          "text": [
            "[1, 3, 5, 7, 9]\n"
          ]
        }
      ]
    },
    {
      "cell_type": "code",
      "source": [
        "days_of_week = [ \"Monday\", \"Tuesday\", \"Wednesday\", \"Thursday\", \"Friday\", \"Saturday\",\"Sunday\"]\n",
        "print(days_of_week[0:3])"
      ],
      "metadata": {
        "colab": {
          "base_uri": "https://localhost:8080/"
        },
        "id": "mjfyyqHuQYrF",
        "outputId": "8480d1cd-78e6-4b1e-ce88-0d9431b8e475"
      },
      "id": "mjfyyqHuQYrF",
      "execution_count": 20,
      "outputs": [
        {
          "output_type": "stream",
          "name": "stdout",
          "text": [
            "['Monday', 'Tuesday', 'Wednesday']\n"
          ]
        }
      ]
    },
    {
      "cell_type": "code",
      "source": [
        "working_days = days_of_week[:5]\n",
        "print(working_days)"
      ],
      "metadata": {
        "colab": {
          "base_uri": "https://localhost:8080/"
        },
        "id": "f-wEOU1HQrHJ",
        "outputId": "d1a45635-51f4-43ef-a9bd-635b84e5cfac"
      },
      "id": "f-wEOU1HQrHJ",
      "execution_count": 22,
      "outputs": [
        {
          "output_type": "stream",
          "name": "stdout",
          "text": [
            "['Monday', 'Tuesday', 'Wednesday', 'Thursday', 'Friday']\n"
          ]
        }
      ]
    },
    {
      "cell_type": "code",
      "source": [
        "weekend_days = days_of_week[-2:]\n",
        "print(weekend_days)"
      ],
      "metadata": {
        "colab": {
          "base_uri": "https://localhost:8080/"
        },
        "id": "E_l5-3DxRCQi",
        "outputId": "e9ace862-b322-48fa-c330-82090b66b1ce"
      },
      "id": "E_l5-3DxRCQi",
      "execution_count": 25,
      "outputs": [
        {
          "output_type": "stream",
          "name": "stdout",
          "text": [
            "['Saturday', 'Sunday']\n"
          ]
        }
      ]
    },
    {
      "cell_type": "code",
      "execution_count": 4,
      "id": "45ed44a8-59b0-413e-a5cb-a31f07274053",
      "metadata": {
        "colab": {
          "base_uri": "https://localhost:8080/"
        },
        "id": "45ed44a8-59b0-413e-a5cb-a31f07274053",
        "outputId": "836d4b11-b9b3-423c-99fc-49d63b81e08d"
      },
      "outputs": [
        {
          "output_type": "stream",
          "name": "stdout",
          "text": [
            "add  1  to sum\n",
            "add  2  to sum\n",
            "add  3  to sum\n",
            "add  4  to sum\n",
            "add  10  to sum\n",
            "add  11  to sum\n",
            "add  12  to sum\n",
            "add  13  to sum\n",
            "The sum of elements is 56\n"
          ]
        }
      ],
      "source": [
        "numbers = [1,2,3,4,10,11,12,13]\n",
        "sum = 0\n",
        "for x in numbers:\n",
        "    print('add ', x, ' to sum')\n",
        "    sum += x\n",
        "print('The sum of elements is',sum)"
      ]
    },
    {
      "cell_type": "code",
      "execution_count": 6,
      "id": "09424288-705f-44dc-aca5-6995c0fc10db",
      "metadata": {
        "colab": {
          "base_uri": "https://localhost:8080/"
        },
        "id": "09424288-705f-44dc-aca5-6995c0fc10db",
        "outputId": "add6fc97-a4b8-4f5d-f5d2-b3ee0ec26480"
      },
      "outputs": [
        {
          "output_type": "stream",
          "name": "stdout",
          "text": [
            "Enter a nameAli\n",
            "The name exists in the list\n"
          ]
        }
      ],
      "source": [
        "names = [\"Ahmad\", \"Ali\", \"Salem\"]\n",
        "x = input(\"Enter a name\")\n",
        "if x in names:\n",
        "    print(\"The name exists in the list\")\n",
        "else:\n",
        "    print(\"The name is not in the list\")\n"
      ]
    },
    {
      "cell_type": "code",
      "execution_count": null,
      "id": "6941f237-cfa9-46d4-baed-795b48e72f7f",
      "metadata": {
        "id": "6941f237-cfa9-46d4-baed-795b48e72f7f",
        "outputId": "e9658f36-c9c3-433b-d36a-7799ff7fcb41"
      },
      "outputs": [
        {
          "name": "stdout",
          "output_type": "stream",
          "text": [
            "See you soon!Over and out.See you soon!Over and out.See you soon!\n",
            "Over and out.\n",
            "See you soon!\n",
            "Over and out.\n",
            "\n"
          ]
        }
      ],
      "source": [
        "f = open(\"demofile3.txt\", \"a\")\n",
        "f.writelines([\"See you soon!\", \"\\n\", \"Over and out.\",\"\\n\"])\n",
        "f.close()\n",
        "\n",
        "#open and read the file after the appending:\n",
        "f = open(\"demofile3.txt\", \"r\")\n",
        "print(f.read())\n"
      ]
    },
    {
      "cell_type": "code",
      "execution_count": null,
      "id": "bba59bb5-a6c4-46bc-ac89-2ed271396900",
      "metadata": {
        "id": "bba59bb5-a6c4-46bc-ac89-2ed271396900",
        "outputId": "499c9730-9ad1-45a4-ca61-3a1897ad474e"
      },
      "outputs": [
        {
          "name": "stdout",
          "output_type": "stream",
          "text": [
            "['Ahmad', 'Ali', 'Salem', 'Samer']\n",
            "1\n",
            "None\n",
            "['Ahmad', 'Ali', 'Mohd', 'Salem', 'Samer']\n"
          ]
        }
      ],
      "source": [
        "names.append(\"Samer\")\n",
        "print(names)\n",
        "print(names.index('Ali'))\n",
        "print(names.insert(2,'Mohd'))\n",
        "print(names)"
      ]
    },
    {
      "cell_type": "code",
      "execution_count": null,
      "id": "1c797f47-a543-49b6-b85f-e9c7291f5f32",
      "metadata": {
        "id": "1c797f47-a543-49b6-b85f-e9c7291f5f32",
        "outputId": "2e7ed1f4-e5b1-4a0a-9c31-b02a482f600a"
      },
      "outputs": [
        {
          "name": "stdout",
          "output_type": "stream",
          "text": [
            "['Salem', 'Mohd', 'Ali', 'Ahmad']\n"
          ]
        }
      ],
      "source": [
        "names.remove('Samer')\n",
        "names.reverse()\n",
        "print(names)"
      ]
    },
    {
      "cell_type": "code",
      "execution_count": null,
      "id": "6a31d969-12f1-487d-8bcd-57186fd1d5e6",
      "metadata": {
        "id": "6a31d969-12f1-487d-8bcd-57186fd1d5e6",
        "outputId": "8cf0607d-307e-4e67-e052-232f4f31db34"
      },
      "outputs": [
        {
          "name": "stdout",
          "output_type": "stream",
          "text": [
            "12\n"
          ]
        }
      ],
      "source": [
        "num = [1,5,6,8,12,0,6]\n",
        "mx = max(num)\n",
        "print(mx)"
      ]
    },
    {
      "cell_type": "code",
      "execution_count": null,
      "id": "2eb06870-9a26-4a8c-98e6-cc2af6ae4a09",
      "metadata": {
        "id": "2eb06870-9a26-4a8c-98e6-cc2af6ae4a09",
        "outputId": "81a9dd4d-e16f-4eef-d51a-fd911d27a58e"
      },
      "outputs": [
        {
          "name": "stdout",
          "output_type": "stream",
          "text": [
            "[1, 5, 6, 8, 12, 0, 6, 100]\n"
          ]
        }
      ],
      "source": [
        "num2 = num\n",
        "num.append(100)\n",
        "print(num2)"
      ]
    },
    {
      "cell_type": "code",
      "execution_count": null,
      "id": "bd098645-39e9-444f-b86d-6dda34fa5453",
      "metadata": {
        "id": "bd098645-39e9-444f-b86d-6dda34fa5453",
        "outputId": "deb4788b-39bc-49f4-9fc8-30448286a940"
      },
      "outputs": [
        {
          "name": "stdout",
          "output_type": "stream",
          "text": [
            "[1, 5, 6, 8, 12, 0, 6, 100]\n"
          ]
        }
      ],
      "source": [
        "num2 = num.copy()\n",
        "num.append(90)\n",
        "print(num2)"
      ]
    },
    {
      "cell_type": "code",
      "execution_count": null,
      "id": "0c8edc84-9acf-4190-af32-070f17f00784",
      "metadata": {
        "id": "0c8edc84-9acf-4190-af32-070f17f00784",
        "outputId": "113cd2ff-ac8a-4064-c8f9-aa7bb53f6401"
      },
      "outputs": [
        {
          "name": "stdout",
          "output_type": "stream",
          "text": [
            "[90, 100, 6, 0, 12, 8, 6, 5, 1]\n",
            "[1, 5, 6, 8, 12, 0, 6, 100, 90]\n"
          ]
        }
      ],
      "source": [
        "num3 = [] + num\n",
        "num.reverse()\n",
        "print(num)\n",
        "print(num3)"
      ]
    },
    {
      "cell_type": "code",
      "execution_count": null,
      "id": "f099053e-5309-4340-b737-c4552bf333f2",
      "metadata": {
        "id": "f099053e-5309-4340-b737-c4552bf333f2",
        "outputId": "3c06a174-9939-4a87-c85c-fb6713aa59b5"
      },
      "outputs": [
        {
          "name": "stdout",
          "output_type": "stream",
          "text": [
            "[90, 100, 100, 6, 0, 12, 8, 6, 5, 1]\n"
          ]
        }
      ],
      "source": [
        "num4 = []\n",
        "for i in num:\n",
        "    num4.append(i)\n",
        "\n",
        "print(num4)"
      ]
    },
    {
      "cell_type": "code",
      "execution_count": null,
      "id": "02f7778e-5368-4cd1-b6da-e23c6721ba31",
      "metadata": {
        "id": "02f7778e-5368-4cd1-b6da-e23c6721ba31",
        "outputId": "ff93f3ac-c6a8-4c80-da34-22993a4971c2"
      },
      "outputs": [
        {
          "data": {
            "text/plain": [
              "['Salem', 'Mohd', 'Ali', 'Ahmad']"
            ]
          },
          "execution_count": 50,
          "metadata": {},
          "output_type": "execute_result"
        }
      ],
      "source": [
        "names"
      ]
    },
    {
      "cell_type": "code",
      "execution_count": null,
      "id": "ea41d092-4dea-405e-b2eb-768b702ee550",
      "metadata": {
        "id": "ea41d092-4dea-405e-b2eb-768b702ee550",
        "outputId": "31816c13-2431-4913-a45e-4ec729edca12"
      },
      "outputs": [
        {
          "name": "stdout",
          "output_type": "stream",
          "text": [
            "Salem\n",
            "Mohd\n",
            "Ali\n",
            "Ahmad\n",
            "\n"
          ]
        }
      ],
      "source": [
        "f = open(\"test.txt\",'w')\n",
        "for name in names:\n",
        "    f.writelines([name, '\\n'])\n",
        "f.close()\n",
        "\n",
        "f = open(\"test.txt\",'r')\n",
        "print(f.read())\n",
        "f.close()\n",
        "\n",
        ""
      ]
    },
    {
      "cell_type": "code",
      "execution_count": null,
      "id": "e31a4abb-1f92-4bb9-9fd2-bceb96fe10fd",
      "metadata": {
        "id": "e31a4abb-1f92-4bb9-9fd2-bceb96fe10fd"
      },
      "outputs": [],
      "source": [
        "location = (33.89311, 35.47782)\n",
        "\n",
        "(lat, lon) = location\n",
        "print(lat)\n",
        "print(location[0])\n",
        "print(lon)\n",
        "print(location[1])"
      ]
    },
    {
      "cell_type": "code",
      "execution_count": null,
      "id": "dcf9cf2e-61fa-4475-b3d1-44bf12af5c90",
      "metadata": {
        "id": "dcf9cf2e-61fa-4475-b3d1-44bf12af5c90",
        "outputId": "8b200598-fde0-47bc-d83a-4fec1357ae6d"
      },
      "outputs": [
        {
          "name": "stdout",
          "output_type": "stream",
          "text": [
            "L after modifying the first element of L2: [1, [3, 6], 10]\n",
            "L after modifying the mutable object in L2: [1, ['X', 6], 10]\n",
            "L2 after both modifications: ['0', ['X', 6], 10]\n"
          ]
        }
      ],
      "source": [
        "L = [1, [3,6], 10]\n",
        "L2 = L.copy()\n",
        "\n",
        "L2[0] = \"0\"\n",
        "print(\"L after modifying the first element of L2:\", L)\n",
        "\n",
        "L2[1][0] = \"X\"\n",
        "print(\"L after modifying the mutable object in L2:\", L)\n",
        "print(\"L2 after both modifications:\", L2)"
      ]
    },
    {
      "cell_type": "code",
      "execution_count": null,
      "id": "4b715cdb-dccc-4852-9a54-42d6f425188c",
      "metadata": {
        "id": "4b715cdb-dccc-4852-9a54-42d6f425188c",
        "outputId": "80b399a9-29e2-48b0-be85-49d3b7c86a31"
      },
      "outputs": [
        {
          "name": "stdout",
          "output_type": "stream",
          "text": [
            "L after modifying the first element of L2: [1, [3, 6], 10]\n",
            "L after modifying the mutable object in L2: [1, [3, 6], 10]\n",
            "L2 after both modifications: ['0', ['X', 6], 10]\n"
          ]
        }
      ],
      "source": [
        "from copy import deepcopy\n",
        "\n",
        "L = [1, [3,6], 10]\n",
        "L2 = deepcopy(L)\n",
        "L2[0] = \"0\"\n",
        "print(\"L after modifying the first element of L2:\", L)\n",
        "L2[1][0] = \"X\"\n",
        "print(\"L after modifying the mutable object in L2:\", L)\n",
        "print(\"L2 after both modifications:\", L2)"
      ]
    },
    {
      "cell_type": "code",
      "execution_count": null,
      "id": "853dae98-fe44-4127-8005-a76a0dec120a",
      "metadata": {
        "id": "853dae98-fe44-4127-8005-a76a0dec120a",
        "outputId": "e029728f-95be-44f5-c018-a59587aeed95"
      },
      "outputs": [
        {
          "name": "stdout",
          "output_type": "stream",
          "text": [
            "10 -8 1 -2.2 3.0 \n",
            "10 -8 1 -2.2 3.0 "
          ]
        }
      ],
      "source": [
        "L = [10, -8, 1, -2.2, 3.0] # L is a sequence\n",
        "\n",
        "for i in range(len(L)):\n",
        "    print(L[i], end=\" \")\n",
        "\n",
        "print(\"\\n\", end=\"\")\n",
        "\n",
        "for x in L:\n",
        "    print(x, end=\" \")"
      ]
    },
    {
      "cell_type": "code",
      "execution_count": null,
      "id": "da478f06-3f9c-4201-b5c7-3628f4581b90",
      "metadata": {
        "id": "da478f06-3f9c-4201-b5c7-3628f4581b90",
        "outputId": "ffc39a9c-87b1-4422-bc12-e0000e8b731f"
      },
      "outputs": [
        {
          "name": "stdout",
          "output_type": "stream",
          "text": [
            "C\n",
            "S\n",
            "C\n",
            " \n",
            "2\n",
            "4\n",
            "3\n"
          ]
        }
      ],
      "source": [
        "my_string = \"CSC 243\"\n",
        "for c in my_string:\n",
        "    print(c)"
      ]
    },
    {
      "cell_type": "code",
      "execution_count": null,
      "id": "9667e592-cb2e-4587-b732-a8e2333d9c9f",
      "metadata": {
        "id": "9667e592-cb2e-4587-b732-a8e2333d9c9f",
        "outputId": "93b627ee-1f9d-4ecb-b89f-075a3abc768e"
      },
      "outputs": [
        {
          "name": "stdin",
          "output_type": "stream",
          "text": [
            "Enter a sentence:  CP1 is so hard, please cancel all homeworks\n"
          ]
        },
        {
          "name": "stdout",
          "output_type": "stream",
          "text": [
            "['C', 'P', '1', ' ', 'i', 's', 'o', 'h', 'a', 'r', 'd', ',', 'p', 'l', 'e', 'c', 'n', 'm', 'w', 'k']\n",
            "[1, 1, 1, 7, 1, 4, 3, 2, 4, 2, 1, 1, 1, 4, 4, 2, 1, 1, 1, 1]\n"
          ]
        }
      ],
      "source": [
        "s = input(\"Enter a sentence: \")\n",
        "chars = []\n",
        "freq = []\n",
        "\n",
        "for c in s:\n",
        "    if c not in chars:\n",
        "        chars.append(c)\n",
        "        freq.append(s.count(c))\n",
        "\n",
        "print(chars)\n",
        "print(freq)"
      ]
    },
    {
      "cell_type": "code",
      "execution_count": null,
      "id": "f7508cd5-33bf-441c-89ea-cc350da27bb8",
      "metadata": {
        "id": "f7508cd5-33bf-441c-89ea-cc350da27bb8",
        "outputId": "b11622ce-d596-4c71-9209-29e31a0e9336"
      },
      "outputs": [
        {
          "name": "stdout",
          "output_type": "stream",
          "text": [
            "C: 1\n",
            "P: 1\n",
            "1: 1\n",
            " : 7\n",
            "i: 1\n",
            "s: 4\n",
            "o: 3\n",
            "h: 2\n",
            "a: 4\n",
            "r: 2\n",
            "d: 1\n",
            ",: 1\n",
            "p: 1\n",
            "l: 4\n",
            "e: 4\n",
            "c: 2\n",
            "n: 1\n",
            "m: 1\n",
            "w: 1\n",
            "k: 1\n"
          ]
        }
      ],
      "source": [
        "for i in range(0,len(chars)):\n",
        "    print(\"{}: {}\".format(chars[i],freq[i]))"
      ]
    },
    {
      "cell_type": "code",
      "execution_count": null,
      "id": "6791c6ac-ffc1-427e-9576-fb0ca4e29706",
      "metadata": {
        "id": "6791c6ac-ffc1-427e-9576-fb0ca4e29706",
        "outputId": "0ae1744e-1aa6-4929-ea34-dfaee932545c"
      },
      "outputs": [
        {
          "name": "stdout",
          "output_type": "stream",
          "text": [
            "Number of distinct characters are:  6\n",
            "The characters are:  ['C', 'S', ' ', '2', '4', '3']\n",
            "The frequency of each one of them is:  [2, 1, 1, 1, 1, 1]\n"
          ]
        }
      ],
      "source": [
        "chars = []\n",
        "freq = []\n",
        "for c in my_string:\n",
        "    if c not in chars:\n",
        "        chars.append(c)\n",
        "        freq.append(my_string.count(c))\n",
        "\n",
        "print(\"Number of distinct characters are: \",len(chars))\n",
        "print(\"The characters are: \",chars)\n",
        "print(\"The frequency of each one of them is: \",freq)"
      ]
    },
    {
      "cell_type": "code",
      "execution_count": null,
      "id": "6f3b1a44-dc46-498a-96c3-d9a9c385fce4",
      "metadata": {
        "id": "6f3b1a44-dc46-498a-96c3-d9a9c385fce4",
        "outputId": "90e47939-b3f0-49db-cfed-c7570bd1cd64"
      },
      "outputs": [
        {
          "name": "stdout",
          "output_type": "stream",
          "text": [
            "{'C': 1, 'P': 1, '1': 1, ' ': 7, 'i': 1, 's': 4, 'o': 3, 'h': 2, 'a': 4, 'r': 2, 'd': 1, ',': 1, 'p': 1, 'l': 4, 'e': 4, 'c': 2, 'n': 1, 'm': 1, 'w': 1, 'k': 1}\n"
          ]
        }
      ],
      "source": [
        "freq = {}\n",
        "for c in s:\n",
        "    freq[c] = s.count(c)\n",
        "\n",
        "print(freq)"
      ]
    },
    {
      "cell_type": "code",
      "execution_count": null,
      "id": "2ab794ce-2872-4a5e-8d3b-c0f1749dae50",
      "metadata": {
        "id": "2ab794ce-2872-4a5e-8d3b-c0f1749dae50",
        "outputId": "85e7d6c1-227b-44d8-819b-9ee06f77f34c"
      },
      "outputs": [
        {
          "name": "stdout",
          "output_type": "stream",
          "text": [
            "L1 is: [1.0, 1.4142135623730951, 1.7320508075688772, 2.0, 2.23606797749979, 2.449489742783178, 2.6457513110645907, 2.8284271247461903, 3.0, 3.1622776601683795, 3.3166247903554, 3.4641016151377544, 3.605551275463989, 3.7416573867739413, 3.872983346207417, 4.0, 4.123105625617661, 4.242640687119285, 4.358898943540674]\n",
            "\n",
            "L2 is: [10, 8, 6, 4, 2]\n",
            "\n",
            "L3 is: [0, 1, 4, 9, 16]\n"
          ]
        }
      ],
      "source": [
        "import math\n",
        "\n",
        "L1 = [math.sqrt(x) for x in range(1, 20)] # function_of(x) is sqrt(x)\n",
        "print(\"L1 is:\", L1)\n",
        "\n",
        "print()\n",
        "L2 = [i for i in range(10, 0, -2)] # function_of(x) is x\n",
        "print(\"L2 is:\", L2)\n",
        "\n",
        "print()\n",
        "L3 = [x*x for x in range(0, 5)] # function_of(x) is x**2\n",
        "print(\"L3 is:\", L3)"
      ]
    },
    {
      "cell_type": "code",
      "execution_count": null,
      "id": "f327d13d-bfc3-4f6e-90a7-7be2464d921d",
      "metadata": {
        "id": "f327d13d-bfc3-4f6e-90a7-7be2464d921d",
        "outputId": "20b92b61-1b30-4f46-dddb-692410cedd8d"
      },
      "outputs": [
        {
          "name": "stdin",
          "output_type": "stream",
          "text": [
            "Enter integers (separated by whitespaces):  25 9 6\n"
          ]
        },
        {
          "name": "stdout",
          "output_type": "stream",
          "text": [
            "[25, 9, 6]\n"
          ]
        }
      ],
      "source": [
        "L = input(\"Enter integers (separated by whitespaces): \").split(\" \")\n",
        "L = [int(x) for x in L]\n",
        "print(L)"
      ]
    },
    {
      "cell_type": "code",
      "execution_count": null,
      "id": "ba441cee-5a1a-438f-aadb-7b0d24b5f90a",
      "metadata": {
        "id": "ba441cee-5a1a-438f-aadb-7b0d24b5f90a",
        "outputId": "7de2d2a6-3f81-4a89-990e-78684bbb90f8"
      },
      "outputs": [
        {
          "name": "stdout",
          "output_type": "stream",
          "text": [
            "mixed list: [1, '-2', 2, True, (18, 25), False, 'CSC243', -5]\n",
            "L (filtered list): ['-2', 'CSC243']\n"
          ]
        }
      ],
      "source": [
        "mixed_list = [1, \"-2\", 2, True, (18,25), False, \"CSC243\", -5]\n",
        "print(\"mixed list:\", mixed_list)\n",
        "L = [x for x in mixed_list if type(x)==str]\n",
        "print(\"L (filtered list):\", L)"
      ]
    },
    {
      "cell_type": "code",
      "execution_count": null,
      "id": "6fbe2e34-5ea6-4737-97bb-25f860b555b3",
      "metadata": {
        "id": "6fbe2e34-5ea6-4737-97bb-25f860b555b3",
        "outputId": "d71abd53-a9cc-4d2e-c4dd-903db708550f"
      },
      "outputs": [
        {
          "name": "stdout",
          "output_type": "stream",
          "text": [
            "[1, [5, 3], 4]\n"
          ]
        }
      ],
      "source": [
        "L1 = [1 , [2,3], 4]\n",
        "T = L1[1]\n",
        "L2 = L1.copy()\n",
        "T[0] = 5\n",
        "print(L2)"
      ]
    },
    {
      "cell_type": "code",
      "execution_count": null,
      "id": "04227a5e-b472-4a0d-aa75-3f0850ac2a60",
      "metadata": {
        "id": "04227a5e-b472-4a0d-aa75-3f0850ac2a60"
      },
      "outputs": [],
      "source": [
        "import matplotlib\n",
        "import matplotlib.pyplot as plt\n"
      ]
    },
    {
      "cell_type": "code",
      "execution_count": null,
      "id": "03cabf27-2997-4dad-bcb7-8f4756de7140",
      "metadata": {
        "id": "03cabf27-2997-4dad-bcb7-8f4756de7140",
        "outputId": "7e4efbe1-ec70-4ffe-a614-a5dddc8f888c"
      },
      "outputs": [
        {
          "data": {
            "image/png": "[encoded data removed]",
            "text/plain": [
              "<Figure size 640x480 with 1 Axes>"
            ]
          },
          "metadata": {},
          "output_type": "display_data"
        }
      ],
      "source": [
        "# Create lists with the X and Y coordinates of each data point.\n",
        "x_coords = [0, 1, 2, 3, 4]\n",
        "y_coords = [0, 3, 1, 5, 2]\n",
        "\n",
        "# Build the line graph.\n",
        "plt.plot(x_coords, y_coords)\n",
        "# Display the line graph.\n",
        "plt.show()\n"
      ]
    },
    {
      "cell_type": "code",
      "execution_count": null,
      "id": "724ff62e-b1fe-4e92-bc49-76bc409fc39b",
      "metadata": {
        "id": "724ff62e-b1fe-4e92-bc49-76bc409fc39b",
        "outputId": "643c61b0-44e1-41ff-df92-84d27b5d8e2e"
      },
      "outputs": [
        {
          "data": {
            "image/png": "[encoded data removed]",
            "text/plain": [
              "<Figure size 640x480 with 1 Axes>"
            ]
          },
          "metadata": {},
          "output_type": "display_data"
        }
      ],
      "source": [
        "left_edges = [0, 10, 20, 30, 40]\n",
        "heights = [100, 200, 300, 400, 500]\n",
        "bar_width = 5\n",
        "plt.bar(left_edges, heights, bar_width, color=('r', 'g', 'b', 'w', 'k'))\n",
        "\n",
        "plt.show()\n"
      ]
    },
    {
      "cell_type": "code",
      "execution_count": null,
      "id": "0a49802f-42f2-4c8a-b3c4-63935e778931",
      "metadata": {
        "id": "0a49802f-42f2-4c8a-b3c4-63935e778931",
        "outputId": "2465acf5-6f8e-4e5c-f1df-89d69240b1e0"
      },
      "outputs": [
        {
          "data": {
            "image/png": "[encoded data removed]",
            "text/plain": [
              "<Figure size 640x480 with 1 Axes>"
            ]
          },
          "metadata": {},
          "output_type": "display_data"
        }
      ],
      "source": [
        "sales = [100, 400, 300, 600]\n",
        "slice_labels = ['1st Qtr', '2nd Qtr', '3rd Qtr', '4th Qtr']\n",
        "plt.pie(sales, labels=slice_labels)\n",
        "plt.title('Sales by Quarter')\n",
        "plt.show()\n"
      ]
    },
    {
      "cell_type": "code",
      "execution_count": null,
      "id": "83123c2c-1eb8-49c0-aaf0-d4240d7bae35",
      "metadata": {
        "id": "83123c2c-1eb8-49c0-aaf0-d4240d7bae35"
      },
      "outputs": [],
      "source": []
    }
  ],
  "metadata": {
    "kernelspec": {
      "display_name": "Python 3 (ipykernel)",
      "language": "python",
      "name": "python3"
    },
    "language_info": {
      "codemirror_mode": {
        "name": "ipython",
        "version": 3
      },
      "file_extension": ".py",
      "mimetype": "text/x-python",
      "name": "python",
      "nbconvert_exporter": "python",
      "pygments_lexer": "ipython3",
      "version": "3.11.5"
    },
    "colab": {
      "provenance": [],
      "include_colab_link": true
    }
  },
  "nbformat": 4,
  "nbformat_minor": 5
}