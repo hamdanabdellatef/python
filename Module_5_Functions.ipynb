{
  "nbformat": 4,
  "nbformat_minor": 0,
  "metadata": {
    "colab": {
      "provenance": [],
      "toc_visible": true,
      "authorship_tag": "ABX9TyNY1DkqdsTmxwzf6VwttqNd",
      "include_colab_link": true
    },
    "kernelspec": {
      "name": "python3",
      "display_name": "Python 3"
    },
    "language_info": {
      "name": "python"
    }
  },
  "cells": [
    {
      "cell_type": "markdown",
      "metadata": {
        "id": "view-in-github",
        "colab_type": "text"
      },
      "source": [
        "<a href=\"https://colab.research.google.com/github/hamdanabdellatef/python/blob/main/Module_5_Functions.ipynb\" target=\"_parent\"><img src=\"https://colab.research.google.com/assets/colab-badge.svg\" alt=\"Open In Colab\"/></a>"
      ]
    },
    {
      "cell_type": "markdown",
      "source": [
        "#Functions\n",
        "\n",
        "The chapter is going to cover the following:\n",
        "\n",
        "1. Introduction to Functions\n",
        "2. Defining and Calling a Void Function\n",
        "3. Designing a Program to Use Functions\n",
        "4. Local Variables\n",
        "5. Passing Arguments to Functions\n",
        "6. Global Variables and Global Constants\n",
        "7. Introduction to Value-Returning Functions:\n",
        "8. Generating Random Numbers\n",
        "9. Writing Your Own Value-Returning Functions\n",
        "10. The math Module\n",
        "11. Storing Functions in Modules\n"
      ],
      "metadata": {
        "id": "hh7B0lrIrkvj"
      }
    },
    {
      "cell_type": "markdown",
      "source": [
        "## Introduction to Functions\n",
        "**Function**: group of statements within  a program that perform as specific task\n",
        "\n",
        "* Usually one task of a large program\n",
        "* Functions can be executed in order to perform overall program task\n",
        "* Known as divide and conquer approach\n",
        "\n",
        "**Modularized program**: program wherein each task within the program is in its own function\n",
        "\n"
      ],
      "metadata": {
        "id": "CL436oi4spNF"
      }
    },
    {
      "cell_type": "markdown",
      "source": [
        "Remember the bisection example."
      ],
      "metadata": {
        "id": "6FDd1viXvvfo"
      }
    },
    {
      "cell_type": "code",
      "execution_count": null,
      "metadata": {
        "id": "XIT6GS2irjrR"
      },
      "outputs": [],
      "source": [
        "x = float(input(\"enter x (x>1): \"))\n",
        "eps = 1E-12\n",
        "\n",
        "low = 1\n",
        "high = x\n",
        "mid = (low + high)/2\n",
        "while(abs(mid*mid - x) > eps):\n",
        "    if mid*mid < x:\n",
        "        low = mid\n",
        "    else:\n",
        "        high = mid\n",
        "    mid = (low + high)/2\n",
        "print(\"the square root of\", x,\"is approximately:\", mid)"
      ]
    },
    {
      "cell_type": "code",
      "source": [
        "# I want to ge the input from the user\n",
        "# The function write the output to screen\n",
        "def bisection_sqrt():\n",
        "  x = float(input(\"enter x (x>1): \"))\n",
        "  eps = 1E-12\n",
        "  low = 1\n",
        "  high = x\n",
        "  mid = (low + high)/2\n",
        "  while(abs(mid*mid - x) > eps):\n",
        "      if mid*mid < x:\n",
        "          low = mid\n",
        "      else:\n",
        "          high = mid\n",
        "      mid = (low + high)/2\n",
        "  print(\"the square root of\", x,\"is approximately:\", mid)\n",
        "\n",
        "\n",
        "\n",
        "print('We are using the bisection_sqrt function')\n",
        "bisection_sqrt()\n",
        "print('We are done using the bisection_sqrt function')\n",
        "\n"
      ],
      "metadata": {
        "id": "YE1YiYRGWyX3"
      },
      "execution_count": null,
      "outputs": []
    },
    {
      "cell_type": "code",
      "source": [
        "# I want to pass an argument to my function\n",
        "# The function write the output to screen\n",
        "def bisection_sqrt(x, eps): # once the function is called x = value\n",
        "  low = 1\n",
        "  high = x\n",
        "  mid = (low + high)/2\n",
        "  while(abs(mid*mid - x) > eps):\n",
        "      if mid*mid < x:\n",
        "          low = mid\n",
        "      else:\n",
        "          high = mid\n",
        "      mid = (low + high)/2\n",
        "  print(\"the square root of\", x,\"is approximately:\", mid)\n",
        "\n",
        "\n",
        "\n",
        "print('We are using the bisection_sqrt function')\n",
        "value = float(input(\"enter x (x>1): \"))\n",
        "bisection_sqrt(value, 1E-12)\n",
        "print('We are done using the bisection_sqrt function')\n",
        "\n"
      ],
      "metadata": {
        "id": "1fk2k4acYu26"
      },
      "execution_count": null,
      "outputs": []
    },
    {
      "cell_type": "code",
      "source": [
        "import math\n",
        "\n",
        "y = math.sqrt(3)\n",
        "print(y)"
      ],
      "metadata": {
        "id": "M3-sERfzaP3U"
      },
      "execution_count": null,
      "outputs": []
    },
    {
      "cell_type": "code",
      "source": [
        "# I want to pass an argument to my function\n",
        "# The function returns its output\n",
        "def bisection_sqrt(x, eps=1E-12): # once the function is called x = value\n",
        "  low = 1\n",
        "  high = x\n",
        "  mid = (low + high)/2\n",
        "  while(abs(mid*mid - x) > eps):\n",
        "      if mid*mid < x:\n",
        "          low = mid\n",
        "      else:\n",
        "          high = mid\n",
        "      mid = (low + high)/2\n",
        "  return mid\n",
        "\n",
        "\n",
        "\n",
        "print('We are using the bisection_sqrt function')\n",
        "value = float(input(\"enter x (x>1): \"))\n",
        "y = bisection_sqrt(value)\n",
        "z = bisection_sqrt(value, 1E-8)\n",
        "a = bisection_sqrt(value, eps=1E-8)\n",
        "print(\"the square root of\", value,\"is approximately:\", y)\n",
        "print('We are done using the bisection_sqrt function')\n",
        "\n"
      ],
      "metadata": {
        "id": "GPPfS9ZBZ2uk"
      },
      "execution_count": null,
      "outputs": []
    },
    {
      "cell_type": "markdown",
      "source": [
        "# New Section"
      ],
      "metadata": {
        "id": "hdH3Jpf3cD0l"
      }
    },
    {
      "cell_type": "markdown",
      "source": [
        "Now we can write the function once and call it whenever we want"
      ],
      "metadata": {
        "id": "E9yn5lPzw6TU"
      }
    },
    {
      "cell_type": "code",
      "source": [
        "def bisection_sqrt(x):\n",
        "  eps = 1E-12\n",
        "\n",
        "  low = 1\n",
        "  high = x\n",
        "  mid = (low + high)/2\n",
        "  while(abs(mid*mid - x) > eps):\n",
        "      if mid*mid < x:\n",
        "          low = mid\n",
        "      else:\n",
        "          high = mid\n",
        "      mid = (low + high)/2\n",
        "\n",
        "  return mid"
      ],
      "metadata": {
        "id": "IgMhM7Ubw54V"
      },
      "execution_count": null,
      "outputs": []
    },
    {
      "cell_type": "markdown",
      "source": [
        "Lets use the function"
      ],
      "metadata": {
        "id": "4PbYWhFGxODM"
      }
    },
    {
      "cell_type": "code",
      "source": [
        "x = float(input(\"enter x (x>1): \"))\n",
        "\n",
        "sqrt_x = bisection_sqrt(x)\n",
        "print(\"the square root of\", x,\"is approximately:\", sqrt_x)\n",
        "\n",
        "sqrt_sqrt_x = bisection_sqrt(sqrt_x)\n",
        "print(\"the square root of\", sqrt_x,\"is approximately:\", sqrt_sqrt_x)"
      ],
      "metadata": {
        "id": "7lxiTUF5xNde"
      },
      "execution_count": null,
      "outputs": []
    },
    {
      "cell_type": "markdown",
      "source": [
        "## Defining and Calling a Void Function\n"
      ],
      "metadata": {
        "id": "Mi1ehZ5wz01C"
      }
    },
    {
      "cell_type": "code",
      "source": [
        "def print_lyrics():\n",
        "  print(\"I'm a lumberjack, and I'm okay.\")\n",
        "  print(\"I sleep all night and I work all day.\")"
      ],
      "metadata": {
        "id": "f0yJfZut0ZQI"
      },
      "execution_count": null,
      "outputs": []
    },
    {
      "cell_type": "code",
      "source": [
        "x = print_lyrics()\n",
        "\n",
        "print(x)"
      ],
      "metadata": {
        "id": "jvt3z9nQ0nLE"
      },
      "execution_count": null,
      "outputs": []
    },
    {
      "cell_type": "markdown",
      "source": [
        "## Local Variables\n",
        "**Local variable**: variable that is assigned a value inside a function\n",
        "* Belongs to the function in which it was created\n",
        "* Only statements inside that function can access it, error will occur if another function tries to access the variable\n",
        "\n",
        "**Scope**: the part of a program in which a variable may be accessed\n",
        "For local variable: function in which created\n"
      ],
      "metadata": {
        "id": "STS2w6aT0qRj"
      }
    },
    {
      "cell_type": "code",
      "source": [
        "y = 10\n",
        "print(\"This is y outside the function \",y) # (1) This ... 10\n",
        "\n",
        "def squarer(x): # x = y = 10\n",
        "    y = x * x # here y is local var in squarer y = 100\n",
        "    print(\"This is y inside the function \",y) # (3) This is .... 100\n",
        "    return y\n",
        "\n",
        "print(\"This is y outside the function again \",y) # (2) This is .... 10\n",
        "z = squarer(y) # here z is 100\n",
        "\n",
        "print(\"This is y outside the function again 2nd time \",y) # (4) This is .... 10\n",
        "print(z) #100"
      ],
      "metadata": {
        "id": "EI5bBNpY1WNP"
      },
      "execution_count": null,
      "outputs": []
    },
    {
      "cell_type": "code",
      "source": [
        "y = 10\n",
        "\n",
        "def mul_with_y(x):\n",
        "    y = 5\n",
        "    b = 10\n",
        "    return x * y\n",
        "b = 100\n",
        "a = 5 + b\n",
        "\n",
        "z = mul_with_y(a)\n",
        "print(z)"
      ],
      "metadata": {
        "id": "tOXyP_4t1fgm"
      },
      "execution_count": null,
      "outputs": []
    },
    {
      "cell_type": "markdown",
      "source": [
        "## Passing Arguments to Functions"
      ],
      "metadata": {
        "id": "D5soAJ4JHvyA"
      }
    },
    {
      "cell_type": "code",
      "source": [
        "def show_double(number):\n",
        "    result = number * 2\n",
        "    print(result)\n",
        "    return result\n",
        "\n",
        "value = 5\n",
        "x = show_double(value)\n",
        "print(x)"
      ],
      "metadata": {
        "id": "raGY7gIfHvK-"
      },
      "execution_count": null,
      "outputs": []
    },
    {
      "cell_type": "code",
      "source": [
        "def show_mul(num1,num2,num3):\n",
        "    result = num1*num2*num3\n",
        "    print(result)\n",
        "\n",
        "show_mul(2,3,-2.3)"
      ],
      "metadata": {
        "id": "5Svjw7sMH-mB"
      },
      "execution_count": null,
      "outputs": []
    },
    {
      "cell_type": "code",
      "source": [
        "def bisection_sqrt(x, epsilon=1E-6):\n",
        "    #condition_1 = (type(x) == int or type(x) == float) and x > 1\n",
        "    #assert condition_1, \"Bad input x!\"\n",
        "    low = 1\n",
        "    high = x\n",
        "    mid = (low + high)/2\n",
        "    while abs(mid*mid - x) > epsilon:\n",
        "        if mid*mid < x:\n",
        "            low = mid\n",
        "        else:\n",
        "            high = mid\n",
        "        mid = (low + high)/2\n",
        "    return mid"
      ],
      "metadata": {
        "id": "HxGmC14HH-bb"
      },
      "execution_count": null,
      "outputs": []
    },
    {
      "cell_type": "code",
      "source": [
        "x = int(input(\"enter x (x>1): \"))\n",
        "sqrt_x = bisection_sqrt(x)\n",
        "print(\"the square root of\", x,\"is approximately:\", sqrt_x)\n",
        "\n",
        "sqrt_x = bisection_sqrt(x, epsilon=1E-8)\n",
        "print(\"the square root of\", x,\"is approximately:\", sqrt_x)\n",
        "\n",
        "sqrt_x = bisection_sqrt(x, 1E-12)\n",
        "print(\"the square root of\", x,\"is approximately:\", sqrt_x)\n",
        "\n",
        "\n"
      ],
      "metadata": {
        "id": "wEsXqHNjJEDN"
      },
      "execution_count": null,
      "outputs": []
    },
    {
      "cell_type": "markdown",
      "source": [
        "## Global Variables and Global Constants"
      ],
      "metadata": {
        "id": "YHZlw871LJDi"
      }
    },
    {
      "cell_type": "code",
      "source": [
        "gvar = 10\n",
        "\n",
        "\n",
        "def get_gvar_value():\n",
        "    y = gvar\n",
        "    return y\n",
        "\n",
        "\n",
        "x = get_gvar_value()\n",
        "\n",
        "print(x)"
      ],
      "metadata": {
        "id": "D2RCoxISL8Ye"
      },
      "execution_count": null,
      "outputs": []
    },
    {
      "cell_type": "code",
      "source": [
        "def change_x(a):\n",
        "    x = a # x = 3\n",
        "    print(\"x in the function is: \",x) # (1) x in the function is 3\n",
        "x = 2\n",
        "y = 3\n",
        "change_x(y)\n",
        "print(\"x out of the function is: \",x) # (2) x out of .. 2"
      ],
      "metadata": {
        "id": "AFO9LHw2LogW"
      },
      "execution_count": null,
      "outputs": []
    },
    {
      "cell_type": "code",
      "source": [
        "def change_x(a):\n",
        "    global x # x  = 2\n",
        "    x = a # x = 3\n",
        "    print(\"x in the function is: \",x) # (1) x in the function is 3\n",
        "x = 2\n",
        "y = 3\n",
        "change_x(y)\n",
        "print(\"x out of the function is: \",x) # (2) x out of .. 2"
      ],
      "metadata": {
        "id": "yH-zVuiAOYqn"
      },
      "execution_count": null,
      "outputs": []
    },
    {
      "cell_type": "markdown",
      "source": [
        "**Warning**: please avoid using global variables unless it is really necesiary to do that."
      ],
      "metadata": {
        "id": "sb7H_cs-Omm-"
      }
    },
    {
      "cell_type": "markdown",
      "source": [
        "## Generating Random Numbers"
      ],
      "metadata": {
        "id": "CoJ4Ja31SwJe"
      }
    },
    {
      "cell_type": "code",
      "source": [
        "import random\n",
        "#random.seed(76)\n",
        "print(random.randint(1,200))\n",
        "print(random.random())\n",
        "print(random.uniform(1,1000))\n",
        "\n",
        "for x in range(3):\n",
        "    print(random.randrange(1,10,2))"
      ],
      "metadata": {
        "id": "J5LeBfnbSwp9"
      },
      "execution_count": null,
      "outputs": []
    },
    {
      "cell_type": "markdown",
      "source": [
        "## Writing Your Own Value-Returning Functions"
      ],
      "metadata": {
        "id": "Jle4ovx6W3-B"
      }
    },
    {
      "cell_type": "code",
      "source": [
        "def is_prime(n):\n",
        "    isprime = True\n",
        "    for d in range(2,n):\n",
        "        if n%d == 0:\n",
        "            isprime = False\n",
        "            break\n",
        "\n",
        "    return isprime"
      ],
      "metadata": {
        "id": "PdVcJE83W3nJ"
      },
      "execution_count": null,
      "outputs": []
    },
    {
      "cell_type": "code",
      "source": [
        "x = 124822\n",
        "if is_prime(x):\n",
        "    print(\"{} is a prime number\".format(x))\n",
        "else:\n",
        "    print(\"{} is not a prime number\".format(x))"
      ],
      "metadata": {
        "id": "Wtk7N57UW-_7"
      },
      "execution_count": null,
      "outputs": []
    },
    {
      "cell_type": "code",
      "source": [
        "def min_max(L):\n",
        "    mn = min(L)\n",
        "    mx = max(L)\n",
        "    return mn, mx\n",
        "\n",
        "a, b = min_max([5,8,7,10,11])\n",
        "print(a,b)"
      ],
      "metadata": {
        "id": "OJ_fDfATXASA"
      },
      "execution_count": null,
      "outputs": []
    },
    {
      "cell_type": "code",
      "source": [
        "def sum_mul(num1,num2):\n",
        "    sum = num1 + num2\n",
        "    mul = num1 * num2\n",
        "    return sum, mul\n",
        "\n",
        "a, b = sum_mul(2,3)\n",
        "print(a,b)\n"
      ],
      "metadata": {
        "id": "7eg3s2JkXZro"
      },
      "execution_count": null,
      "outputs": []
    },
    {
      "cell_type": "markdown",
      "source": [
        "## The math Module"
      ],
      "metadata": {
        "id": "AQPOQ3XIXjuI"
      }
    },
    {
      "cell_type": "code",
      "source": [
        "from math import sqrt\n",
        "sqrt(x)"
      ],
      "metadata": {
        "id": "SLEVOFwyYAVB"
      },
      "execution_count": null,
      "outputs": []
    },
    {
      "cell_type": "markdown",
      "source": [
        "## Storing Functions in Modules"
      ],
      "metadata": {
        "id": "VedCy1AXX0qb"
      }
    },
    {
      "cell_type": "code",
      "source": [
        "!git clone https://github.com/hamdanabdellatef/python.git\n",
        "%cd python"
      ],
      "metadata": {
        "id": "ydeWErV_ZEHE"
      },
      "execution_count": null,
      "outputs": []
    },
    {
      "cell_type": "code",
      "source": [
        "import circle\n",
        "\n",
        "r = 6\n",
        "\n",
        "area_circle = circle.area(r)\n",
        "print(area_circle)\n",
        "\n",
        "print(circle.circumference(r))"
      ],
      "metadata": {
        "id": "l3UbycuTYKdt"
      },
      "execution_count": null,
      "outputs": []
    },
    {
      "cell_type": "code",
      "source": [
        "from circle import area\n",
        "\n",
        "r = 13\n",
        "\n",
        "area_circle = area(r)\n",
        "print(area_circle)"
      ],
      "metadata": {
        "id": "bVlm4OInYciY"
      },
      "execution_count": null,
      "outputs": []
    },
    {
      "cell_type": "markdown",
      "source": [
        "## The live session code"
      ],
      "metadata": {
        "id": "uQhKC6ZQcGUW"
      }
    },
    {
      "cell_type": "code",
      "source": [
        "# the scope of this x is outside the functions\n",
        "x = 10\n",
        "\n",
        "def change_x():\n",
        "  # This scope is inside the function\n",
        "  global x\n",
        "  x = 20 # local variable\n",
        "  print('x in the function is: ',x)\n",
        "\n",
        "change_x()\n",
        "print('x out of the function is: ',x)"
      ],
      "metadata": {
        "id": "JH2WjlYYcJjN"
      },
      "execution_count": null,
      "outputs": []
    },
    {
      "cell_type": "code",
      "source": [
        "import random\n",
        "import time\n",
        "\n",
        "random.seed(time.time())\n",
        "a = random.randint(1,100)\n",
        "b = random.randint(1,100)\n",
        "c = random.randint(1,100)\n",
        "print(a,b,c)"
      ],
      "metadata": {
        "id": "Ql8kvSj_e1KC"
      },
      "execution_count": null,
      "outputs": []
    }
  ]
}