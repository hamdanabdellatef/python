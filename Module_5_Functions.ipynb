{
  "nbformat": 4,
  "nbformat_minor": 0,
  "metadata": {
    "colab": {
      "provenance": [],
      "toc_visible": true,
      "authorship_tag": "ABX9TyO3C2CnmTrC39MWS645RuBB",
      "include_colab_link": true
    },
    "kernelspec": {
      "name": "python3",
      "display_name": "Python 3"
    },
    "language_info": {
      "name": "python"
    }
  },
  "cells": [
    {
      "cell_type": "markdown",
      "metadata": {
        "id": "view-in-github",
        "colab_type": "text"
      },
      "source": [
        "<a href=\"https://colab.research.google.com/github/hamdanabdellatef/python/blob/main/Module_5_Functions.ipynb\" target=\"_parent\"><img src=\"https://colab.research.google.com/assets/colab-badge.svg\" alt=\"Open In Colab\"/></a>"
      ]
    },
    {
      "cell_type": "markdown",
      "source": [
        "#Module 5: Functions in Python\n",
        "\n",
        "Welcome to **Module 5: Functions**, where you'll learn one of the most important building blocks of Python programming. Functions help you organize code, avoid repetition, and make programs more readable and reusable.\n",
        "\n",
        "In this notebook, you'll explore:\n",
        "- How to define and call functions\n",
        "- The difference between void functions and value-returning functions\n",
        "- How to work with parameters and arguments\n",
        "- Using standard library functions\n",
        "- Practical examples that reinforce function concepts\n",
        "\n",
        "By the end of this module, you'll be able to:\n",
        "- Write your own custom functions\n",
        "- Use built-in functions effectively\n",
        "- Structure your programs in a modular and logical way\n",
        "\n",
        "Let's dive in and discover how functions can make your code more efficient and powerful!"
      ],
      "metadata": {
        "id": "30MdafG_EYvt"
      }
    },
    {
      "cell_type": "markdown",
      "source": [
        "# Introduction to Functions\n",
        "**Function**: group of statements within  a program that perform as specific task\n",
        "\n",
        "* Usually one task of a large program\n",
        "* Functions can be executed in order to perform overall program task\n",
        "* Known as divide and conquer approach\n",
        "\n",
        "**Modularized program**: program wherein each task within the program is in its own function\n",
        "\n"
      ],
      "metadata": {
        "id": "CL436oi4spNF"
      }
    },
    {
      "cell_type": "markdown",
      "source": [
        "##Functions example"
      ],
      "metadata": {
        "id": "J5sDUCb8-6-v"
      }
    },
    {
      "cell_type": "markdown",
      "source": [
        "Remember the bisection example."
      ],
      "metadata": {
        "id": "6FDd1viXvvfo"
      }
    },
    {
      "cell_type": "code",
      "execution_count": null,
      "metadata": {
        "id": "XIT6GS2irjrR",
        "colab": {
          "base_uri": "https://localhost:8080/"
        },
        "outputId": "a105f136-ff4f-4f55-b9b6-9a399388cca6"
      },
      "outputs": [
        {
          "output_type": "stream",
          "name": "stdout",
          "text": [
            "enter x (x>1): 4\n",
            "the square root of 4.0 is approximately: 1.9999999999997726\n"
          ]
        }
      ],
      "source": [
        "x = float(input(\"enter x (x>1): \"))\n",
        "eps = 1E-12\n",
        "\n",
        "low = 1\n",
        "high = x\n",
        "mid = (low + high)/2\n",
        "while(abs(mid*mid - x) > eps):\n",
        "    if mid*mid < x:\n",
        "        low = mid\n",
        "    else:\n",
        "        high = mid\n",
        "    mid = (low + high)/2\n",
        "print(\"the square root of\", x,\"is approximately:\", mid)"
      ]
    },
    {
      "cell_type": "markdown",
      "source": [
        "convert to function"
      ],
      "metadata": {
        "id": "jJ2vE5QO_rwt"
      }
    },
    {
      "cell_type": "code",
      "source": [
        "def bisection_sqrt():\n",
        "  x = float(input(\"enter x (x>1): \"))\n",
        "  eps = 1E-12\n",
        "\n",
        "  low = 1\n",
        "  high = x\n",
        "  mid = (low + high)/2\n",
        "  while(abs(mid*mid - x) > eps):\n",
        "      if mid*mid < x:\n",
        "          low = mid\n",
        "      else:\n",
        "          high = mid\n",
        "      mid = (low + high)/2\n",
        "  #print(\"the square root of\", x,\"is approximately:\", mid)\n",
        "  return mid"
      ],
      "metadata": {
        "id": "YE1YiYRGWyX3"
      },
      "execution_count": null,
      "outputs": []
    },
    {
      "cell_type": "code",
      "source": [
        "bisection_sqrt()"
      ],
      "metadata": {
        "colab": {
          "base_uri": "https://localhost:8080/"
        },
        "id": "lh996A7E4Lf1",
        "outputId": "bcdde3eb-364c-4f6a-9ddd-b4a0df0f36c5"
      },
      "execution_count": null,
      "outputs": [
        {
          "output_type": "stream",
          "name": "stdout",
          "text": [
            "enter x (x>1): 16\n",
            "the square root of 16.0 is approximately: 4.000000000000043\n"
          ]
        }
      ]
    },
    {
      "cell_type": "markdown",
      "source": [
        "read input from outside function"
      ],
      "metadata": {
        "id": "TrUYGQFa_uqK"
      }
    },
    {
      "cell_type": "code",
      "source": [
        "y = bisection_sqrt()"
      ],
      "metadata": {
        "id": "1fk2k4acYu26",
        "colab": {
          "base_uri": "https://localhost:8080/"
        },
        "outputId": "c852bdcb-e4dc-4899-ae30-2f642f20efa5"
      },
      "execution_count": null,
      "outputs": [
        {
          "name": "stdout",
          "output_type": "stream",
          "text": [
            "enter x (x>1): 16\n"
          ]
        }
      ]
    },
    {
      "cell_type": "code",
      "source": [
        "print(y)"
      ],
      "metadata": {
        "id": "M3-sERfzaP3U",
        "colab": {
          "base_uri": "https://localhost:8080/"
        },
        "outputId": "71aa0031-678e-42dc-8e00-594b7fbb7763"
      },
      "execution_count": null,
      "outputs": [
        {
          "output_type": "stream",
          "name": "stdout",
          "text": [
            "4.000000000000043\n"
          ]
        }
      ]
    },
    {
      "cell_type": "code",
      "source": [],
      "metadata": {
        "id": "GPPfS9ZBZ2uk"
      },
      "execution_count": null,
      "outputs": []
    },
    {
      "cell_type": "markdown",
      "source": [
        "Now we can write the function once and call it whenever we want"
      ],
      "metadata": {
        "id": "E9yn5lPzw6TU"
      }
    },
    {
      "cell_type": "code",
      "source": [],
      "metadata": {
        "id": "CEriQjV8_nR6"
      },
      "execution_count": null,
      "outputs": []
    },
    {
      "cell_type": "markdown",
      "source": [
        "Lets use the function"
      ],
      "metadata": {
        "id": "4PbYWhFGxODM"
      }
    },
    {
      "cell_type": "code",
      "source": [],
      "metadata": {
        "id": "JH5xqb9D_qnE"
      },
      "execution_count": null,
      "outputs": []
    },
    {
      "cell_type": "markdown",
      "source": [
        "##A void function:\n",
        "\n",
        "Simply executes the statements it contains and then terminates.\n",
        "\n",
        "The `print` function is an example of void functions\n",
        "\n"
      ],
      "metadata": {
        "id": "Mi1ehZ5wz01C"
      }
    },
    {
      "cell_type": "code",
      "source": [
        "print(\"hello\")"
      ],
      "metadata": {
        "id": "f0yJfZut0ZQI",
        "colab": {
          "base_uri": "https://localhost:8080/"
        },
        "outputId": "9c76844c-efc5-478b-81bd-38583255ef22"
      },
      "execution_count": null,
      "outputs": [
        {
          "output_type": "stream",
          "name": "stdout",
          "text": [
            "hello\n"
          ]
        }
      ]
    },
    {
      "cell_type": "code",
      "source": [
        "x = print(\"hello\")\n",
        "print(x)"
      ],
      "metadata": {
        "id": "jvt3z9nQ0nLE",
        "colab": {
          "base_uri": "https://localhost:8080/"
        },
        "outputId": "a6dbbb30-8f28-47c5-a45f-bd44642f7b3d"
      },
      "execution_count": null,
      "outputs": [
        {
          "output_type": "stream",
          "name": "stdout",
          "text": [
            "hello\n",
            "None\n"
          ]
        }
      ]
    },
    {
      "cell_type": "markdown",
      "source": [
        "Here is a definition of a void function"
      ],
      "metadata": {
        "id": "SaQRvFew2o0H"
      }
    },
    {
      "cell_type": "code",
      "source": [
        "def print_hello():\n",
        "    print(\"hello\")"
      ],
      "metadata": {
        "id": "-6A7CRnS2sqI"
      },
      "execution_count": null,
      "outputs": []
    },
    {
      "cell_type": "code",
      "source": [
        "x = print_hello()"
      ],
      "metadata": {
        "colab": {
          "base_uri": "https://localhost:8080/"
        },
        "id": "aIb524Rh2536",
        "outputId": "622141c0-5ca3-42df-bb62-473a977e498c"
      },
      "execution_count": null,
      "outputs": [
        {
          "output_type": "stream",
          "name": "stdout",
          "text": [
            "hello\n"
          ]
        }
      ]
    },
    {
      "cell_type": "code",
      "source": [
        "print(x)"
      ],
      "metadata": {
        "colab": {
          "base_uri": "https://localhost:8080/"
        },
        "id": "MYRNqhch3BYc",
        "outputId": "1a9d4b7f-0edb-44fe-88a3-208699b5a3cb"
      },
      "execution_count": null,
      "outputs": [
        {
          "output_type": "stream",
          "name": "stdout",
          "text": [
            "None\n"
          ]
        }
      ]
    },
    {
      "cell_type": "markdown",
      "source": [
        "##A value-returning function:\n",
        "\n",
        "Executes the statements it contains, and then it returns a value back to the statement that called it.\n",
        "\n",
        "The `input`, `int`, and `float` functions are examples of value-returning functions.\n"
      ],
      "metadata": {
        "id": "C2KNjDJM_axl"
      }
    },
    {
      "cell_type": "code",
      "source": [
        "x = input(\"enter a number: \")\n",
        "print(x)"
      ],
      "metadata": {
        "colab": {
          "base_uri": "https://localhost:8080/"
        },
        "id": "zITy7i_TAA40",
        "outputId": "050c742d-53c8-4855-a57b-1fba0a08df5f"
      },
      "execution_count": null,
      "outputs": [
        {
          "output_type": "stream",
          "name": "stdout",
          "text": [
            "enter a number: 3\n",
            "3\n"
          ]
        }
      ]
    },
    {
      "cell_type": "code",
      "source": [
        "def input_number():\n",
        "    x = input(\"enter a number: \")\n",
        "    return x"
      ],
      "metadata": {
        "id": "gZycv4mq3YgK"
      },
      "execution_count": null,
      "outputs": []
    },
    {
      "cell_type": "code",
      "source": [
        "x = input_number()\n"
      ],
      "metadata": {
        "colab": {
          "base_uri": "https://localhost:8080/"
        },
        "id": "AJHK8Dzl3hm2",
        "outputId": "bc48e23d-a74c-4acb-d8f2-671c615ed015"
      },
      "execution_count": null,
      "outputs": [
        {
          "name": "stdout",
          "output_type": "stream",
          "text": [
            "enter a number: 10\n"
          ]
        }
      ]
    },
    {
      "cell_type": "code",
      "source": [
        "print(x)"
      ],
      "metadata": {
        "colab": {
          "base_uri": "https://localhost:8080/"
        },
        "id": "2S8Y0SEy3kAL",
        "outputId": "e633e1a6-6068-403e-f7ee-7239ba663598"
      },
      "execution_count": null,
      "outputs": [
        {
          "output_type": "stream",
          "name": "stdout",
          "text": [
            "10\n"
          ]
        }
      ]
    },
    {
      "cell_type": "markdown",
      "source": [
        "#Defining and Calling Functions"
      ],
      "metadata": {
        "id": "Pp3rz10CAl2U"
      }
    },
    {
      "cell_type": "markdown",
      "source": [
        "##Function naming rules:\n",
        "- Cannot use key words as a function name\n",
        "- Cannot contain spaces\n",
        "- First character must be a letter or underscore\n",
        "- All other characters must be a letter, number or underscore\n",
        "- Uppercase and lowercase characters are distinct\n"
      ],
      "metadata": {
        "id": "ZBXogSF1Atbs"
      }
    },
    {
      "cell_type": "code",
      "source": [
        "def print_lines():\n",
        "    print(\"this is line 1\")\n",
        "    print(\"this is line 2\")\n"
      ],
      "metadata": {
        "id": "5ShPFMyhAszo"
      },
      "execution_count": null,
      "outputs": []
    },
    {
      "cell_type": "markdown",
      "source": [
        "##Define a function here"
      ],
      "metadata": {
        "id": "7DsQddX3BXq5"
      }
    },
    {
      "cell_type": "code",
      "source": [
        "print_lines()\n",
        "print('we are outside the function')\n",
        "\n",
        "def hello_name():\n",
        "  name = input(\"enter your name: \")\n",
        "  print(\"hello\", name)\n",
        "\n",
        "print(\"we are outside the function again\")\n",
        "\n",
        "hello_name()\n",
        "\n",
        "print(\"we are outside the function again and again\")"
      ],
      "metadata": {
        "colab": {
          "base_uri": "https://localhost:8080/"
        },
        "id": "ShfE4-_0BaP_",
        "outputId": "bb5c93d1-4740-4af2-f594-bc85e1777c2c"
      },
      "execution_count": null,
      "outputs": [
        {
          "output_type": "stream",
          "name": "stdout",
          "text": [
            "this is line 1\n",
            "this is line 2\n",
            "we are outside the function\n",
            "we are outside the function again\n",
            "enter your name: Hamdan\n",
            "hello Hamdan\n",
            "we are outside the function again and again\n"
          ]
        }
      ]
    },
    {
      "cell_type": "code",
      "source": [
        "#this is line 1\n",
        "#this is line 2\n",
        "#we are outside the function\n",
        "#we are outside the function again\n",
        "#ask for name\n",
        "#hello name\n",
        "#we are outside the function again and again\n"
      ],
      "metadata": {
        "id": "xlajTnMt93h_"
      },
      "execution_count": null,
      "outputs": []
    },
    {
      "cell_type": "code",
      "source": [
        "def say_hello():\n",
        "  print(\"hello\")\n",
        "\n",
        "say_hello()\n",
        "\n"
      ],
      "metadata": {
        "colab": {
          "base_uri": "https://localhost:8080/"
        },
        "id": "j17tPIem_BuU",
        "outputId": "80995334-634a-43dd-e491-eb598accf6f0"
      },
      "execution_count": null,
      "outputs": [
        {
          "output_type": "stream",
          "name": "stdout",
          "text": [
            "hello\n"
          ]
        }
      ]
    },
    {
      "cell_type": "markdown",
      "source": [
        "##Call the function to use"
      ],
      "metadata": {
        "id": "s4yz2IkrBay6"
      }
    },
    {
      "cell_type": "code",
      "source": [
        "hello_name()"
      ],
      "metadata": {
        "colab": {
          "base_uri": "https://localhost:8080/"
        },
        "id": "V6x9IvjKBflR",
        "outputId": "eac88ea0-2eda-4f2c-f5e8-fd9196b5a0a7"
      },
      "execution_count": null,
      "outputs": [
        {
          "output_type": "stream",
          "name": "stdout",
          "text": [
            "enter your name: Hamdan\n",
            "hello Hamdan\n"
          ]
        }
      ]
    },
    {
      "cell_type": "markdown",
      "source": [
        "#Void vs Value-Returning Functions\n"
      ],
      "metadata": {
        "id": "eqtM-Qd3B3ke"
      }
    },
    {
      "cell_type": "markdown",
      "source": [],
      "metadata": {
        "id": "HgU_OkZ3rOic"
      }
    },
    {
      "cell_type": "code",
      "source": [],
      "metadata": {
        "id": "cp8N2-larmOK"
      },
      "execution_count": null,
      "outputs": []
    },
    {
      "cell_type": "code",
      "source": [
        "def greet_user(name):\n",
        "  print('Greetings', name)\n",
        "\n",
        "username = input(\"enter your name: \")\n",
        "greet_user(username)"
      ],
      "metadata": {
        "colab": {
          "base_uri": "https://localhost:8080/"
        },
        "id": "1AG9z6RDB9u2",
        "outputId": "94797c23-aeb7-4ba8-f5a0-609d9e7ca14e"
      },
      "execution_count": null,
      "outputs": [
        {
          "output_type": "stream",
          "name": "stdout",
          "text": [
            "enter your name: Hamdan\n",
            "Greetings Hamdan\n"
          ]
        }
      ]
    },
    {
      "cell_type": "code",
      "source": [
        "def square_area(side):\n",
        "  return side**2\n",
        "\n",
        "area = square_area(5)\n",
        "print(area)"
      ],
      "metadata": {
        "colab": {
          "base_uri": "https://localhost:8080/"
        },
        "id": "e6OVuAQ7B9fi",
        "outputId": "2e307f93-2127-488a-b95c-e3c875270d58"
      },
      "execution_count": null,
      "outputs": [
        {
          "output_type": "stream",
          "name": "stdout",
          "text": [
            "25\n"
          ]
        }
      ]
    },
    {
      "cell_type": "code",
      "source": [
        "x = float(input('Enter the length of the square side in meters: '))\n",
        "area = square_area(x)\n",
        "print('The area of the square is', area, 'square meters')"
      ],
      "metadata": {
        "colab": {
          "base_uri": "https://localhost:8080/"
        },
        "id": "lkWr8FrmB9HO",
        "outputId": "898f1e67-cd8f-4c69-caf6-423aaecf7249"
      },
      "execution_count": null,
      "outputs": [
        {
          "output_type": "stream",
          "name": "stdout",
          "text": [
            "Enter the length of the square side in meters: 10.5\n",
            "The area of the square is 110.25 square meters\n"
          ]
        }
      ]
    },
    {
      "cell_type": "markdown",
      "source": [
        "# Local and Global Variables\n",
        "\n"
      ],
      "metadata": {
        "id": "STS2w6aT0qRj"
      }
    },
    {
      "cell_type": "markdown",
      "source": [
        "**Local variable**: variable that is assigned a value inside a function\n",
        "* Belongs to the function in which it was created\n",
        "* Only statements inside that function can access it, error will occur if another function tries to access the variable\n",
        "\n",
        "**Scope**: the part of a program in which a variable may be accessed\n",
        "For local variable: function in which created"
      ],
      "metadata": {
        "id": "b-9dZ3gTCMBj"
      }
    },
    {
      "cell_type": "markdown",
      "source": [
        "##Local variables examples"
      ],
      "metadata": {
        "id": "g8KD-KRBCQko"
      }
    },
    {
      "cell_type": "code",
      "source": [
        "y = 10 #This is a global variable\n",
        "print(\"This is y outside the function \",y) #(1) This is y .... 10\n",
        "\n",
        "def squarer(x): #x = y = 10\n",
        "    y = x * x\n",
        "    print(\"This is y inside the function \",y) #(3) This is y insidee .. 100\n",
        "    return y\n",
        "\n",
        "print(\"This is y outside the function again \",y) #(2) This is y ....... 10\n",
        "z = squarer(y) # z = 100\n",
        "\n",
        "print(\"This is y outside the function again 2nd time \",y) #(4)This is y outside the ... 10\n",
        "print(z) #(5) 100"
      ],
      "metadata": {
        "id": "EI5bBNpY1WNP",
        "colab": {
          "base_uri": "https://localhost:8080/"
        },
        "outputId": "9f42151d-2103-4c4e-970d-fea822e038d9"
      },
      "execution_count": null,
      "outputs": [
        {
          "output_type": "stream",
          "name": "stdout",
          "text": [
            "This is y outside the function  10\n",
            "This is y outside the function again  10\n",
            "This is y inside the function  100\n",
            "This is y outside the function again 2nd time  10\n",
            "100\n"
          ]
        }
      ]
    },
    {
      "cell_type": "code",
      "source": [
        "y = 10\n",
        "\n",
        "def mul_with_y(x):\n",
        "    y = 5 #local variable\n",
        "    b = 10\n",
        "    return x * y\n",
        "b = 100\n",
        "a = 5 + b #105\n",
        "\n",
        "z = mul_with_y(a)\n",
        "print(z) #525"
      ],
      "metadata": {
        "id": "tOXyP_4t1fgm",
        "colab": {
          "base_uri": "https://localhost:8080/"
        },
        "outputId": "260d5b4b-fb8f-4c38-bae0-a324190884ca"
      },
      "execution_count": null,
      "outputs": [
        {
          "output_type": "stream",
          "name": "stdout",
          "text": [
            "525\n"
          ]
        }
      ]
    },
    {
      "cell_type": "code",
      "source": [
        "y = 10\n",
        "\n",
        "def mul_with_y(x):\n",
        "    #y = 5 #local variable\n",
        "    b = 10\n",
        "    return x * y\n",
        "b = 100\n",
        "a = 5 + b #105\n",
        "\n",
        "z = mul_with_y(a)\n",
        "print(z) #1050"
      ],
      "metadata": {
        "colab": {
          "base_uri": "https://localhost:8080/"
        },
        "id": "6w4K3OXgL-xk",
        "outputId": "3b91bb2d-aa8d-46c1-b1be-40446499e3e1"
      },
      "execution_count": null,
      "outputs": [
        {
          "output_type": "stream",
          "name": "stdout",
          "text": [
            "1050\n"
          ]
        }
      ]
    },
    {
      "cell_type": "markdown",
      "source": [
        "##Global Variables and Global Constants\n"
      ],
      "metadata": {
        "id": "d07pKTJxCVpi"
      }
    },
    {
      "cell_type": "code",
      "source": [
        "def change_x(a): # a = y = 3\n",
        "    x = a # x = 3\n",
        "    print(\"x in the function is: \",x) #(1) x in .... 3\n",
        "x = 2\n",
        "y = 3\n",
        "change_x(y)\n",
        "print(\"x out of the function is: \",x) #(2) x out .. 2"
      ],
      "metadata": {
        "colab": {
          "base_uri": "https://localhost:8080/"
        },
        "id": "NVMDSxRuCnTm",
        "outputId": "eb7b49f5-74cd-4a12-bcc1-ea5d819b62c4"
      },
      "execution_count": null,
      "outputs": [
        {
          "output_type": "stream",
          "name": "stdout",
          "text": [
            "x in the function is:  3\n",
            "x out of the function is:  2\n"
          ]
        }
      ]
    },
    {
      "cell_type": "code",
      "source": [
        "def change_x(a): # a = y = 3\n",
        "    global x # x in the function is the same as the global variable\n",
        "    x = a #x = 3\n",
        "    print(\"x in the function is: \",x) #(1) x in ... 3\n",
        "x = 2\n",
        "y = 3\n",
        "change_x(y)\n",
        "print(\"x out of the function is: \",x) #x out .... 3"
      ],
      "metadata": {
        "colab": {
          "base_uri": "https://localhost:8080/"
        },
        "id": "QqloXqhtCtli",
        "outputId": "959afb18-a50c-4e55-d787-67a2ca4d666d"
      },
      "execution_count": null,
      "outputs": [
        {
          "output_type": "stream",
          "name": "stdout",
          "text": [
            "x in the function is:  3\n",
            "x out of the function is:  3\n"
          ]
        }
      ]
    },
    {
      "cell_type": "markdown",
      "source": [
        "**Warning**: please avoid using global variables unless it is really necesiary to do that."
      ],
      "metadata": {
        "id": "9sxobnZeCufA"
      }
    },
    {
      "cell_type": "markdown",
      "source": [
        "# Passing Arguments to Functions"
      ],
      "metadata": {
        "id": "D5soAJ4JHvyA"
      }
    },
    {
      "cell_type": "code",
      "source": [
        "def show_double(number):\n",
        "    result = number * 2\n",
        "    print(result)\n",
        "\n",
        "\n",
        "value = 5\n",
        "show_double(value)\n"
      ],
      "metadata": {
        "id": "raGY7gIfHvK-",
        "colab": {
          "base_uri": "https://localhost:8080/"
        },
        "outputId": "64eb3a80-9b92-4014-97c9-3a9a992c9d2f"
      },
      "execution_count": null,
      "outputs": [
        {
          "output_type": "stream",
          "name": "stdout",
          "text": [
            "10\n"
          ]
        }
      ]
    },
    {
      "cell_type": "markdown",
      "source": [
        "##Making changes on parameters"
      ],
      "metadata": {
        "id": "T4Dgl1INRbgq"
      }
    },
    {
      "cell_type": "code",
      "source": [
        "value = 10\n",
        "\n",
        "def make_zero(number):\n",
        "  print('The initial value is', number) #(1) The initial ... 10\n",
        "  number = 0\n",
        "  print('The final value is', number) #(2) The final .... 0\n",
        "\n",
        "make_zero(value)\n",
        "print(value) #(3)10"
      ],
      "metadata": {
        "colab": {
          "base_uri": "https://localhost:8080/"
        },
        "id": "eNcTrbjSRZEg",
        "outputId": "66327023-f479-4a40-991a-b116bdac845a"
      },
      "execution_count": null,
      "outputs": [
        {
          "output_type": "stream",
          "name": "stdout",
          "text": [
            "The initial value is 10\n",
            "The final value is 0\n",
            "10\n"
          ]
        }
      ]
    },
    {
      "cell_type": "markdown",
      "source": [
        "##Passing multiple arguments"
      ],
      "metadata": {
        "id": "JIKKoCWkRQqD"
      }
    },
    {
      "cell_type": "code",
      "source": [
        "def show_multiples(base, n):\n",
        "  for i in range(n):\n",
        "    print(base * (i + 1),end=' ')\n",
        "  print()\n",
        "\n",
        "show_multiples(2, 5)"
      ],
      "metadata": {
        "colab": {
          "base_uri": "https://localhost:8080/"
        },
        "id": "fjn0Ux48RQCJ",
        "outputId": "033bca2e-e0b8-4fce-cd3c-6317ddb6112b"
      },
      "execution_count": null,
      "outputs": [
        {
          "output_type": "stream",
          "name": "stdout",
          "text": [
            "2 4 6 8 10 \n"
          ]
        }
      ]
    },
    {
      "cell_type": "code",
      "source": [
        "show_multiples(n=5, base=2)"
      ],
      "metadata": {
        "id": "5Svjw7sMH-mB",
        "colab": {
          "base_uri": "https://localhost:8080/"
        },
        "outputId": "66ebaa07-0e47-422d-cf6f-809ddc49897e"
      },
      "execution_count": null,
      "outputs": [
        {
          "output_type": "stream",
          "name": "stdout",
          "text": [
            "2 4 6 8 10 \n"
          ]
        }
      ]
    },
    {
      "cell_type": "markdown",
      "source": [
        "##Default values for parameters"
      ],
      "metadata": {
        "id": "Kasw_5eTRLID"
      }
    },
    {
      "cell_type": "code",
      "source": [
        "def bisection_sqrt(x, epsilon=1E-6):\n",
        "    low = 1\n",
        "    high = x\n",
        "    mid = (low + high)/2\n",
        "    while abs(mid*mid - x) > epsilon:\n",
        "        if mid*mid < x:\n",
        "            low = mid\n",
        "        else:\n",
        "            high = mid\n",
        "        mid = (low + high)/2\n",
        "    return mid"
      ],
      "metadata": {
        "id": "HxGmC14HH-bb"
      },
      "execution_count": null,
      "outputs": []
    },
    {
      "cell_type": "code",
      "source": [
        "x = int(input(\"enter x (x>1): \"))\n",
        "sqrt_x = bisection_sqrt(x)\n",
        "print(\"the square root of\", x,\"is approximately:\", sqrt_x)\n",
        "\n",
        "sqrt_x = bisection_sqrt(x, epsilon=1E-8)\n",
        "print(\"the square root of\", x,\"is approximately:\", sqrt_x)\n",
        "\n",
        "sqrt_x = bisection_sqrt(x, 1E-12)\n",
        "print(\"the square root of\", x,\"is approximately:\", sqrt_x)\n",
        "\n",
        "\n"
      ],
      "metadata": {
        "id": "wEsXqHNjJEDN",
        "colab": {
          "base_uri": "https://localhost:8080/"
        },
        "outputId": "0ecdf9b2-fff6-4b86-a15e-2c5b8e91af0f"
      },
      "execution_count": null,
      "outputs": [
        {
          "output_type": "stream",
          "name": "stdout",
          "text": [
            "enter x (x>1): 16\n",
            "the square root of 16 is approximately: 4.000000044703484\n",
            "the square root of 16 is approximately: 3.999999999301508\n",
            "the square root of 16 is approximately: 4.000000000000043\n"
          ]
        }
      ]
    },
    {
      "cell_type": "markdown",
      "source": [
        "#Return Statements and Output"
      ],
      "metadata": {
        "id": "PueiDFvcV07r"
      }
    },
    {
      "cell_type": "markdown",
      "source": [
        "##What is the `return` Statement?"
      ],
      "metadata": {
        "id": "B9exMYKEWUrj"
      }
    },
    {
      "cell_type": "code",
      "source": [
        "def add(x,y):\n",
        "  return x + y\n",
        "\n",
        "a = 2\n",
        "b = 3\n",
        "c = add(a,b)\n",
        "print(c)"
      ],
      "metadata": {
        "colab": {
          "base_uri": "https://localhost:8080/"
        },
        "id": "P_O1tflTV1mC",
        "outputId": "c1155212-d080-4cf2-f1d3-4ad02fc6a0d8"
      },
      "execution_count": null,
      "outputs": [
        {
          "output_type": "stream",
          "name": "stdout",
          "text": [
            "5\n"
          ]
        }
      ]
    },
    {
      "cell_type": "markdown",
      "source": [
        "##Returning vs **Printing**"
      ],
      "metadata": {
        "id": "zoTr1MMAWWVT"
      }
    },
    {
      "cell_type": "code",
      "source": [
        "def get_double(number):\n",
        "  result = number * 2\n",
        "  return result\n",
        "\n",
        "value = 5\n",
        "double_value = get_double(value)\n",
        "\n",
        "print(double_value)\n"
      ],
      "metadata": {
        "colab": {
          "base_uri": "https://localhost:8080/"
        },
        "id": "fr0hjoEDYwRd",
        "outputId": "956d6389-d9a5-4ed4-f0bd-d1c96524cbce"
      },
      "execution_count": null,
      "outputs": [
        {
          "output_type": "stream",
          "name": "stdout",
          "text": [
            "10\n"
          ]
        }
      ]
    },
    {
      "cell_type": "markdown",
      "source": [
        "##Returning Different Data Types\n",
        "You can return:\n",
        "\n",
        "- Numbers: `return 42`\n",
        "- Strings: `return \"Done\"`\n",
        "- Lists: `return [1, 2, 3]`\n",
        "- Booleans: `return True`\n",
        "- Even other functions or complex objects!\n",
        "\n"
      ],
      "metadata": {
        "id": "fnNhb8yWWeDf"
      }
    },
    {
      "cell_type": "code",
      "source": [
        "def character_percentage(text, character):\n",
        "    count = 0\n",
        "    for c in text:\n",
        "        if c == character:\n",
        "            count += 1\n",
        "    percentage = 100 * count / len(text)\n",
        "    return f'The text contains {percentage:.2f}% of the character {character}'"
      ],
      "metadata": {
        "id": "S6KszJ04XSQr"
      },
      "execution_count": null,
      "outputs": []
    },
    {
      "cell_type": "code",
      "source": [
        "text = input('Enter a text: ')\n",
        "character = input('Enter a character: ')\n",
        "print(character_percentage(text, character))"
      ],
      "metadata": {
        "colab": {
          "base_uri": "https://localhost:8080/"
        },
        "id": "zWAPS2-DaCO6",
        "outputId": "46eb3721-bbee-488c-fcb4-2dc645cbdbb4"
      },
      "execution_count": null,
      "outputs": [
        {
          "output_type": "stream",
          "name": "stdout",
          "text": [
            "Enter a text: Here is some example text\n",
            "Enter a character: e\n",
            "The text contains 24.00% of the character e\n"
          ]
        }
      ]
    },
    {
      "cell_type": "code",
      "source": [
        "def get_some_primes():\n",
        "  return [2, 3, 5, 7, 11]\n",
        "\n",
        "primes = get_some_primes()\n",
        "print(primes)"
      ],
      "metadata": {
        "colab": {
          "base_uri": "https://localhost:8080/"
        },
        "id": "nvQq_TPraUl-",
        "outputId": "84b95e44-d72a-4beb-8306-fb9ebe6cde11"
      },
      "execution_count": null,
      "outputs": [
        {
          "output_type": "stream",
          "name": "stdout",
          "text": [
            "[2, 3, 5, 7, 11]\n"
          ]
        }
      ]
    },
    {
      "cell_type": "markdown",
      "source": [
        "##Multiple Return Statements\n",
        "- A function may return different things depending on conditions.\n",
        "- first `return` encouter terminate the function"
      ],
      "metadata": {
        "id": "N8wpX4TPWnD9"
      }
    },
    {
      "cell_type": "code",
      "source": [
        "def letter_grade(score):\n",
        "    if score >= 90:\n",
        "        return 'A'\n",
        "    elif score >= 80:\n",
        "        return 'B'\n",
        "    elif score >= 70:\n",
        "        return 'C'\n",
        "    elif score >= 60:\n",
        "        return 'D'\n",
        "    else:\n",
        "        return 'F'\n",
        "\n",
        "grade = letter_grade(85)\n",
        "print(grade)"
      ],
      "metadata": {
        "colab": {
          "base_uri": "https://localhost:8080/"
        },
        "id": "fSyHvAF4am1B",
        "outputId": "4e2f3f87-7ea8-4395-c789-b77abfe71ac1"
      },
      "execution_count": null,
      "outputs": [
        {
          "output_type": "stream",
          "name": "stdout",
          "text": [
            "B\n"
          ]
        }
      ]
    },
    {
      "cell_type": "markdown",
      "source": [
        "##Returning Multiple Values\n",
        "min max"
      ],
      "metadata": {
        "id": "2NKzZ1CjXPix"
      }
    },
    {
      "cell_type": "code",
      "source": [
        "def min_max(L):\n",
        "    mn = min(L)\n",
        "    mx = max(L)\n",
        "    return mn, mx\n",
        "\n",
        "a, b = min_max([5,8,7,10,11])\n",
        "print(a,b)"
      ],
      "metadata": {
        "colab": {
          "base_uri": "https://localhost:8080/"
        },
        "id": "JyQA9rarbCtn",
        "outputId": "43e64a0d-3b72-410b-e2f6-110f0e148426"
      },
      "execution_count": null,
      "outputs": [
        {
          "output_type": "stream",
          "name": "stdout",
          "text": [
            "5 11\n"
          ]
        }
      ]
    },
    {
      "cell_type": "markdown",
      "source": [
        "#Standard Library Functions and import statemet"
      ],
      "metadata": {
        "id": "I7wEf-m7cChq"
      }
    },
    {
      "cell_type": "code",
      "source": [
        "print('This is a standard function')\n",
        "x = input('Enter a number: ')\n",
        "print(len(x))\n",
        "y = int(x)\n",
        "print(y)"
      ],
      "metadata": {
        "colab": {
          "base_uri": "https://localhost:8080/"
        },
        "id": "sl5x4ILDglbM",
        "outputId": "ccb4db64-9cb5-4970-d6a8-56cad53d6362"
      },
      "execution_count": null,
      "outputs": [
        {
          "output_type": "stream",
          "name": "stdout",
          "text": [
            "This is a standard function\n",
            "Enter a number: 3\n",
            "1\n",
            "3\n"
          ]
        }
      ]
    },
    {
      "cell_type": "markdown",
      "source": [
        "##Modules and Importing"
      ],
      "metadata": {
        "id": "gLOcSbwVf3M-"
      }
    },
    {
      "cell_type": "code",
      "source": [
        "import time\n",
        "\n",
        "time.sleep(5)\n",
        "print('done')"
      ],
      "metadata": {
        "colab": {
          "base_uri": "https://localhost:8080/"
        },
        "id": "BGHxKIohg6eK",
        "outputId": "dd71d969-a9b9-40b5-f867-c5adaee7aade"
      },
      "execution_count": null,
      "outputs": [
        {
          "output_type": "stream",
          "name": "stdout",
          "text": [
            "done\n"
          ]
        }
      ]
    },
    {
      "cell_type": "code",
      "source": [
        "start = time.time()\n",
        "time.sleep(5)\n",
        "#some processing\n",
        "end = time.time()\n",
        "elapsed = end - start\n",
        "print(elapsed)"
      ],
      "metadata": {
        "colab": {
          "base_uri": "https://localhost:8080/"
        },
        "id": "oyCBhKWdhUYZ",
        "outputId": "30858351-13fc-4919-a066-eabb18600978"
      },
      "execution_count": null,
      "outputs": [
        {
          "output_type": "stream",
          "name": "stdout",
          "text": [
            "5.000337839126587\n"
          ]
        }
      ]
    },
    {
      "cell_type": "code",
      "source": [
        "from time import sleep\n",
        "\n",
        "sleep(5)\n",
        "print('done')"
      ],
      "metadata": {
        "colab": {
          "base_uri": "https://localhost:8080/"
        },
        "id": "VbNDU1biiW4q",
        "outputId": "d8315964-9c82-4fde-cf8e-8882bbd59568"
      },
      "execution_count": null,
      "outputs": [
        {
          "output_type": "stream",
          "name": "stdout",
          "text": [
            "done\n"
          ]
        }
      ]
    },
    {
      "cell_type": "code",
      "source": [
        "start = time.time()"
      ],
      "metadata": {
        "id": "XQvyshCFioN2"
      },
      "execution_count": null,
      "outputs": []
    },
    {
      "cell_type": "markdown",
      "source": [
        "##Common Standard Modules\n",
        "Here are some popular modules in Python’s standard library that you’ll likely use:\n",
        "\n",
        "- `random` – for random numbers\n",
        "- `math` – math functions and constants\n",
        "- `datetime` – dates and times\n",
        "- `os` – interacting with your computer’s file system\n",
        "- `sys` – system-specific functions\n",
        "\n",
        "You don’t need to install these — they come with Python!"
      ],
      "metadata": {
        "id": "UYylaNWBf2ew"
      }
    },
    {
      "cell_type": "code",
      "source": [
        "import datetime\n",
        "\n",
        "now = datetime.datetime.now()\n",
        "print(now)"
      ],
      "metadata": {
        "colab": {
          "base_uri": "https://localhost:8080/"
        },
        "id": "bjcZkvDijaIZ",
        "outputId": "54cb6dd6-5003-4026-8f9a-6899d841b895"
      },
      "execution_count": null,
      "outputs": [
        {
          "output_type": "stream",
          "name": "stdout",
          "text": [
            "2025-08-02 02:13:39.163905\n"
          ]
        }
      ]
    },
    {
      "cell_type": "code",
      "source": [
        "import os\n",
        "if not os.path.exists('output'):\n",
        "    os.makedirs('output')"
      ],
      "metadata": {
        "id": "lL1nDUm7jtiB"
      },
      "execution_count": null,
      "outputs": []
    },
    {
      "cell_type": "code",
      "source": [
        "import sys\n",
        "print(sys.version)"
      ],
      "metadata": {
        "colab": {
          "base_uri": "https://localhost:8080/"
        },
        "id": "T8sYfj08kHXW",
        "outputId": "a52b56a0-ec0a-49f1-e205-822c5b7186fe"
      },
      "execution_count": null,
      "outputs": [
        {
          "output_type": "stream",
          "name": "stdout",
          "text": [
            "3.11.13 (main, Jun  4 2025, 08:57:29) [GCC 11.4.0]\n"
          ]
        }
      ]
    },
    {
      "cell_type": "markdown",
      "source": [
        "# Generating Random Numbers"
      ],
      "metadata": {
        "id": "CoJ4Ja31SwJe"
      }
    },
    {
      "cell_type": "code",
      "source": [
        "import random"
      ],
      "metadata": {
        "id": "J5LeBfnbSwp9"
      },
      "execution_count": null,
      "outputs": []
    },
    {
      "cell_type": "code",
      "source": [
        "random.seed(10)\n",
        "rand = random.randint(1,100)\n",
        "print(rand)"
      ],
      "metadata": {
        "colab": {
          "base_uri": "https://localhost:8080/"
        },
        "id": "LsaF4vknvCRp",
        "outputId": "58056ebe-f187-46c4-a077-b4885736bf47"
      },
      "execution_count": null,
      "outputs": [
        {
          "output_type": "stream",
          "name": "stdout",
          "text": [
            "74\n"
          ]
        }
      ]
    },
    {
      "cell_type": "code",
      "source": [
        "#random.seed(10)\n",
        "for i in range(10):\n",
        "  print(random.randint(1,100))"
      ],
      "metadata": {
        "colab": {
          "base_uri": "https://localhost:8080/"
        },
        "id": "wiNJicyyvCFA",
        "outputId": "96c192cf-ce97-4acc-a1e2-62cd9567bf3b"
      },
      "execution_count": null,
      "outputs": [
        {
          "output_type": "stream",
          "name": "stdout",
          "text": [
            "6\n",
            "54\n",
            "18\n",
            "78\n",
            "46\n",
            "49\n",
            "54\n",
            "37\n",
            "87\n",
            "34\n"
          ]
        }
      ]
    },
    {
      "cell_type": "code",
      "source": [
        "print(random.random()*50)"
      ],
      "metadata": {
        "colab": {
          "base_uri": "https://localhost:8080/"
        },
        "id": "fASp6YPDvCBb",
        "outputId": "16cfc231-30ec-4dff-e945-75b905dc260e"
      },
      "execution_count": null,
      "outputs": [
        {
          "output_type": "stream",
          "name": "stdout",
          "text": [
            "38.39189069719953\n"
          ]
        }
      ]
    },
    {
      "cell_type": "code",
      "source": [
        "print(random.uniform(1,10))"
      ],
      "metadata": {
        "colab": {
          "base_uri": "https://localhost:8080/"
        },
        "id": "xUnBOCZRvB-T",
        "outputId": "023b4c5f-3542-4bd0-8531-49b776d21602"
      },
      "execution_count": null,
      "outputs": [
        {
          "output_type": "stream",
          "name": "stdout",
          "text": [
            "6.51994138492038\n"
          ]
        }
      ]
    },
    {
      "cell_type": "code",
      "source": [
        "for i in range(5):\n",
        "  print(random.randrange(1,100,2))"
      ],
      "metadata": {
        "colab": {
          "base_uri": "https://localhost:8080/"
        },
        "id": "7WCbtPPXwpwI",
        "outputId": "a66f11f1-3938-4086-9a7a-ba695d470d33"
      },
      "execution_count": null,
      "outputs": [
        {
          "output_type": "stream",
          "name": "stdout",
          "text": [
            "39\n",
            "69\n",
            "47\n",
            "99\n",
            "31\n"
          ]
        }
      ]
    },
    {
      "cell_type": "code",
      "source": [],
      "metadata": {
        "id": "DpnN72M6wpsv"
      },
      "execution_count": null,
      "outputs": []
    },
    {
      "cell_type": "code",
      "source": [],
      "metadata": {
        "id": "M0vB5D0EvB2_"
      },
      "execution_count": null,
      "outputs": []
    },
    {
      "cell_type": "markdown",
      "source": [
        "#Writing Your Own Value-Returning Functions"
      ],
      "metadata": {
        "id": "Jle4ovx6W3-B"
      }
    },
    {
      "cell_type": "markdown",
      "source": [
        "##Returning Boolean Variables\n",
        "Example 1: Find if the number is even?"
      ],
      "metadata": {
        "id": "uOg1bN-Ynxx1"
      }
    },
    {
      "cell_type": "code",
      "source": [
        "def is_even(number):\n",
        "  return number % 2 == 0\n",
        "\n",
        "x = int(input(\"enter a number: \"))\n",
        "if is_even(x):\n",
        "  print(x, \"is even\")\n",
        "else:\n",
        "  print(x, \"is odd\")"
      ],
      "metadata": {
        "colab": {
          "base_uri": "https://localhost:8080/"
        },
        "id": "4WDi3LF3zFyp",
        "outputId": "90e82c95-b2ed-4f12-a944-0ee72609dbdb"
      },
      "execution_count": null,
      "outputs": [
        {
          "output_type": "stream",
          "name": "stdout",
          "text": [
            "enter a number: 7\n",
            "7 is odd\n"
          ]
        }
      ]
    },
    {
      "cell_type": "markdown",
      "source": [
        "Example 2: Can the user vote?"
      ],
      "metadata": {
        "id": "-_ZNGBIsojA5"
      }
    },
    {
      "cell_type": "code",
      "source": [
        "def can_vote(age):\n",
        "  return age >= 18\n",
        "\n",
        "age = int(input(\"enter your age: \"))\n",
        "if can_vote(age):\n",
        "  print(\"you can vote\")\n",
        "else:\n",
        "  print(\"you cannot vote\")"
      ],
      "metadata": {
        "colab": {
          "base_uri": "https://localhost:8080/"
        },
        "id": "lZsGSYUEzlD2",
        "outputId": "21b204e5-4613-4bf6-bf8c-b95b9f2b91b7"
      },
      "execution_count": null,
      "outputs": [
        {
          "output_type": "stream",
          "name": "stdout",
          "text": [
            "enter your age: 50\n",
            "you can vote\n"
          ]
        }
      ]
    },
    {
      "cell_type": "markdown",
      "source": [
        "Example 3: Write a function `is_palindrome(word)` that returns True if the word is a palindrome."
      ],
      "metadata": {
        "id": "FcOR69EUoqPi"
      }
    },
    {
      "cell_type": "code",
      "source": [
        "def is_palindrome(word):\n",
        "  reversed_word =''\n",
        "  for letter in word:\n",
        "    reversed_word = letter + reversed_word\n",
        "    #print(reversed_word)\n",
        "  return reversed_word == word\n",
        "\n",
        "word = input(\"enter a word: \")\n",
        "if is_palindrome(word):\n",
        "  print(word, \"is a palindrome\")\n",
        "else:\n",
        "  print(word, \"is not a palindrome\")"
      ],
      "metadata": {
        "colab": {
          "base_uri": "https://localhost:8080/"
        },
        "id": "sP0gVMAUz2qK",
        "outputId": "73d20891-7a14-4244-f735-3c034b21603f"
      },
      "execution_count": null,
      "outputs": [
        {
          "output_type": "stream",
          "name": "stdout",
          "text": [
            "enter a word: dad\n",
            "dad is a palindrome\n"
          ]
        }
      ]
    },
    {
      "cell_type": "markdown",
      "source": [
        "##Returning strings\n",
        "Example 1: greet user"
      ],
      "metadata": {
        "id": "d3t_lFFNsI8J"
      }
    },
    {
      "cell_type": "code",
      "source": [
        "def greet_user(name):\n",
        "  return \"Hello \" + name\n",
        "\n",
        "name = input(\"enter your name: \")\n",
        "greeting = greet_user(name)\n",
        "print(greeting)"
      ],
      "metadata": {
        "colab": {
          "base_uri": "https://localhost:8080/"
        },
        "id": "gThDwvV81CIG",
        "outputId": "9e5e18b4-edae-4027-84a1-c7c8f52524ed"
      },
      "execution_count": null,
      "outputs": [
        {
          "output_type": "stream",
          "name": "stdout",
          "text": [
            "enter your name: Hamdan\n",
            "Hello Hamdan\n"
          ]
        }
      ]
    },
    {
      "cell_type": "markdown",
      "source": [
        "Example 2: Generate password"
      ],
      "metadata": {
        "id": "uczAYaEssOyJ"
      }
    },
    {
      "cell_type": "markdown",
      "source": [
        "![image.png](data:image/png;base64,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)"
      ],
      "metadata": {
        "id": "GZdQy_6Kujti"
      }
    },
    {
      "cell_type": "code",
      "source": [
        "import random\n",
        "def generate_password(length):\n",
        "  password = ''\n",
        "  for i in range(length):\n",
        "    password += chr(random.randint(33,126))\n",
        "  return password"
      ],
      "metadata": {
        "id": "jg69MwoA11CA"
      },
      "execution_count": null,
      "outputs": []
    },
    {
      "cell_type": "code",
      "source": [
        "length = int(input('Enter the length of the password: '))\n",
        "password = generate_password(length)\n",
        "print(password)"
      ],
      "metadata": {
        "colab": {
          "base_uri": "https://localhost:8080/"
        },
        "id": "TxcCmxKa2L0J",
        "outputId": "41d94848-e07f-458c-b9e6-79ba7f47d1b2"
      },
      "execution_count": null,
      "outputs": [
        {
          "output_type": "stream",
          "name": "stdout",
          "text": [
            "Enter the length of the password: 20\n",
            "Vwp=LhI-&<PPiU{p0q-h\n"
          ]
        }
      ]
    },
    {
      "cell_type": "markdown",
      "source": [
        "##Returning multiple values\n",
        "Example 1: Calculate area and perimeter of a rectangle"
      ],
      "metadata": {
        "id": "UVyEtHY_tYU6"
      }
    },
    {
      "cell_type": "code",
      "source": [
        "def area_perimeter_rectangle(length, width):\n",
        "  area = length * width\n",
        "  perimeter = 2 * (length + width)\n",
        "  return area, perimeter"
      ],
      "metadata": {
        "id": "9z_Ev_vUtnCZ"
      },
      "execution_count": null,
      "outputs": []
    },
    {
      "cell_type": "code",
      "source": [
        "length = int(input('Enter the length of the rectangle: '))\n",
        "width = int(input('Enter the width of the rectangle: '))\n",
        "area, perimeter = area_perimeter_rectangle(length, width)"
      ],
      "metadata": {
        "colab": {
          "base_uri": "https://localhost:8080/"
        },
        "id": "ZwmYJhzU2uNb",
        "outputId": "94d51aaa-dbcd-4e3b-ebea-dfb0d904ad14"
      },
      "execution_count": null,
      "outputs": [
        {
          "name": "stdout",
          "output_type": "stream",
          "text": [
            "Enter the length of the rectangle: 10\n",
            "Enter the width of the rectangle: 5\n"
          ]
        }
      ]
    },
    {
      "cell_type": "code",
      "source": [
        "print('The area of the rectangle is: ', area)\n",
        "print('The perimeter of the rectangle is: ', perimeter)"
      ],
      "metadata": {
        "colab": {
          "base_uri": "https://localhost:8080/"
        },
        "id": "6JI1By6h25sg",
        "outputId": "1a9e4f28-134b-4b82-fc82-5c427e4dd356"
      },
      "execution_count": null,
      "outputs": [
        {
          "output_type": "stream",
          "name": "stdout",
          "text": [
            "The area of the rectangle is:  50\n",
            "The perimeter of the rectangle is:  30\n"
          ]
        }
      ]
    },
    {
      "cell_type": "markdown",
      "source": [
        "Example 2: Write a Python function that takes a value x in radians and returns the sine and cosine of x using the Maclaurin series expansion (also called Taylor series around 0).\n",
        "\n",
        "You should approximate both $sin(x)$ and $cos(x)$ using the first n terms of the series:\n",
        "\n",
        "Maclaurin Series Equations\n",
        "\n",
        "Sine:\n",
        "\n",
        "$\\sin(x) = \\sum_{k=0}^{n-1} (-1)^k \\cdot \\frac{x^{2k+1}}{(2k+1)!}$\n",
        "\n",
        "Cosine:\n",
        "\n",
        "$\\cos(x) = \\sum_{k=0}^{n-1} (-1)^k \\cdot \\frac{x^{2k}}{(2k)!}$"
      ],
      "metadata": {
        "id": "RMJoMmBGvOqu"
      }
    },
    {
      "cell_type": "code",
      "source": [
        "# Helper: Compute factorial manually\n",
        "def factorial(k):\n",
        "    result = 1\n",
        "    for i in range(2, k + 1):\n",
        "        result *= i\n",
        "    return result"
      ],
      "metadata": {
        "id": "lrysVkGqwQ45"
      },
      "execution_count": null,
      "outputs": []
    },
    {
      "cell_type": "code",
      "source": [
        "def compute_sin_cos(x, n):\n",
        "\n",
        "    # Compute sin(x) using Maclaurin series\n",
        "    sin_approx = 0\n",
        "    for k in range(n):\n",
        "        term = ((-1) ** k) * (x ** (2 * k + 1)) / factorial(2 * k + 1)\n",
        "        sin_approx += term\n",
        "\n",
        "    # Compute cos(x) using Maclaurin series\n",
        "    cos_approx = 0\n",
        "    for k in range(n):\n",
        "        term = ((-1) ** k) * (x ** (2 * k)) / factorial(2 * k)\n",
        "        cos_approx += term\n",
        "\n",
        "    return sin_approx, cos_approx"
      ],
      "metadata": {
        "id": "vmcsd_eRwQ1Q"
      },
      "execution_count": null,
      "outputs": []
    },
    {
      "cell_type": "code",
      "source": [
        "# Approximate sin and cos for π/2 radians (about 1.5708)\n",
        "x = 1.5708\n",
        "n_terms = 10\n",
        "\n",
        "sine, cosine = compute_sin_cos(x, n_terms)\n",
        "\n",
        "print(\"sin(x) ≈\", sine) #Expected output is approx 1\n",
        "print(\"cos(x) ≈\", cosine) #Expected output is approx zero"
      ],
      "metadata": {
        "colab": {
          "base_uri": "https://localhost:8080/"
        },
        "id": "-HYJ4YWywQyY",
        "outputId": "58a5ba28-031d-42dc-d138-76e8c1d8b6f2"
      },
      "execution_count": null,
      "outputs": [
        {
          "output_type": "stream",
          "name": "stdout",
          "text": [
            "sin(x) ≈ 0.9999999999932532\n",
            "cos(x) ≈ -3.6732051068115164e-06\n"
          ]
        }
      ]
    },
    {
      "cell_type": "markdown",
      "source": [
        "##Other examples"
      ],
      "metadata": {
        "id": "9kiajdhNvqfY"
      }
    },
    {
      "cell_type": "code",
      "source": [
        "def is_prime(n):\n",
        "    isprime = True\n",
        "    for d in range(2,n):\n",
        "        if n%d == 0:\n",
        "            isprime = False\n",
        "            break\n",
        "\n",
        "    return isprime"
      ],
      "metadata": {
        "id": "PdVcJE83W3nJ"
      },
      "execution_count": null,
      "outputs": []
    },
    {
      "cell_type": "code",
      "source": [
        "x = 124822\n",
        "if is_prime(x):\n",
        "    print(\"{} is a prime number\".format(x))\n",
        "else:\n",
        "    print(\"{} is not a prime number\".format(x))"
      ],
      "metadata": {
        "id": "Wtk7N57UW-_7"
      },
      "execution_count": null,
      "outputs": []
    },
    {
      "cell_type": "code",
      "source": [
        "def min_max(L):\n",
        "    mn = min(L)\n",
        "    mx = max(L)\n",
        "    return mn, mx\n",
        "\n",
        "a, b = min_max([5,8,7,10,11])\n",
        "print(a,b)"
      ],
      "metadata": {
        "id": "OJ_fDfATXASA"
      },
      "execution_count": null,
      "outputs": []
    },
    {
      "cell_type": "code",
      "source": [
        "def sum_mul(num1,num2):\n",
        "    sum = num1 + num2\n",
        "    mul = num1 * num2\n",
        "    return sum, mul\n",
        "\n",
        "a, b = sum_mul(2,3)\n",
        "print(a,b)\n"
      ],
      "metadata": {
        "id": "7eg3s2JkXZro"
      },
      "execution_count": null,
      "outputs": []
    },
    {
      "cell_type": "markdown",
      "source": [
        "##Designing a program to use functions"
      ],
      "metadata": {
        "id": "8M6slkin4-Ad"
      }
    },
    {
      "cell_type": "markdown",
      "source": [
        "![image.png](data:image/png;base64,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)"
      ],
      "metadata": {
        "id": "9baZru0y5HB2"
      }
    },
    {
      "cell_type": "code",
      "source": [
        "# Main function\n",
        "def main():\n",
        "    hours, rate = get_input()\n",
        "    gross = calc_gross_pay(hours, rate)\n",
        "    overtime = calc_overtime(hours, rate)\n",
        "    withholdings = calc_withholdings(gross)\n",
        "    net = calc_net_pay(gross + overtime, withholdings)\n",
        "\n",
        "    print(f\"\\nSummary:\")\n",
        "    print(f\"Hours Worked: {hours}\")\n",
        "    print(f\"Hourly Rate: ${rate:.2f}\")\n",
        "    print(f\"Gross Pay: ${gross:.2f}\")\n",
        "    print(f\"Overtime Pay: ${overtime:.2f}\")\n",
        "    print(f\"Total Withholdings: ${withholdings:.2f}\")\n",
        "    print(f\"Net Pay: ${net:.2f}\")"
      ],
      "metadata": {
        "id": "ceMIpX5D6hsV"
      },
      "execution_count": null,
      "outputs": []
    },
    {
      "cell_type": "code",
      "source": [
        "def get_hours_worked():\n",
        "    return int(input(\"Enter hours worked: \"))\n",
        "\n",
        "def get_hourly_rate():\n",
        "    return float(input(\"Enter hourly rate: \"))\n",
        "\n",
        "def get_input():\n",
        "    hours = get_hours_worked()\n",
        "    rate = get_hourly_rate()\n",
        "    return hours, rate\n",
        "\n",
        "def calc_gross_pay(hours, rate):\n",
        "    REGULAR_HOURS = 40\n",
        "    if hours <= REGULAR_HOURS:\n",
        "        return hours * rate\n",
        "    else:\n",
        "        return REGULAR_HOURS * rate  # Regular pay only\n",
        "\n",
        "def calc_overtime(hours, rate):\n",
        "    OVERTIME_RATE = 1.5\n",
        "    REGULAR_HOURS = 40\n",
        "    if hours > REGULAR_HOURS:\n",
        "        overtime_hours = hours - REGULAR_HOURS\n",
        "        return overtime_hours * rate * OVERTIME_RATE\n",
        "    else:\n",
        "        return 0.0\n",
        "\n",
        "def calc_taxes(gross_pay):\n",
        "    TAX_RATE = 0.15 # 15% tax\n",
        "    return gross_pay * TAX_RATE\n",
        "\n",
        "def calc_benefits(gross_pay):\n",
        "    BENEFITS_RATE = 0.05 # 5% benefits\n",
        "    return gross_pay * BENEFITS_RATE\n",
        "\n",
        "def calc_withholdings(gross_pay):\n",
        "    taxes = calc_taxes(gross_pay)\n",
        "    benefits = calc_benefits(gross_pay)\n",
        "    return taxes + benefits\n",
        "\n",
        "def calc_net_pay(total_pay, withholdings):\n",
        "    return total_pay - withholdings\n"
      ],
      "metadata": {
        "id": "NdQSrlJ76hlF"
      },
      "execution_count": null,
      "outputs": []
    },
    {
      "cell_type": "code",
      "source": [
        "main()"
      ],
      "metadata": {
        "colab": {
          "base_uri": "https://localhost:8080/"
        },
        "id": "xf3jB48g6heG",
        "outputId": "5163e2d3-8196-46ea-cb32-1a9230515e8a"
      },
      "execution_count": null,
      "outputs": [
        {
          "output_type": "stream",
          "name": "stdout",
          "text": [
            "Enter hours worked: 50\n",
            "Enter hourly rate: 20\n",
            "\n",
            "Summary:\n",
            "Hours Worked: 50\n",
            "Hourly Rate: $20.00\n",
            "Gross Pay: $800.00\n",
            "Overtime Pay: $300.00\n",
            "Total Withholdings: $160.00\n",
            "Net Pay: $940.00\n"
          ]
        }
      ]
    },
    {
      "cell_type": "markdown",
      "source": [
        "#Designing a function\n"
      ],
      "metadata": {
        "id": "Hc44DbU9FunD"
      }
    },
    {
      "cell_type": "markdown",
      "source": [
        "Example: implemet the integral approximation using ,monte carlo method\n",
        "\n",
        "| **Input**                                                                             | **Processing**                                                                                                                                      | **Output**                                              |\n",
        "| ------------------------------------------------------------------------------------- | --------------------------------------------------------------------------------------------------------------------------------------------------- | ------------------------------------------------------- |\n",
        "|  - Function $f(x)$<br>- Lower bound $a$<br>- Upper bound $b$<br>- Number of points $n$ | 1. Randomly generate $n$ values of $x$ in $[a, b]$<br>2. Evaluate $f(x)$ for each value<br>3. Compute average of $f(x)$<br>4. Multiply by $(b - a)$ | Approximate value of the integral $\\int_a^b f(x) \\, dx$ |\n"
      ],
      "metadata": {
        "id": "o6f-QNG0F2uu"
      }
    },
    {
      "cell_type": "code",
      "source": [
        "import random\n",
        "def monte_carlo_integral(f, a, b, n):\n",
        "    total = 0\n",
        "    for i in range(n):\n",
        "        x = random.uniform(a, b)\n",
        "        total += f(x)\n",
        "    return (b - a) * total / n"
      ],
      "metadata": {
        "id": "nqz4bT3xGm2d"
      },
      "execution_count": null,
      "outputs": []
    },
    {
      "cell_type": "code",
      "source": [
        "def eqn(x):\n",
        "  return x**2"
      ],
      "metadata": {
        "id": "UA7TT57QHFda"
      },
      "execution_count": null,
      "outputs": []
    },
    {
      "cell_type": "code",
      "source": [
        "integral = monte_carlo_integral(eqn, 0, 1, 1000000)\n",
        "print(integral)"
      ],
      "metadata": {
        "colab": {
          "base_uri": "https://localhost:8080/"
        },
        "id": "ME3jt0PVHFWQ",
        "outputId": "fcf8708d-fdc4-46cc-c087-49457fa1e417"
      },
      "execution_count": null,
      "outputs": [
        {
          "output_type": "stream",
          "name": "stdout",
          "text": [
            "0.33361170464126105\n"
          ]
        }
      ]
    },
    {
      "cell_type": "code",
      "source": [],
      "metadata": {
        "id": "rZvhyOsyHFKH"
      },
      "execution_count": null,
      "outputs": []
    },
    {
      "cell_type": "markdown",
      "source": [
        "#The `math` Module"
      ],
      "metadata": {
        "id": "AQPOQ3XIXjuI"
      }
    },
    {
      "cell_type": "code",
      "source": [
        "import math"
      ],
      "metadata": {
        "id": "FLEtSyfqEFGS"
      },
      "execution_count": null,
      "outputs": []
    },
    {
      "cell_type": "markdown",
      "source": [
        "##Trigonometry"
      ],
      "metadata": {
        "id": "I3BMsHnYCHkH"
      }
    },
    {
      "cell_type": "code",
      "source": [
        "x = math.sin(math.pi/2)\n",
        "print(x)"
      ],
      "metadata": {
        "colab": {
          "base_uri": "https://localhost:8080/"
        },
        "id": "iI7gsrWLEJfw",
        "outputId": "8924aa20-422e-489f-aaae-ab68ccbdd910"
      },
      "execution_count": null,
      "outputs": [
        {
          "output_type": "stream",
          "name": "stdout",
          "text": [
            "1.0\n"
          ]
        }
      ]
    },
    {
      "cell_type": "code",
      "source": [
        "print(math.radians(180))"
      ],
      "metadata": {
        "colab": {
          "base_uri": "https://localhost:8080/"
        },
        "id": "I2ONYHe0EVSM",
        "outputId": "e6df644b-c714-4b6d-a125-c77151d9e094"
      },
      "execution_count": null,
      "outputs": [
        {
          "output_type": "stream",
          "name": "stdout",
          "text": [
            "3.141592653589793\n"
          ]
        }
      ]
    },
    {
      "cell_type": "code",
      "source": [
        "y = math.cos(math.radians(60))\n",
        "print(y)"
      ],
      "metadata": {
        "colab": {
          "base_uri": "https://localhost:8080/"
        },
        "id": "COZuKdYlEm0W",
        "outputId": "0c3a3da5-657d-42c3-aeb8-1ed6509521b0"
      },
      "execution_count": null,
      "outputs": [
        {
          "output_type": "stream",
          "name": "stdout",
          "text": [
            "0.5000000000000001\n"
          ]
        }
      ]
    },
    {
      "cell_type": "code",
      "source": [
        "print(math.acos(1))"
      ],
      "metadata": {
        "colab": {
          "base_uri": "https://localhost:8080/"
        },
        "id": "7vBk8qA5E6Ar",
        "outputId": "6fb55115-d435-482a-ccf2-e578e004f04f"
      },
      "execution_count": null,
      "outputs": [
        {
          "output_type": "stream",
          "name": "stdout",
          "text": [
            "0.0\n"
          ]
        }
      ]
    },
    {
      "cell_type": "markdown",
      "source": [
        "##constants"
      ],
      "metadata": {
        "id": "GAGEiW9bCOEo"
      }
    },
    {
      "cell_type": "code",
      "source": [
        "r = float(input(\"Enter radius: \"))\n",
        "area_circle = math.pi * r**2\n",
        "paramieter_circle = 2 * math.pi * r\n",
        "print(area_circle)\n",
        "print(paramieter_circle)"
      ],
      "metadata": {
        "colab": {
          "base_uri": "https://localhost:8080/"
        },
        "id": "Rv2Lkyu0FHBU",
        "outputId": "938b6edd-3102-44b5-a72d-13e67837c70e"
      },
      "execution_count": null,
      "outputs": [
        {
          "output_type": "stream",
          "name": "stdout",
          "text": [
            "Enter radius: 1\n",
            "3.141592653589793\n",
            "6.283185307179586\n"
          ]
        }
      ]
    },
    {
      "cell_type": "code",
      "source": [
        "print(math.e)"
      ],
      "metadata": {
        "colab": {
          "base_uri": "https://localhost:8080/"
        },
        "id": "Hd5FEYfpFhS5",
        "outputId": "69aff966-e81a-4997-f60f-9f13748e2538"
      },
      "execution_count": null,
      "outputs": [
        {
          "output_type": "stream",
          "name": "stdout",
          "text": [
            "2.718281828459045\n"
          ]
        }
      ]
    },
    {
      "cell_type": "markdown",
      "source": [
        "##Rounding"
      ],
      "metadata": {
        "id": "BtZ3r0RQCRi7"
      }
    },
    {
      "cell_type": "code",
      "source": [
        "print(round(3.5))"
      ],
      "metadata": {
        "colab": {
          "base_uri": "https://localhost:8080/"
        },
        "id": "NiYje1CSFo4k",
        "outputId": "d3043c6d-0e39-40ed-a1a4-f41b27ee5cad"
      },
      "execution_count": null,
      "outputs": [
        {
          "output_type": "stream",
          "name": "stdout",
          "text": [
            "4\n"
          ]
        }
      ]
    },
    {
      "cell_type": "code",
      "source": [
        "print(round(3.4))"
      ],
      "metadata": {
        "colab": {
          "base_uri": "https://localhost:8080/"
        },
        "id": "ksubpS0OFwSl",
        "outputId": "f7b692fd-2646-41ad-c1ca-0110e4b687e8"
      },
      "execution_count": null,
      "outputs": [
        {
          "output_type": "stream",
          "name": "stdout",
          "text": [
            "3.4\n"
          ]
        }
      ]
    },
    {
      "cell_type": "code",
      "source": [
        "print(math.ceil(5.1))"
      ],
      "metadata": {
        "colab": {
          "base_uri": "https://localhost:8080/"
        },
        "id": "bAvIhn3bF2L1",
        "outputId": "e20b27eb-c801-4e5e-ceb3-2e22d691d55a"
      },
      "execution_count": null,
      "outputs": [
        {
          "output_type": "stream",
          "name": "stdout",
          "text": [
            "6\n"
          ]
        }
      ]
    },
    {
      "cell_type": "code",
      "source": [
        "print(math.floor(5.9))"
      ],
      "metadata": {
        "colab": {
          "base_uri": "https://localhost:8080/"
        },
        "id": "Xm89VqlBF-JH",
        "outputId": "b7e3412d-0baa-4d5a-c9e3-7587d75f1e48"
      },
      "execution_count": null,
      "outputs": [
        {
          "output_type": "stream",
          "name": "stdout",
          "text": [
            "5\n"
          ]
        }
      ]
    },
    {
      "cell_type": "markdown",
      "source": [
        "##Square root"
      ],
      "metadata": {
        "id": "pQovSBC1CWbm"
      }
    },
    {
      "cell_type": "code",
      "source": [
        "x = math.sqrt(25)\n",
        "print(x)"
      ],
      "metadata": {
        "colab": {
          "base_uri": "https://localhost:8080/"
        },
        "id": "Didm3kcyGg6Q",
        "outputId": "acbef9ac-47bf-420b-bd76-de544469d70c"
      },
      "execution_count": null,
      "outputs": [
        {
          "output_type": "stream",
          "name": "stdout",
          "text": [
            "5.0\n"
          ]
        }
      ]
    },
    {
      "cell_type": "markdown",
      "source": [
        "##hypotenuse"
      ],
      "metadata": {
        "id": "GylLuOS_Cjmm"
      }
    },
    {
      "cell_type": "code",
      "source": [
        "h = math.hypot(3,4)\n",
        "print(h)"
      ],
      "metadata": {
        "colab": {
          "base_uri": "https://localhost:8080/"
        },
        "id": "piv8UaTJGt2V",
        "outputId": "3da20a62-aa96-4d00-f5bc-b1e5d46055a3"
      },
      "execution_count": null,
      "outputs": [
        {
          "output_type": "stream",
          "name": "stdout",
          "text": [
            "5.0\n"
          ]
        }
      ]
    },
    {
      "cell_type": "markdown",
      "source": [
        "##exp"
      ],
      "metadata": {
        "id": "pkzoTBmVCoWB"
      }
    },
    {
      "cell_type": "code",
      "source": [
        "y = math.exp(2)\n",
        "print(y)"
      ],
      "metadata": {
        "colab": {
          "base_uri": "https://localhost:8080/"
        },
        "id": "i78-BZDxG8lM",
        "outputId": "59013f2e-5c3b-4f99-e074-8ea6017bfeb0"
      },
      "execution_count": null,
      "outputs": [
        {
          "output_type": "stream",
          "name": "stdout",
          "text": [
            "7.38905609893065\n"
          ]
        }
      ]
    },
    {
      "cell_type": "code",
      "source": [],
      "metadata": {
        "id": "j3pykZY_G8JM"
      },
      "execution_count": null,
      "outputs": []
    },
    {
      "cell_type": "code",
      "source": [
        "from math import sqrt\n",
        "x = sqrt(25)\n",
        "print(x)"
      ],
      "metadata": {
        "id": "SLEVOFwyYAVB",
        "colab": {
          "base_uri": "https://localhost:8080/"
        },
        "outputId": "1ef138a1-f94b-4306-c4d5-8806196e7b64"
      },
      "execution_count": null,
      "outputs": [
        {
          "output_type": "stream",
          "name": "stdout",
          "text": [
            "5.0\n"
          ]
        }
      ]
    },
    {
      "cell_type": "markdown",
      "source": [
        "## Storing Functions in Modules"
      ],
      "metadata": {
        "id": "VedCy1AXX0qb"
      }
    },
    {
      "cell_type": "code",
      "source": [
        "!pwd"
      ],
      "metadata": {
        "colab": {
          "base_uri": "https://localhost:8080/"
        },
        "id": "vXkdzo69N1Uc",
        "outputId": "49a6764e-4204-44f0-865e-ed8bf553811b"
      },
      "execution_count": null,
      "outputs": [
        {
          "output_type": "stream",
          "name": "stdout",
          "text": [
            "/content\n"
          ]
        }
      ]
    },
    {
      "cell_type": "code",
      "source": [
        "!git clone https://github.com/hamdanabdellatef/python.git\n"
      ],
      "metadata": {
        "id": "ydeWErV_ZEHE",
        "colab": {
          "base_uri": "https://localhost:8080/"
        },
        "outputId": "df49f52c-5142-46a0-93e8-ee0a001e7182"
      },
      "execution_count": null,
      "outputs": [
        {
          "output_type": "stream",
          "name": "stdout",
          "text": [
            "Cloning into 'python'...\n",
            "remote: Enumerating objects: 119, done.\u001b[K\n",
            "remote: Counting objects: 100% (119/119), done.\u001b[K\n",
            "remote: Compressing objects: 100% (118/118), done.\u001b[K\n",
            "remote: Total 119 (delta 62), reused 0 (delta 0), pack-reused 0 (from 0)\u001b[K\n",
            "Receiving objects: 100% (119/119), 450.51 KiB | 7.63 MiB/s, done.\n",
            "Resolving deltas: 100% (62/62), done.\n"
          ]
        }
      ]
    },
    {
      "cell_type": "code",
      "source": [
        "%cd python"
      ],
      "metadata": {
        "colab": {
          "base_uri": "https://localhost:8080/"
        },
        "id": "YmM662ndOX1r",
        "outputId": "ed28a5e8-d609-44a0-9e56-4ce0e067b086"
      },
      "execution_count": null,
      "outputs": [
        {
          "output_type": "stream",
          "name": "stdout",
          "text": [
            "/content/python\n"
          ]
        }
      ]
    },
    {
      "cell_type": "code",
      "source": [
        "!pwd"
      ],
      "metadata": {
        "colab": {
          "base_uri": "https://localhost:8080/"
        },
        "id": "x5avCrA8Ofxf",
        "outputId": "044b7ad1-5c14-403c-b62c-cd4af954a76d"
      },
      "execution_count": null,
      "outputs": [
        {
          "output_type": "stream",
          "name": "stdout",
          "text": [
            "/content/python\n"
          ]
        }
      ]
    },
    {
      "cell_type": "code",
      "source": [
        "!ls"
      ],
      "metadata": {
        "colab": {
          "base_uri": "https://localhost:8080/"
        },
        "id": "46UsKTd-OiDN",
        "outputId": "bb9f5a81-3b7b-43cf-ebf4-5a8c76789562"
      },
      "execution_count": null,
      "outputs": [
        {
          "output_type": "stream",
          "name": "stdout",
          "text": [
            "2dlists.ipynb\t\t    Module2:variables,_input,_output.ipynb\n",
            "bankaccount.py\t\t    Module3_Decision_Structures_and_Boolean_Logic.ipynb\n",
            "circle.py\t\t    Module3_Repeatition_Structures.ipynb\n",
            "Classes.ipynb\t\t    Module_5_Functions.ipynb\n",
            "C++.txt\t\t\t    python.txt\n",
            "Dict.ipynb\t\t    Records.ipynb\n",
            "Files_and_Exceptions.ipynb  rectangle.py\n",
            "functions.ipynb\t\t    Recursion.ipynb\n",
            "Inheritance.ipynb\t    Sets.ipynb\n",
            "ListsAndTuples.ipynb\t    variables,_input,_output.ipynb\n",
            "menu.py\t\t\t    vehicles.py\n"
          ]
        }
      ]
    },
    {
      "cell_type": "code",
      "source": [
        "import circle"
      ],
      "metadata": {
        "id": "TDVYAHm1Oqs5"
      },
      "execution_count": null,
      "outputs": []
    },
    {
      "cell_type": "code",
      "source": [
        "r = float(input(\"Enter radius: \"))\n",
        "area_circle = circle.area(r)\n",
        "print('The area of the circle is',area_circle)\n",
        "circum = circle.circumference(r)\n",
        "print('The circumference of the circle is',circum)"
      ],
      "metadata": {
        "colab": {
          "base_uri": "https://localhost:8080/"
        },
        "id": "5Sev1tP6OqNu",
        "outputId": "2428cf4f-c482-4a3d-a9fb-6eadf89bce2d"
      },
      "execution_count": null,
      "outputs": [
        {
          "output_type": "stream",
          "name": "stdout",
          "text": [
            "Enter radius: 10\n",
            "The area of the circle is 314.1592653589793\n",
            "The circumference of the circle is 62.83185307179586\n"
          ]
        }
      ]
    },
    {
      "cell_type": "markdown",
      "source": [
        "#Menu Driven Programs"
      ],
      "metadata": {
        "id": "LGydEygMQKn5"
      }
    },
    {
      "cell_type": "markdown",
      "source": [
        "Write a menu-driven Python program that allows the user to calculate the **sine**, **cosine**, or **tangent** of an angle (in **degrees**). The user should be presented with a menu and prompted to choose an operation.\n",
        "\n",
        "\n",
        "After selecting the operation, the program should ask the user to **enter the angle in degrees**, then perform the calculation and display the result.\n",
        "\n",
        "\n",
        "The menu should continue displaying until the user chooses to exit the program.\n",
        "\n",
        "```markdown\n",
        "Trigonometric Calculator\n",
        "------------------------\n",
        "1. Calculate sine\n",
        "2. Calculate cosine\n",
        "3. Calculate tangent\n",
        "4. Exit\n",
        "```\n",
        "\n"
      ],
      "metadata": {
        "id": "pKm8yOFtQsXd"
      }
    },
    {
      "cell_type": "code",
      "source": [
        "import math\n",
        "def display_menu():\n",
        "    print(\"Trigonometric Calculator\")\n",
        "    print(\"------------------------\")\n",
        "    print(\"1. Calculate sine\")\n",
        "    print(\"2. Calculate cosine\")\n",
        "    print(\"3. Calculate tangent\")\n",
        "    print(\"4. Exit\")\n",
        "\n",
        "def calculate_sine(angle):\n",
        "    return math.sin(math.radians(angle))\n",
        "\n",
        "def calculate_cosine(angle):\n",
        "    return math.cos(math.radians(angle))\n",
        "\n",
        "def calculate_tangent(angle):\n",
        "    return math.tan(math.radians(angle))\n",
        "\n",
        "while True:\n",
        "    display_menu()\n",
        "    choice = input(\"Enter your choice (1-4): \")\n",
        "    if choice == '4':\n",
        "        print(\"Exiting the program.\")\n",
        "        break\n",
        "    elif choice == '1':\n",
        "        angle = float(input(\"Enter the angle in degrees: \"))\n",
        "        result = calculate_sine(angle)\n",
        "        print(f\"The sine of {angle} degrees is {result:.2f}\")\n",
        "    elif choice == '2':\n",
        "        angle = float(input(\"Enter the angle in degrees: \"))\n",
        "        result = calculate_cosine(angle)\n",
        "        print(f\"The cosine of {angle} degrees is {result:.2f}\")\n",
        "    elif choice == '3':\n",
        "        angle = float(input(\"Enter the angle in degrees: \"))\n",
        "        if angle % 180 == 90:\n",
        "          print('Warning: The tangent of this angle is undefined')\n",
        "        else:\n",
        "          result = calculate_tangent(angle)\n",
        "          print(f\"The tangent of {angle} degrees is {result:.2f}\")\n",
        "    else:\n",
        "        print(\"Invalid choice. Please enter a number between 1 and 4.\")\n",
        "\n",
        "\n",
        "\n",
        "\n",
        "\n"
      ],
      "metadata": {
        "colab": {
          "base_uri": "https://localhost:8080/"
        },
        "id": "TFftUmSoRN3Y",
        "outputId": "f430410e-0492-417b-ccc4-97b731bc448d"
      },
      "execution_count": null,
      "outputs": [
        {
          "output_type": "stream",
          "name": "stdout",
          "text": [
            "Trigonometric Calculator\n",
            "------------------------\n",
            "1. Calculate sine\n",
            "2. Calculate cosine\n",
            "3. Calculate tangent\n",
            "4. Exit\n",
            "Enter your choice (1-4): 3\n",
            "Enter the angle in degrees: 270\n",
            "Warning: The tangent of this angle is undefined\n",
            "Trigonometric Calculator\n",
            "------------------------\n",
            "1. Calculate sine\n",
            "2. Calculate cosine\n",
            "3. Calculate tangent\n",
            "4. Exit\n",
            "Enter your choice (1-4): 3\n",
            "Enter the angle in degrees: 45\n",
            "The tangent of 45.0 degrees is 1.00\n",
            "Trigonometric Calculator\n",
            "------------------------\n",
            "1. Calculate sine\n",
            "2. Calculate cosine\n",
            "3. Calculate tangent\n",
            "4. Exit\n",
            "Enter your choice (1-4): 4\n",
            "Exiting the program.\n"
          ]
        }
      ]
    },
    {
      "cell_type": "markdown",
      "source": [
        "##MiniGeometry Program"
      ],
      "metadata": {
        "id": "6CBTORjgRPBu"
      }
    }
  ]
}